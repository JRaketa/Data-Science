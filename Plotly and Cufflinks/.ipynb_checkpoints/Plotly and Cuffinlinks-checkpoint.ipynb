{
 "cells": [
  {
   "cell_type": "code",
   "execution_count": 8,
   "metadata": {},
   "outputs": [],
   "source": [
    "import pandas as pd\n",
    "import numpy as np\n",
    "\n",
    "from plotly.offline import download_plotlyjs, init_notebook_mode, plot, iplot\n",
    "import cufflinks as cf"
   ]
  },
  {
   "cell_type": "code",
   "execution_count": 10,
   "metadata": {},
   "outputs": [
    {
     "data": {
      "text/html": [
       "        <script type=\"text/javascript\">\n",
       "        window.PlotlyConfig = {MathJaxConfig: 'local'};\n",
       "        if (window.MathJax) {MathJax.Hub.Config({SVG: {font: \"STIX-Web\"}});}\n",
       "        if (typeof require !== 'undefined') {\n",
       "        require.undef(\"plotly\");\n",
       "        requirejs.config({\n",
       "            paths: {\n",
       "                'plotly': ['https://cdn.plot.ly/plotly-latest.min']\n",
       "            }\n",
       "        });\n",
       "        require(['plotly'], function(Plotly) {\n",
       "            window._Plotly = Plotly;\n",
       "        });\n",
       "        }\n",
       "        </script>\n",
       "        "
      ]
     },
     "metadata": {},
     "output_type": "display_data"
    }
   ],
   "source": [
    "init_notebook_mode(connected=True)"
   ]
  },
  {
   "cell_type": "code",
   "execution_count": 11,
   "metadata": {},
   "outputs": [
    {
     "data": {
      "text/html": [
       "        <script type=\"text/javascript\">\n",
       "        window.PlotlyConfig = {MathJaxConfig: 'local'};\n",
       "        if (window.MathJax) {MathJax.Hub.Config({SVG: {font: \"STIX-Web\"}});}\n",
       "        if (typeof require !== 'undefined') {\n",
       "        require.undef(\"plotly\");\n",
       "        requirejs.config({\n",
       "            paths: {\n",
       "                'plotly': ['https://cdn.plot.ly/plotly-latest.min']\n",
       "            }\n",
       "        });\n",
       "        require(['plotly'], function(Plotly) {\n",
       "            window._Plotly = Plotly;\n",
       "        });\n",
       "        }\n",
       "        </script>\n",
       "        "
      ]
     },
     "metadata": {},
     "output_type": "display_data"
    }
   ],
   "source": [
    "cf.go_offline()"
   ]
  },
  {
   "cell_type": "code",
   "execution_count": null,
   "metadata": {},
   "outputs": [],
   "source": []
  },
  {
   "cell_type": "code",
   "execution_count": 12,
   "metadata": {},
   "outputs": [],
   "source": [
    "df = pd.DataFrame(np.random.randn(100, 4), columns='A B C D'.split())"
   ]
  },
  {
   "cell_type": "code",
   "execution_count": null,
   "metadata": {},
   "outputs": [],
   "source": []
  },
  {
   "cell_type": "code",
   "execution_count": 15,
   "metadata": {},
   "outputs": [
    {
     "data": {
      "text/html": [
       "<div>\n",
       "<style scoped>\n",
       "    .dataframe tbody tr th:only-of-type {\n",
       "        vertical-align: middle;\n",
       "    }\n",
       "\n",
       "    .dataframe tbody tr th {\n",
       "        vertical-align: top;\n",
       "    }\n",
       "\n",
       "    .dataframe thead th {\n",
       "        text-align: right;\n",
       "    }\n",
       "</style>\n",
       "<table border=\"1\" class=\"dataframe\">\n",
       "  <thead>\n",
       "    <tr style=\"text-align: right;\">\n",
       "      <th></th>\n",
       "      <th>A</th>\n",
       "      <th>B</th>\n",
       "      <th>C</th>\n",
       "      <th>D</th>\n",
       "    </tr>\n",
       "  </thead>\n",
       "  <tbody>\n",
       "    <tr>\n",
       "      <th>0</th>\n",
       "      <td>-0.020190</td>\n",
       "      <td>-0.438004</td>\n",
       "      <td>-0.933131</td>\n",
       "      <td>-0.597262</td>\n",
       "    </tr>\n",
       "    <tr>\n",
       "      <th>1</th>\n",
       "      <td>0.160543</td>\n",
       "      <td>1.385626</td>\n",
       "      <td>0.125391</td>\n",
       "      <td>0.499131</td>\n",
       "    </tr>\n",
       "    <tr>\n",
       "      <th>2</th>\n",
       "      <td>0.218309</td>\n",
       "      <td>-1.643958</td>\n",
       "      <td>-0.582627</td>\n",
       "      <td>1.773026</td>\n",
       "    </tr>\n",
       "    <tr>\n",
       "      <th>3</th>\n",
       "      <td>-2.448173</td>\n",
       "      <td>1.780163</td>\n",
       "      <td>1.538666</td>\n",
       "      <td>1.103282</td>\n",
       "    </tr>\n",
       "    <tr>\n",
       "      <th>4</th>\n",
       "      <td>-1.342032</td>\n",
       "      <td>-0.068862</td>\n",
       "      <td>-1.727496</td>\n",
       "      <td>-0.815158</td>\n",
       "    </tr>\n",
       "  </tbody>\n",
       "</table>\n",
       "</div>"
      ],
      "text/plain": [
       "          A         B         C         D\n",
       "0 -0.020190 -0.438004 -0.933131 -0.597262\n",
       "1  0.160543  1.385626  0.125391  0.499131\n",
       "2  0.218309 -1.643958 -0.582627  1.773026\n",
       "3 -2.448173  1.780163  1.538666  1.103282\n",
       "4 -1.342032 -0.068862 -1.727496 -0.815158"
      ]
     },
     "execution_count": 15,
     "metadata": {},
     "output_type": "execute_result"
    }
   ],
   "source": [
    "df.head()"
   ]
  },
  {
   "cell_type": "code",
   "execution_count": null,
   "metadata": {},
   "outputs": [],
   "source": []
  },
  {
   "cell_type": "code",
   "execution_count": 16,
   "metadata": {},
   "outputs": [],
   "source": [
    "df2 = pd.DataFrame({'Category':['A', 'B', 'C'], 'Values':[29, 48, 63]})"
   ]
  },
  {
   "cell_type": "code",
   "execution_count": 18,
   "metadata": {},
   "outputs": [
    {
     "data": {
      "text/html": [
       "<div>\n",
       "<style scoped>\n",
       "    .dataframe tbody tr th:only-of-type {\n",
       "        vertical-align: middle;\n",
       "    }\n",
       "\n",
       "    .dataframe tbody tr th {\n",
       "        vertical-align: top;\n",
       "    }\n",
       "\n",
       "    .dataframe thead th {\n",
       "        text-align: right;\n",
       "    }\n",
       "</style>\n",
       "<table border=\"1\" class=\"dataframe\">\n",
       "  <thead>\n",
       "    <tr style=\"text-align: right;\">\n",
       "      <th></th>\n",
       "      <th>Category</th>\n",
       "      <th>Values</th>\n",
       "    </tr>\n",
       "  </thead>\n",
       "  <tbody>\n",
       "    <tr>\n",
       "      <th>0</th>\n",
       "      <td>A</td>\n",
       "      <td>29</td>\n",
       "    </tr>\n",
       "    <tr>\n",
       "      <th>1</th>\n",
       "      <td>B</td>\n",
       "      <td>48</td>\n",
       "    </tr>\n",
       "    <tr>\n",
       "      <th>2</th>\n",
       "      <td>C</td>\n",
       "      <td>63</td>\n",
       "    </tr>\n",
       "  </tbody>\n",
       "</table>\n",
       "</div>"
      ],
      "text/plain": [
       "  Category  Values\n",
       "0        A      29\n",
       "1        B      48\n",
       "2        C      63"
      ]
     },
     "execution_count": 18,
     "metadata": {},
     "output_type": "execute_result"
    }
   ],
   "source": [
    "df2"
   ]
  },
  {
   "cell_type": "code",
   "execution_count": 22,
   "metadata": {},
   "outputs": [
    {
     "data": {
      "image/png": "[encoded data removed]",
      "text/plain": [
       "<Figure size 432x288 with 1 Axes>"
      ]
     },
     "metadata": {
      "needs_background": "light"
     },
     "output_type": "display_data"
    }
   ],
   "source": [
    "df.plot();"
   ]
  },
  {
   "cell_type": "code",
   "execution_count": null,
   "metadata": {},
   "outputs": [],
   "source": []
  },
  {
   "cell_type": "code",
   "execution_count": 24,
   "metadata": {},
   "outputs": [
    {
     "data": {
      "application/vnd.plotly.v1+json": {
       "config": {
        "linkText": "Export to plot.ly",
        "plotlyServerURL": "https://plot.ly",
        "showLink": true
       },
       "data": [
        {
         "line": {
          "color": "rgba(255, 153, 51, 1.0)",
          "dash": "solid",
          "shape": "linear",
          "width": 1.3
         },
         "mode": "lines",
         "name": "A",
         "text": "",
         "type": "scatter",
         "x": [
          0,
          1,
          2,
          3,
          4,
          5,
          6,
          7,
          8,
          9,
          10,
          11,
          12,
          13,
          14,
          15,
          16,
          17,
          18,
          19,
          20,
          21,
          22,
          23,
          24,
          25,
          26,
          27,
          28,
          29,
          30,
          31,
          32,
          33,
          34,
          35,
          36,
          37,
          38,
          39,
          40,
          41,
          42,
          43,
          44,
          45,
          46,
          47,
          48,
          49,
          50,
          51,
          52,
          53,
          54,
          55,
          56,
          57,
          58,
          59,
          60,
          61,
          62,
          63,
          64,
          65,
          66,
          67,
          68,
          69,
          70,
          71,
          72,
          73,
          74,
          75,
          76,
          77,
          78,
          79,
          80,
          81,
          82,
          83,
          84,
          85,
          86,
          87,
          88,
          89,
          90,
          91,
          92,
          93,
          94,
          95,
          96,
          97,
          98,
          99
         ],
         "y": [
          -0.020189904066568676,
          0.1605430195388812,
          0.2183093910227895,
          -2.4481729834834183,
          -1.3420320191794017,
          -0.11221568571796266,
          0.5438037913168252,
          -0.6738957753062436,
          1.2812552096620458,
          -1.9536234368933418,
          0.6253512625110269,
          -0.367816742191912,
          -0.768336789815034,
          -0.4129987988772313,
          0.19697310981348015,
          -0.27701278168076676,
          -2.1850709253021408,
          -0.5250012837190554,
          -0.2960852772923362,
          2.1017025013406174,
          -1.0911147300173158,
          0.03328166238849761,
          0.8748423978764613,
          -0.7007281434378153,
          -0.7032378773912719,
          0.8163765079870988,
          0.6030432620160926,
          0.9510948268094824,
          0.27023316558141663,
          -0.7311343794012733,
          -0.8666389092607147,
          1.6069767733420819,
          -0.48121297176306743,
          0.8828189161472906,
          1.032297574576932,
          -1.5001633282861504,
          0.5649349776911442,
          -0.051387101531794106,
          -0.2781026509732436,
          -0.8923371781052455,
          1.1915575077827307,
          -1.2536370325127713,
          -0.2805725925410075,
          1.070862086463324,
          -0.5607966024437397,
          0.44671495095770924,
          0.9055046646215376,
          0.9966668848767872,
          -0.6389673657208839,
          -0.19119612298566752,
          -1.867018118228768,
          1.7299122438438277,
          -1.5392952098290518,
          1.9085227576174537,
          -0.7365200192739271,
          0.291020559910531,
          -0.6876208386672505,
          -0.4396880008989103,
          0.8766948555928455,
          0.48993246404209895,
          0.04486282746655476,
          0.3311347774803122,
          1.3444595160554034,
          1.2292855329948622,
          -0.37737713594871525,
          -0.20849767131121968,
          0.8803939015253044,
          0.6916060145498991,
          -0.6001880277835497,
          -1.0400549304427917,
          0.003272206458725557,
          -1.3528129854600308,
          -0.3469507174506524,
          -0.9140855889241825,
          0.9577028104654609,
          -0.20396839758209903,
          -0.5635726556127097,
          -0.6292571060303892,
          -1.4412942860438325,
          -0.023173287497486254,
          0.2867170728131295,
          1.4891400934905492,
          1.683467368370149,
          0.0032825188849990358,
          -1.724488989643146,
          0.3619017524142584,
          -1.086482992483747,
          1.3030784312470234,
          2.086086574606949,
          -0.9148799666797345,
          -2.53659794781672,
          0.14790147153220412,
          1.5081605357439327,
          0.03172942631163809,
          -1.3844203538077873,
          2.7317365325469214,
          1.8435597585089694,
          -0.9235347978823618,
          -2.2293208131348097,
          0.8302728483937458
         ]
        },
        {
         "line": {
          "color": "rgba(55, 128, 191, 1.0)",
          "dash": "solid",
          "shape": "linear",
          "width": 1.3
         },
         "mode": "lines",
         "name": "B",
         "text": "",
         "type": "scatter",
         "x": [
          0,
          1,
          2,
          3,
          4,
          5,
          6,
          7,
          8,
          9,
          10,
          11,
          12,
          13,
          14,
          15,
          16,
          17,
          18,
          19,
          20,
          21,
          22,
          23,
          24,
          25,
          26,
          27,
          28,
          29,
          30,
          31,
          32,
          33,
          34,
          35,
          36,
          37,
          38,
          39,
          40,
          41,
          42,
          43,
          44,
          45,
          46,
          47,
          48,
          49,
          50,
          51,
          52,
          53,
          54,
          55,
          56,
          57,
          58,
          59,
          60,
          61,
          62,
          63,
          64,
          65,
          66,
          67,
          68,
          69,
          70,
          71,
          72,
          73,
          74,
          75,
          76,
          77,
          78,
          79,
          80,
          81,
          82,
          83,
          84,
          85,
          86,
          87,
          88,
          89,
          90,
          91,
          92,
          93,
          94,
          95,
          96,
          97,
          98,
          99
         ],
         "y": [
          -0.4380037600693329,
          1.3856258480513495,
          -1.6439581318945904,
          1.780163099731763,
          -0.06886238487724357,
          -0.3419320878039712,
          1.7176474787692995,
          -3.0128342192986843,
          1.268848134771191,
          0.2448222463181939,
          0.6832274431968387,
          0.5900880475260439,
          -0.28351085192768744,
          0.03951006673344334,
          0.33378442318795754,
          0.0036633902122219066,
          -1.0335621009028737,
          -1.4346287159598332,
          -0.7637090963596298,
          -0.49509070170442804,
          0.7017553526944327,
          1.0578719391875344,
          0.7596212001824827,
          0.8464267198538894,
          0.5115456059271346,
          1.4785023222198197,
          -2.1651187773032246,
          1.0007144847757021,
          0.7384916218488192,
          0.26590612111690903,
          1.956294281895234,
          -0.8617578488568759,
          0.011053299902504497,
          1.5429553670798497,
          1.7290962461445358,
          -0.08249248371447555,
          -0.5315109256761953,
          -0.5644574743776344,
          0.7402337629534262,
          -0.6086185725746197,
          0.2187789432258602,
          -0.125717596041093,
          0.20048527432005395,
          2.731679171077915,
          -1.8603447004357492,
          0.9554304810338209,
          -1.4103828466835837,
          1.065950515655746,
          -1.236848826065617,
          -0.7318542012955099,
          2.2934039074168857,
          -0.7557077880124786,
          2.0115055050237043,
          0.37154483900426716,
          -1.9242514925498644,
          0.7925365130656604,
          -0.2819909724010163,
          -0.40942736078084324,
          -0.7623793634102329,
          1.1645877433591125,
          -0.38777448037124174,
          -0.1723366430999955,
          0.016858458282385105,
          0.04213951346102748,
          -0.2200209199138018,
          0.4556172925040396,
          0.9847325399374394,
          0.3486345501482719,
          0.9407477147125772,
          -0.13776682864629283,
          0.25163129965039865,
          1.1259847998476251,
          -1.2270319722269811,
          -0.8076192569794358,
          -0.1342328858251307,
          0.19426191413022975,
          -0.9440956952124823,
          -0.5819788729383728,
          -0.48095783847540297,
          -0.8869083142131824,
          -0.14477563692269194,
          1.6866780586582282,
          1.5258822957160807,
          -1.0275474178043047,
          -1.0323270449559678,
          0.9102697897984027,
          -0.1566664582921049,
          0.7704706110055723,
          -0.37923470972809126,
          0.15897524427418847,
          -0.4839263654265887,
          -0.39319145215301765,
          0.4437255355807462,
          -0.4350402940246013,
          0.7316571164610378,
          -1.8887992487543999,
          0.6035468169807476,
          0.16115878831117503,
          1.375156129392616,
          0.5982663947397071
         ]
        },
        {
         "line": {
          "color": "rgba(50, 171, 96, 1.0)",
          "dash": "solid",
          "shape": "linear",
          "width": 1.3
         },
         "mode": "lines",
         "name": "C",
         "text": "",
         "type": "scatter",
         "x": [
          0,
          1,
          2,
          3,
          4,
          5,
          6,
          7,
          8,
          9,
          10,
          11,
          12,
          13,
          14,
          15,
          16,
          17,
          18,
          19,
          20,
          21,
          22,
          23,
          24,
          25,
          26,
          27,
          28,
          29,
          30,
          31,
          32,
          33,
          34,
          35,
          36,
          37,
          38,
          39,
          40,
          41,
          42,
          43,
          44,
          45,
          46,
          47,
          48,
          49,
          50,
          51,
          52,
          53,
          54,
          55,
          56,
          57,
          58,
          59,
          60,
          61,
          62,
          63,
          64,
          65,
          66,
          67,
          68,
          69,
          70,
          71,
          72,
          73,
          74,
          75,
          76,
          77,
          78,
          79,
          80,
          81,
          82,
          83,
          84,
          85,
          86,
          87,
          88,
          89,
          90,
          91,
          92,
          93,
          94,
          95,
          96,
          97,
          98,
          99
         ],
         "y": [
          -0.9331308355733341,
          0.12539125190782266,
          -0.5826274882840796,
          1.538666334357524,
          -1.7274960200280642,
          -0.6246340895816981,
          0.8757756779822631,
          1.1446178716120907,
          -1.8674807150864499,
          0.4929854879925438,
          1.6087237941600827,
          0.00403581169119472,
          0.3387429698083554,
          -1.091562519111494,
          0.049621223832586596,
          0.413631229048461,
          -0.906872396994403,
          -0.23988192131216016,
          -1.9614917247524626,
          0.5823904755813313,
          -1.1193801692557945,
          0.8318308552816366,
          -0.7558098068051601,
          0.7099805947369157,
          0.2622129159914279,
          0.45234041521296053,
          -0.45333781624007824,
          -1.5591624560808224,
          0.14955589754009757,
          0.042532647130016386,
          -0.29515420408850174,
          0.7468841380204412,
          -0.30075637307075787,
          1.8468666456361396,
          0.349329776303073,
          -1.3659029962894353,
          0.24196349094017464,
          0.7093642694862414,
          0.42390013120014924,
          0.16952567778832683,
          -0.48690258667357683,
          -0.8724138565251532,
          1.0367451639380085,
          1.0162731899375543,
          1.2817227511333238,
          1.0963533662760434,
          0.37554547886557976,
          -0.14471360360842764,
          -1.2452445131401817,
          -1.1029478425649724,
          -1.157542051838458,
          -0.67239539908866,
          -1.326749037336286,
          0.376759246361514,
          0.6539699710346577,
          0.8580451963648623,
          0.6729653968696636,
          2.6911551665544797,
          -0.671525051147614,
          -0.11673890146869877,
          -1.593489446902274,
          -1.3256767506688802,
          0.173202476859852,
          -1.1389200757237263,
          -2.185007623439091,
          -3.139204515064847,
          0.120464777745759,
          1.1210250513099758,
          0.01336528748146471,
          1.355912962800932,
          0.3593865499783559,
          -1.0609039600902184,
          -1.5404425382900173,
          -0.3850781813027051,
          0.5007428784942515,
          0.8786526898703361,
          0.43269599626147,
          0.2228666774544576,
          -0.6433973192029896,
          1.1092657015373828,
          1.0792382022513454,
          -0.9822820063408606,
          -0.44261469859124053,
          -0.17746979075039673,
          0.7350095886868749,
          -0.10673807686590155,
          -1.1455465997132093,
          -1.04971699304803,
          -0.23660704909094354,
          1.664825431283724,
          0.52314519345455,
          -0.7713133338765619,
          0.4020249405971316,
          0.370730560452333,
          0.39309217498023896,
          0.8976125204425404,
          -0.022809273831166026,
          -0.44563449993903204,
          1.4332355098767757,
          0.33501316651965235
         ]
        },
        {
         "line": {
          "color": "rgba(128, 0, 128, 1.0)",
          "dash": "solid",
          "shape": "linear",
          "width": 1.3
         },
         "mode": "lines",
         "name": "D",
         "text": "",
         "type": "scatter",
         "x": [
          0,
          1,
          2,
          3,
          4,
          5,
          6,
          7,
          8,
          9,
          10,
          11,
          12,
          13,
          14,
          15,
          16,
          17,
          18,
          19,
          20,
          21,
          22,
          23,
          24,
          25,
          26,
          27,
          28,
          29,
          30,
          31,
          32,
          33,
          34,
          35,
          36,
          37,
          38,
          39,
          40,
          41,
          42,
          43,
          44,
          45,
          46,
          47,
          48,
          49,
          50,
          51,
          52,
          53,
          54,
          55,
          56,
          57,
          58,
          59,
          60,
          61,
          62,
          63,
          64,
          65,
          66,
          67,
          68,
          69,
          70,
          71,
          72,
          73,
          74,
          75,
          76,
          77,
          78,
          79,
          80,
          81,
          82,
          83,
          84,
          85,
          86,
          87,
          88,
          89,
          90,
          91,
          92,
          93,
          94,
          95,
          96,
          97,
          98,
          99
         ],
         "y": [
          -0.5972618598477876,
          0.49913129985884647,
          1.7730264589727827,
          1.1032823872819204,
          -0.8151579178878929,
          0.7544427114688668,
          1.0774286321416484,
          -0.051946512921370425,
          0.6166519502349622,
          1.4118594304742158,
          0.13717225426810745,
          0.6050015374397305,
          -0.3856010246759087,
          -0.5891087047560496,
          -0.03820969691035504,
          -1.0139398407192033,
          -1.8002177795266743,
          2.4331651321022374,
          2.619589756643213,
          0.1679663590479456,
          1.021448468810051,
          0.9512341173952743,
          0.16222026213196905,
          0.5354111619240958,
          0.5181742993661161,
          -0.871494439001104,
          -0.09685894088541698,
          1.0541791334435062,
          -0.1975401478765995,
          -0.7492561923357114,
          -1.069393525413521,
          0.5047777483460927,
          0.9137379834785593,
          0.4186634324449865,
          -1.0287345824885585,
          0.48790568201222684,
          -0.4050553157701971,
          0.11141541052830012,
          -1.7255301254782913,
          -0.08350333594487494,
          0.45249482106131833,
          -0.09343094523639385,
          -1.1097099840336093,
          0.3572648089204684,
          0.21617504521772882,
          -1.8432127866249164,
          -1.0017756232366533,
          -3.0394611961570424,
          -2.0765768625295604,
          -0.08793900930099857,
          -1.183950224972636,
          -0.5717968444413271,
          0.4138392187337821,
          -0.054182122952612474,
          0.010036201028902115,
          -0.11117296334648173,
          0.03829259173105282,
          0.5677693356912435,
          -0.09862976094514372,
          0.8366927598732063,
          -1.1388446424392644,
          -1.726824651763009,
          -2.1408436066424428,
          -0.41730496546954354,
          1.9682058113107093,
          0.14770333504684413,
          0.9518760707874068,
          0.6640022570758064,
          0.250994155569197,
          -0.6535481050924123,
          0.2050650353763908,
          1.1264110703819419,
          0.8332230610418235,
          -0.6552689024075415,
          -0.10761767621075648,
          -1.1593078130627543,
          -2.560148376587137,
          -0.7501456943804221,
          -0.655428643820223,
          -0.8165852861077829,
          -0.12019692016527625,
          0.5620944262447766,
          0.8002584560979304,
          -0.7503343293526445,
          -0.022872732491072807,
          -0.8133206402807482,
          0.5901216522003285,
          0.17342835503505383,
          -1.220213981996596,
          -0.17031710380254936,
          2.06408937773803,
          -0.48942538351366077,
          0.8770885868617431,
          1.8772108464491117,
          -0.1416863365318827,
          1.1442123784007612,
          0.6543647925446888,
          -0.31106413751265755,
          0.14154219683602615,
          -0.8936821553152134
         ]
        }
       ],
       "layout": {
        "legend": {
         "bgcolor": "#F5F6F9",
         "font": {
          "color": "#4D5663"
         }
        },
        "paper_bgcolor": "#F5F6F9",
        "plot_bgcolor": "#F5F6F9",
        "template": {
         "data": {
          "bar": [
           {
            "error_x": {
             "color": "#2a3f5f"
            },
            "error_y": {
             "color": "#2a3f5f"
            },
            "marker": {
             "line": {
              "color": "#E5ECF6",
              "width": 0.5
             }
            },
            "type": "bar"
           }
          ],
          "barpolar": [
           {
            "marker": {
             "line": {
              "color": "#E5ECF6",
              "width": 0.5
             }
            },
            "type": "barpolar"
           }
          ],
          "carpet": [
           {
            "aaxis": {
             "endlinecolor": "#2a3f5f",
             "gridcolor": "white",
             "linecolor": "white",
             "minorgridcolor": "white",
             "startlinecolor": "#2a3f5f"
            },
            "baxis": {
             "endlinecolor": "#2a3f5f",
             "gridcolor": "white",
             "linecolor": "white",
             "minorgridcolor": "white",
             "startlinecolor": "#2a3f5f"
            },
            "type": "carpet"
           }
          ],
          "choropleth": [
           {
            "colorbar": {
             "outlinewidth": 0,
             "ticks": ""
            },
            "type": "choropleth"
           }
          ],
          "contour": [
           {
            "colorbar": {
             "outlinewidth": 0,
             "ticks": ""
            },
            "colorscale": [
             [
              0,
              "#0d0887"
             ],
             [
              0.1111111111111111,
              "#46039f"
             ],
             [
              0.2222222222222222,
              "#7201a8"
             ],
             [
              0.3333333333333333,
              "#9c179e"
             ],
             [
              0.4444444444444444,
              "#bd3786"
             ],
             [
              0.5555555555555556,
              "#d8576b"
             ],
             [
              0.6666666666666666,
              "#ed7953"
             ],
             [
              0.7777777777777778,
              "#fb9f3a"
             ],
             [
              0.8888888888888888,
              "#fdca26"
             ],
             [
              1,
              "#f0f921"
             ]
            ],
            "type": "contour"
           }
          ],
          "contourcarpet": [
           {
            "colorbar": {
             "outlinewidth": 0,
             "ticks": ""
            },
            "type": "contourcarpet"
           }
          ],
          "heatmap": [
           {
            "colorbar": {
             "outlinewidth": 0,
             "ticks": ""
            },
            "colorscale": [
             [
              0,
              "#0d0887"
             ],
             [
              0.1111111111111111,
              "#46039f"
             ],
             [
              0.2222222222222222,
              "#7201a8"
             ],
             [
              0.3333333333333333,
              "#9c179e"
             ],
             [
              0.4444444444444444,
              "#bd3786"
             ],
             [
              0.5555555555555556,
              "#d8576b"
             ],
             [
              0.6666666666666666,
              "#ed7953"
             ],
             [
              0.7777777777777778,
              "#fb9f3a"
             ],
             [
              0.8888888888888888,
              "#fdca26"
             ],
             [
              1,
              "#f0f921"
             ]
            ],
            "type": "heatmap"
           }
          ],
          "heatmapgl": [
           {
            "colorbar": {
             "outlinewidth": 0,
             "ticks": ""
            },
            "colorscale": [
             [
              0,
              "#0d0887"
             ],
             [
              0.1111111111111111,
              "#46039f"
             ],
             [
              0.2222222222222222,
              "#7201a8"
             ],
             [
              0.3333333333333333,
              "#9c179e"
             ],
             [
              0.4444444444444444,
              "#bd3786"
             ],
             [
              0.5555555555555556,
              "#d8576b"
             ],
             [
              0.6666666666666666,
              "#ed7953"
             ],
             [
              0.7777777777777778,
              "#fb9f3a"
             ],
             [
              0.8888888888888888,
              "#fdca26"
             ],
             [
              1,
              "#f0f921"
             ]
            ],
            "type": "heatmapgl"
           }
          ],
          "histogram": [
           {
            "marker": {
             "colorbar": {
              "outlinewidth": 0,
              "ticks": ""
             }
            },
            "type": "histogram"
           }
          ],
          "histogram2d": [
           {
            "colorbar": {
             "outlinewidth": 0,
             "ticks": ""
            },
            "colorscale": [
             [
              0,
              "#0d0887"
             ],
             [
              0.1111111111111111,
              "#46039f"
             ],
             [
              0.2222222222222222,
              "#7201a8"
             ],
             [
              0.3333333333333333,
              "#9c179e"
             ],
             [
              0.4444444444444444,
              "#bd3786"
             ],
             [
              0.5555555555555556,
              "#d8576b"
             ],
             [
              0.6666666666666666,
              "#ed7953"
             ],
             [
              0.7777777777777778,
              "#fb9f3a"
             ],
             [
              0.8888888888888888,
              "#fdca26"
             ],
             [
              1,
              "#f0f921"
             ]
            ],
            "type": "histogram2d"
           }
          ],
          "histogram2dcontour": [
           {
            "colorbar": {
             "outlinewidth": 0,
             "ticks": ""
            },
            "colorscale": [
             [
              0,
              "#0d0887"
             ],
             [
              0.1111111111111111,
              "#46039f"
             ],
             [
              0.2222222222222222,
              "#7201a8"
             ],
             [
              0.3333333333333333,
              "#9c179e"
             ],
             [
              0.4444444444444444,
              "#bd3786"
             ],
             [
              0.5555555555555556,
              "#d8576b"
             ],
             [
              0.6666666666666666,
              "#ed7953"
             ],
             [
              0.7777777777777778,
              "#fb9f3a"
             ],
             [
              0.8888888888888888,
              "#fdca26"
             ],
             [
              1,
              "#f0f921"
             ]
            ],
            "type": "histogram2dcontour"
           }
          ],
          "mesh3d": [
           {
            "colorbar": {
             "outlinewidth": 0,
             "ticks": ""
            },
            "type": "mesh3d"
           }
          ],
          "parcoords": [
           {
            "line": {
             "colorbar": {
              "outlinewidth": 0,
              "ticks": ""
             }
            },
            "type": "parcoords"
           }
          ],
          "pie": [
           {
            "automargin": true,
            "type": "pie"
           }
          ],
          "scatter": [
           {
            "marker": {
             "colorbar": {
              "outlinewidth": 0,
              "ticks": ""
             }
            },
            "type": "scatter"
           }
          ],
          "scatter3d": [
           {
            "line": {
             "colorbar": {
              "outlinewidth": 0,
              "ticks": ""
             }
            },
            "marker": {
             "colorbar": {
              "outlinewidth": 0,
              "ticks": ""
             }
            },
            "type": "scatter3d"
           }
          ],
          "scattercarpet": [
           {
            "marker": {
             "colorbar": {
              "outlinewidth": 0,
              "ticks": ""
             }
            },
            "type": "scattercarpet"
           }
          ],
          "scattergeo": [
           {
            "marker": {
             "colorbar": {
              "outlinewidth": 0,
              "ticks": ""
             }
            },
            "type": "scattergeo"
           }
          ],
          "scattergl": [
           {
            "marker": {
             "colorbar": {
              "outlinewidth": 0,
              "ticks": ""
             }
            },
            "type": "scattergl"
           }
          ],
          "scattermapbox": [
           {
            "marker": {
             "colorbar": {
              "outlinewidth": 0,
              "ticks": ""
             }
            },
            "type": "scattermapbox"
           }
          ],
          "scatterpolar": [
           {
            "marker": {
             "colorbar": {
              "outlinewidth": 0,
              "ticks": ""
             }
            },
            "type": "scatterpolar"
           }
          ],
          "scatterpolargl": [
           {
            "marker": {
             "colorbar": {
              "outlinewidth": 0,
              "ticks": ""
             }
            },
            "type": "scatterpolargl"
           }
          ],
          "scatterternary": [
           {
            "marker": {
             "colorbar": {
              "outlinewidth": 0,
              "ticks": ""
             }
            },
            "type": "scatterternary"
           }
          ],
          "surface": [
           {
            "colorbar": {
             "outlinewidth": 0,
             "ticks": ""
            },
            "colorscale": [
             [
              0,
              "#0d0887"
             ],
             [
              0.1111111111111111,
              "#46039f"
             ],
             [
              0.2222222222222222,
              "#7201a8"
             ],
             [
              0.3333333333333333,
              "#9c179e"
             ],
             [
              0.4444444444444444,
              "#bd3786"
             ],
             [
              0.5555555555555556,
              "#d8576b"
             ],
             [
              0.6666666666666666,
              "#ed7953"
             ],
             [
              0.7777777777777778,
              "#fb9f3a"
             ],
             [
              0.8888888888888888,
              "#fdca26"
             ],
             [
              1,
              "#f0f921"
             ]
            ],
            "type": "surface"
           }
          ],
          "table": [
           {
            "cells": {
             "fill": {
              "color": "#EBF0F8"
             },
             "line": {
              "color": "white"
             }
            },
            "header": {
             "fill": {
              "color": "#C8D4E3"
             },
             "line": {
              "color": "white"
             }
            },
            "type": "table"
           }
          ]
         },
         "layout": {
          "annotationdefaults": {
           "arrowcolor": "#2a3f5f",
           "arrowhead": 0,
           "arrowwidth": 1
          },
          "autotypenumbers": "strict",
          "coloraxis": {
           "colorbar": {
            "outlinewidth": 0,
            "ticks": ""
           }
          },
          "colorscale": {
           "diverging": [
            [
             0,
             "#8e0152"
            ],
            [
             0.1,
             "#c51b7d"
            ],
            [
             0.2,
             "#de77ae"
            ],
            [
             0.3,
             "#f1b6da"
            ],
            [
             0.4,
             "#fde0ef"
            ],
            [
             0.5,
             "#f7f7f7"
            ],
            [
             0.6,
             "#e6f5d0"
            ],
            [
             0.7,
             "#b8e186"
            ],
            [
             0.8,
             "#7fbc41"
            ],
            [
             0.9,
             "#4d9221"
            ],
            [
             1,
             "#276419"
            ]
           ],
           "sequential": [
            [
             0,
             "#0d0887"
            ],
            [
             0.1111111111111111,
             "#46039f"
            ],
            [
             0.2222222222222222,
             "#7201a8"
            ],
            [
             0.3333333333333333,
             "#9c179e"
            ],
            [
             0.4444444444444444,
             "#bd3786"
            ],
            [
             0.5555555555555556,
             "#d8576b"
            ],
            [
             0.6666666666666666,
             "#ed7953"
            ],
            [
             0.7777777777777778,
             "#fb9f3a"
            ],
            [
             0.8888888888888888,
             "#fdca26"
            ],
            [
             1,
             "#f0f921"
            ]
           ],
           "sequentialminus": [
            [
             0,
             "#0d0887"
            ],
            [
             0.1111111111111111,
             "#46039f"
            ],
            [
             0.2222222222222222,
             "#7201a8"
            ],
            [
             0.3333333333333333,
             "#9c179e"
            ],
            [
             0.4444444444444444,
             "#bd3786"
            ],
            [
             0.5555555555555556,
             "#d8576b"
            ],
            [
             0.6666666666666666,
             "#ed7953"
            ],
            [
             0.7777777777777778,
             "#fb9f3a"
            ],
            [
             0.8888888888888888,
             "#fdca26"
            ],
            [
             1,
             "#f0f921"
            ]
           ]
          },
          "colorway": [
           "#636efa",
           "#EF553B",
           "#00cc96",
           "#ab63fa",
           "#FFA15A",
           "#19d3f3",
           "#FF6692",
           "#B6E880",
           "#FF97FF",
           "#FECB52"
          ],
          "font": {
           "color": "#2a3f5f"
          },
          "geo": {
           "bgcolor": "white",
           "lakecolor": "white",
           "landcolor": "#E5ECF6",
           "showlakes": true,
           "showland": true,
           "subunitcolor": "white"
          },
          "hoverlabel": {
           "align": "left"
          },
          "hovermode": "closest",
          "mapbox": {
           "style": "light"
          },
          "paper_bgcolor": "white",
          "plot_bgcolor": "#E5ECF6",
          "polar": {
           "angularaxis": {
            "gridcolor": "white",
            "linecolor": "white",
            "ticks": ""
           },
           "bgcolor": "#E5ECF6",
           "radialaxis": {
            "gridcolor": "white",
            "linecolor": "white",
            "ticks": ""
           }
          },
          "scene": {
           "xaxis": {
            "backgroundcolor": "#E5ECF6",
            "gridcolor": "white",
            "gridwidth": 2,
            "linecolor": "white",
            "showbackground": true,
            "ticks": "",
            "zerolinecolor": "white"
           },
           "yaxis": {
            "backgroundcolor": "#E5ECF6",
            "gridcolor": "white",
            "gridwidth": 2,
            "linecolor": "white",
            "showbackground": true,
            "ticks": "",
            "zerolinecolor": "white"
           },
           "zaxis": {
            "backgroundcolor": "#E5ECF6",
            "gridcolor": "white",
            "gridwidth": 2,
            "linecolor": "white",
            "showbackground": true,
            "ticks": "",
            "zerolinecolor": "white"
           }
          },
          "shapedefaults": {
           "line": {
            "color": "#2a3f5f"
           }
          },
          "ternary": {
           "aaxis": {
            "gridcolor": "white",
            "linecolor": "white",
            "ticks": ""
           },
           "baxis": {
            "gridcolor": "white",
            "linecolor": "white",
            "ticks": ""
           },
           "bgcolor": "#E5ECF6",
           "caxis": {
            "gridcolor": "white",
            "linecolor": "white",
            "ticks": ""
           }
          },
          "title": {
           "x": 0.05
          },
          "xaxis": {
           "automargin": true,
           "gridcolor": "white",
           "linecolor": "white",
           "ticks": "",
           "title": {
            "standoff": 15
           },
           "zerolinecolor": "white",
           "zerolinewidth": 2
          },
          "yaxis": {
           "automargin": true,
           "gridcolor": "white",
           "linecolor": "white",
           "ticks": "",
           "title": {
            "standoff": 15
           },
           "zerolinecolor": "white",
           "zerolinewidth": 2
          }
         }
        },
        "title": {
         "font": {
          "color": "#4D5663"
         }
        },
        "xaxis": {
         "gridcolor": "#E1E5ED",
         "showgrid": true,
         "tickfont": {
          "color": "#4D5663"
         },
         "title": {
          "font": {
           "color": "#4D5663"
          },
          "text": ""
         },
         "zerolinecolor": "#E1E5ED"
        },
        "yaxis": {
         "gridcolor": "#E1E5ED",
         "showgrid": true,
         "tickfont": {
          "color": "#4D5663"
         },
         "title": {
          "font": {
           "color": "#4D5663"
          },
          "text": ""
         },
         "zerolinecolor": "#E1E5ED"
        }
       }
      },
      "text/html": [
       "<div>                            <div id=\"07afceda-a2e5-401d-8713-bf58235ba4c6\" class=\"plotly-graph-div\" style=\"height:525px; width:100%;\"></div>            <script type=\"text/javascript\">                require([\"plotly\"], function(Plotly) {                    window.PLOTLYENV=window.PLOTLYENV || {};\n",
       "                    window.PLOTLYENV.BASE_URL='https://plot.ly';                                    if (document.getElementById(\"07afceda-a2e5-401d-8713-bf58235ba4c6\")) {                    Plotly.newPlot(                        \"07afceda-a2e5-401d-8713-bf58235ba4c6\",                        [{\"line\": {\"color\": \"rgba(255, 153, 51, 1.0)\", \"dash\": \"solid\", \"shape\": \"linear\", \"width\": 1.3}, \"mode\": \"lines\", \"name\": \"A\", \"text\": \"\", \"type\": \"scatter\", \"x\": [0, 1, 2, 3, 4, 5, 6, 7, 8, 9, 10, 11, 12, 13, 14, 15, 16, 17, 18, 19, 20, 21, 22, 23, 24, 25, 26, 27, 28, 29, 30, 31, 32, 33, 34, 35, 36, 37, 38, 39, 40, 41, 42, 43, 44, 45, 46, 47, 48, 49, 50, 51, 52, 53, 54, 55, 56, 57, 58, 59, 60, 61, 62, 63, 64, 65, 66, 67, 68, 69, 70, 71, 72, 73, 74, 75, 76, 77, 78, 79, 80, 81, 82, 83, 84, 85, 86, 87, 88, 89, 90, 91, 92, 93, 94, 95, 96, 97, 98, 99], \"y\": [-0.020189904066568676, 0.1605430195388812, 0.2183093910227895, -2.4481729834834183, -1.3420320191794017, -0.11221568571796266, 0.5438037913168252, -0.6738957753062436, 1.2812552096620458, -1.9536234368933418, 0.6253512625110269, -0.367816742191912, -0.768336789815034, -0.4129987988772313, 0.19697310981348015, -0.27701278168076676, -2.1850709253021408, -0.5250012837190554, -0.2960852772923362, 2.1017025013406174, -1.0911147300173158, 0.03328166238849761, 0.8748423978764613, -0.7007281434378153, -0.7032378773912719, 0.8163765079870988, 0.6030432620160926, 0.9510948268094824, 0.27023316558141663, -0.7311343794012733, -0.8666389092607147, 1.6069767733420819, -0.48121297176306743, 0.8828189161472906, 1.032297574576932, -1.5001633282861504, 0.5649349776911442, -0.051387101531794106, -0.2781026509732436, -0.8923371781052455, 1.1915575077827307, -1.2536370325127713, -0.2805725925410075, 1.070862086463324, -0.5607966024437397, 0.44671495095770924, 0.9055046646215376, 0.9966668848767872, -0.6389673657208839, -0.19119612298566752, -1.867018118228768, 1.7299122438438277, -1.5392952098290518, 1.9085227576174537, -0.7365200192739271, 0.291020559910531, -0.6876208386672505, -0.4396880008989103, 0.8766948555928455, 0.48993246404209895, 0.04486282746655476, 0.3311347774803122, 1.3444595160554034, 1.2292855329948622, -0.37737713594871525, -0.20849767131121968, 0.8803939015253044, 0.6916060145498991, -0.6001880277835497, -1.0400549304427917, 0.003272206458725557, -1.3528129854600308, -0.3469507174506524, -0.9140855889241825, 0.9577028104654609, -0.20396839758209903, -0.5635726556127097, -0.6292571060303892, -1.4412942860438325, -0.023173287497486254, 0.2867170728131295, 1.4891400934905492, 1.683467368370149, 0.0032825188849990358, -1.724488989643146, 0.3619017524142584, -1.086482992483747, 1.3030784312470234, 2.086086574606949, -0.9148799666797345, -2.53659794781672, 0.14790147153220412, 1.5081605357439327, 0.03172942631163809, -1.3844203538077873, 2.7317365325469214, 1.8435597585089694, -0.9235347978823618, -2.2293208131348097, 0.8302728483937458]}, {\"line\": {\"color\": \"rgba(55, 128, 191, 1.0)\", \"dash\": \"solid\", \"shape\": \"linear\", \"width\": 1.3}, \"mode\": \"lines\", \"name\": \"B\", \"text\": \"\", \"type\": \"scatter\", \"x\": [0, 1, 2, 3, 4, 5, 6, 7, 8, 9, 10, 11, 12, 13, 14, 15, 16, 17, 18, 19, 20, 21, 22, 23, 24, 25, 26, 27, 28, 29, 30, 31, 32, 33, 34, 35, 36, 37, 38, 39, 40, 41, 42, 43, 44, 45, 46, 47, 48, 49, 50, 51, 52, 53, 54, 55, 56, 57, 58, 59, 60, 61, 62, 63, 64, 65, 66, 67, 68, 69, 70, 71, 72, 73, 74, 75, 76, 77, 78, 79, 80, 81, 82, 83, 84, 85, 86, 87, 88, 89, 90, 91, 92, 93, 94, 95, 96, 97, 98, 99], \"y\": [-0.4380037600693329, 1.3856258480513495, -1.6439581318945904, 1.780163099731763, -0.06886238487724357, -0.3419320878039712, 1.7176474787692995, -3.0128342192986843, 1.268848134771191, 0.2448222463181939, 0.6832274431968387, 0.5900880475260439, -0.28351085192768744, 0.03951006673344334, 0.33378442318795754, 0.0036633902122219066, -1.0335621009028737, -1.4346287159598332, -0.7637090963596298, -0.49509070170442804, 0.7017553526944327, 1.0578719391875344, 0.7596212001824827, 0.8464267198538894, 0.5115456059271346, 1.4785023222198197, -2.1651187773032246, 1.0007144847757021, 0.7384916218488192, 0.26590612111690903, 1.956294281895234, -0.8617578488568759, 0.011053299902504497, 1.5429553670798497, 1.7290962461445358, -0.08249248371447555, -0.5315109256761953, -0.5644574743776344, 0.7402337629534262, -0.6086185725746197, 0.2187789432258602, -0.125717596041093, 0.20048527432005395, 2.731679171077915, -1.8603447004357492, 0.9554304810338209, -1.4103828466835837, 1.065950515655746, -1.236848826065617, -0.7318542012955099, 2.2934039074168857, -0.7557077880124786, 2.0115055050237043, 0.37154483900426716, -1.9242514925498644, 0.7925365130656604, -0.2819909724010163, -0.40942736078084324, -0.7623793634102329, 1.1645877433591125, -0.38777448037124174, -0.1723366430999955, 0.016858458282385105, 0.04213951346102748, -0.2200209199138018, 0.4556172925040396, 0.9847325399374394, 0.3486345501482719, 0.9407477147125772, -0.13776682864629283, 0.25163129965039865, 1.1259847998476251, -1.2270319722269811, -0.8076192569794358, -0.1342328858251307, 0.19426191413022975, -0.9440956952124823, -0.5819788729383728, -0.48095783847540297, -0.8869083142131824, -0.14477563692269194, 1.6866780586582282, 1.5258822957160807, -1.0275474178043047, -1.0323270449559678, 0.9102697897984027, -0.1566664582921049, 0.7704706110055723, -0.37923470972809126, 0.15897524427418847, -0.4839263654265887, -0.39319145215301765, 0.4437255355807462, -0.4350402940246013, 0.7316571164610378, -1.8887992487543999, 0.6035468169807476, 0.16115878831117503, 1.375156129392616, 0.5982663947397071]}, {\"line\": {\"color\": \"rgba(50, 171, 96, 1.0)\", \"dash\": \"solid\", \"shape\": \"linear\", \"width\": 1.3}, \"mode\": \"lines\", \"name\": \"C\", \"text\": \"\", \"type\": \"scatter\", \"x\": [0, 1, 2, 3, 4, 5, 6, 7, 8, 9, 10, 11, 12, 13, 14, 15, 16, 17, 18, 19, 20, 21, 22, 23, 24, 25, 26, 27, 28, 29, 30, 31, 32, 33, 34, 35, 36, 37, 38, 39, 40, 41, 42, 43, 44, 45, 46, 47, 48, 49, 50, 51, 52, 53, 54, 55, 56, 57, 58, 59, 60, 61, 62, 63, 64, 65, 66, 67, 68, 69, 70, 71, 72, 73, 74, 75, 76, 77, 78, 79, 80, 81, 82, 83, 84, 85, 86, 87, 88, 89, 90, 91, 92, 93, 94, 95, 96, 97, 98, 99], \"y\": [-0.9331308355733341, 0.12539125190782266, -0.5826274882840796, 1.538666334357524, -1.7274960200280642, -0.6246340895816981, 0.8757756779822631, 1.1446178716120907, -1.8674807150864499, 0.4929854879925438, 1.6087237941600827, 0.00403581169119472, 0.3387429698083554, -1.091562519111494, 0.049621223832586596, 0.413631229048461, -0.906872396994403, -0.23988192131216016, -1.9614917247524626, 0.5823904755813313, -1.1193801692557945, 0.8318308552816366, -0.7558098068051601, 0.7099805947369157, 0.2622129159914279, 0.45234041521296053, -0.45333781624007824, -1.5591624560808224, 0.14955589754009757, 0.042532647130016386, -0.29515420408850174, 0.7468841380204412, -0.30075637307075787, 1.8468666456361396, 0.349329776303073, -1.3659029962894353, 0.24196349094017464, 0.7093642694862414, 0.42390013120014924, 0.16952567778832683, -0.48690258667357683, -0.8724138565251532, 1.0367451639380085, 1.0162731899375543, 1.2817227511333238, 1.0963533662760434, 0.37554547886557976, -0.14471360360842764, -1.2452445131401817, -1.1029478425649724, -1.157542051838458, -0.67239539908866, -1.326749037336286, 0.376759246361514, 0.6539699710346577, 0.8580451963648623, 0.6729653968696636, 2.6911551665544797, -0.671525051147614, -0.11673890146869877, -1.593489446902274, -1.3256767506688802, 0.173202476859852, -1.1389200757237263, -2.185007623439091, -3.139204515064847, 0.120464777745759, 1.1210250513099758, 0.01336528748146471, 1.355912962800932, 0.3593865499783559, -1.0609039600902184, -1.5404425382900173, -0.3850781813027051, 0.5007428784942515, 0.8786526898703361, 0.43269599626147, 0.2228666774544576, -0.6433973192029896, 1.1092657015373828, 1.0792382022513454, -0.9822820063408606, -0.44261469859124053, -0.17746979075039673, 0.7350095886868749, -0.10673807686590155, -1.1455465997132093, -1.04971699304803, -0.23660704909094354, 1.664825431283724, 0.52314519345455, -0.7713133338765619, 0.4020249405971316, 0.370730560452333, 0.39309217498023896, 0.8976125204425404, -0.022809273831166026, -0.44563449993903204, 1.4332355098767757, 0.33501316651965235]}, {\"line\": {\"color\": \"rgba(128, 0, 128, 1.0)\", \"dash\": \"solid\", \"shape\": \"linear\", \"width\": 1.3}, \"mode\": \"lines\", \"name\": \"D\", \"text\": \"\", \"type\": \"scatter\", \"x\": [0, 1, 2, 3, 4, 5, 6, 7, 8, 9, 10, 11, 12, 13, 14, 15, 16, 17, 18, 19, 20, 21, 22, 23, 24, 25, 26, 27, 28, 29, 30, 31, 32, 33, 34, 35, 36, 37, 38, 39, 40, 41, 42, 43, 44, 45, 46, 47, 48, 49, 50, 51, 52, 53, 54, 55, 56, 57, 58, 59, 60, 61, 62, 63, 64, 65, 66, 67, 68, 69, 70, 71, 72, 73, 74, 75, 76, 77, 78, 79, 80, 81, 82, 83, 84, 85, 86, 87, 88, 89, 90, 91, 92, 93, 94, 95, 96, 97, 98, 99], \"y\": [-0.5972618598477876, 0.49913129985884647, 1.7730264589727827, 1.1032823872819204, -0.8151579178878929, 0.7544427114688668, 1.0774286321416484, -0.051946512921370425, 0.6166519502349622, 1.4118594304742158, 0.13717225426810745, 0.6050015374397305, -0.3856010246759087, -0.5891087047560496, -0.03820969691035504, -1.0139398407192033, -1.8002177795266743, 2.4331651321022374, 2.619589756643213, 0.1679663590479456, 1.021448468810051, 0.9512341173952743, 0.16222026213196905, 0.5354111619240958, 0.5181742993661161, -0.871494439001104, -0.09685894088541698, 1.0541791334435062, -0.1975401478765995, -0.7492561923357114, -1.069393525413521, 0.5047777483460927, 0.9137379834785593, 0.4186634324449865, -1.0287345824885585, 0.48790568201222684, -0.4050553157701971, 0.11141541052830012, -1.7255301254782913, -0.08350333594487494, 0.45249482106131833, -0.09343094523639385, -1.1097099840336093, 0.3572648089204684, 0.21617504521772882, -1.8432127866249164, -1.0017756232366533, -3.0394611961570424, -2.0765768625295604, -0.08793900930099857, -1.183950224972636, -0.5717968444413271, 0.4138392187337821, -0.054182122952612474, 0.010036201028902115, -0.11117296334648173, 0.03829259173105282, 0.5677693356912435, -0.09862976094514372, 0.8366927598732063, -1.1388446424392644, -1.726824651763009, -2.1408436066424428, -0.41730496546954354, 1.9682058113107093, 0.14770333504684413, 0.9518760707874068, 0.6640022570758064, 0.250994155569197, -0.6535481050924123, 0.2050650353763908, 1.1264110703819419, 0.8332230610418235, -0.6552689024075415, -0.10761767621075648, -1.1593078130627543, -2.560148376587137, -0.7501456943804221, -0.655428643820223, -0.8165852861077829, -0.12019692016527625, 0.5620944262447766, 0.8002584560979304, -0.7503343293526445, -0.022872732491072807, -0.8133206402807482, 0.5901216522003285, 0.17342835503505383, -1.220213981996596, -0.17031710380254936, 2.06408937773803, -0.48942538351366077, 0.8770885868617431, 1.8772108464491117, -0.1416863365318827, 1.1442123784007612, 0.6543647925446888, -0.31106413751265755, 0.14154219683602615, -0.8936821553152134]}],                        {\"legend\": {\"bgcolor\": \"#F5F6F9\", \"font\": {\"color\": \"#4D5663\"}}, \"paper_bgcolor\": \"#F5F6F9\", \"plot_bgcolor\": \"#F5F6F9\", \"template\": {\"data\": {\"bar\": [{\"error_x\": {\"color\": \"#2a3f5f\"}, \"error_y\": {\"color\": \"#2a3f5f\"}, \"marker\": {\"line\": {\"color\": \"#E5ECF6\", \"width\": 0.5}}, \"type\": \"bar\"}], \"barpolar\": [{\"marker\": {\"line\": {\"color\": \"#E5ECF6\", \"width\": 0.5}}, \"type\": \"barpolar\"}], \"carpet\": [{\"aaxis\": {\"endlinecolor\": \"#2a3f5f\", \"gridcolor\": \"white\", \"linecolor\": \"white\", \"minorgridcolor\": \"white\", \"startlinecolor\": \"#2a3f5f\"}, \"baxis\": {\"endlinecolor\": \"#2a3f5f\", \"gridcolor\": \"white\", \"linecolor\": \"white\", \"minorgridcolor\": \"white\", \"startlinecolor\": \"#2a3f5f\"}, \"type\": \"carpet\"}], \"choropleth\": [{\"colorbar\": {\"outlinewidth\": 0, \"ticks\": \"\"}, \"type\": \"choropleth\"}], \"contour\": [{\"colorbar\": {\"outlinewidth\": 0, \"ticks\": \"\"}, \"colorscale\": [[0.0, \"#0d0887\"], [0.1111111111111111, \"#46039f\"], [0.2222222222222222, \"#7201a8\"], [0.3333333333333333, \"#9c179e\"], [0.4444444444444444, \"#bd3786\"], [0.5555555555555556, \"#d8576b\"], [0.6666666666666666, \"#ed7953\"], [0.7777777777777778, \"#fb9f3a\"], [0.8888888888888888, \"#fdca26\"], [1.0, \"#f0f921\"]], \"type\": \"contour\"}], \"contourcarpet\": [{\"colorbar\": {\"outlinewidth\": 0, \"ticks\": \"\"}, \"type\": \"contourcarpet\"}], \"heatmap\": [{\"colorbar\": {\"outlinewidth\": 0, \"ticks\": \"\"}, \"colorscale\": [[0.0, \"#0d0887\"], [0.1111111111111111, \"#46039f\"], [0.2222222222222222, \"#7201a8\"], [0.3333333333333333, \"#9c179e\"], [0.4444444444444444, \"#bd3786\"], [0.5555555555555556, \"#d8576b\"], [0.6666666666666666, \"#ed7953\"], [0.7777777777777778, \"#fb9f3a\"], [0.8888888888888888, \"#fdca26\"], [1.0, \"#f0f921\"]], \"type\": \"heatmap\"}], \"heatmapgl\": [{\"colorbar\": {\"outlinewidth\": 0, \"ticks\": \"\"}, \"colorscale\": [[0.0, \"#0d0887\"], [0.1111111111111111, \"#46039f\"], [0.2222222222222222, \"#7201a8\"], [0.3333333333333333, \"#9c179e\"], [0.4444444444444444, \"#bd3786\"], [0.5555555555555556, \"#d8576b\"], [0.6666666666666666, \"#ed7953\"], [0.7777777777777778, \"#fb9f3a\"], [0.8888888888888888, \"#fdca26\"], [1.0, \"#f0f921\"]], \"type\": \"heatmapgl\"}], \"histogram\": [{\"marker\": {\"colorbar\": {\"outlinewidth\": 0, \"ticks\": \"\"}}, \"type\": \"histogram\"}], \"histogram2d\": [{\"colorbar\": {\"outlinewidth\": 0, \"ticks\": \"\"}, \"colorscale\": [[0.0, \"#0d0887\"], [0.1111111111111111, \"#46039f\"], [0.2222222222222222, \"#7201a8\"], [0.3333333333333333, \"#9c179e\"], [0.4444444444444444, \"#bd3786\"], [0.5555555555555556, \"#d8576b\"], [0.6666666666666666, \"#ed7953\"], [0.7777777777777778, \"#fb9f3a\"], [0.8888888888888888, \"#fdca26\"], [1.0, \"#f0f921\"]], \"type\": \"histogram2d\"}], \"histogram2dcontour\": [{\"colorbar\": {\"outlinewidth\": 0, \"ticks\": \"\"}, \"colorscale\": [[0.0, \"#0d0887\"], [0.1111111111111111, \"#46039f\"], [0.2222222222222222, \"#7201a8\"], [0.3333333333333333, \"#9c179e\"], [0.4444444444444444, \"#bd3786\"], [0.5555555555555556, \"#d8576b\"], [0.6666666666666666, \"#ed7953\"], [0.7777777777777778, \"#fb9f3a\"], [0.8888888888888888, \"#fdca26\"], [1.0, \"#f0f921\"]], \"type\": \"histogram2dcontour\"}], \"mesh3d\": [{\"colorbar\": {\"outlinewidth\": 0, \"ticks\": \"\"}, \"type\": \"mesh3d\"}], \"parcoords\": [{\"line\": {\"colorbar\": {\"outlinewidth\": 0, \"ticks\": \"\"}}, \"type\": \"parcoords\"}], \"pie\": [{\"automargin\": true, \"type\": \"pie\"}], \"scatter\": [{\"marker\": {\"colorbar\": {\"outlinewidth\": 0, \"ticks\": \"\"}}, \"type\": \"scatter\"}], \"scatter3d\": [{\"line\": {\"colorbar\": {\"outlinewidth\": 0, \"ticks\": \"\"}}, \"marker\": {\"colorbar\": {\"outlinewidth\": 0, \"ticks\": \"\"}}, \"type\": \"scatter3d\"}], \"scattercarpet\": [{\"marker\": {\"colorbar\": {\"outlinewidth\": 0, \"ticks\": \"\"}}, \"type\": \"scattercarpet\"}], \"scattergeo\": [{\"marker\": {\"colorbar\": {\"outlinewidth\": 0, \"ticks\": \"\"}}, \"type\": \"scattergeo\"}], \"scattergl\": [{\"marker\": {\"colorbar\": {\"outlinewidth\": 0, \"ticks\": \"\"}}, \"type\": \"scattergl\"}], \"scattermapbox\": [{\"marker\": {\"colorbar\": {\"outlinewidth\": 0, \"ticks\": \"\"}}, \"type\": \"scattermapbox\"}], \"scatterpolar\": [{\"marker\": {\"colorbar\": {\"outlinewidth\": 0, \"ticks\": \"\"}}, \"type\": \"scatterpolar\"}], \"scatterpolargl\": [{\"marker\": {\"colorbar\": {\"outlinewidth\": 0, \"ticks\": \"\"}}, \"type\": \"scatterpolargl\"}], \"scatterternary\": [{\"marker\": {\"colorbar\": {\"outlinewidth\": 0, \"ticks\": \"\"}}, \"type\": \"scatterternary\"}], \"surface\": [{\"colorbar\": {\"outlinewidth\": 0, \"ticks\": \"\"}, \"colorscale\": [[0.0, \"#0d0887\"], [0.1111111111111111, \"#46039f\"], [0.2222222222222222, \"#7201a8\"], [0.3333333333333333, \"#9c179e\"], [0.4444444444444444, \"#bd3786\"], [0.5555555555555556, \"#d8576b\"], [0.6666666666666666, \"#ed7953\"], [0.7777777777777778, \"#fb9f3a\"], [0.8888888888888888, \"#fdca26\"], [1.0, \"#f0f921\"]], \"type\": \"surface\"}], \"table\": [{\"cells\": {\"fill\": {\"color\": \"#EBF0F8\"}, \"line\": {\"color\": \"white\"}}, \"header\": {\"fill\": {\"color\": \"#C8D4E3\"}, \"line\": {\"color\": \"white\"}}, \"type\": \"table\"}]}, \"layout\": {\"annotationdefaults\": {\"arrowcolor\": \"#2a3f5f\", \"arrowhead\": 0, \"arrowwidth\": 1}, \"autotypenumbers\": \"strict\", \"coloraxis\": {\"colorbar\": {\"outlinewidth\": 0, \"ticks\": \"\"}}, \"colorscale\": {\"diverging\": [[0, \"#8e0152\"], [0.1, \"#c51b7d\"], [0.2, \"#de77ae\"], [0.3, \"#f1b6da\"], [0.4, \"#fde0ef\"], [0.5, \"#f7f7f7\"], [0.6, \"#e6f5d0\"], [0.7, \"#b8e186\"], [0.8, \"#7fbc41\"], [0.9, \"#4d9221\"], [1, \"#276419\"]], \"sequential\": [[0.0, \"#0d0887\"], [0.1111111111111111, \"#46039f\"], [0.2222222222222222, \"#7201a8\"], [0.3333333333333333, \"#9c179e\"], [0.4444444444444444, \"#bd3786\"], [0.5555555555555556, \"#d8576b\"], [0.6666666666666666, \"#ed7953\"], [0.7777777777777778, \"#fb9f3a\"], [0.8888888888888888, \"#fdca26\"], [1.0, \"#f0f921\"]], \"sequentialminus\": [[0.0, \"#0d0887\"], [0.1111111111111111, \"#46039f\"], [0.2222222222222222, \"#7201a8\"], [0.3333333333333333, \"#9c179e\"], [0.4444444444444444, \"#bd3786\"], [0.5555555555555556, \"#d8576b\"], [0.6666666666666666, \"#ed7953\"], [0.7777777777777778, \"#fb9f3a\"], [0.8888888888888888, \"#fdca26\"], [1.0, \"#f0f921\"]]}, \"colorway\": [\"#636efa\", \"#EF553B\", \"#00cc96\", \"#ab63fa\", \"#FFA15A\", \"#19d3f3\", \"#FF6692\", \"#B6E880\", \"#FF97FF\", \"#FECB52\"], \"font\": {\"color\": \"#2a3f5f\"}, \"geo\": {\"bgcolor\": \"white\", \"lakecolor\": \"white\", \"landcolor\": \"#E5ECF6\", \"showlakes\": true, \"showland\": true, \"subunitcolor\": \"white\"}, \"hoverlabel\": {\"align\": \"left\"}, \"hovermode\": \"closest\", \"mapbox\": {\"style\": \"light\"}, \"paper_bgcolor\": \"white\", \"plot_bgcolor\": \"#E5ECF6\", \"polar\": {\"angularaxis\": {\"gridcolor\": \"white\", \"linecolor\": \"white\", \"ticks\": \"\"}, \"bgcolor\": \"#E5ECF6\", \"radialaxis\": {\"gridcolor\": \"white\", \"linecolor\": \"white\", \"ticks\": \"\"}}, \"scene\": {\"xaxis\": {\"backgroundcolor\": \"#E5ECF6\", \"gridcolor\": \"white\", \"gridwidth\": 2, \"linecolor\": \"white\", \"showbackground\": true, \"ticks\": \"\", \"zerolinecolor\": \"white\"}, \"yaxis\": {\"backgroundcolor\": \"#E5ECF6\", \"gridcolor\": \"white\", \"gridwidth\": 2, \"linecolor\": \"white\", \"showbackground\": true, \"ticks\": \"\", \"zerolinecolor\": \"white\"}, \"zaxis\": {\"backgroundcolor\": \"#E5ECF6\", \"gridcolor\": \"white\", \"gridwidth\": 2, \"linecolor\": \"white\", \"showbackground\": true, \"ticks\": \"\", \"zerolinecolor\": \"white\"}}, \"shapedefaults\": {\"line\": {\"color\": \"#2a3f5f\"}}, \"ternary\": {\"aaxis\": {\"gridcolor\": \"white\", \"linecolor\": \"white\", \"ticks\": \"\"}, \"baxis\": {\"gridcolor\": \"white\", \"linecolor\": \"white\", \"ticks\": \"\"}, \"bgcolor\": \"#E5ECF6\", \"caxis\": {\"gridcolor\": \"white\", \"linecolor\": \"white\", \"ticks\": \"\"}}, \"title\": {\"x\": 0.05}, \"xaxis\": {\"automargin\": true, \"gridcolor\": \"white\", \"linecolor\": \"white\", \"ticks\": \"\", \"title\": {\"standoff\": 15}, \"zerolinecolor\": \"white\", \"zerolinewidth\": 2}, \"yaxis\": {\"automargin\": true, \"gridcolor\": \"white\", \"linecolor\": \"white\", \"ticks\": \"\", \"title\": {\"standoff\": 15}, \"zerolinecolor\": \"white\", \"zerolinewidth\": 2}}}, \"title\": {\"font\": {\"color\": \"#4D5663\"}}, \"xaxis\": {\"gridcolor\": \"#E1E5ED\", \"showgrid\": true, \"tickfont\": {\"color\": \"#4D5663\"}, \"title\": {\"font\": {\"color\": \"#4D5663\"}, \"text\": \"\"}, \"zerolinecolor\": \"#E1E5ED\"}, \"yaxis\": {\"gridcolor\": \"#E1E5ED\", \"showgrid\": true, \"tickfont\": {\"color\": \"#4D5663\"}, \"title\": {\"font\": {\"color\": \"#4D5663\"}, \"text\": \"\"}, \"zerolinecolor\": \"#E1E5ED\"}},                        {\"showLink\": true, \"linkText\": \"Export to plot.ly\", \"plotlyServerURL\": \"https://plot.ly\", \"responsive\": true}                    ).then(function(){\n",
       "                            \n",
       "var gd = document.getElementById('07afceda-a2e5-401d-8713-bf58235ba4c6');\n",
       "var x = new MutationObserver(function (mutations, observer) {{\n",
       "        var display = window.getComputedStyle(gd).display;\n",
       "        if (!display || display === 'none') {{\n",
       "            console.log([gd, 'removed!']);\n",
       "            Plotly.purge(gd);\n",
       "            observer.disconnect();\n",
       "        }}\n",
       "}});\n",
       "\n",
       "// Listen for the removal of the full notebook cells\n",
       "var notebookContainer = gd.closest('#notebook-container');\n",
       "if (notebookContainer) {{\n",
       "    x.observe(notebookContainer, {childList: true});\n",
       "}}\n",
       "\n",
       "// Listen for the clearing of the current output cell\n",
       "var outputEl = gd.closest('.output');\n",
       "if (outputEl) {{\n",
       "    x.observe(outputEl, {childList: true});\n",
       "}}\n",
       "\n",
       "                        })                };                });            </script>        </div>"
      ]
     },
     "metadata": {},
     "output_type": "display_data"
    }
   ],
   "source": [
    "df.iplot();"
   ]
  },
  {
   "cell_type": "code",
   "execution_count": null,
   "metadata": {},
   "outputs": [],
   "source": []
  },
  {
   "cell_type": "code",
   "execution_count": 32,
   "metadata": {},
   "outputs": [
    {
     "data": {
      "application/vnd.plotly.v1+json": {
       "config": {
        "linkText": "Export to plot.ly",
        "plotlyServerURL": "https://plot.ly",
        "showLink": true
       },
       "data": [
        {
         "line": {
          "color": "rgba(55, 128, 191, 1.0)",
          "dash": "solid",
          "shape": "linear",
          "width": 1.3
         },
         "marker": {
          "size": 10,
          "symbol": "circle"
         },
         "mode": "markers",
         "name": "B",
         "text": "",
         "type": "scatter",
         "x": [
          -0.020189904066568676,
          0.1605430195388812,
          0.2183093910227895,
          -2.4481729834834183,
          -1.3420320191794017,
          -0.11221568571796266,
          0.5438037913168252,
          -0.6738957753062436,
          1.2812552096620458,
          -1.9536234368933418,
          0.6253512625110269,
          -0.367816742191912,
          -0.768336789815034,
          -0.4129987988772313,
          0.19697310981348015,
          -0.27701278168076676,
          -2.1850709253021408,
          -0.5250012837190554,
          -0.2960852772923362,
          2.1017025013406174,
          -1.0911147300173158,
          0.03328166238849761,
          0.8748423978764613,
          -0.7007281434378153,
          -0.7032378773912719,
          0.8163765079870988,
          0.6030432620160926,
          0.9510948268094824,
          0.27023316558141663,
          -0.7311343794012733,
          -0.8666389092607147,
          1.6069767733420819,
          -0.48121297176306743,
          0.8828189161472906,
          1.032297574576932,
          -1.5001633282861504,
          0.5649349776911442,
          -0.051387101531794106,
          -0.2781026509732436,
          -0.8923371781052455,
          1.1915575077827307,
          -1.2536370325127713,
          -0.2805725925410075,
          1.070862086463324,
          -0.5607966024437397,
          0.44671495095770924,
          0.9055046646215376,
          0.9966668848767872,
          -0.6389673657208839,
          -0.19119612298566752,
          -1.867018118228768,
          1.7299122438438277,
          -1.5392952098290518,
          1.9085227576174537,
          -0.7365200192739271,
          0.291020559910531,
          -0.6876208386672505,
          -0.4396880008989103,
          0.8766948555928455,
          0.48993246404209895,
          0.04486282746655476,
          0.3311347774803122,
          1.3444595160554034,
          1.2292855329948622,
          -0.37737713594871525,
          -0.20849767131121968,
          0.8803939015253044,
          0.6916060145498991,
          -0.6001880277835497,
          -1.0400549304427917,
          0.003272206458725557,
          -1.3528129854600308,
          -0.3469507174506524,
          -0.9140855889241825,
          0.9577028104654609,
          -0.20396839758209903,
          -0.5635726556127097,
          -0.6292571060303892,
          -1.4412942860438325,
          -0.023173287497486254,
          0.2867170728131295,
          1.4891400934905492,
          1.683467368370149,
          0.0032825188849990358,
          -1.724488989643146,
          0.3619017524142584,
          -1.086482992483747,
          1.3030784312470234,
          2.086086574606949,
          -0.9148799666797345,
          -2.53659794781672,
          0.14790147153220412,
          1.5081605357439327,
          0.03172942631163809,
          -1.3844203538077873,
          2.7317365325469214,
          1.8435597585089694,
          -0.9235347978823618,
          -2.2293208131348097,
          0.8302728483937458
         ],
         "y": [
          -0.4380037600693329,
          1.3856258480513495,
          -1.6439581318945904,
          1.780163099731763,
          -0.06886238487724357,
          -0.3419320878039712,
          1.7176474787692995,
          -3.0128342192986843,
          1.268848134771191,
          0.2448222463181939,
          0.6832274431968387,
          0.5900880475260439,
          -0.28351085192768744,
          0.03951006673344334,
          0.33378442318795754,
          0.0036633902122219066,
          -1.0335621009028737,
          -1.4346287159598332,
          -0.7637090963596298,
          -0.49509070170442804,
          0.7017553526944327,
          1.0578719391875344,
          0.7596212001824827,
          0.8464267198538894,
          0.5115456059271346,
          1.4785023222198197,
          -2.1651187773032246,
          1.0007144847757021,
          0.7384916218488192,
          0.26590612111690903,
          1.956294281895234,
          -0.8617578488568759,
          0.011053299902504497,
          1.5429553670798497,
          1.7290962461445358,
          -0.08249248371447555,
          -0.5315109256761953,
          -0.5644574743776344,
          0.7402337629534262,
          -0.6086185725746197,
          0.2187789432258602,
          -0.125717596041093,
          0.20048527432005395,
          2.731679171077915,
          -1.8603447004357492,
          0.9554304810338209,
          -1.4103828466835837,
          1.065950515655746,
          -1.236848826065617,
          -0.7318542012955099,
          2.2934039074168857,
          -0.7557077880124786,
          2.0115055050237043,
          0.37154483900426716,
          -1.9242514925498644,
          0.7925365130656604,
          -0.2819909724010163,
          -0.40942736078084324,
          -0.7623793634102329,
          1.1645877433591125,
          -0.38777448037124174,
          -0.1723366430999955,
          0.016858458282385105,
          0.04213951346102748,
          -0.2200209199138018,
          0.4556172925040396,
          0.9847325399374394,
          0.3486345501482719,
          0.9407477147125772,
          -0.13776682864629283,
          0.25163129965039865,
          1.1259847998476251,
          -1.2270319722269811,
          -0.8076192569794358,
          -0.1342328858251307,
          0.19426191413022975,
          -0.9440956952124823,
          -0.5819788729383728,
          -0.48095783847540297,
          -0.8869083142131824,
          -0.14477563692269194,
          1.6866780586582282,
          1.5258822957160807,
          -1.0275474178043047,
          -1.0323270449559678,
          0.9102697897984027,
          -0.1566664582921049,
          0.7704706110055723,
          -0.37923470972809126,
          0.15897524427418847,
          -0.4839263654265887,
          -0.39319145215301765,
          0.4437255355807462,
          -0.4350402940246013,
          0.7316571164610378,
          -1.8887992487543999,
          0.6035468169807476,
          0.16115878831117503,
          1.375156129392616,
          0.5982663947397071
         ]
        }
       ],
       "layout": {
        "legend": {
         "bgcolor": "#F5F6F9",
         "font": {
          "color": "#4D5663"
         }
        },
        "paper_bgcolor": "#F5F6F9",
        "plot_bgcolor": "#F5F6F9",
        "template": {
         "data": {
          "bar": [
           {
            "error_x": {
             "color": "#2a3f5f"
            },
            "error_y": {
             "color": "#2a3f5f"
            },
            "marker": {
             "line": {
              "color": "#E5ECF6",
              "width": 0.5
             }
            },
            "type": "bar"
           }
          ],
          "barpolar": [
           {
            "marker": {
             "line": {
              "color": "#E5ECF6",
              "width": 0.5
             }
            },
            "type": "barpolar"
           }
          ],
          "carpet": [
           {
            "aaxis": {
             "endlinecolor": "#2a3f5f",
             "gridcolor": "white",
             "linecolor": "white",
             "minorgridcolor": "white",
             "startlinecolor": "#2a3f5f"
            },
            "baxis": {
             "endlinecolor": "#2a3f5f",
             "gridcolor": "white",
             "linecolor": "white",
             "minorgridcolor": "white",
             "startlinecolor": "#2a3f5f"
            },
            "type": "carpet"
           }
          ],
          "choropleth": [
           {
            "colorbar": {
             "outlinewidth": 0,
             "ticks": ""
            },
            "type": "choropleth"
           }
          ],
          "contour": [
           {
            "colorbar": {
             "outlinewidth": 0,
             "ticks": ""
            },
            "colorscale": [
             [
              0,
              "#0d0887"
             ],
             [
              0.1111111111111111,
              "#46039f"
             ],
             [
              0.2222222222222222,
              "#7201a8"
             ],
             [
              0.3333333333333333,
              "#9c179e"
             ],
             [
              0.4444444444444444,
              "#bd3786"
             ],
             [
              0.5555555555555556,
              "#d8576b"
             ],
             [
              0.6666666666666666,
              "#ed7953"
             ],
             [
              0.7777777777777778,
              "#fb9f3a"
             ],
             [
              0.8888888888888888,
              "#fdca26"
             ],
             [
              1,
              "#f0f921"
             ]
            ],
            "type": "contour"
           }
          ],
          "contourcarpet": [
           {
            "colorbar": {
             "outlinewidth": 0,
             "ticks": ""
            },
            "type": "contourcarpet"
           }
          ],
          "heatmap": [
           {
            "colorbar": {
             "outlinewidth": 0,
             "ticks": ""
            },
            "colorscale": [
             [
              0,
              "#0d0887"
             ],
             [
              0.1111111111111111,
              "#46039f"
             ],
             [
              0.2222222222222222,
              "#7201a8"
             ],
             [
              0.3333333333333333,
              "#9c179e"
             ],
             [
              0.4444444444444444,
              "#bd3786"
             ],
             [
              0.5555555555555556,
              "#d8576b"
             ],
             [
              0.6666666666666666,
              "#ed7953"
             ],
             [
              0.7777777777777778,
              "#fb9f3a"
             ],
             [
              0.8888888888888888,
              "#fdca26"
             ],
             [
              1,
              "#f0f921"
             ]
            ],
            "type": "heatmap"
           }
          ],
          "heatmapgl": [
           {
            "colorbar": {
             "outlinewidth": 0,
             "ticks": ""
            },
            "colorscale": [
             [
              0,
              "#0d0887"
             ],
             [
              0.1111111111111111,
              "#46039f"
             ],
             [
              0.2222222222222222,
              "#7201a8"
             ],
             [
              0.3333333333333333,
              "#9c179e"
             ],
             [
              0.4444444444444444,
              "#bd3786"
             ],
             [
              0.5555555555555556,
              "#d8576b"
             ],
             [
              0.6666666666666666,
              "#ed7953"
             ],
             [
              0.7777777777777778,
              "#fb9f3a"
             ],
             [
              0.8888888888888888,
              "#fdca26"
             ],
             [
              1,
              "#f0f921"
             ]
            ],
            "type": "heatmapgl"
           }
          ],
          "histogram": [
           {
            "marker": {
             "colorbar": {
              "outlinewidth": 0,
              "ticks": ""
             }
            },
            "type": "histogram"
           }
          ],
          "histogram2d": [
           {
            "colorbar": {
             "outlinewidth": 0,
             "ticks": ""
            },
            "colorscale": [
             [
              0,
              "#0d0887"
             ],
             [
              0.1111111111111111,
              "#46039f"
             ],
             [
              0.2222222222222222,
              "#7201a8"
             ],
             [
              0.3333333333333333,
              "#9c179e"
             ],
             [
              0.4444444444444444,
              "#bd3786"
             ],
             [
              0.5555555555555556,
              "#d8576b"
             ],
             [
              0.6666666666666666,
              "#ed7953"
             ],
             [
              0.7777777777777778,
              "#fb9f3a"
             ],
             [
              0.8888888888888888,
              "#fdca26"
             ],
             [
              1,
              "#f0f921"
             ]
            ],
            "type": "histogram2d"
           }
          ],
          "histogram2dcontour": [
           {
            "colorbar": {
             "outlinewidth": 0,
             "ticks": ""
            },
            "colorscale": [
             [
              0,
              "#0d0887"
             ],
             [
              0.1111111111111111,
              "#46039f"
             ],
             [
              0.2222222222222222,
              "#7201a8"
             ],
             [
              0.3333333333333333,
              "#9c179e"
             ],
             [
              0.4444444444444444,
              "#bd3786"
             ],
             [
              0.5555555555555556,
              "#d8576b"
             ],
             [
              0.6666666666666666,
              "#ed7953"
             ],
             [
              0.7777777777777778,
              "#fb9f3a"
             ],
             [
              0.8888888888888888,
              "#fdca26"
             ],
             [
              1,
              "#f0f921"
             ]
            ],
            "type": "histogram2dcontour"
           }
          ],
          "mesh3d": [
           {
            "colorbar": {
             "outlinewidth": 0,
             "ticks": ""
            },
            "type": "mesh3d"
           }
          ],
          "parcoords": [
           {
            "line": {
             "colorbar": {
              "outlinewidth": 0,
              "ticks": ""
             }
            },
            "type": "parcoords"
           }
          ],
          "pie": [
           {
            "automargin": true,
            "type": "pie"
           }
          ],
          "scatter": [
           {
            "marker": {
             "colorbar": {
              "outlinewidth": 0,
              "ticks": ""
             }
            },
            "type": "scatter"
           }
          ],
          "scatter3d": [
           {
            "line": {
             "colorbar": {
              "outlinewidth": 0,
              "ticks": ""
             }
            },
            "marker": {
             "colorbar": {
              "outlinewidth": 0,
              "ticks": ""
             }
            },
            "type": "scatter3d"
           }
          ],
          "scattercarpet": [
           {
            "marker": {
             "colorbar": {
              "outlinewidth": 0,
              "ticks": ""
             }
            },
            "type": "scattercarpet"
           }
          ],
          "scattergeo": [
           {
            "marker": {
             "colorbar": {
              "outlinewidth": 0,
              "ticks": ""
             }
            },
            "type": "scattergeo"
           }
          ],
          "scattergl": [
           {
            "marker": {
             "colorbar": {
              "outlinewidth": 0,
              "ticks": ""
             }
            },
            "type": "scattergl"
           }
          ],
          "scattermapbox": [
           {
            "marker": {
             "colorbar": {
              "outlinewidth": 0,
              "ticks": ""
             }
            },
            "type": "scattermapbox"
           }
          ],
          "scatterpolar": [
           {
            "marker": {
             "colorbar": {
              "outlinewidth": 0,
              "ticks": ""
             }
            },
            "type": "scatterpolar"
           }
          ],
          "scatterpolargl": [
           {
            "marker": {
             "colorbar": {
              "outlinewidth": 0,
              "ticks": ""
             }
            },
            "type": "scatterpolargl"
           }
          ],
          "scatterternary": [
           {
            "marker": {
             "colorbar": {
              "outlinewidth": 0,
              "ticks": ""
             }
            },
            "type": "scatterternary"
           }
          ],
          "surface": [
           {
            "colorbar": {
             "outlinewidth": 0,
             "ticks": ""
            },
            "colorscale": [
             [
              0,
              "#0d0887"
             ],
             [
              0.1111111111111111,
              "#46039f"
             ],
             [
              0.2222222222222222,
              "#7201a8"
             ],
             [
              0.3333333333333333,
              "#9c179e"
             ],
             [
              0.4444444444444444,
              "#bd3786"
             ],
             [
              0.5555555555555556,
              "#d8576b"
             ],
             [
              0.6666666666666666,
              "#ed7953"
             ],
             [
              0.7777777777777778,
              "#fb9f3a"
             ],
             [
              0.8888888888888888,
              "#fdca26"
             ],
             [
              1,
              "#f0f921"
             ]
            ],
            "type": "surface"
           }
          ],
          "table": [
           {
            "cells": {
             "fill": {
              "color": "#EBF0F8"
             },
             "line": {
              "color": "white"
             }
            },
            "header": {
             "fill": {
              "color": "#C8D4E3"
             },
             "line": {
              "color": "white"
             }
            },
            "type": "table"
           }
          ]
         },
         "layout": {
          "annotationdefaults": {
           "arrowcolor": "#2a3f5f",
           "arrowhead": 0,
           "arrowwidth": 1
          },
          "autotypenumbers": "strict",
          "coloraxis": {
           "colorbar": {
            "outlinewidth": 0,
            "ticks": ""
           }
          },
          "colorscale": {
           "diverging": [
            [
             0,
             "#8e0152"
            ],
            [
             0.1,
             "#c51b7d"
            ],
            [
             0.2,
             "#de77ae"
            ],
            [
             0.3,
             "#f1b6da"
            ],
            [
             0.4,
             "#fde0ef"
            ],
            [
             0.5,
             "#f7f7f7"
            ],
            [
             0.6,
             "#e6f5d0"
            ],
            [
             0.7,
             "#b8e186"
            ],
            [
             0.8,
             "#7fbc41"
            ],
            [
             0.9,
             "#4d9221"
            ],
            [
             1,
             "#276419"
            ]
           ],
           "sequential": [
            [
             0,
             "#0d0887"
            ],
            [
             0.1111111111111111,
             "#46039f"
            ],
            [
             0.2222222222222222,
             "#7201a8"
            ],
            [
             0.3333333333333333,
             "#9c179e"
            ],
            [
             0.4444444444444444,
             "#bd3786"
            ],
            [
             0.5555555555555556,
             "#d8576b"
            ],
            [
             0.6666666666666666,
             "#ed7953"
            ],
            [
             0.7777777777777778,
             "#fb9f3a"
            ],
            [
             0.8888888888888888,
             "#fdca26"
            ],
            [
             1,
             "#f0f921"
            ]
           ],
           "sequentialminus": [
            [
             0,
             "#0d0887"
            ],
            [
             0.1111111111111111,
             "#46039f"
            ],
            [
             0.2222222222222222,
             "#7201a8"
            ],
            [
             0.3333333333333333,
             "#9c179e"
            ],
            [
             0.4444444444444444,
             "#bd3786"
            ],
            [
             0.5555555555555556,
             "#d8576b"
            ],
            [
             0.6666666666666666,
             "#ed7953"
            ],
            [
             0.7777777777777778,
             "#fb9f3a"
            ],
            [
             0.8888888888888888,
             "#fdca26"
            ],
            [
             1,
             "#f0f921"
            ]
           ]
          },
          "colorway": [
           "#636efa",
           "#EF553B",
           "#00cc96",
           "#ab63fa",
           "#FFA15A",
           "#19d3f3",
           "#FF6692",
           "#B6E880",
           "#FF97FF",
           "#FECB52"
          ],
          "font": {
           "color": "#2a3f5f"
          },
          "geo": {
           "bgcolor": "white",
           "lakecolor": "white",
           "landcolor": "#E5ECF6",
           "showlakes": true,
           "showland": true,
           "subunitcolor": "white"
          },
          "hoverlabel": {
           "align": "left"
          },
          "hovermode": "closest",
          "mapbox": {
           "style": "light"
          },
          "paper_bgcolor": "white",
          "plot_bgcolor": "#E5ECF6",
          "polar": {
           "angularaxis": {
            "gridcolor": "white",
            "linecolor": "white",
            "ticks": ""
           },
           "bgcolor": "#E5ECF6",
           "radialaxis": {
            "gridcolor": "white",
            "linecolor": "white",
            "ticks": ""
           }
          },
          "scene": {
           "xaxis": {
            "backgroundcolor": "#E5ECF6",
            "gridcolor": "white",
            "gridwidth": 2,
            "linecolor": "white",
            "showbackground": true,
            "ticks": "",
            "zerolinecolor": "white"
           },
           "yaxis": {
            "backgroundcolor": "#E5ECF6",
            "gridcolor": "white",
            "gridwidth": 2,
            "linecolor": "white",
            "showbackground": true,
            "ticks": "",
            "zerolinecolor": "white"
           },
           "zaxis": {
            "backgroundcolor": "#E5ECF6",
            "gridcolor": "white",
            "gridwidth": 2,
            "linecolor": "white",
            "showbackground": true,
            "ticks": "",
            "zerolinecolor": "white"
           }
          },
          "shapedefaults": {
           "line": {
            "color": "#2a3f5f"
           }
          },
          "ternary": {
           "aaxis": {
            "gridcolor": "white",
            "linecolor": "white",
            "ticks": ""
           },
           "baxis": {
            "gridcolor": "white",
            "linecolor": "white",
            "ticks": ""
           },
           "bgcolor": "#E5ECF6",
           "caxis": {
            "gridcolor": "white",
            "linecolor": "white",
            "ticks": ""
           }
          },
          "title": {
           "x": 0.05
          },
          "xaxis": {
           "automargin": true,
           "gridcolor": "white",
           "linecolor": "white",
           "ticks": "",
           "title": {
            "standoff": 15
           },
           "zerolinecolor": "white",
           "zerolinewidth": 2
          },
          "yaxis": {
           "automargin": true,
           "gridcolor": "white",
           "linecolor": "white",
           "ticks": "",
           "title": {
            "standoff": 15
           },
           "zerolinecolor": "white",
           "zerolinewidth": 2
          }
         }
        },
        "title": {
         "font": {
          "color": "#4D5663"
         }
        },
        "xaxis": {
         "gridcolor": "#E1E5ED",
         "showgrid": true,
         "tickfont": {
          "color": "#4D5663"
         },
         "title": {
          "font": {
           "color": "#4D5663"
          },
          "text": ""
         },
         "zerolinecolor": "#E1E5ED"
        },
        "yaxis": {
         "gridcolor": "#E1E5ED",
         "showgrid": true,
         "tickfont": {
          "color": "#4D5663"
         },
         "title": {
          "font": {
           "color": "#4D5663"
          },
          "text": ""
         },
         "zerolinecolor": "#E1E5ED"
        }
       }
      },
      "text/html": [
       "<div>                            <div id=\"fb92e5d7-b32a-4f41-9941-5d358daf8f97\" class=\"plotly-graph-div\" style=\"height:525px; width:100%;\"></div>            <script type=\"text/javascript\">                require([\"plotly\"], function(Plotly) {                    window.PLOTLYENV=window.PLOTLYENV || {};\n",
       "                    window.PLOTLYENV.BASE_URL='https://plot.ly';                                    if (document.getElementById(\"fb92e5d7-b32a-4f41-9941-5d358daf8f97\")) {                    Plotly.newPlot(                        \"fb92e5d7-b32a-4f41-9941-5d358daf8f97\",                        [{\"line\": {\"color\": \"rgba(55, 128, 191, 1.0)\", \"dash\": \"solid\", \"shape\": \"linear\", \"width\": 1.3}, \"marker\": {\"size\": 10, \"symbol\": \"circle\"}, \"mode\": \"markers\", \"name\": \"B\", \"text\": \"\", \"type\": \"scatter\", \"x\": [-0.020189904066568676, 0.1605430195388812, 0.2183093910227895, -2.4481729834834183, -1.3420320191794017, -0.11221568571796266, 0.5438037913168252, -0.6738957753062436, 1.2812552096620458, -1.9536234368933418, 0.6253512625110269, -0.367816742191912, -0.768336789815034, -0.4129987988772313, 0.19697310981348015, -0.27701278168076676, -2.1850709253021408, -0.5250012837190554, -0.2960852772923362, 2.1017025013406174, -1.0911147300173158, 0.03328166238849761, 0.8748423978764613, -0.7007281434378153, -0.7032378773912719, 0.8163765079870988, 0.6030432620160926, 0.9510948268094824, 0.27023316558141663, -0.7311343794012733, -0.8666389092607147, 1.6069767733420819, -0.48121297176306743, 0.8828189161472906, 1.032297574576932, -1.5001633282861504, 0.5649349776911442, -0.051387101531794106, -0.2781026509732436, -0.8923371781052455, 1.1915575077827307, -1.2536370325127713, -0.2805725925410075, 1.070862086463324, -0.5607966024437397, 0.44671495095770924, 0.9055046646215376, 0.9966668848767872, -0.6389673657208839, -0.19119612298566752, -1.867018118228768, 1.7299122438438277, -1.5392952098290518, 1.9085227576174537, -0.7365200192739271, 0.291020559910531, -0.6876208386672505, -0.4396880008989103, 0.8766948555928455, 0.48993246404209895, 0.04486282746655476, 0.3311347774803122, 1.3444595160554034, 1.2292855329948622, -0.37737713594871525, -0.20849767131121968, 0.8803939015253044, 0.6916060145498991, -0.6001880277835497, -1.0400549304427917, 0.003272206458725557, -1.3528129854600308, -0.3469507174506524, -0.9140855889241825, 0.9577028104654609, -0.20396839758209903, -0.5635726556127097, -0.6292571060303892, -1.4412942860438325, -0.023173287497486254, 0.2867170728131295, 1.4891400934905492, 1.683467368370149, 0.0032825188849990358, -1.724488989643146, 0.3619017524142584, -1.086482992483747, 1.3030784312470234, 2.086086574606949, -0.9148799666797345, -2.53659794781672, 0.14790147153220412, 1.5081605357439327, 0.03172942631163809, -1.3844203538077873, 2.7317365325469214, 1.8435597585089694, -0.9235347978823618, -2.2293208131348097, 0.8302728483937458], \"y\": [-0.4380037600693329, 1.3856258480513495, -1.6439581318945904, 1.780163099731763, -0.06886238487724357, -0.3419320878039712, 1.7176474787692995, -3.0128342192986843, 1.268848134771191, 0.2448222463181939, 0.6832274431968387, 0.5900880475260439, -0.28351085192768744, 0.03951006673344334, 0.33378442318795754, 0.0036633902122219066, -1.0335621009028737, -1.4346287159598332, -0.7637090963596298, -0.49509070170442804, 0.7017553526944327, 1.0578719391875344, 0.7596212001824827, 0.8464267198538894, 0.5115456059271346, 1.4785023222198197, -2.1651187773032246, 1.0007144847757021, 0.7384916218488192, 0.26590612111690903, 1.956294281895234, -0.8617578488568759, 0.011053299902504497, 1.5429553670798497, 1.7290962461445358, -0.08249248371447555, -0.5315109256761953, -0.5644574743776344, 0.7402337629534262, -0.6086185725746197, 0.2187789432258602, -0.125717596041093, 0.20048527432005395, 2.731679171077915, -1.8603447004357492, 0.9554304810338209, -1.4103828466835837, 1.065950515655746, -1.236848826065617, -0.7318542012955099, 2.2934039074168857, -0.7557077880124786, 2.0115055050237043, 0.37154483900426716, -1.9242514925498644, 0.7925365130656604, -0.2819909724010163, -0.40942736078084324, -0.7623793634102329, 1.1645877433591125, -0.38777448037124174, -0.1723366430999955, 0.016858458282385105, 0.04213951346102748, -0.2200209199138018, 0.4556172925040396, 0.9847325399374394, 0.3486345501482719, 0.9407477147125772, -0.13776682864629283, 0.25163129965039865, 1.1259847998476251, -1.2270319722269811, -0.8076192569794358, -0.1342328858251307, 0.19426191413022975, -0.9440956952124823, -0.5819788729383728, -0.48095783847540297, -0.8869083142131824, -0.14477563692269194, 1.6866780586582282, 1.5258822957160807, -1.0275474178043047, -1.0323270449559678, 0.9102697897984027, -0.1566664582921049, 0.7704706110055723, -0.37923470972809126, 0.15897524427418847, -0.4839263654265887, -0.39319145215301765, 0.4437255355807462, -0.4350402940246013, 0.7316571164610378, -1.8887992487543999, 0.6035468169807476, 0.16115878831117503, 1.375156129392616, 0.5982663947397071]}],                        {\"legend\": {\"bgcolor\": \"#F5F6F9\", \"font\": {\"color\": \"#4D5663\"}}, \"paper_bgcolor\": \"#F5F6F9\", \"plot_bgcolor\": \"#F5F6F9\", \"template\": {\"data\": {\"bar\": [{\"error_x\": {\"color\": \"#2a3f5f\"}, \"error_y\": {\"color\": \"#2a3f5f\"}, \"marker\": {\"line\": {\"color\": \"#E5ECF6\", \"width\": 0.5}}, \"type\": \"bar\"}], \"barpolar\": [{\"marker\": {\"line\": {\"color\": \"#E5ECF6\", \"width\": 0.5}}, \"type\": \"barpolar\"}], \"carpet\": [{\"aaxis\": {\"endlinecolor\": \"#2a3f5f\", \"gridcolor\": \"white\", \"linecolor\": \"white\", \"minorgridcolor\": \"white\", \"startlinecolor\": \"#2a3f5f\"}, \"baxis\": {\"endlinecolor\": \"#2a3f5f\", \"gridcolor\": \"white\", \"linecolor\": \"white\", \"minorgridcolor\": \"white\", \"startlinecolor\": \"#2a3f5f\"}, \"type\": \"carpet\"}], \"choropleth\": [{\"colorbar\": {\"outlinewidth\": 0, \"ticks\": \"\"}, \"type\": \"choropleth\"}], \"contour\": [{\"colorbar\": {\"outlinewidth\": 0, \"ticks\": \"\"}, \"colorscale\": [[0.0, \"#0d0887\"], [0.1111111111111111, \"#46039f\"], [0.2222222222222222, \"#7201a8\"], [0.3333333333333333, \"#9c179e\"], [0.4444444444444444, \"#bd3786\"], [0.5555555555555556, \"#d8576b\"], [0.6666666666666666, \"#ed7953\"], [0.7777777777777778, \"#fb9f3a\"], [0.8888888888888888, \"#fdca26\"], [1.0, \"#f0f921\"]], \"type\": \"contour\"}], \"contourcarpet\": [{\"colorbar\": {\"outlinewidth\": 0, \"ticks\": \"\"}, \"type\": \"contourcarpet\"}], \"heatmap\": [{\"colorbar\": {\"outlinewidth\": 0, \"ticks\": \"\"}, \"colorscale\": [[0.0, \"#0d0887\"], [0.1111111111111111, \"#46039f\"], [0.2222222222222222, \"#7201a8\"], [0.3333333333333333, \"#9c179e\"], [0.4444444444444444, \"#bd3786\"], [0.5555555555555556, \"#d8576b\"], [0.6666666666666666, \"#ed7953\"], [0.7777777777777778, \"#fb9f3a\"], [0.8888888888888888, \"#fdca26\"], [1.0, \"#f0f921\"]], \"type\": \"heatmap\"}], \"heatmapgl\": [{\"colorbar\": {\"outlinewidth\": 0, \"ticks\": \"\"}, \"colorscale\": [[0.0, \"#0d0887\"], [0.1111111111111111, \"#46039f\"], [0.2222222222222222, \"#7201a8\"], [0.3333333333333333, \"#9c179e\"], [0.4444444444444444, \"#bd3786\"], [0.5555555555555556, \"#d8576b\"], [0.6666666666666666, \"#ed7953\"], [0.7777777777777778, \"#fb9f3a\"], [0.8888888888888888, \"#fdca26\"], [1.0, \"#f0f921\"]], \"type\": \"heatmapgl\"}], \"histogram\": [{\"marker\": {\"colorbar\": {\"outlinewidth\": 0, \"ticks\": \"\"}}, \"type\": \"histogram\"}], \"histogram2d\": [{\"colorbar\": {\"outlinewidth\": 0, \"ticks\": \"\"}, \"colorscale\": [[0.0, \"#0d0887\"], [0.1111111111111111, \"#46039f\"], [0.2222222222222222, \"#7201a8\"], [0.3333333333333333, \"#9c179e\"], [0.4444444444444444, \"#bd3786\"], [0.5555555555555556, \"#d8576b\"], [0.6666666666666666, \"#ed7953\"], [0.7777777777777778, \"#fb9f3a\"], [0.8888888888888888, \"#fdca26\"], [1.0, \"#f0f921\"]], \"type\": \"histogram2d\"}], \"histogram2dcontour\": [{\"colorbar\": {\"outlinewidth\": 0, \"ticks\": \"\"}, \"colorscale\": [[0.0, \"#0d0887\"], [0.1111111111111111, \"#46039f\"], [0.2222222222222222, \"#7201a8\"], [0.3333333333333333, \"#9c179e\"], [0.4444444444444444, \"#bd3786\"], [0.5555555555555556, \"#d8576b\"], [0.6666666666666666, \"#ed7953\"], [0.7777777777777778, \"#fb9f3a\"], [0.8888888888888888, \"#fdca26\"], [1.0, \"#f0f921\"]], \"type\": \"histogram2dcontour\"}], \"mesh3d\": [{\"colorbar\": {\"outlinewidth\": 0, \"ticks\": \"\"}, \"type\": \"mesh3d\"}], \"parcoords\": [{\"line\": {\"colorbar\": {\"outlinewidth\": 0, \"ticks\": \"\"}}, \"type\": \"parcoords\"}], \"pie\": [{\"automargin\": true, \"type\": \"pie\"}], \"scatter\": [{\"marker\": {\"colorbar\": {\"outlinewidth\": 0, \"ticks\": \"\"}}, \"type\": \"scatter\"}], \"scatter3d\": [{\"line\": {\"colorbar\": {\"outlinewidth\": 0, \"ticks\": \"\"}}, \"marker\": {\"colorbar\": {\"outlinewidth\": 0, \"ticks\": \"\"}}, \"type\": \"scatter3d\"}], \"scattercarpet\": [{\"marker\": {\"colorbar\": {\"outlinewidth\": 0, \"ticks\": \"\"}}, \"type\": \"scattercarpet\"}], \"scattergeo\": [{\"marker\": {\"colorbar\": {\"outlinewidth\": 0, \"ticks\": \"\"}}, \"type\": \"scattergeo\"}], \"scattergl\": [{\"marker\": {\"colorbar\": {\"outlinewidth\": 0, \"ticks\": \"\"}}, \"type\": \"scattergl\"}], \"scattermapbox\": [{\"marker\": {\"colorbar\": {\"outlinewidth\": 0, \"ticks\": \"\"}}, \"type\": \"scattermapbox\"}], \"scatterpolar\": [{\"marker\": {\"colorbar\": {\"outlinewidth\": 0, \"ticks\": \"\"}}, \"type\": \"scatterpolar\"}], \"scatterpolargl\": [{\"marker\": {\"colorbar\": {\"outlinewidth\": 0, \"ticks\": \"\"}}, \"type\": \"scatterpolargl\"}], \"scatterternary\": [{\"marker\": {\"colorbar\": {\"outlinewidth\": 0, \"ticks\": \"\"}}, \"type\": \"scatterternary\"}], \"surface\": [{\"colorbar\": {\"outlinewidth\": 0, \"ticks\": \"\"}, \"colorscale\": [[0.0, \"#0d0887\"], [0.1111111111111111, \"#46039f\"], [0.2222222222222222, \"#7201a8\"], [0.3333333333333333, \"#9c179e\"], [0.4444444444444444, \"#bd3786\"], [0.5555555555555556, \"#d8576b\"], [0.6666666666666666, \"#ed7953\"], [0.7777777777777778, \"#fb9f3a\"], [0.8888888888888888, \"#fdca26\"], [1.0, \"#f0f921\"]], \"type\": \"surface\"}], \"table\": [{\"cells\": {\"fill\": {\"color\": \"#EBF0F8\"}, \"line\": {\"color\": \"white\"}}, \"header\": {\"fill\": {\"color\": \"#C8D4E3\"}, \"line\": {\"color\": \"white\"}}, \"type\": \"table\"}]}, \"layout\": {\"annotationdefaults\": {\"arrowcolor\": \"#2a3f5f\", \"arrowhead\": 0, \"arrowwidth\": 1}, \"autotypenumbers\": \"strict\", \"coloraxis\": {\"colorbar\": {\"outlinewidth\": 0, \"ticks\": \"\"}}, \"colorscale\": {\"diverging\": [[0, \"#8e0152\"], [0.1, \"#c51b7d\"], [0.2, \"#de77ae\"], [0.3, \"#f1b6da\"], [0.4, \"#fde0ef\"], [0.5, \"#f7f7f7\"], [0.6, \"#e6f5d0\"], [0.7, \"#b8e186\"], [0.8, \"#7fbc41\"], [0.9, \"#4d9221\"], [1, \"#276419\"]], \"sequential\": [[0.0, \"#0d0887\"], [0.1111111111111111, \"#46039f\"], [0.2222222222222222, \"#7201a8\"], [0.3333333333333333, \"#9c179e\"], [0.4444444444444444, \"#bd3786\"], [0.5555555555555556, \"#d8576b\"], [0.6666666666666666, \"#ed7953\"], [0.7777777777777778, \"#fb9f3a\"], [0.8888888888888888, \"#fdca26\"], [1.0, \"#f0f921\"]], \"sequentialminus\": [[0.0, \"#0d0887\"], [0.1111111111111111, \"#46039f\"], [0.2222222222222222, \"#7201a8\"], [0.3333333333333333, \"#9c179e\"], [0.4444444444444444, \"#bd3786\"], [0.5555555555555556, \"#d8576b\"], [0.6666666666666666, \"#ed7953\"], [0.7777777777777778, \"#fb9f3a\"], [0.8888888888888888, \"#fdca26\"], [1.0, \"#f0f921\"]]}, \"colorway\": [\"#636efa\", \"#EF553B\", \"#00cc96\", \"#ab63fa\", \"#FFA15A\", \"#19d3f3\", \"#FF6692\", \"#B6E880\", \"#FF97FF\", \"#FECB52\"], \"font\": {\"color\": \"#2a3f5f\"}, \"geo\": {\"bgcolor\": \"white\", \"lakecolor\": \"white\", \"landcolor\": \"#E5ECF6\", \"showlakes\": true, \"showland\": true, \"subunitcolor\": \"white\"}, \"hoverlabel\": {\"align\": \"left\"}, \"hovermode\": \"closest\", \"mapbox\": {\"style\": \"light\"}, \"paper_bgcolor\": \"white\", \"plot_bgcolor\": \"#E5ECF6\", \"polar\": {\"angularaxis\": {\"gridcolor\": \"white\", \"linecolor\": \"white\", \"ticks\": \"\"}, \"bgcolor\": \"#E5ECF6\", \"radialaxis\": {\"gridcolor\": \"white\", \"linecolor\": \"white\", \"ticks\": \"\"}}, \"scene\": {\"xaxis\": {\"backgroundcolor\": \"#E5ECF6\", \"gridcolor\": \"white\", \"gridwidth\": 2, \"linecolor\": \"white\", \"showbackground\": true, \"ticks\": \"\", \"zerolinecolor\": \"white\"}, \"yaxis\": {\"backgroundcolor\": \"#E5ECF6\", \"gridcolor\": \"white\", \"gridwidth\": 2, \"linecolor\": \"white\", \"showbackground\": true, \"ticks\": \"\", \"zerolinecolor\": \"white\"}, \"zaxis\": {\"backgroundcolor\": \"#E5ECF6\", \"gridcolor\": \"white\", \"gridwidth\": 2, \"linecolor\": \"white\", \"showbackground\": true, \"ticks\": \"\", \"zerolinecolor\": \"white\"}}, \"shapedefaults\": {\"line\": {\"color\": \"#2a3f5f\"}}, \"ternary\": {\"aaxis\": {\"gridcolor\": \"white\", \"linecolor\": \"white\", \"ticks\": \"\"}, \"baxis\": {\"gridcolor\": \"white\", \"linecolor\": \"white\", \"ticks\": \"\"}, \"bgcolor\": \"#E5ECF6\", \"caxis\": {\"gridcolor\": \"white\", \"linecolor\": \"white\", \"ticks\": \"\"}}, \"title\": {\"x\": 0.05}, \"xaxis\": {\"automargin\": true, \"gridcolor\": \"white\", \"linecolor\": \"white\", \"ticks\": \"\", \"title\": {\"standoff\": 15}, \"zerolinecolor\": \"white\", \"zerolinewidth\": 2}, \"yaxis\": {\"automargin\": true, \"gridcolor\": \"white\", \"linecolor\": \"white\", \"ticks\": \"\", \"title\": {\"standoff\": 15}, \"zerolinecolor\": \"white\", \"zerolinewidth\": 2}}}, \"title\": {\"font\": {\"color\": \"#4D5663\"}}, \"xaxis\": {\"gridcolor\": \"#E1E5ED\", \"showgrid\": true, \"tickfont\": {\"color\": \"#4D5663\"}, \"title\": {\"font\": {\"color\": \"#4D5663\"}, \"text\": \"\"}, \"zerolinecolor\": \"#E1E5ED\"}, \"yaxis\": {\"gridcolor\": \"#E1E5ED\", \"showgrid\": true, \"tickfont\": {\"color\": \"#4D5663\"}, \"title\": {\"font\": {\"color\": \"#4D5663\"}, \"text\": \"\"}, \"zerolinecolor\": \"#E1E5ED\"}},                        {\"showLink\": true, \"linkText\": \"Export to plot.ly\", \"plotlyServerURL\": \"https://plot.ly\", \"responsive\": true}                    ).then(function(){\n",
       "                            \n",
       "var gd = document.getElementById('fb92e5d7-b32a-4f41-9941-5d358daf8f97');\n",
       "var x = new MutationObserver(function (mutations, observer) {{\n",
       "        var display = window.getComputedStyle(gd).display;\n",
       "        if (!display || display === 'none') {{\n",
       "            console.log([gd, 'removed!']);\n",
       "            Plotly.purge(gd);\n",
       "            observer.disconnect();\n",
       "        }}\n",
       "}});\n",
       "\n",
       "// Listen for the removal of the full notebook cells\n",
       "var notebookContainer = gd.closest('#notebook-container');\n",
       "if (notebookContainer) {{\n",
       "    x.observe(notebookContainer, {childList: true});\n",
       "}}\n",
       "\n",
       "// Listen for the clearing of the current output cell\n",
       "var outputEl = gd.closest('.output');\n",
       "if (outputEl) {{\n",
       "    x.observe(outputEl, {childList: true});\n",
       "}}\n",
       "\n",
       "                        })                };                });            </script>        </div>"
      ]
     },
     "metadata": {},
     "output_type": "display_data"
    }
   ],
   "source": [
    "df.iplot(kind='scatter', x='A', y='B', mode='markers', size=10, color='blue')"
   ]
  },
  {
   "cell_type": "code",
   "execution_count": null,
   "metadata": {},
   "outputs": [],
   "source": []
  },
  {
   "cell_type": "code",
   "execution_count": 33,
   "metadata": {},
   "outputs": [
    {
     "data": {
      "text/html": [
       "<div>\n",
       "<style scoped>\n",
       "    .dataframe tbody tr th:only-of-type {\n",
       "        vertical-align: middle;\n",
       "    }\n",
       "\n",
       "    .dataframe tbody tr th {\n",
       "        vertical-align: top;\n",
       "    }\n",
       "\n",
       "    .dataframe thead th {\n",
       "        text-align: right;\n",
       "    }\n",
       "</style>\n",
       "<table border=\"1\" class=\"dataframe\">\n",
       "  <thead>\n",
       "    <tr style=\"text-align: right;\">\n",
       "      <th></th>\n",
       "      <th>Category</th>\n",
       "      <th>Values</th>\n",
       "    </tr>\n",
       "  </thead>\n",
       "  <tbody>\n",
       "    <tr>\n",
       "      <th>0</th>\n",
       "      <td>A</td>\n",
       "      <td>29</td>\n",
       "    </tr>\n",
       "    <tr>\n",
       "      <th>1</th>\n",
       "      <td>B</td>\n",
       "      <td>48</td>\n",
       "    </tr>\n",
       "    <tr>\n",
       "      <th>2</th>\n",
       "      <td>C</td>\n",
       "      <td>63</td>\n",
       "    </tr>\n",
       "  </tbody>\n",
       "</table>\n",
       "</div>"
      ],
      "text/plain": [
       "  Category  Values\n",
       "0        A      29\n",
       "1        B      48\n",
       "2        C      63"
      ]
     },
     "execution_count": 33,
     "metadata": {},
     "output_type": "execute_result"
    }
   ],
   "source": [
    "df2"
   ]
  },
  {
   "cell_type": "code",
   "execution_count": 34,
   "metadata": {},
   "outputs": [
    {
     "data": {
      "application/vnd.plotly.v1+json": {
       "config": {
        "linkText": "Export to plot.ly",
        "plotlyServerURL": "https://plot.ly",
        "showLink": true
       },
       "data": [
        {
         "marker": {
          "color": "rgba(255, 153, 51, 0.6)",
          "line": {
           "color": "rgba(255, 153, 51, 1.0)",
           "width": 1
          }
         },
         "name": "Values",
         "orientation": "v",
         "text": "",
         "type": "bar",
         "x": [
          "A",
          "B",
          "C"
         ],
         "y": [
          29,
          48,
          63
         ]
        }
       ],
       "layout": {
        "legend": {
         "bgcolor": "#F5F6F9",
         "font": {
          "color": "#4D5663"
         }
        },
        "paper_bgcolor": "#F5F6F9",
        "plot_bgcolor": "#F5F6F9",
        "template": {
         "data": {
          "bar": [
           {
            "error_x": {
             "color": "#2a3f5f"
            },
            "error_y": {
             "color": "#2a3f5f"
            },
            "marker": {
             "line": {
              "color": "#E5ECF6",
              "width": 0.5
             }
            },
            "type": "bar"
           }
          ],
          "barpolar": [
           {
            "marker": {
             "line": {
              "color": "#E5ECF6",
              "width": 0.5
             }
            },
            "type": "barpolar"
           }
          ],
          "carpet": [
           {
            "aaxis": {
             "endlinecolor": "#2a3f5f",
             "gridcolor": "white",
             "linecolor": "white",
             "minorgridcolor": "white",
             "startlinecolor": "#2a3f5f"
            },
            "baxis": {
             "endlinecolor": "#2a3f5f",
             "gridcolor": "white",
             "linecolor": "white",
             "minorgridcolor": "white",
             "startlinecolor": "#2a3f5f"
            },
            "type": "carpet"
           }
          ],
          "choropleth": [
           {
            "colorbar": {
             "outlinewidth": 0,
             "ticks": ""
            },
            "type": "choropleth"
           }
          ],
          "contour": [
           {
            "colorbar": {
             "outlinewidth": 0,
             "ticks": ""
            },
            "colorscale": [
             [
              0,
              "#0d0887"
             ],
             [
              0.1111111111111111,
              "#46039f"
             ],
             [
              0.2222222222222222,
              "#7201a8"
             ],
             [
              0.3333333333333333,
              "#9c179e"
             ],
             [
              0.4444444444444444,
              "#bd3786"
             ],
             [
              0.5555555555555556,
              "#d8576b"
             ],
             [
              0.6666666666666666,
              "#ed7953"
             ],
             [
              0.7777777777777778,
              "#fb9f3a"
             ],
             [
              0.8888888888888888,
              "#fdca26"
             ],
             [
              1,
              "#f0f921"
             ]
            ],
            "type": "contour"
           }
          ],
          "contourcarpet": [
           {
            "colorbar": {
             "outlinewidth": 0,
             "ticks": ""
            },
            "type": "contourcarpet"
           }
          ],
          "heatmap": [
           {
            "colorbar": {
             "outlinewidth": 0,
             "ticks": ""
            },
            "colorscale": [
             [
              0,
              "#0d0887"
             ],
             [
              0.1111111111111111,
              "#46039f"
             ],
             [
              0.2222222222222222,
              "#7201a8"
             ],
             [
              0.3333333333333333,
              "#9c179e"
             ],
             [
              0.4444444444444444,
              "#bd3786"
             ],
             [
              0.5555555555555556,
              "#d8576b"
             ],
             [
              0.6666666666666666,
              "#ed7953"
             ],
             [
              0.7777777777777778,
              "#fb9f3a"
             ],
             [
              0.8888888888888888,
              "#fdca26"
             ],
             [
              1,
              "#f0f921"
             ]
            ],
            "type": "heatmap"
           }
          ],
          "heatmapgl": [
           {
            "colorbar": {
             "outlinewidth": 0,
             "ticks": ""
            },
            "colorscale": [
             [
              0,
              "#0d0887"
             ],
             [
              0.1111111111111111,
              "#46039f"
             ],
             [
              0.2222222222222222,
              "#7201a8"
             ],
             [
              0.3333333333333333,
              "#9c179e"
             ],
             [
              0.4444444444444444,
              "#bd3786"
             ],
             [
              0.5555555555555556,
              "#d8576b"
             ],
             [
              0.6666666666666666,
              "#ed7953"
             ],
             [
              0.7777777777777778,
              "#fb9f3a"
             ],
             [
              0.8888888888888888,
              "#fdca26"
             ],
             [
              1,
              "#f0f921"
             ]
            ],
            "type": "heatmapgl"
           }
          ],
          "histogram": [
           {
            "marker": {
             "colorbar": {
              "outlinewidth": 0,
              "ticks": ""
             }
            },
            "type": "histogram"
           }
          ],
          "histogram2d": [
           {
            "colorbar": {
             "outlinewidth": 0,
             "ticks": ""
            },
            "colorscale": [
             [
              0,
              "#0d0887"
             ],
             [
              0.1111111111111111,
              "#46039f"
             ],
             [
              0.2222222222222222,
              "#7201a8"
             ],
             [
              0.3333333333333333,
              "#9c179e"
             ],
             [
              0.4444444444444444,
              "#bd3786"
             ],
             [
              0.5555555555555556,
              "#d8576b"
             ],
             [
              0.6666666666666666,
              "#ed7953"
             ],
             [
              0.7777777777777778,
              "#fb9f3a"
             ],
             [
              0.8888888888888888,
              "#fdca26"
             ],
             [
              1,
              "#f0f921"
             ]
            ],
            "type": "histogram2d"
           }
          ],
          "histogram2dcontour": [
           {
            "colorbar": {
             "outlinewidth": 0,
             "ticks": ""
            },
            "colorscale": [
             [
              0,
              "#0d0887"
             ],
             [
              0.1111111111111111,
              "#46039f"
             ],
             [
              0.2222222222222222,
              "#7201a8"
             ],
             [
              0.3333333333333333,
              "#9c179e"
             ],
             [
              0.4444444444444444,
              "#bd3786"
             ],
             [
              0.5555555555555556,
              "#d8576b"
             ],
             [
              0.6666666666666666,
              "#ed7953"
             ],
             [
              0.7777777777777778,
              "#fb9f3a"
             ],
             [
              0.8888888888888888,
              "#fdca26"
             ],
             [
              1,
              "#f0f921"
             ]
            ],
            "type": "histogram2dcontour"
           }
          ],
          "mesh3d": [
           {
            "colorbar": {
             "outlinewidth": 0,
             "ticks": ""
            },
            "type": "mesh3d"
           }
          ],
          "parcoords": [
           {
            "line": {
             "colorbar": {
              "outlinewidth": 0,
              "ticks": ""
             }
            },
            "type": "parcoords"
           }
          ],
          "pie": [
           {
            "automargin": true,
            "type": "pie"
           }
          ],
          "scatter": [
           {
            "marker": {
             "colorbar": {
              "outlinewidth": 0,
              "ticks": ""
             }
            },
            "type": "scatter"
           }
          ],
          "scatter3d": [
           {
            "line": {
             "colorbar": {
              "outlinewidth": 0,
              "ticks": ""
             }
            },
            "marker": {
             "colorbar": {
              "outlinewidth": 0,
              "ticks": ""
             }
            },
            "type": "scatter3d"
           }
          ],
          "scattercarpet": [
           {
            "marker": {
             "colorbar": {
              "outlinewidth": 0,
              "ticks": ""
             }
            },
            "type": "scattercarpet"
           }
          ],
          "scattergeo": [
           {
            "marker": {
             "colorbar": {
              "outlinewidth": 0,
              "ticks": ""
             }
            },
            "type": "scattergeo"
           }
          ],
          "scattergl": [
           {
            "marker": {
             "colorbar": {
              "outlinewidth": 0,
              "ticks": ""
             }
            },
            "type": "scattergl"
           }
          ],
          "scattermapbox": [
           {
            "marker": {
             "colorbar": {
              "outlinewidth": 0,
              "ticks": ""
             }
            },
            "type": "scattermapbox"
           }
          ],
          "scatterpolar": [
           {
            "marker": {
             "colorbar": {
              "outlinewidth": 0,
              "ticks": ""
             }
            },
            "type": "scatterpolar"
           }
          ],
          "scatterpolargl": [
           {
            "marker": {
             "colorbar": {
              "outlinewidth": 0,
              "ticks": ""
             }
            },
            "type": "scatterpolargl"
           }
          ],
          "scatterternary": [
           {
            "marker": {
             "colorbar": {
              "outlinewidth": 0,
              "ticks": ""
             }
            },
            "type": "scatterternary"
           }
          ],
          "surface": [
           {
            "colorbar": {
             "outlinewidth": 0,
             "ticks": ""
            },
            "colorscale": [
             [
              0,
              "#0d0887"
             ],
             [
              0.1111111111111111,
              "#46039f"
             ],
             [
              0.2222222222222222,
              "#7201a8"
             ],
             [
              0.3333333333333333,
              "#9c179e"
             ],
             [
              0.4444444444444444,
              "#bd3786"
             ],
             [
              0.5555555555555556,
              "#d8576b"
             ],
             [
              0.6666666666666666,
              "#ed7953"
             ],
             [
              0.7777777777777778,
              "#fb9f3a"
             ],
             [
              0.8888888888888888,
              "#fdca26"
             ],
             [
              1,
              "#f0f921"
             ]
            ],
            "type": "surface"
           }
          ],
          "table": [
           {
            "cells": {
             "fill": {
              "color": "#EBF0F8"
             },
             "line": {
              "color": "white"
             }
            },
            "header": {
             "fill": {
              "color": "#C8D4E3"
             },
             "line": {
              "color": "white"
             }
            },
            "type": "table"
           }
          ]
         },
         "layout": {
          "annotationdefaults": {
           "arrowcolor": "#2a3f5f",
           "arrowhead": 0,
           "arrowwidth": 1
          },
          "autotypenumbers": "strict",
          "coloraxis": {
           "colorbar": {
            "outlinewidth": 0,
            "ticks": ""
           }
          },
          "colorscale": {
           "diverging": [
            [
             0,
             "#8e0152"
            ],
            [
             0.1,
             "#c51b7d"
            ],
            [
             0.2,
             "#de77ae"
            ],
            [
             0.3,
             "#f1b6da"
            ],
            [
             0.4,
             "#fde0ef"
            ],
            [
             0.5,
             "#f7f7f7"
            ],
            [
             0.6,
             "#e6f5d0"
            ],
            [
             0.7,
             "#b8e186"
            ],
            [
             0.8,
             "#7fbc41"
            ],
            [
             0.9,
             "#4d9221"
            ],
            [
             1,
             "#276419"
            ]
           ],
           "sequential": [
            [
             0,
             "#0d0887"
            ],
            [
             0.1111111111111111,
             "#46039f"
            ],
            [
             0.2222222222222222,
             "#7201a8"
            ],
            [
             0.3333333333333333,
             "#9c179e"
            ],
            [
             0.4444444444444444,
             "#bd3786"
            ],
            [
             0.5555555555555556,
             "#d8576b"
            ],
            [
             0.6666666666666666,
             "#ed7953"
            ],
            [
             0.7777777777777778,
             "#fb9f3a"
            ],
            [
             0.8888888888888888,
             "#fdca26"
            ],
            [
             1,
             "#f0f921"
            ]
           ],
           "sequentialminus": [
            [
             0,
             "#0d0887"
            ],
            [
             0.1111111111111111,
             "#46039f"
            ],
            [
             0.2222222222222222,
             "#7201a8"
            ],
            [
             0.3333333333333333,
             "#9c179e"
            ],
            [
             0.4444444444444444,
             "#bd3786"
            ],
            [
             0.5555555555555556,
             "#d8576b"
            ],
            [
             0.6666666666666666,
             "#ed7953"
            ],
            [
             0.7777777777777778,
             "#fb9f3a"
            ],
            [
             0.8888888888888888,
             "#fdca26"
            ],
            [
             1,
             "#f0f921"
            ]
           ]
          },
          "colorway": [
           "#636efa",
           "#EF553B",
           "#00cc96",
           "#ab63fa",
           "#FFA15A",
           "#19d3f3",
           "#FF6692",
           "#B6E880",
           "#FF97FF",
           "#FECB52"
          ],
          "font": {
           "color": "#2a3f5f"
          },
          "geo": {
           "bgcolor": "white",
           "lakecolor": "white",
           "landcolor": "#E5ECF6",
           "showlakes": true,
           "showland": true,
           "subunitcolor": "white"
          },
          "hoverlabel": {
           "align": "left"
          },
          "hovermode": "closest",
          "mapbox": {
           "style": "light"
          },
          "paper_bgcolor": "white",
          "plot_bgcolor": "#E5ECF6",
          "polar": {
           "angularaxis": {
            "gridcolor": "white",
            "linecolor": "white",
            "ticks": ""
           },
           "bgcolor": "#E5ECF6",
           "radialaxis": {
            "gridcolor": "white",
            "linecolor": "white",
            "ticks": ""
           }
          },
          "scene": {
           "xaxis": {
            "backgroundcolor": "#E5ECF6",
            "gridcolor": "white",
            "gridwidth": 2,
            "linecolor": "white",
            "showbackground": true,
            "ticks": "",
            "zerolinecolor": "white"
           },
           "yaxis": {
            "backgroundcolor": "#E5ECF6",
            "gridcolor": "white",
            "gridwidth": 2,
            "linecolor": "white",
            "showbackground": true,
            "ticks": "",
            "zerolinecolor": "white"
           },
           "zaxis": {
            "backgroundcolor": "#E5ECF6",
            "gridcolor": "white",
            "gridwidth": 2,
            "linecolor": "white",
            "showbackground": true,
            "ticks": "",
            "zerolinecolor": "white"
           }
          },
          "shapedefaults": {
           "line": {
            "color": "#2a3f5f"
           }
          },
          "ternary": {
           "aaxis": {
            "gridcolor": "white",
            "linecolor": "white",
            "ticks": ""
           },
           "baxis": {
            "gridcolor": "white",
            "linecolor": "white",
            "ticks": ""
           },
           "bgcolor": "#E5ECF6",
           "caxis": {
            "gridcolor": "white",
            "linecolor": "white",
            "ticks": ""
           }
          },
          "title": {
           "x": 0.05
          },
          "xaxis": {
           "automargin": true,
           "gridcolor": "white",
           "linecolor": "white",
           "ticks": "",
           "title": {
            "standoff": 15
           },
           "zerolinecolor": "white",
           "zerolinewidth": 2
          },
          "yaxis": {
           "automargin": true,
           "gridcolor": "white",
           "linecolor": "white",
           "ticks": "",
           "title": {
            "standoff": 15
           },
           "zerolinecolor": "white",
           "zerolinewidth": 2
          }
         }
        },
        "title": {
         "font": {
          "color": "#4D5663"
         }
        },
        "xaxis": {
         "gridcolor": "#E1E5ED",
         "showgrid": true,
         "tickfont": {
          "color": "#4D5663"
         },
         "title": {
          "font": {
           "color": "#4D5663"
          },
          "text": ""
         },
         "zerolinecolor": "#E1E5ED"
        },
        "yaxis": {
         "gridcolor": "#E1E5ED",
         "showgrid": true,
         "tickfont": {
          "color": "#4D5663"
         },
         "title": {
          "font": {
           "color": "#4D5663"
          },
          "text": ""
         },
         "zerolinecolor": "#E1E5ED"
        }
       }
      },
      "text/html": [
       "<div>                            <div id=\"2df8a637-b627-4826-a6c0-6b292f58d7f5\" class=\"plotly-graph-div\" style=\"height:525px; width:100%;\"></div>            <script type=\"text/javascript\">                require([\"plotly\"], function(Plotly) {                    window.PLOTLYENV=window.PLOTLYENV || {};\n",
       "                    window.PLOTLYENV.BASE_URL='https://plot.ly';                                    if (document.getElementById(\"2df8a637-b627-4826-a6c0-6b292f58d7f5\")) {                    Plotly.newPlot(                        \"2df8a637-b627-4826-a6c0-6b292f58d7f5\",                        [{\"marker\": {\"color\": \"rgba(255, 153, 51, 0.6)\", \"line\": {\"color\": \"rgba(255, 153, 51, 1.0)\", \"width\": 1}}, \"name\": \"Values\", \"orientation\": \"v\", \"text\": \"\", \"type\": \"bar\", \"x\": [\"A\", \"B\", \"C\"], \"y\": [29, 48, 63]}],                        {\"legend\": {\"bgcolor\": \"#F5F6F9\", \"font\": {\"color\": \"#4D5663\"}}, \"paper_bgcolor\": \"#F5F6F9\", \"plot_bgcolor\": \"#F5F6F9\", \"template\": {\"data\": {\"bar\": [{\"error_x\": {\"color\": \"#2a3f5f\"}, \"error_y\": {\"color\": \"#2a3f5f\"}, \"marker\": {\"line\": {\"color\": \"#E5ECF6\", \"width\": 0.5}}, \"type\": \"bar\"}], \"barpolar\": [{\"marker\": {\"line\": {\"color\": \"#E5ECF6\", \"width\": 0.5}}, \"type\": \"barpolar\"}], \"carpet\": [{\"aaxis\": {\"endlinecolor\": \"#2a3f5f\", \"gridcolor\": \"white\", \"linecolor\": \"white\", \"minorgridcolor\": \"white\", \"startlinecolor\": \"#2a3f5f\"}, \"baxis\": {\"endlinecolor\": \"#2a3f5f\", \"gridcolor\": \"white\", \"linecolor\": \"white\", \"minorgridcolor\": \"white\", \"startlinecolor\": \"#2a3f5f\"}, \"type\": \"carpet\"}], \"choropleth\": [{\"colorbar\": {\"outlinewidth\": 0, \"ticks\": \"\"}, \"type\": \"choropleth\"}], \"contour\": [{\"colorbar\": {\"outlinewidth\": 0, \"ticks\": \"\"}, \"colorscale\": [[0.0, \"#0d0887\"], [0.1111111111111111, \"#46039f\"], [0.2222222222222222, \"#7201a8\"], [0.3333333333333333, \"#9c179e\"], [0.4444444444444444, \"#bd3786\"], [0.5555555555555556, \"#d8576b\"], [0.6666666666666666, \"#ed7953\"], [0.7777777777777778, \"#fb9f3a\"], [0.8888888888888888, \"#fdca26\"], [1.0, \"#f0f921\"]], \"type\": \"contour\"}], \"contourcarpet\": [{\"colorbar\": {\"outlinewidth\": 0, \"ticks\": \"\"}, \"type\": \"contourcarpet\"}], \"heatmap\": [{\"colorbar\": {\"outlinewidth\": 0, \"ticks\": \"\"}, \"colorscale\": [[0.0, \"#0d0887\"], [0.1111111111111111, \"#46039f\"], [0.2222222222222222, \"#7201a8\"], [0.3333333333333333, \"#9c179e\"], [0.4444444444444444, \"#bd3786\"], [0.5555555555555556, \"#d8576b\"], [0.6666666666666666, \"#ed7953\"], [0.7777777777777778, \"#fb9f3a\"], [0.8888888888888888, \"#fdca26\"], [1.0, \"#f0f921\"]], \"type\": \"heatmap\"}], \"heatmapgl\": [{\"colorbar\": {\"outlinewidth\": 0, \"ticks\": \"\"}, \"colorscale\": [[0.0, \"#0d0887\"], [0.1111111111111111, \"#46039f\"], [0.2222222222222222, \"#7201a8\"], [0.3333333333333333, \"#9c179e\"], [0.4444444444444444, \"#bd3786\"], [0.5555555555555556, \"#d8576b\"], [0.6666666666666666, \"#ed7953\"], [0.7777777777777778, \"#fb9f3a\"], [0.8888888888888888, \"#fdca26\"], [1.0, \"#f0f921\"]], \"type\": \"heatmapgl\"}], \"histogram\": [{\"marker\": {\"colorbar\": {\"outlinewidth\": 0, \"ticks\": \"\"}}, \"type\": \"histogram\"}], \"histogram2d\": [{\"colorbar\": {\"outlinewidth\": 0, \"ticks\": \"\"}, \"colorscale\": [[0.0, \"#0d0887\"], [0.1111111111111111, \"#46039f\"], [0.2222222222222222, \"#7201a8\"], [0.3333333333333333, \"#9c179e\"], [0.4444444444444444, \"#bd3786\"], [0.5555555555555556, \"#d8576b\"], [0.6666666666666666, \"#ed7953\"], [0.7777777777777778, \"#fb9f3a\"], [0.8888888888888888, \"#fdca26\"], [1.0, \"#f0f921\"]], \"type\": \"histogram2d\"}], \"histogram2dcontour\": [{\"colorbar\": {\"outlinewidth\": 0, \"ticks\": \"\"}, \"colorscale\": [[0.0, \"#0d0887\"], [0.1111111111111111, \"#46039f\"], [0.2222222222222222, \"#7201a8\"], [0.3333333333333333, \"#9c179e\"], [0.4444444444444444, \"#bd3786\"], [0.5555555555555556, \"#d8576b\"], [0.6666666666666666, \"#ed7953\"], [0.7777777777777778, \"#fb9f3a\"], [0.8888888888888888, \"#fdca26\"], [1.0, \"#f0f921\"]], \"type\": \"histogram2dcontour\"}], \"mesh3d\": [{\"colorbar\": {\"outlinewidth\": 0, \"ticks\": \"\"}, \"type\": \"mesh3d\"}], \"parcoords\": [{\"line\": {\"colorbar\": {\"outlinewidth\": 0, \"ticks\": \"\"}}, \"type\": \"parcoords\"}], \"pie\": [{\"automargin\": true, \"type\": \"pie\"}], \"scatter\": [{\"marker\": {\"colorbar\": {\"outlinewidth\": 0, \"ticks\": \"\"}}, \"type\": \"scatter\"}], \"scatter3d\": [{\"line\": {\"colorbar\": {\"outlinewidth\": 0, \"ticks\": \"\"}}, \"marker\": {\"colorbar\": {\"outlinewidth\": 0, \"ticks\": \"\"}}, \"type\": \"scatter3d\"}], \"scattercarpet\": [{\"marker\": {\"colorbar\": {\"outlinewidth\": 0, \"ticks\": \"\"}}, \"type\": \"scattercarpet\"}], \"scattergeo\": [{\"marker\": {\"colorbar\": {\"outlinewidth\": 0, \"ticks\": \"\"}}, \"type\": \"scattergeo\"}], \"scattergl\": [{\"marker\": {\"colorbar\": {\"outlinewidth\": 0, \"ticks\": \"\"}}, \"type\": \"scattergl\"}], \"scattermapbox\": [{\"marker\": {\"colorbar\": {\"outlinewidth\": 0, \"ticks\": \"\"}}, \"type\": \"scattermapbox\"}], \"scatterpolar\": [{\"marker\": {\"colorbar\": {\"outlinewidth\": 0, \"ticks\": \"\"}}, \"type\": \"scatterpolar\"}], \"scatterpolargl\": [{\"marker\": {\"colorbar\": {\"outlinewidth\": 0, \"ticks\": \"\"}}, \"type\": \"scatterpolargl\"}], \"scatterternary\": [{\"marker\": {\"colorbar\": {\"outlinewidth\": 0, \"ticks\": \"\"}}, \"type\": \"scatterternary\"}], \"surface\": [{\"colorbar\": {\"outlinewidth\": 0, \"ticks\": \"\"}, \"colorscale\": [[0.0, \"#0d0887\"], [0.1111111111111111, \"#46039f\"], [0.2222222222222222, \"#7201a8\"], [0.3333333333333333, \"#9c179e\"], [0.4444444444444444, \"#bd3786\"], [0.5555555555555556, \"#d8576b\"], [0.6666666666666666, \"#ed7953\"], [0.7777777777777778, \"#fb9f3a\"], [0.8888888888888888, \"#fdca26\"], [1.0, \"#f0f921\"]], \"type\": \"surface\"}], \"table\": [{\"cells\": {\"fill\": {\"color\": \"#EBF0F8\"}, \"line\": {\"color\": \"white\"}}, \"header\": {\"fill\": {\"color\": \"#C8D4E3\"}, \"line\": {\"color\": \"white\"}}, \"type\": \"table\"}]}, \"layout\": {\"annotationdefaults\": {\"arrowcolor\": \"#2a3f5f\", \"arrowhead\": 0, \"arrowwidth\": 1}, \"autotypenumbers\": \"strict\", \"coloraxis\": {\"colorbar\": {\"outlinewidth\": 0, \"ticks\": \"\"}}, \"colorscale\": {\"diverging\": [[0, \"#8e0152\"], [0.1, \"#c51b7d\"], [0.2, \"#de77ae\"], [0.3, \"#f1b6da\"], [0.4, \"#fde0ef\"], [0.5, \"#f7f7f7\"], [0.6, \"#e6f5d0\"], [0.7, \"#b8e186\"], [0.8, \"#7fbc41\"], [0.9, \"#4d9221\"], [1, \"#276419\"]], \"sequential\": [[0.0, \"#0d0887\"], [0.1111111111111111, \"#46039f\"], [0.2222222222222222, \"#7201a8\"], [0.3333333333333333, \"#9c179e\"], [0.4444444444444444, \"#bd3786\"], [0.5555555555555556, \"#d8576b\"], [0.6666666666666666, \"#ed7953\"], [0.7777777777777778, \"#fb9f3a\"], [0.8888888888888888, \"#fdca26\"], [1.0, \"#f0f921\"]], \"sequentialminus\": [[0.0, \"#0d0887\"], [0.1111111111111111, \"#46039f\"], [0.2222222222222222, \"#7201a8\"], [0.3333333333333333, \"#9c179e\"], [0.4444444444444444, \"#bd3786\"], [0.5555555555555556, \"#d8576b\"], [0.6666666666666666, \"#ed7953\"], [0.7777777777777778, \"#fb9f3a\"], [0.8888888888888888, \"#fdca26\"], [1.0, \"#f0f921\"]]}, \"colorway\": [\"#636efa\", \"#EF553B\", \"#00cc96\", \"#ab63fa\", \"#FFA15A\", \"#19d3f3\", \"#FF6692\", \"#B6E880\", \"#FF97FF\", \"#FECB52\"], \"font\": {\"color\": \"#2a3f5f\"}, \"geo\": {\"bgcolor\": \"white\", \"lakecolor\": \"white\", \"landcolor\": \"#E5ECF6\", \"showlakes\": true, \"showland\": true, \"subunitcolor\": \"white\"}, \"hoverlabel\": {\"align\": \"left\"}, \"hovermode\": \"closest\", \"mapbox\": {\"style\": \"light\"}, \"paper_bgcolor\": \"white\", \"plot_bgcolor\": \"#E5ECF6\", \"polar\": {\"angularaxis\": {\"gridcolor\": \"white\", \"linecolor\": \"white\", \"ticks\": \"\"}, \"bgcolor\": \"#E5ECF6\", \"radialaxis\": {\"gridcolor\": \"white\", \"linecolor\": \"white\", \"ticks\": \"\"}}, \"scene\": {\"xaxis\": {\"backgroundcolor\": \"#E5ECF6\", \"gridcolor\": \"white\", \"gridwidth\": 2, \"linecolor\": \"white\", \"showbackground\": true, \"ticks\": \"\", \"zerolinecolor\": \"white\"}, \"yaxis\": {\"backgroundcolor\": \"#E5ECF6\", \"gridcolor\": \"white\", \"gridwidth\": 2, \"linecolor\": \"white\", \"showbackground\": true, \"ticks\": \"\", \"zerolinecolor\": \"white\"}, \"zaxis\": {\"backgroundcolor\": \"#E5ECF6\", \"gridcolor\": \"white\", \"gridwidth\": 2, \"linecolor\": \"white\", \"showbackground\": true, \"ticks\": \"\", \"zerolinecolor\": \"white\"}}, \"shapedefaults\": {\"line\": {\"color\": \"#2a3f5f\"}}, \"ternary\": {\"aaxis\": {\"gridcolor\": \"white\", \"linecolor\": \"white\", \"ticks\": \"\"}, \"baxis\": {\"gridcolor\": \"white\", \"linecolor\": \"white\", \"ticks\": \"\"}, \"bgcolor\": \"#E5ECF6\", \"caxis\": {\"gridcolor\": \"white\", \"linecolor\": \"white\", \"ticks\": \"\"}}, \"title\": {\"x\": 0.05}, \"xaxis\": {\"automargin\": true, \"gridcolor\": \"white\", \"linecolor\": \"white\", \"ticks\": \"\", \"title\": {\"standoff\": 15}, \"zerolinecolor\": \"white\", \"zerolinewidth\": 2}, \"yaxis\": {\"automargin\": true, \"gridcolor\": \"white\", \"linecolor\": \"white\", \"ticks\": \"\", \"title\": {\"standoff\": 15}, \"zerolinecolor\": \"white\", \"zerolinewidth\": 2}}}, \"title\": {\"font\": {\"color\": \"#4D5663\"}}, \"xaxis\": {\"gridcolor\": \"#E1E5ED\", \"showgrid\": true, \"tickfont\": {\"color\": \"#4D5663\"}, \"title\": {\"font\": {\"color\": \"#4D5663\"}, \"text\": \"\"}, \"zerolinecolor\": \"#E1E5ED\"}, \"yaxis\": {\"gridcolor\": \"#E1E5ED\", \"showgrid\": true, \"tickfont\": {\"color\": \"#4D5663\"}, \"title\": {\"font\": {\"color\": \"#4D5663\"}, \"text\": \"\"}, \"zerolinecolor\": \"#E1E5ED\"}},                        {\"showLink\": true, \"linkText\": \"Export to plot.ly\", \"plotlyServerURL\": \"https://plot.ly\", \"responsive\": true}                    ).then(function(){\n",
       "                            \n",
       "var gd = document.getElementById('2df8a637-b627-4826-a6c0-6b292f58d7f5');\n",
       "var x = new MutationObserver(function (mutations, observer) {{\n",
       "        var display = window.getComputedStyle(gd).display;\n",
       "        if (!display || display === 'none') {{\n",
       "            console.log([gd, 'removed!']);\n",
       "            Plotly.purge(gd);\n",
       "            observer.disconnect();\n",
       "        }}\n",
       "}});\n",
       "\n",
       "// Listen for the removal of the full notebook cells\n",
       "var notebookContainer = gd.closest('#notebook-container');\n",
       "if (notebookContainer) {{\n",
       "    x.observe(notebookContainer, {childList: true});\n",
       "}}\n",
       "\n",
       "// Listen for the clearing of the current output cell\n",
       "var outputEl = gd.closest('.output');\n",
       "if (outputEl) {{\n",
       "    x.observe(outputEl, {childList: true});\n",
       "}}\n",
       "\n",
       "                        })                };                });            </script>        </div>"
      ]
     },
     "metadata": {},
     "output_type": "display_data"
    }
   ],
   "source": [
    "df2.iplot(kind='bar', x='Category', y='Values')"
   ]
  },
  {
   "cell_type": "code",
   "execution_count": null,
   "metadata": {},
   "outputs": [],
   "source": []
  },
  {
   "cell_type": "code",
   "execution_count": 38,
   "metadata": {},
   "outputs": [
    {
     "data": {
      "text/html": [
       "<div>\n",
       "<style scoped>\n",
       "    .dataframe tbody tr th:only-of-type {\n",
       "        vertical-align: middle;\n",
       "    }\n",
       "\n",
       "    .dataframe tbody tr th {\n",
       "        vertical-align: top;\n",
       "    }\n",
       "\n",
       "    .dataframe thead th {\n",
       "        text-align: right;\n",
       "    }\n",
       "</style>\n",
       "<table border=\"1\" class=\"dataframe\">\n",
       "  <thead>\n",
       "    <tr style=\"text-align: right;\">\n",
       "      <th></th>\n",
       "      <th>A</th>\n",
       "      <th>B</th>\n",
       "      <th>C</th>\n",
       "      <th>D</th>\n",
       "    </tr>\n",
       "  </thead>\n",
       "  <tbody>\n",
       "    <tr>\n",
       "      <th>0</th>\n",
       "      <td>-0.020190</td>\n",
       "      <td>-0.438004</td>\n",
       "      <td>-0.933131</td>\n",
       "      <td>-0.597262</td>\n",
       "    </tr>\n",
       "    <tr>\n",
       "      <th>1</th>\n",
       "      <td>0.160543</td>\n",
       "      <td>1.385626</td>\n",
       "      <td>0.125391</td>\n",
       "      <td>0.499131</td>\n",
       "    </tr>\n",
       "    <tr>\n",
       "      <th>2</th>\n",
       "      <td>0.218309</td>\n",
       "      <td>-1.643958</td>\n",
       "      <td>-0.582627</td>\n",
       "      <td>1.773026</td>\n",
       "    </tr>\n",
       "    <tr>\n",
       "      <th>3</th>\n",
       "      <td>-2.448173</td>\n",
       "      <td>1.780163</td>\n",
       "      <td>1.538666</td>\n",
       "      <td>1.103282</td>\n",
       "    </tr>\n",
       "    <tr>\n",
       "      <th>4</th>\n",
       "      <td>-1.342032</td>\n",
       "      <td>-0.068862</td>\n",
       "      <td>-1.727496</td>\n",
       "      <td>-0.815158</td>\n",
       "    </tr>\n",
       "  </tbody>\n",
       "</table>\n",
       "</div>"
      ],
      "text/plain": [
       "          A         B         C         D\n",
       "0 -0.020190 -0.438004 -0.933131 -0.597262\n",
       "1  0.160543  1.385626  0.125391  0.499131\n",
       "2  0.218309 -1.643958 -0.582627  1.773026\n",
       "3 -2.448173  1.780163  1.538666  1.103282\n",
       "4 -1.342032 -0.068862 -1.727496 -0.815158"
      ]
     },
     "execution_count": 38,
     "metadata": {},
     "output_type": "execute_result"
    }
   ],
   "source": [
    "df.head()"
   ]
  },
  {
   "cell_type": "code",
   "execution_count": null,
   "metadata": {},
   "outputs": [],
   "source": []
  },
  {
   "cell_type": "code",
   "execution_count": 37,
   "metadata": {},
   "outputs": [
    {
     "data": {
      "application/vnd.plotly.v1+json": {
       "config": {
        "linkText": "Export to plot.ly",
        "plotlyServerURL": "https://plot.ly",
        "showLink": true
       },
       "data": [
        {
         "marker": {
          "color": "rgba(255, 153, 51, 0.6)",
          "line": {
           "color": "rgba(255, 153, 51, 1.0)",
           "width": 1
          }
         },
         "name": "None",
         "orientation": "v",
         "text": "",
         "type": "bar",
         "x": [
          "A",
          "B",
          "C",
          "D"
         ],
         "y": [
          -2.9138009311392445,
          10.768960644114722,
          -3.6827942597618675,
          -2.7032880940905564
         ]
        }
       ],
       "layout": {
        "legend": {
         "bgcolor": "#F5F6F9",
         "font": {
          "color": "#4D5663"
         }
        },
        "paper_bgcolor": "#F5F6F9",
        "plot_bgcolor": "#F5F6F9",
        "template": {
         "data": {
          "bar": [
           {
            "error_x": {
             "color": "#2a3f5f"
            },
            "error_y": {
             "color": "#2a3f5f"
            },
            "marker": {
             "line": {
              "color": "#E5ECF6",
              "width": 0.5
             }
            },
            "type": "bar"
           }
          ],
          "barpolar": [
           {
            "marker": {
             "line": {
              "color": "#E5ECF6",
              "width": 0.5
             }
            },
            "type": "barpolar"
           }
          ],
          "carpet": [
           {
            "aaxis": {
             "endlinecolor": "#2a3f5f",
             "gridcolor": "white",
             "linecolor": "white",
             "minorgridcolor": "white",
             "startlinecolor": "#2a3f5f"
            },
            "baxis": {
             "endlinecolor": "#2a3f5f",
             "gridcolor": "white",
             "linecolor": "white",
             "minorgridcolor": "white",
             "startlinecolor": "#2a3f5f"
            },
            "type": "carpet"
           }
          ],
          "choropleth": [
           {
            "colorbar": {
             "outlinewidth": 0,
             "ticks": ""
            },
            "type": "choropleth"
           }
          ],
          "contour": [
           {
            "colorbar": {
             "outlinewidth": 0,
             "ticks": ""
            },
            "colorscale": [
             [
              0,
              "#0d0887"
             ],
             [
              0.1111111111111111,
              "#46039f"
             ],
             [
              0.2222222222222222,
              "#7201a8"
             ],
             [
              0.3333333333333333,
              "#9c179e"
             ],
             [
              0.4444444444444444,
              "#bd3786"
             ],
             [
              0.5555555555555556,
              "#d8576b"
             ],
             [
              0.6666666666666666,
              "#ed7953"
             ],
             [
              0.7777777777777778,
              "#fb9f3a"
             ],
             [
              0.8888888888888888,
              "#fdca26"
             ],
             [
              1,
              "#f0f921"
             ]
            ],
            "type": "contour"
           }
          ],
          "contourcarpet": [
           {
            "colorbar": {
             "outlinewidth": 0,
             "ticks": ""
            },
            "type": "contourcarpet"
           }
          ],
          "heatmap": [
           {
            "colorbar": {
             "outlinewidth": 0,
             "ticks": ""
            },
            "colorscale": [
             [
              0,
              "#0d0887"
             ],
             [
              0.1111111111111111,
              "#46039f"
             ],
             [
              0.2222222222222222,
              "#7201a8"
             ],
             [
              0.3333333333333333,
              "#9c179e"
             ],
             [
              0.4444444444444444,
              "#bd3786"
             ],
             [
              0.5555555555555556,
              "#d8576b"
             ],
             [
              0.6666666666666666,
              "#ed7953"
             ],
             [
              0.7777777777777778,
              "#fb9f3a"
             ],
             [
              0.8888888888888888,
              "#fdca26"
             ],
             [
              1,
              "#f0f921"
             ]
            ],
            "type": "heatmap"
           }
          ],
          "heatmapgl": [
           {
            "colorbar": {
             "outlinewidth": 0,
             "ticks": ""
            },
            "colorscale": [
             [
              0,
              "#0d0887"
             ],
             [
              0.1111111111111111,
              "#46039f"
             ],
             [
              0.2222222222222222,
              "#7201a8"
             ],
             [
              0.3333333333333333,
              "#9c179e"
             ],
             [
              0.4444444444444444,
              "#bd3786"
             ],
             [
              0.5555555555555556,
              "#d8576b"
             ],
             [
              0.6666666666666666,
              "#ed7953"
             ],
             [
              0.7777777777777778,
              "#fb9f3a"
             ],
             [
              0.8888888888888888,
              "#fdca26"
             ],
             [
              1,
              "#f0f921"
             ]
            ],
            "type": "heatmapgl"
           }
          ],
          "histogram": [
           {
            "marker": {
             "colorbar": {
              "outlinewidth": 0,
              "ticks": ""
             }
            },
            "type": "histogram"
           }
          ],
          "histogram2d": [
           {
            "colorbar": {
             "outlinewidth": 0,
             "ticks": ""
            },
            "colorscale": [
             [
              0,
              "#0d0887"
             ],
             [
              0.1111111111111111,
              "#46039f"
             ],
             [
              0.2222222222222222,
              "#7201a8"
             ],
             [
              0.3333333333333333,
              "#9c179e"
             ],
             [
              0.4444444444444444,
              "#bd3786"
             ],
             [
              0.5555555555555556,
              "#d8576b"
             ],
             [
              0.6666666666666666,
              "#ed7953"
             ],
             [
              0.7777777777777778,
              "#fb9f3a"
             ],
             [
              0.8888888888888888,
              "#fdca26"
             ],
             [
              1,
              "#f0f921"
             ]
            ],
            "type": "histogram2d"
           }
          ],
          "histogram2dcontour": [
           {
            "colorbar": {
             "outlinewidth": 0,
             "ticks": ""
            },
            "colorscale": [
             [
              0,
              "#0d0887"
             ],
             [
              0.1111111111111111,
              "#46039f"
             ],
             [
              0.2222222222222222,
              "#7201a8"
             ],
             [
              0.3333333333333333,
              "#9c179e"
             ],
             [
              0.4444444444444444,
              "#bd3786"
             ],
             [
              0.5555555555555556,
              "#d8576b"
             ],
             [
              0.6666666666666666,
              "#ed7953"
             ],
             [
              0.7777777777777778,
              "#fb9f3a"
             ],
             [
              0.8888888888888888,
              "#fdca26"
             ],
             [
              1,
              "#f0f921"
             ]
            ],
            "type": "histogram2dcontour"
           }
          ],
          "mesh3d": [
           {
            "colorbar": {
             "outlinewidth": 0,
             "ticks": ""
            },
            "type": "mesh3d"
           }
          ],
          "parcoords": [
           {
            "line": {
             "colorbar": {
              "outlinewidth": 0,
              "ticks": ""
             }
            },
            "type": "parcoords"
           }
          ],
          "pie": [
           {
            "automargin": true,
            "type": "pie"
           }
          ],
          "scatter": [
           {
            "marker": {
             "colorbar": {
              "outlinewidth": 0,
              "ticks": ""
             }
            },
            "type": "scatter"
           }
          ],
          "scatter3d": [
           {
            "line": {
             "colorbar": {
              "outlinewidth": 0,
              "ticks": ""
             }
            },
            "marker": {
             "colorbar": {
              "outlinewidth": 0,
              "ticks": ""
             }
            },
            "type": "scatter3d"
           }
          ],
          "scattercarpet": [
           {
            "marker": {
             "colorbar": {
              "outlinewidth": 0,
              "ticks": ""
             }
            },
            "type": "scattercarpet"
           }
          ],
          "scattergeo": [
           {
            "marker": {
             "colorbar": {
              "outlinewidth": 0,
              "ticks": ""
             }
            },
            "type": "scattergeo"
           }
          ],
          "scattergl": [
           {
            "marker": {
             "colorbar": {
              "outlinewidth": 0,
              "ticks": ""
             }
            },
            "type": "scattergl"
           }
          ],
          "scattermapbox": [
           {
            "marker": {
             "colorbar": {
              "outlinewidth": 0,
              "ticks": ""
             }
            },
            "type": "scattermapbox"
           }
          ],
          "scatterpolar": [
           {
            "marker": {
             "colorbar": {
              "outlinewidth": 0,
              "ticks": ""
             }
            },
            "type": "scatterpolar"
           }
          ],
          "scatterpolargl": [
           {
            "marker": {
             "colorbar": {
              "outlinewidth": 0,
              "ticks": ""
             }
            },
            "type": "scatterpolargl"
           }
          ],
          "scatterternary": [
           {
            "marker": {
             "colorbar": {
              "outlinewidth": 0,
              "ticks": ""
             }
            },
            "type": "scatterternary"
           }
          ],
          "surface": [
           {
            "colorbar": {
             "outlinewidth": 0,
             "ticks": ""
            },
            "colorscale": [
             [
              0,
              "#0d0887"
             ],
             [
              0.1111111111111111,
              "#46039f"
             ],
             [
              0.2222222222222222,
              "#7201a8"
             ],
             [
              0.3333333333333333,
              "#9c179e"
             ],
             [
              0.4444444444444444,
              "#bd3786"
             ],
             [
              0.5555555555555556,
              "#d8576b"
             ],
             [
              0.6666666666666666,
              "#ed7953"
             ],
             [
              0.7777777777777778,
              "#fb9f3a"
             ],
             [
              0.8888888888888888,
              "#fdca26"
             ],
             [
              1,
              "#f0f921"
             ]
            ],
            "type": "surface"
           }
          ],
          "table": [
           {
            "cells": {
             "fill": {
              "color": "#EBF0F8"
             },
             "line": {
              "color": "white"
             }
            },
            "header": {
             "fill": {
              "color": "#C8D4E3"
             },
             "line": {
              "color": "white"
             }
            },
            "type": "table"
           }
          ]
         },
         "layout": {
          "annotationdefaults": {
           "arrowcolor": "#2a3f5f",
           "arrowhead": 0,
           "arrowwidth": 1
          },
          "autotypenumbers": "strict",
          "coloraxis": {
           "colorbar": {
            "outlinewidth": 0,
            "ticks": ""
           }
          },
          "colorscale": {
           "diverging": [
            [
             0,
             "#8e0152"
            ],
            [
             0.1,
             "#c51b7d"
            ],
            [
             0.2,
             "#de77ae"
            ],
            [
             0.3,
             "#f1b6da"
            ],
            [
             0.4,
             "#fde0ef"
            ],
            [
             0.5,
             "#f7f7f7"
            ],
            [
             0.6,
             "#e6f5d0"
            ],
            [
             0.7,
             "#b8e186"
            ],
            [
             0.8,
             "#7fbc41"
            ],
            [
             0.9,
             "#4d9221"
            ],
            [
             1,
             "#276419"
            ]
           ],
           "sequential": [
            [
             0,
             "#0d0887"
            ],
            [
             0.1111111111111111,
             "#46039f"
            ],
            [
             0.2222222222222222,
             "#7201a8"
            ],
            [
             0.3333333333333333,
             "#9c179e"
            ],
            [
             0.4444444444444444,
             "#bd3786"
            ],
            [
             0.5555555555555556,
             "#d8576b"
            ],
            [
             0.6666666666666666,
             "#ed7953"
            ],
            [
             0.7777777777777778,
             "#fb9f3a"
            ],
            [
             0.8888888888888888,
             "#fdca26"
            ],
            [
             1,
             "#f0f921"
            ]
           ],
           "sequentialminus": [
            [
             0,
             "#0d0887"
            ],
            [
             0.1111111111111111,
             "#46039f"
            ],
            [
             0.2222222222222222,
             "#7201a8"
            ],
            [
             0.3333333333333333,
             "#9c179e"
            ],
            [
             0.4444444444444444,
             "#bd3786"
            ],
            [
             0.5555555555555556,
             "#d8576b"
            ],
            [
             0.6666666666666666,
             "#ed7953"
            ],
            [
             0.7777777777777778,
             "#fb9f3a"
            ],
            [
             0.8888888888888888,
             "#fdca26"
            ],
            [
             1,
             "#f0f921"
            ]
           ]
          },
          "colorway": [
           "#636efa",
           "#EF553B",
           "#00cc96",
           "#ab63fa",
           "#FFA15A",
           "#19d3f3",
           "#FF6692",
           "#B6E880",
           "#FF97FF",
           "#FECB52"
          ],
          "font": {
           "color": "#2a3f5f"
          },
          "geo": {
           "bgcolor": "white",
           "lakecolor": "white",
           "landcolor": "#E5ECF6",
           "showlakes": true,
           "showland": true,
           "subunitcolor": "white"
          },
          "hoverlabel": {
           "align": "left"
          },
          "hovermode": "closest",
          "mapbox": {
           "style": "light"
          },
          "paper_bgcolor": "white",
          "plot_bgcolor": "#E5ECF6",
          "polar": {
           "angularaxis": {
            "gridcolor": "white",
            "linecolor": "white",
            "ticks": ""
           },
           "bgcolor": "#E5ECF6",
           "radialaxis": {
            "gridcolor": "white",
            "linecolor": "white",
            "ticks": ""
           }
          },
          "scene": {
           "xaxis": {
            "backgroundcolor": "#E5ECF6",
            "gridcolor": "white",
            "gridwidth": 2,
            "linecolor": "white",
            "showbackground": true,
            "ticks": "",
            "zerolinecolor": "white"
           },
           "yaxis": {
            "backgroundcolor": "#E5ECF6",
            "gridcolor": "white",
            "gridwidth": 2,
            "linecolor": "white",
            "showbackground": true,
            "ticks": "",
            "zerolinecolor": "white"
           },
           "zaxis": {
            "backgroundcolor": "#E5ECF6",
            "gridcolor": "white",
            "gridwidth": 2,
            "linecolor": "white",
            "showbackground": true,
            "ticks": "",
            "zerolinecolor": "white"
           }
          },
          "shapedefaults": {
           "line": {
            "color": "#2a3f5f"
           }
          },
          "ternary": {
           "aaxis": {
            "gridcolor": "white",
            "linecolor": "white",
            "ticks": ""
           },
           "baxis": {
            "gridcolor": "white",
            "linecolor": "white",
            "ticks": ""
           },
           "bgcolor": "#E5ECF6",
           "caxis": {
            "gridcolor": "white",
            "linecolor": "white",
            "ticks": ""
           }
          },
          "title": {
           "x": 0.05
          },
          "xaxis": {
           "automargin": true,
           "gridcolor": "white",
           "linecolor": "white",
           "ticks": "",
           "title": {
            "standoff": 15
           },
           "zerolinecolor": "white",
           "zerolinewidth": 2
          },
          "yaxis": {
           "automargin": true,
           "gridcolor": "white",
           "linecolor": "white",
           "ticks": "",
           "title": {
            "standoff": 15
           },
           "zerolinecolor": "white",
           "zerolinewidth": 2
          }
         }
        },
        "title": {
         "font": {
          "color": "#4D5663"
         }
        },
        "xaxis": {
         "gridcolor": "#E1E5ED",
         "showgrid": true,
         "tickfont": {
          "color": "#4D5663"
         },
         "title": {
          "font": {
           "color": "#4D5663"
          },
          "text": ""
         },
         "zerolinecolor": "#E1E5ED"
        },
        "yaxis": {
         "gridcolor": "#E1E5ED",
         "showgrid": true,
         "tickfont": {
          "color": "#4D5663"
         },
         "title": {
          "font": {
           "color": "#4D5663"
          },
          "text": ""
         },
         "zerolinecolor": "#E1E5ED"
        }
       }
      },
      "text/html": [
       "<div>                            <div id=\"0422d046-16a3-4710-8dda-19e7051d0eba\" class=\"plotly-graph-div\" style=\"height:525px; width:100%;\"></div>            <script type=\"text/javascript\">                require([\"plotly\"], function(Plotly) {                    window.PLOTLYENV=window.PLOTLYENV || {};\n",
       "                    window.PLOTLYENV.BASE_URL='https://plot.ly';                                    if (document.getElementById(\"0422d046-16a3-4710-8dda-19e7051d0eba\")) {                    Plotly.newPlot(                        \"0422d046-16a3-4710-8dda-19e7051d0eba\",                        [{\"marker\": {\"color\": \"rgba(255, 153, 51, 0.6)\", \"line\": {\"color\": \"rgba(255, 153, 51, 1.0)\", \"width\": 1}}, \"name\": \"None\", \"orientation\": \"v\", \"text\": \"\", \"type\": \"bar\", \"x\": [\"A\", \"B\", \"C\", \"D\"], \"y\": [-2.9138009311392445, 10.768960644114722, -3.6827942597618675, -2.7032880940905564]}],                        {\"legend\": {\"bgcolor\": \"#F5F6F9\", \"font\": {\"color\": \"#4D5663\"}}, \"paper_bgcolor\": \"#F5F6F9\", \"plot_bgcolor\": \"#F5F6F9\", \"template\": {\"data\": {\"bar\": [{\"error_x\": {\"color\": \"#2a3f5f\"}, \"error_y\": {\"color\": \"#2a3f5f\"}, \"marker\": {\"line\": {\"color\": \"#E5ECF6\", \"width\": 0.5}}, \"type\": \"bar\"}], \"barpolar\": [{\"marker\": {\"line\": {\"color\": \"#E5ECF6\", \"width\": 0.5}}, \"type\": \"barpolar\"}], \"carpet\": [{\"aaxis\": {\"endlinecolor\": \"#2a3f5f\", \"gridcolor\": \"white\", \"linecolor\": \"white\", \"minorgridcolor\": \"white\", \"startlinecolor\": \"#2a3f5f\"}, \"baxis\": {\"endlinecolor\": \"#2a3f5f\", \"gridcolor\": \"white\", \"linecolor\": \"white\", \"minorgridcolor\": \"white\", \"startlinecolor\": \"#2a3f5f\"}, \"type\": \"carpet\"}], \"choropleth\": [{\"colorbar\": {\"outlinewidth\": 0, \"ticks\": \"\"}, \"type\": \"choropleth\"}], \"contour\": [{\"colorbar\": {\"outlinewidth\": 0, \"ticks\": \"\"}, \"colorscale\": [[0.0, \"#0d0887\"], [0.1111111111111111, \"#46039f\"], [0.2222222222222222, \"#7201a8\"], [0.3333333333333333, \"#9c179e\"], [0.4444444444444444, \"#bd3786\"], [0.5555555555555556, \"#d8576b\"], [0.6666666666666666, \"#ed7953\"], [0.7777777777777778, \"#fb9f3a\"], [0.8888888888888888, \"#fdca26\"], [1.0, \"#f0f921\"]], \"type\": \"contour\"}], \"contourcarpet\": [{\"colorbar\": {\"outlinewidth\": 0, \"ticks\": \"\"}, \"type\": \"contourcarpet\"}], \"heatmap\": [{\"colorbar\": {\"outlinewidth\": 0, \"ticks\": \"\"}, \"colorscale\": [[0.0, \"#0d0887\"], [0.1111111111111111, \"#46039f\"], [0.2222222222222222, \"#7201a8\"], [0.3333333333333333, \"#9c179e\"], [0.4444444444444444, \"#bd3786\"], [0.5555555555555556, \"#d8576b\"], [0.6666666666666666, \"#ed7953\"], [0.7777777777777778, \"#fb9f3a\"], [0.8888888888888888, \"#fdca26\"], [1.0, \"#f0f921\"]], \"type\": \"heatmap\"}], \"heatmapgl\": [{\"colorbar\": {\"outlinewidth\": 0, \"ticks\": \"\"}, \"colorscale\": [[0.0, \"#0d0887\"], [0.1111111111111111, \"#46039f\"], [0.2222222222222222, \"#7201a8\"], [0.3333333333333333, \"#9c179e\"], [0.4444444444444444, \"#bd3786\"], [0.5555555555555556, \"#d8576b\"], [0.6666666666666666, \"#ed7953\"], [0.7777777777777778, \"#fb9f3a\"], [0.8888888888888888, \"#fdca26\"], [1.0, \"#f0f921\"]], \"type\": \"heatmapgl\"}], \"histogram\": [{\"marker\": {\"colorbar\": {\"outlinewidth\": 0, \"ticks\": \"\"}}, \"type\": \"histogram\"}], \"histogram2d\": [{\"colorbar\": {\"outlinewidth\": 0, \"ticks\": \"\"}, \"colorscale\": [[0.0, \"#0d0887\"], [0.1111111111111111, \"#46039f\"], [0.2222222222222222, \"#7201a8\"], [0.3333333333333333, \"#9c179e\"], [0.4444444444444444, \"#bd3786\"], [0.5555555555555556, \"#d8576b\"], [0.6666666666666666, \"#ed7953\"], [0.7777777777777778, \"#fb9f3a\"], [0.8888888888888888, \"#fdca26\"], [1.0, \"#f0f921\"]], \"type\": \"histogram2d\"}], \"histogram2dcontour\": [{\"colorbar\": {\"outlinewidth\": 0, \"ticks\": \"\"}, \"colorscale\": [[0.0, \"#0d0887\"], [0.1111111111111111, \"#46039f\"], [0.2222222222222222, \"#7201a8\"], [0.3333333333333333, \"#9c179e\"], [0.4444444444444444, \"#bd3786\"], [0.5555555555555556, \"#d8576b\"], [0.6666666666666666, \"#ed7953\"], [0.7777777777777778, \"#fb9f3a\"], [0.8888888888888888, \"#fdca26\"], [1.0, \"#f0f921\"]], \"type\": \"histogram2dcontour\"}], \"mesh3d\": [{\"colorbar\": {\"outlinewidth\": 0, \"ticks\": \"\"}, \"type\": \"mesh3d\"}], \"parcoords\": [{\"line\": {\"colorbar\": {\"outlinewidth\": 0, \"ticks\": \"\"}}, \"type\": \"parcoords\"}], \"pie\": [{\"automargin\": true, \"type\": \"pie\"}], \"scatter\": [{\"marker\": {\"colorbar\": {\"outlinewidth\": 0, \"ticks\": \"\"}}, \"type\": \"scatter\"}], \"scatter3d\": [{\"line\": {\"colorbar\": {\"outlinewidth\": 0, \"ticks\": \"\"}}, \"marker\": {\"colorbar\": {\"outlinewidth\": 0, \"ticks\": \"\"}}, \"type\": \"scatter3d\"}], \"scattercarpet\": [{\"marker\": {\"colorbar\": {\"outlinewidth\": 0, \"ticks\": \"\"}}, \"type\": \"scattercarpet\"}], \"scattergeo\": [{\"marker\": {\"colorbar\": {\"outlinewidth\": 0, \"ticks\": \"\"}}, \"type\": \"scattergeo\"}], \"scattergl\": [{\"marker\": {\"colorbar\": {\"outlinewidth\": 0, \"ticks\": \"\"}}, \"type\": \"scattergl\"}], \"scattermapbox\": [{\"marker\": {\"colorbar\": {\"outlinewidth\": 0, \"ticks\": \"\"}}, \"type\": \"scattermapbox\"}], \"scatterpolar\": [{\"marker\": {\"colorbar\": {\"outlinewidth\": 0, \"ticks\": \"\"}}, \"type\": \"scatterpolar\"}], \"scatterpolargl\": [{\"marker\": {\"colorbar\": {\"outlinewidth\": 0, \"ticks\": \"\"}}, \"type\": \"scatterpolargl\"}], \"scatterternary\": [{\"marker\": {\"colorbar\": {\"outlinewidth\": 0, \"ticks\": \"\"}}, \"type\": \"scatterternary\"}], \"surface\": [{\"colorbar\": {\"outlinewidth\": 0, \"ticks\": \"\"}, \"colorscale\": [[0.0, \"#0d0887\"], [0.1111111111111111, \"#46039f\"], [0.2222222222222222, \"#7201a8\"], [0.3333333333333333, \"#9c179e\"], [0.4444444444444444, \"#bd3786\"], [0.5555555555555556, \"#d8576b\"], [0.6666666666666666, \"#ed7953\"], [0.7777777777777778, \"#fb9f3a\"], [0.8888888888888888, \"#fdca26\"], [1.0, \"#f0f921\"]], \"type\": \"surface\"}], \"table\": [{\"cells\": {\"fill\": {\"color\": \"#EBF0F8\"}, \"line\": {\"color\": \"white\"}}, \"header\": {\"fill\": {\"color\": \"#C8D4E3\"}, \"line\": {\"color\": \"white\"}}, \"type\": \"table\"}]}, \"layout\": {\"annotationdefaults\": {\"arrowcolor\": \"#2a3f5f\", \"arrowhead\": 0, \"arrowwidth\": 1}, \"autotypenumbers\": \"strict\", \"coloraxis\": {\"colorbar\": {\"outlinewidth\": 0, \"ticks\": \"\"}}, \"colorscale\": {\"diverging\": [[0, \"#8e0152\"], [0.1, \"#c51b7d\"], [0.2, \"#de77ae\"], [0.3, \"#f1b6da\"], [0.4, \"#fde0ef\"], [0.5, \"#f7f7f7\"], [0.6, \"#e6f5d0\"], [0.7, \"#b8e186\"], [0.8, \"#7fbc41\"], [0.9, \"#4d9221\"], [1, \"#276419\"]], \"sequential\": [[0.0, \"#0d0887\"], [0.1111111111111111, \"#46039f\"], [0.2222222222222222, \"#7201a8\"], [0.3333333333333333, \"#9c179e\"], [0.4444444444444444, \"#bd3786\"], [0.5555555555555556, \"#d8576b\"], [0.6666666666666666, \"#ed7953\"], [0.7777777777777778, \"#fb9f3a\"], [0.8888888888888888, \"#fdca26\"], [1.0, \"#f0f921\"]], \"sequentialminus\": [[0.0, \"#0d0887\"], [0.1111111111111111, \"#46039f\"], [0.2222222222222222, \"#7201a8\"], [0.3333333333333333, \"#9c179e\"], [0.4444444444444444, \"#bd3786\"], [0.5555555555555556, \"#d8576b\"], [0.6666666666666666, \"#ed7953\"], [0.7777777777777778, \"#fb9f3a\"], [0.8888888888888888, \"#fdca26\"], [1.0, \"#f0f921\"]]}, \"colorway\": [\"#636efa\", \"#EF553B\", \"#00cc96\", \"#ab63fa\", \"#FFA15A\", \"#19d3f3\", \"#FF6692\", \"#B6E880\", \"#FF97FF\", \"#FECB52\"], \"font\": {\"color\": \"#2a3f5f\"}, \"geo\": {\"bgcolor\": \"white\", \"lakecolor\": \"white\", \"landcolor\": \"#E5ECF6\", \"showlakes\": true, \"showland\": true, \"subunitcolor\": \"white\"}, \"hoverlabel\": {\"align\": \"left\"}, \"hovermode\": \"closest\", \"mapbox\": {\"style\": \"light\"}, \"paper_bgcolor\": \"white\", \"plot_bgcolor\": \"#E5ECF6\", \"polar\": {\"angularaxis\": {\"gridcolor\": \"white\", \"linecolor\": \"white\", \"ticks\": \"\"}, \"bgcolor\": \"#E5ECF6\", \"radialaxis\": {\"gridcolor\": \"white\", \"linecolor\": \"white\", \"ticks\": \"\"}}, \"scene\": {\"xaxis\": {\"backgroundcolor\": \"#E5ECF6\", \"gridcolor\": \"white\", \"gridwidth\": 2, \"linecolor\": \"white\", \"showbackground\": true, \"ticks\": \"\", \"zerolinecolor\": \"white\"}, \"yaxis\": {\"backgroundcolor\": \"#E5ECF6\", \"gridcolor\": \"white\", \"gridwidth\": 2, \"linecolor\": \"white\", \"showbackground\": true, \"ticks\": \"\", \"zerolinecolor\": \"white\"}, \"zaxis\": {\"backgroundcolor\": \"#E5ECF6\", \"gridcolor\": \"white\", \"gridwidth\": 2, \"linecolor\": \"white\", \"showbackground\": true, \"ticks\": \"\", \"zerolinecolor\": \"white\"}}, \"shapedefaults\": {\"line\": {\"color\": \"#2a3f5f\"}}, \"ternary\": {\"aaxis\": {\"gridcolor\": \"white\", \"linecolor\": \"white\", \"ticks\": \"\"}, \"baxis\": {\"gridcolor\": \"white\", \"linecolor\": \"white\", \"ticks\": \"\"}, \"bgcolor\": \"#E5ECF6\", \"caxis\": {\"gridcolor\": \"white\", \"linecolor\": \"white\", \"ticks\": \"\"}}, \"title\": {\"x\": 0.05}, \"xaxis\": {\"automargin\": true, \"gridcolor\": \"white\", \"linecolor\": \"white\", \"ticks\": \"\", \"title\": {\"standoff\": 15}, \"zerolinecolor\": \"white\", \"zerolinewidth\": 2}, \"yaxis\": {\"automargin\": true, \"gridcolor\": \"white\", \"linecolor\": \"white\", \"ticks\": \"\", \"title\": {\"standoff\": 15}, \"zerolinecolor\": \"white\", \"zerolinewidth\": 2}}}, \"title\": {\"font\": {\"color\": \"#4D5663\"}}, \"xaxis\": {\"gridcolor\": \"#E1E5ED\", \"showgrid\": true, \"tickfont\": {\"color\": \"#4D5663\"}, \"title\": {\"font\": {\"color\": \"#4D5663\"}, \"text\": \"\"}, \"zerolinecolor\": \"#E1E5ED\"}, \"yaxis\": {\"gridcolor\": \"#E1E5ED\", \"showgrid\": true, \"tickfont\": {\"color\": \"#4D5663\"}, \"title\": {\"font\": {\"color\": \"#4D5663\"}, \"text\": \"\"}, \"zerolinecolor\": \"#E1E5ED\"}},                        {\"showLink\": true, \"linkText\": \"Export to plot.ly\", \"plotlyServerURL\": \"https://plot.ly\", \"responsive\": true}                    ).then(function(){\n",
       "                            \n",
       "var gd = document.getElementById('0422d046-16a3-4710-8dda-19e7051d0eba');\n",
       "var x = new MutationObserver(function (mutations, observer) {{\n",
       "        var display = window.getComputedStyle(gd).display;\n",
       "        if (!display || display === 'none') {{\n",
       "            console.log([gd, 'removed!']);\n",
       "            Plotly.purge(gd);\n",
       "            observer.disconnect();\n",
       "        }}\n",
       "}});\n",
       "\n",
       "// Listen for the removal of the full notebook cells\n",
       "var notebookContainer = gd.closest('#notebook-container');\n",
       "if (notebookContainer) {{\n",
       "    x.observe(notebookContainer, {childList: true});\n",
       "}}\n",
       "\n",
       "// Listen for the clearing of the current output cell\n",
       "var outputEl = gd.closest('.output');\n",
       "if (outputEl) {{\n",
       "    x.observe(outputEl, {childList: true});\n",
       "}}\n",
       "\n",
       "                        })                };                });            </script>        </div>"
      ]
     },
     "metadata": {},
     "output_type": "display_data"
    }
   ],
   "source": [
    "df.sum().iplot(kind='bar')"
   ]
  },
  {
   "cell_type": "code",
   "execution_count": null,
   "metadata": {},
   "outputs": [],
   "source": []
  },
  {
   "cell_type": "code",
   "execution_count": 39,
   "metadata": {},
   "outputs": [
    {
     "data": {
      "application/vnd.plotly.v1+json": {
       "config": {
        "linkText": "Export to plot.ly",
        "plotlyServerURL": "https://plot.ly",
        "showLink": true
       },
       "data": [
        {
         "boxpoints": false,
         "line": {
          "width": 1.3
         },
         "marker": {
          "color": "rgba(255, 153, 51, 1.0)"
         },
         "name": "A",
         "orientation": "v",
         "type": "box",
         "y": [
          -0.020189904066568676,
          0.1605430195388812,
          0.2183093910227895,
          -2.4481729834834183,
          -1.3420320191794017,
          -0.11221568571796266,
          0.5438037913168252,
          -0.6738957753062436,
          1.2812552096620458,
          -1.9536234368933418,
          0.6253512625110269,
          -0.367816742191912,
          -0.768336789815034,
          -0.4129987988772313,
          0.19697310981348015,
          -0.27701278168076676,
          -2.1850709253021408,
          -0.5250012837190554,
          -0.2960852772923362,
          2.1017025013406174,
          -1.0911147300173158,
          0.03328166238849761,
          0.8748423978764613,
          -0.7007281434378153,
          -0.7032378773912719,
          0.8163765079870988,
          0.6030432620160926,
          0.9510948268094824,
          0.27023316558141663,
          -0.7311343794012733,
          -0.8666389092607147,
          1.6069767733420819,
          -0.48121297176306743,
          0.8828189161472906,
          1.032297574576932,
          -1.5001633282861504,
          0.5649349776911442,
          -0.051387101531794106,
          -0.2781026509732436,
          -0.8923371781052455,
          1.1915575077827307,
          -1.2536370325127713,
          -0.2805725925410075,
          1.070862086463324,
          -0.5607966024437397,
          0.44671495095770924,
          0.9055046646215376,
          0.9966668848767872,
          -0.6389673657208839,
          -0.19119612298566752,
          -1.867018118228768,
          1.7299122438438277,
          -1.5392952098290518,
          1.9085227576174537,
          -0.7365200192739271,
          0.291020559910531,
          -0.6876208386672505,
          -0.4396880008989103,
          0.8766948555928455,
          0.48993246404209895,
          0.04486282746655476,
          0.3311347774803122,
          1.3444595160554034,
          1.2292855329948622,
          -0.37737713594871525,
          -0.20849767131121968,
          0.8803939015253044,
          0.6916060145498991,
          -0.6001880277835497,
          -1.0400549304427917,
          0.003272206458725557,
          -1.3528129854600308,
          -0.3469507174506524,
          -0.9140855889241825,
          0.9577028104654609,
          -0.20396839758209903,
          -0.5635726556127097,
          -0.6292571060303892,
          -1.4412942860438325,
          -0.023173287497486254,
          0.2867170728131295,
          1.4891400934905492,
          1.683467368370149,
          0.0032825188849990358,
          -1.724488989643146,
          0.3619017524142584,
          -1.086482992483747,
          1.3030784312470234,
          2.086086574606949,
          -0.9148799666797345,
          -2.53659794781672,
          0.14790147153220412,
          1.5081605357439327,
          0.03172942631163809,
          -1.3844203538077873,
          2.7317365325469214,
          1.8435597585089694,
          -0.9235347978823618,
          -2.2293208131348097,
          0.8302728483937458
         ]
        },
        {
         "boxpoints": false,
         "line": {
          "width": 1.3
         },
         "marker": {
          "color": "rgba(55, 128, 191, 1.0)"
         },
         "name": "B",
         "orientation": "v",
         "type": "box",
         "y": [
          -0.4380037600693329,
          1.3856258480513495,
          -1.6439581318945904,
          1.780163099731763,
          -0.06886238487724357,
          -0.3419320878039712,
          1.7176474787692995,
          -3.0128342192986843,
          1.268848134771191,
          0.2448222463181939,
          0.6832274431968387,
          0.5900880475260439,
          -0.28351085192768744,
          0.03951006673344334,
          0.33378442318795754,
          0.0036633902122219066,
          -1.0335621009028737,
          -1.4346287159598332,
          -0.7637090963596298,
          -0.49509070170442804,
          0.7017553526944327,
          1.0578719391875344,
          0.7596212001824827,
          0.8464267198538894,
          0.5115456059271346,
          1.4785023222198197,
          -2.1651187773032246,
          1.0007144847757021,
          0.7384916218488192,
          0.26590612111690903,
          1.956294281895234,
          -0.8617578488568759,
          0.011053299902504497,
          1.5429553670798497,
          1.7290962461445358,
          -0.08249248371447555,
          -0.5315109256761953,
          -0.5644574743776344,
          0.7402337629534262,
          -0.6086185725746197,
          0.2187789432258602,
          -0.125717596041093,
          0.20048527432005395,
          2.731679171077915,
          -1.8603447004357492,
          0.9554304810338209,
          -1.4103828466835837,
          1.065950515655746,
          -1.236848826065617,
          -0.7318542012955099,
          2.2934039074168857,
          -0.7557077880124786,
          2.0115055050237043,
          0.37154483900426716,
          -1.9242514925498644,
          0.7925365130656604,
          -0.2819909724010163,
          -0.40942736078084324,
          -0.7623793634102329,
          1.1645877433591125,
          -0.38777448037124174,
          -0.1723366430999955,
          0.016858458282385105,
          0.04213951346102748,
          -0.2200209199138018,
          0.4556172925040396,
          0.9847325399374394,
          0.3486345501482719,
          0.9407477147125772,
          -0.13776682864629283,
          0.25163129965039865,
          1.1259847998476251,
          -1.2270319722269811,
          -0.8076192569794358,
          -0.1342328858251307,
          0.19426191413022975,
          -0.9440956952124823,
          -0.5819788729383728,
          -0.48095783847540297,
          -0.8869083142131824,
          -0.14477563692269194,
          1.6866780586582282,
          1.5258822957160807,
          -1.0275474178043047,
          -1.0323270449559678,
          0.9102697897984027,
          -0.1566664582921049,
          0.7704706110055723,
          -0.37923470972809126,
          0.15897524427418847,
          -0.4839263654265887,
          -0.39319145215301765,
          0.4437255355807462,
          -0.4350402940246013,
          0.7316571164610378,
          -1.8887992487543999,
          0.6035468169807476,
          0.16115878831117503,
          1.375156129392616,
          0.5982663947397071
         ]
        },
        {
         "boxpoints": false,
         "line": {
          "width": 1.3
         },
         "marker": {
          "color": "rgba(50, 171, 96, 1.0)"
         },
         "name": "C",
         "orientation": "v",
         "type": "box",
         "y": [
          -0.9331308355733341,
          0.12539125190782266,
          -0.5826274882840796,
          1.538666334357524,
          -1.7274960200280642,
          -0.6246340895816981,
          0.8757756779822631,
          1.1446178716120907,
          -1.8674807150864499,
          0.4929854879925438,
          1.6087237941600827,
          0.00403581169119472,
          0.3387429698083554,
          -1.091562519111494,
          0.049621223832586596,
          0.413631229048461,
          -0.906872396994403,
          -0.23988192131216016,
          -1.9614917247524626,
          0.5823904755813313,
          -1.1193801692557945,
          0.8318308552816366,
          -0.7558098068051601,
          0.7099805947369157,
          0.2622129159914279,
          0.45234041521296053,
          -0.45333781624007824,
          -1.5591624560808224,
          0.14955589754009757,
          0.042532647130016386,
          -0.29515420408850174,
          0.7468841380204412,
          -0.30075637307075787,
          1.8468666456361396,
          0.349329776303073,
          -1.3659029962894353,
          0.24196349094017464,
          0.7093642694862414,
          0.42390013120014924,
          0.16952567778832683,
          -0.48690258667357683,
          -0.8724138565251532,
          1.0367451639380085,
          1.0162731899375543,
          1.2817227511333238,
          1.0963533662760434,
          0.37554547886557976,
          -0.14471360360842764,
          -1.2452445131401817,
          -1.1029478425649724,
          -1.157542051838458,
          -0.67239539908866,
          -1.326749037336286,
          0.376759246361514,
          0.6539699710346577,
          0.8580451963648623,
          0.6729653968696636,
          2.6911551665544797,
          -0.671525051147614,
          -0.11673890146869877,
          -1.593489446902274,
          -1.3256767506688802,
          0.173202476859852,
          -1.1389200757237263,
          -2.185007623439091,
          -3.139204515064847,
          0.120464777745759,
          1.1210250513099758,
          0.01336528748146471,
          1.355912962800932,
          0.3593865499783559,
          -1.0609039600902184,
          -1.5404425382900173,
          -0.3850781813027051,
          0.5007428784942515,
          0.8786526898703361,
          0.43269599626147,
          0.2228666774544576,
          -0.6433973192029896,
          1.1092657015373828,
          1.0792382022513454,
          -0.9822820063408606,
          -0.44261469859124053,
          -0.17746979075039673,
          0.7350095886868749,
          -0.10673807686590155,
          -1.1455465997132093,
          -1.04971699304803,
          -0.23660704909094354,
          1.664825431283724,
          0.52314519345455,
          -0.7713133338765619,
          0.4020249405971316,
          0.370730560452333,
          0.39309217498023896,
          0.8976125204425404,
          -0.022809273831166026,
          -0.44563449993903204,
          1.4332355098767757,
          0.33501316651965235
         ]
        },
        {
         "boxpoints": false,
         "line": {
          "width": 1.3
         },
         "marker": {
          "color": "rgba(128, 0, 128, 1.0)"
         },
         "name": "D",
         "orientation": "v",
         "type": "box",
         "y": [
          -0.5972618598477876,
          0.49913129985884647,
          1.7730264589727827,
          1.1032823872819204,
          -0.8151579178878929,
          0.7544427114688668,
          1.0774286321416484,
          -0.051946512921370425,
          0.6166519502349622,
          1.4118594304742158,
          0.13717225426810745,
          0.6050015374397305,
          -0.3856010246759087,
          -0.5891087047560496,
          -0.03820969691035504,
          -1.0139398407192033,
          -1.8002177795266743,
          2.4331651321022374,
          2.619589756643213,
          0.1679663590479456,
          1.021448468810051,
          0.9512341173952743,
          0.16222026213196905,
          0.5354111619240958,
          0.5181742993661161,
          -0.871494439001104,
          -0.09685894088541698,
          1.0541791334435062,
          -0.1975401478765995,
          -0.7492561923357114,
          -1.069393525413521,
          0.5047777483460927,
          0.9137379834785593,
          0.4186634324449865,
          -1.0287345824885585,
          0.48790568201222684,
          -0.4050553157701971,
          0.11141541052830012,
          -1.7255301254782913,
          -0.08350333594487494,
          0.45249482106131833,
          -0.09343094523639385,
          -1.1097099840336093,
          0.3572648089204684,
          0.21617504521772882,
          -1.8432127866249164,
          -1.0017756232366533,
          -3.0394611961570424,
          -2.0765768625295604,
          -0.08793900930099857,
          -1.183950224972636,
          -0.5717968444413271,
          0.4138392187337821,
          -0.054182122952612474,
          0.010036201028902115,
          -0.11117296334648173,
          0.03829259173105282,
          0.5677693356912435,
          -0.09862976094514372,
          0.8366927598732063,
          -1.1388446424392644,
          -1.726824651763009,
          -2.1408436066424428,
          -0.41730496546954354,
          1.9682058113107093,
          0.14770333504684413,
          0.9518760707874068,
          0.6640022570758064,
          0.250994155569197,
          -0.6535481050924123,
          0.2050650353763908,
          1.1264110703819419,
          0.8332230610418235,
          -0.6552689024075415,
          -0.10761767621075648,
          -1.1593078130627543,
          -2.560148376587137,
          -0.7501456943804221,
          -0.655428643820223,
          -0.8165852861077829,
          -0.12019692016527625,
          0.5620944262447766,
          0.8002584560979304,
          -0.7503343293526445,
          -0.022872732491072807,
          -0.8133206402807482,
          0.5901216522003285,
          0.17342835503505383,
          -1.220213981996596,
          -0.17031710380254936,
          2.06408937773803,
          -0.48942538351366077,
          0.8770885868617431,
          1.8772108464491117,
          -0.1416863365318827,
          1.1442123784007612,
          0.6543647925446888,
          -0.31106413751265755,
          0.14154219683602615,
          -0.8936821553152134
         ]
        }
       ],
       "layout": {
        "legend": {
         "bgcolor": "#F5F6F9",
         "font": {
          "color": "#4D5663"
         }
        },
        "paper_bgcolor": "#F5F6F9",
        "plot_bgcolor": "#F5F6F9",
        "template": {
         "data": {
          "bar": [
           {
            "error_x": {
             "color": "#2a3f5f"
            },
            "error_y": {
             "color": "#2a3f5f"
            },
            "marker": {
             "line": {
              "color": "#E5ECF6",
              "width": 0.5
             }
            },
            "type": "bar"
           }
          ],
          "barpolar": [
           {
            "marker": {
             "line": {
              "color": "#E5ECF6",
              "width": 0.5
             }
            },
            "type": "barpolar"
           }
          ],
          "carpet": [
           {
            "aaxis": {
             "endlinecolor": "#2a3f5f",
             "gridcolor": "white",
             "linecolor": "white",
             "minorgridcolor": "white",
             "startlinecolor": "#2a3f5f"
            },
            "baxis": {
             "endlinecolor": "#2a3f5f",
             "gridcolor": "white",
             "linecolor": "white",
             "minorgridcolor": "white",
             "startlinecolor": "#2a3f5f"
            },
            "type": "carpet"
           }
          ],
          "choropleth": [
           {
            "colorbar": {
             "outlinewidth": 0,
             "ticks": ""
            },
            "type": "choropleth"
           }
          ],
          "contour": [
           {
            "colorbar": {
             "outlinewidth": 0,
             "ticks": ""
            },
            "colorscale": [
             [
              0,
              "#0d0887"
             ],
             [
              0.1111111111111111,
              "#46039f"
             ],
             [
              0.2222222222222222,
              "#7201a8"
             ],
             [
              0.3333333333333333,
              "#9c179e"
             ],
             [
              0.4444444444444444,
              "#bd3786"
             ],
             [
              0.5555555555555556,
              "#d8576b"
             ],
             [
              0.6666666666666666,
              "#ed7953"
             ],
             [
              0.7777777777777778,
              "#fb9f3a"
             ],
             [
              0.8888888888888888,
              "#fdca26"
             ],
             [
              1,
              "#f0f921"
             ]
            ],
            "type": "contour"
           }
          ],
          "contourcarpet": [
           {
            "colorbar": {
             "outlinewidth": 0,
             "ticks": ""
            },
            "type": "contourcarpet"
           }
          ],
          "heatmap": [
           {
            "colorbar": {
             "outlinewidth": 0,
             "ticks": ""
            },
            "colorscale": [
             [
              0,
              "#0d0887"
             ],
             [
              0.1111111111111111,
              "#46039f"
             ],
             [
              0.2222222222222222,
              "#7201a8"
             ],
             [
              0.3333333333333333,
              "#9c179e"
             ],
             [
              0.4444444444444444,
              "#bd3786"
             ],
             [
              0.5555555555555556,
              "#d8576b"
             ],
             [
              0.6666666666666666,
              "#ed7953"
             ],
             [
              0.7777777777777778,
              "#fb9f3a"
             ],
             [
              0.8888888888888888,
              "#fdca26"
             ],
             [
              1,
              "#f0f921"
             ]
            ],
            "type": "heatmap"
           }
          ],
          "heatmapgl": [
           {
            "colorbar": {
             "outlinewidth": 0,
             "ticks": ""
            },
            "colorscale": [
             [
              0,
              "#0d0887"
             ],
             [
              0.1111111111111111,
              "#46039f"
             ],
             [
              0.2222222222222222,
              "#7201a8"
             ],
             [
              0.3333333333333333,
              "#9c179e"
             ],
             [
              0.4444444444444444,
              "#bd3786"
             ],
             [
              0.5555555555555556,
              "#d8576b"
             ],
             [
              0.6666666666666666,
              "#ed7953"
             ],
             [
              0.7777777777777778,
              "#fb9f3a"
             ],
             [
              0.8888888888888888,
              "#fdca26"
             ],
             [
              1,
              "#f0f921"
             ]
            ],
            "type": "heatmapgl"
           }
          ],
          "histogram": [
           {
            "marker": {
             "colorbar": {
              "outlinewidth": 0,
              "ticks": ""
             }
            },
            "type": "histogram"
           }
          ],
          "histogram2d": [
           {
            "colorbar": {
             "outlinewidth": 0,
             "ticks": ""
            },
            "colorscale": [
             [
              0,
              "#0d0887"
             ],
             [
              0.1111111111111111,
              "#46039f"
             ],
             [
              0.2222222222222222,
              "#7201a8"
             ],
             [
              0.3333333333333333,
              "#9c179e"
             ],
             [
              0.4444444444444444,
              "#bd3786"
             ],
             [
              0.5555555555555556,
              "#d8576b"
             ],
             [
              0.6666666666666666,
              "#ed7953"
             ],
             [
              0.7777777777777778,
              "#fb9f3a"
             ],
             [
              0.8888888888888888,
              "#fdca26"
             ],
             [
              1,
              "#f0f921"
             ]
            ],
            "type": "histogram2d"
           }
          ],
          "histogram2dcontour": [
           {
            "colorbar": {
             "outlinewidth": 0,
             "ticks": ""
            },
            "colorscale": [
             [
              0,
              "#0d0887"
             ],
             [
              0.1111111111111111,
              "#46039f"
             ],
             [
              0.2222222222222222,
              "#7201a8"
             ],
             [
              0.3333333333333333,
              "#9c179e"
             ],
             [
              0.4444444444444444,
              "#bd3786"
             ],
             [
              0.5555555555555556,
              "#d8576b"
             ],
             [
              0.6666666666666666,
              "#ed7953"
             ],
             [
              0.7777777777777778,
              "#fb9f3a"
             ],
             [
              0.8888888888888888,
              "#fdca26"
             ],
             [
              1,
              "#f0f921"
             ]
            ],
            "type": "histogram2dcontour"
           }
          ],
          "mesh3d": [
           {
            "colorbar": {
             "outlinewidth": 0,
             "ticks": ""
            },
            "type": "mesh3d"
           }
          ],
          "parcoords": [
           {
            "line": {
             "colorbar": {
              "outlinewidth": 0,
              "ticks": ""
             }
            },
            "type": "parcoords"
           }
          ],
          "pie": [
           {
            "automargin": true,
            "type": "pie"
           }
          ],
          "scatter": [
           {
            "marker": {
             "colorbar": {
              "outlinewidth": 0,
              "ticks": ""
             }
            },
            "type": "scatter"
           }
          ],
          "scatter3d": [
           {
            "line": {
             "colorbar": {
              "outlinewidth": 0,
              "ticks": ""
             }
            },
            "marker": {
             "colorbar": {
              "outlinewidth": 0,
              "ticks": ""
             }
            },
            "type": "scatter3d"
           }
          ],
          "scattercarpet": [
           {
            "marker": {
             "colorbar": {
              "outlinewidth": 0,
              "ticks": ""
             }
            },
            "type": "scattercarpet"
           }
          ],
          "scattergeo": [
           {
            "marker": {
             "colorbar": {
              "outlinewidth": 0,
              "ticks": ""
             }
            },
            "type": "scattergeo"
           }
          ],
          "scattergl": [
           {
            "marker": {
             "colorbar": {
              "outlinewidth": 0,
              "ticks": ""
             }
            },
            "type": "scattergl"
           }
          ],
          "scattermapbox": [
           {
            "marker": {
             "colorbar": {
              "outlinewidth": 0,
              "ticks": ""
             }
            },
            "type": "scattermapbox"
           }
          ],
          "scatterpolar": [
           {
            "marker": {
             "colorbar": {
              "outlinewidth": 0,
              "ticks": ""
             }
            },
            "type": "scatterpolar"
           }
          ],
          "scatterpolargl": [
           {
            "marker": {
             "colorbar": {
              "outlinewidth": 0,
              "ticks": ""
             }
            },
            "type": "scatterpolargl"
           }
          ],
          "scatterternary": [
           {
            "marker": {
             "colorbar": {
              "outlinewidth": 0,
              "ticks": ""
             }
            },
            "type": "scatterternary"
           }
          ],
          "surface": [
           {
            "colorbar": {
             "outlinewidth": 0,
             "ticks": ""
            },
            "colorscale": [
             [
              0,
              "#0d0887"
             ],
             [
              0.1111111111111111,
              "#46039f"
             ],
             [
              0.2222222222222222,
              "#7201a8"
             ],
             [
              0.3333333333333333,
              "#9c179e"
             ],
             [
              0.4444444444444444,
              "#bd3786"
             ],
             [
              0.5555555555555556,
              "#d8576b"
             ],
             [
              0.6666666666666666,
              "#ed7953"
             ],
             [
              0.7777777777777778,
              "#fb9f3a"
             ],
             [
              0.8888888888888888,
              "#fdca26"
             ],
             [
              1,
              "#f0f921"
             ]
            ],
            "type": "surface"
           }
          ],
          "table": [
           {
            "cells": {
             "fill": {
              "color": "#EBF0F8"
             },
             "line": {
              "color": "white"
             }
            },
            "header": {
             "fill": {
              "color": "#C8D4E3"
             },
             "line": {
              "color": "white"
             }
            },
            "type": "table"
           }
          ]
         },
         "layout": {
          "annotationdefaults": {
           "arrowcolor": "#2a3f5f",
           "arrowhead": 0,
           "arrowwidth": 1
          },
          "autotypenumbers": "strict",
          "coloraxis": {
           "colorbar": {
            "outlinewidth": 0,
            "ticks": ""
           }
          },
          "colorscale": {
           "diverging": [
            [
             0,
             "#8e0152"
            ],
            [
             0.1,
             "#c51b7d"
            ],
            [
             0.2,
             "#de77ae"
            ],
            [
             0.3,
             "#f1b6da"
            ],
            [
             0.4,
             "#fde0ef"
            ],
            [
             0.5,
             "#f7f7f7"
            ],
            [
             0.6,
             "#e6f5d0"
            ],
            [
             0.7,
             "#b8e186"
            ],
            [
             0.8,
             "#7fbc41"
            ],
            [
             0.9,
             "#4d9221"
            ],
            [
             1,
             "#276419"
            ]
           ],
           "sequential": [
            [
             0,
             "#0d0887"
            ],
            [
             0.1111111111111111,
             "#46039f"
            ],
            [
             0.2222222222222222,
             "#7201a8"
            ],
            [
             0.3333333333333333,
             "#9c179e"
            ],
            [
             0.4444444444444444,
             "#bd3786"
            ],
            [
             0.5555555555555556,
             "#d8576b"
            ],
            [
             0.6666666666666666,
             "#ed7953"
            ],
            [
             0.7777777777777778,
             "#fb9f3a"
            ],
            [
             0.8888888888888888,
             "#fdca26"
            ],
            [
             1,
             "#f0f921"
            ]
           ],
           "sequentialminus": [
            [
             0,
             "#0d0887"
            ],
            [
             0.1111111111111111,
             "#46039f"
            ],
            [
             0.2222222222222222,
             "#7201a8"
            ],
            [
             0.3333333333333333,
             "#9c179e"
            ],
            [
             0.4444444444444444,
             "#bd3786"
            ],
            [
             0.5555555555555556,
             "#d8576b"
            ],
            [
             0.6666666666666666,
             "#ed7953"
            ],
            [
             0.7777777777777778,
             "#fb9f3a"
            ],
            [
             0.8888888888888888,
             "#fdca26"
            ],
            [
             1,
             "#f0f921"
            ]
           ]
          },
          "colorway": [
           "#636efa",
           "#EF553B",
           "#00cc96",
           "#ab63fa",
           "#FFA15A",
           "#19d3f3",
           "#FF6692",
           "#B6E880",
           "#FF97FF",
           "#FECB52"
          ],
          "font": {
           "color": "#2a3f5f"
          },
          "geo": {
           "bgcolor": "white",
           "lakecolor": "white",
           "landcolor": "#E5ECF6",
           "showlakes": true,
           "showland": true,
           "subunitcolor": "white"
          },
          "hoverlabel": {
           "align": "left"
          },
          "hovermode": "closest",
          "mapbox": {
           "style": "light"
          },
          "paper_bgcolor": "white",
          "plot_bgcolor": "#E5ECF6",
          "polar": {
           "angularaxis": {
            "gridcolor": "white",
            "linecolor": "white",
            "ticks": ""
           },
           "bgcolor": "#E5ECF6",
           "radialaxis": {
            "gridcolor": "white",
            "linecolor": "white",
            "ticks": ""
           }
          },
          "scene": {
           "xaxis": {
            "backgroundcolor": "#E5ECF6",
            "gridcolor": "white",
            "gridwidth": 2,
            "linecolor": "white",
            "showbackground": true,
            "ticks": "",
            "zerolinecolor": "white"
           },
           "yaxis": {
            "backgroundcolor": "#E5ECF6",
            "gridcolor": "white",
            "gridwidth": 2,
            "linecolor": "white",
            "showbackground": true,
            "ticks": "",
            "zerolinecolor": "white"
           },
           "zaxis": {
            "backgroundcolor": "#E5ECF6",
            "gridcolor": "white",
            "gridwidth": 2,
            "linecolor": "white",
            "showbackground": true,
            "ticks": "",
            "zerolinecolor": "white"
           }
          },
          "shapedefaults": {
           "line": {
            "color": "#2a3f5f"
           }
          },
          "ternary": {
           "aaxis": {
            "gridcolor": "white",
            "linecolor": "white",
            "ticks": ""
           },
           "baxis": {
            "gridcolor": "white",
            "linecolor": "white",
            "ticks": ""
           },
           "bgcolor": "#E5ECF6",
           "caxis": {
            "gridcolor": "white",
            "linecolor": "white",
            "ticks": ""
           }
          },
          "title": {
           "x": 0.05
          },
          "xaxis": {
           "automargin": true,
           "gridcolor": "white",
           "linecolor": "white",
           "ticks": "",
           "title": {
            "standoff": 15
           },
           "zerolinecolor": "white",
           "zerolinewidth": 2
          },
          "yaxis": {
           "automargin": true,
           "gridcolor": "white",
           "linecolor": "white",
           "ticks": "",
           "title": {
            "standoff": 15
           },
           "zerolinecolor": "white",
           "zerolinewidth": 2
          }
         }
        },
        "title": {
         "font": {
          "color": "#4D5663"
         }
        },
        "xaxis": {
         "gridcolor": "#E1E5ED",
         "showgrid": true,
         "tickfont": {
          "color": "#4D5663"
         },
         "title": {
          "font": {
           "color": "#4D5663"
          },
          "text": ""
         },
         "zerolinecolor": "#E1E5ED"
        },
        "yaxis": {
         "gridcolor": "#E1E5ED",
         "showgrid": true,
         "tickfont": {
          "color": "#4D5663"
         },
         "title": {
          "font": {
           "color": "#4D5663"
          },
          "text": ""
         },
         "zerolinecolor": "#E1E5ED"
        }
       }
      },
      "text/html": [
       "<div>                            <div id=\"64c3cc6d-00b4-4734-b4aa-bf4a6a8853a6\" class=\"plotly-graph-div\" style=\"height:525px; width:100%;\"></div>            <script type=\"text/javascript\">                require([\"plotly\"], function(Plotly) {                    window.PLOTLYENV=window.PLOTLYENV || {};\n",
       "                    window.PLOTLYENV.BASE_URL='https://plot.ly';                                    if (document.getElementById(\"64c3cc6d-00b4-4734-b4aa-bf4a6a8853a6\")) {                    Plotly.newPlot(                        \"64c3cc6d-00b4-4734-b4aa-bf4a6a8853a6\",                        [{\"boxpoints\": false, \"line\": {\"width\": 1.3}, \"marker\": {\"color\": \"rgba(255, 153, 51, 1.0)\"}, \"name\": \"A\", \"orientation\": \"v\", \"type\": \"box\", \"y\": [-0.020189904066568676, 0.1605430195388812, 0.2183093910227895, -2.4481729834834183, -1.3420320191794017, -0.11221568571796266, 0.5438037913168252, -0.6738957753062436, 1.2812552096620458, -1.9536234368933418, 0.6253512625110269, -0.367816742191912, -0.768336789815034, -0.4129987988772313, 0.19697310981348015, -0.27701278168076676, -2.1850709253021408, -0.5250012837190554, -0.2960852772923362, 2.1017025013406174, -1.0911147300173158, 0.03328166238849761, 0.8748423978764613, -0.7007281434378153, -0.7032378773912719, 0.8163765079870988, 0.6030432620160926, 0.9510948268094824, 0.27023316558141663, -0.7311343794012733, -0.8666389092607147, 1.6069767733420819, -0.48121297176306743, 0.8828189161472906, 1.032297574576932, -1.5001633282861504, 0.5649349776911442, -0.051387101531794106, -0.2781026509732436, -0.8923371781052455, 1.1915575077827307, -1.2536370325127713, -0.2805725925410075, 1.070862086463324, -0.5607966024437397, 0.44671495095770924, 0.9055046646215376, 0.9966668848767872, -0.6389673657208839, -0.19119612298566752, -1.867018118228768, 1.7299122438438277, -1.5392952098290518, 1.9085227576174537, -0.7365200192739271, 0.291020559910531, -0.6876208386672505, -0.4396880008989103, 0.8766948555928455, 0.48993246404209895, 0.04486282746655476, 0.3311347774803122, 1.3444595160554034, 1.2292855329948622, -0.37737713594871525, -0.20849767131121968, 0.8803939015253044, 0.6916060145498991, -0.6001880277835497, -1.0400549304427917, 0.003272206458725557, -1.3528129854600308, -0.3469507174506524, -0.9140855889241825, 0.9577028104654609, -0.20396839758209903, -0.5635726556127097, -0.6292571060303892, -1.4412942860438325, -0.023173287497486254, 0.2867170728131295, 1.4891400934905492, 1.683467368370149, 0.0032825188849990358, -1.724488989643146, 0.3619017524142584, -1.086482992483747, 1.3030784312470234, 2.086086574606949, -0.9148799666797345, -2.53659794781672, 0.14790147153220412, 1.5081605357439327, 0.03172942631163809, -1.3844203538077873, 2.7317365325469214, 1.8435597585089694, -0.9235347978823618, -2.2293208131348097, 0.8302728483937458]}, {\"boxpoints\": false, \"line\": {\"width\": 1.3}, \"marker\": {\"color\": \"rgba(55, 128, 191, 1.0)\"}, \"name\": \"B\", \"orientation\": \"v\", \"type\": \"box\", \"y\": [-0.4380037600693329, 1.3856258480513495, -1.6439581318945904, 1.780163099731763, -0.06886238487724357, -0.3419320878039712, 1.7176474787692995, -3.0128342192986843, 1.268848134771191, 0.2448222463181939, 0.6832274431968387, 0.5900880475260439, -0.28351085192768744, 0.03951006673344334, 0.33378442318795754, 0.0036633902122219066, -1.0335621009028737, -1.4346287159598332, -0.7637090963596298, -0.49509070170442804, 0.7017553526944327, 1.0578719391875344, 0.7596212001824827, 0.8464267198538894, 0.5115456059271346, 1.4785023222198197, -2.1651187773032246, 1.0007144847757021, 0.7384916218488192, 0.26590612111690903, 1.956294281895234, -0.8617578488568759, 0.011053299902504497, 1.5429553670798497, 1.7290962461445358, -0.08249248371447555, -0.5315109256761953, -0.5644574743776344, 0.7402337629534262, -0.6086185725746197, 0.2187789432258602, -0.125717596041093, 0.20048527432005395, 2.731679171077915, -1.8603447004357492, 0.9554304810338209, -1.4103828466835837, 1.065950515655746, -1.236848826065617, -0.7318542012955099, 2.2934039074168857, -0.7557077880124786, 2.0115055050237043, 0.37154483900426716, -1.9242514925498644, 0.7925365130656604, -0.2819909724010163, -0.40942736078084324, -0.7623793634102329, 1.1645877433591125, -0.38777448037124174, -0.1723366430999955, 0.016858458282385105, 0.04213951346102748, -0.2200209199138018, 0.4556172925040396, 0.9847325399374394, 0.3486345501482719, 0.9407477147125772, -0.13776682864629283, 0.25163129965039865, 1.1259847998476251, -1.2270319722269811, -0.8076192569794358, -0.1342328858251307, 0.19426191413022975, -0.9440956952124823, -0.5819788729383728, -0.48095783847540297, -0.8869083142131824, -0.14477563692269194, 1.6866780586582282, 1.5258822957160807, -1.0275474178043047, -1.0323270449559678, 0.9102697897984027, -0.1566664582921049, 0.7704706110055723, -0.37923470972809126, 0.15897524427418847, -0.4839263654265887, -0.39319145215301765, 0.4437255355807462, -0.4350402940246013, 0.7316571164610378, -1.8887992487543999, 0.6035468169807476, 0.16115878831117503, 1.375156129392616, 0.5982663947397071]}, {\"boxpoints\": false, \"line\": {\"width\": 1.3}, \"marker\": {\"color\": \"rgba(50, 171, 96, 1.0)\"}, \"name\": \"C\", \"orientation\": \"v\", \"type\": \"box\", \"y\": [-0.9331308355733341, 0.12539125190782266, -0.5826274882840796, 1.538666334357524, -1.7274960200280642, -0.6246340895816981, 0.8757756779822631, 1.1446178716120907, -1.8674807150864499, 0.4929854879925438, 1.6087237941600827, 0.00403581169119472, 0.3387429698083554, -1.091562519111494, 0.049621223832586596, 0.413631229048461, -0.906872396994403, -0.23988192131216016, -1.9614917247524626, 0.5823904755813313, -1.1193801692557945, 0.8318308552816366, -0.7558098068051601, 0.7099805947369157, 0.2622129159914279, 0.45234041521296053, -0.45333781624007824, -1.5591624560808224, 0.14955589754009757, 0.042532647130016386, -0.29515420408850174, 0.7468841380204412, -0.30075637307075787, 1.8468666456361396, 0.349329776303073, -1.3659029962894353, 0.24196349094017464, 0.7093642694862414, 0.42390013120014924, 0.16952567778832683, -0.48690258667357683, -0.8724138565251532, 1.0367451639380085, 1.0162731899375543, 1.2817227511333238, 1.0963533662760434, 0.37554547886557976, -0.14471360360842764, -1.2452445131401817, -1.1029478425649724, -1.157542051838458, -0.67239539908866, -1.326749037336286, 0.376759246361514, 0.6539699710346577, 0.8580451963648623, 0.6729653968696636, 2.6911551665544797, -0.671525051147614, -0.11673890146869877, -1.593489446902274, -1.3256767506688802, 0.173202476859852, -1.1389200757237263, -2.185007623439091, -3.139204515064847, 0.120464777745759, 1.1210250513099758, 0.01336528748146471, 1.355912962800932, 0.3593865499783559, -1.0609039600902184, -1.5404425382900173, -0.3850781813027051, 0.5007428784942515, 0.8786526898703361, 0.43269599626147, 0.2228666774544576, -0.6433973192029896, 1.1092657015373828, 1.0792382022513454, -0.9822820063408606, -0.44261469859124053, -0.17746979075039673, 0.7350095886868749, -0.10673807686590155, -1.1455465997132093, -1.04971699304803, -0.23660704909094354, 1.664825431283724, 0.52314519345455, -0.7713133338765619, 0.4020249405971316, 0.370730560452333, 0.39309217498023896, 0.8976125204425404, -0.022809273831166026, -0.44563449993903204, 1.4332355098767757, 0.33501316651965235]}, {\"boxpoints\": false, \"line\": {\"width\": 1.3}, \"marker\": {\"color\": \"rgba(128, 0, 128, 1.0)\"}, \"name\": \"D\", \"orientation\": \"v\", \"type\": \"box\", \"y\": [-0.5972618598477876, 0.49913129985884647, 1.7730264589727827, 1.1032823872819204, -0.8151579178878929, 0.7544427114688668, 1.0774286321416484, -0.051946512921370425, 0.6166519502349622, 1.4118594304742158, 0.13717225426810745, 0.6050015374397305, -0.3856010246759087, -0.5891087047560496, -0.03820969691035504, -1.0139398407192033, -1.8002177795266743, 2.4331651321022374, 2.619589756643213, 0.1679663590479456, 1.021448468810051, 0.9512341173952743, 0.16222026213196905, 0.5354111619240958, 0.5181742993661161, -0.871494439001104, -0.09685894088541698, 1.0541791334435062, -0.1975401478765995, -0.7492561923357114, -1.069393525413521, 0.5047777483460927, 0.9137379834785593, 0.4186634324449865, -1.0287345824885585, 0.48790568201222684, -0.4050553157701971, 0.11141541052830012, -1.7255301254782913, -0.08350333594487494, 0.45249482106131833, -0.09343094523639385, -1.1097099840336093, 0.3572648089204684, 0.21617504521772882, -1.8432127866249164, -1.0017756232366533, -3.0394611961570424, -2.0765768625295604, -0.08793900930099857, -1.183950224972636, -0.5717968444413271, 0.4138392187337821, -0.054182122952612474, 0.010036201028902115, -0.11117296334648173, 0.03829259173105282, 0.5677693356912435, -0.09862976094514372, 0.8366927598732063, -1.1388446424392644, -1.726824651763009, -2.1408436066424428, -0.41730496546954354, 1.9682058113107093, 0.14770333504684413, 0.9518760707874068, 0.6640022570758064, 0.250994155569197, -0.6535481050924123, 0.2050650353763908, 1.1264110703819419, 0.8332230610418235, -0.6552689024075415, -0.10761767621075648, -1.1593078130627543, -2.560148376587137, -0.7501456943804221, -0.655428643820223, -0.8165852861077829, -0.12019692016527625, 0.5620944262447766, 0.8002584560979304, -0.7503343293526445, -0.022872732491072807, -0.8133206402807482, 0.5901216522003285, 0.17342835503505383, -1.220213981996596, -0.17031710380254936, 2.06408937773803, -0.48942538351366077, 0.8770885868617431, 1.8772108464491117, -0.1416863365318827, 1.1442123784007612, 0.6543647925446888, -0.31106413751265755, 0.14154219683602615, -0.8936821553152134]}],                        {\"legend\": {\"bgcolor\": \"#F5F6F9\", \"font\": {\"color\": \"#4D5663\"}}, \"paper_bgcolor\": \"#F5F6F9\", \"plot_bgcolor\": \"#F5F6F9\", \"template\": {\"data\": {\"bar\": [{\"error_x\": {\"color\": \"#2a3f5f\"}, \"error_y\": {\"color\": \"#2a3f5f\"}, \"marker\": {\"line\": {\"color\": \"#E5ECF6\", \"width\": 0.5}}, \"type\": \"bar\"}], \"barpolar\": [{\"marker\": {\"line\": {\"color\": \"#E5ECF6\", \"width\": 0.5}}, \"type\": \"barpolar\"}], \"carpet\": [{\"aaxis\": {\"endlinecolor\": \"#2a3f5f\", \"gridcolor\": \"white\", \"linecolor\": \"white\", \"minorgridcolor\": \"white\", \"startlinecolor\": \"#2a3f5f\"}, \"baxis\": {\"endlinecolor\": \"#2a3f5f\", \"gridcolor\": \"white\", \"linecolor\": \"white\", \"minorgridcolor\": \"white\", \"startlinecolor\": \"#2a3f5f\"}, \"type\": \"carpet\"}], \"choropleth\": [{\"colorbar\": {\"outlinewidth\": 0, \"ticks\": \"\"}, \"type\": \"choropleth\"}], \"contour\": [{\"colorbar\": {\"outlinewidth\": 0, \"ticks\": \"\"}, \"colorscale\": [[0.0, \"#0d0887\"], [0.1111111111111111, \"#46039f\"], [0.2222222222222222, \"#7201a8\"], [0.3333333333333333, \"#9c179e\"], [0.4444444444444444, \"#bd3786\"], [0.5555555555555556, \"#d8576b\"], [0.6666666666666666, \"#ed7953\"], [0.7777777777777778, \"#fb9f3a\"], [0.8888888888888888, \"#fdca26\"], [1.0, \"#f0f921\"]], \"type\": \"contour\"}], \"contourcarpet\": [{\"colorbar\": {\"outlinewidth\": 0, \"ticks\": \"\"}, \"type\": \"contourcarpet\"}], \"heatmap\": [{\"colorbar\": {\"outlinewidth\": 0, \"ticks\": \"\"}, \"colorscale\": [[0.0, \"#0d0887\"], [0.1111111111111111, \"#46039f\"], [0.2222222222222222, \"#7201a8\"], [0.3333333333333333, \"#9c179e\"], [0.4444444444444444, \"#bd3786\"], [0.5555555555555556, \"#d8576b\"], [0.6666666666666666, \"#ed7953\"], [0.7777777777777778, \"#fb9f3a\"], [0.8888888888888888, \"#fdca26\"], [1.0, \"#f0f921\"]], \"type\": \"heatmap\"}], \"heatmapgl\": [{\"colorbar\": {\"outlinewidth\": 0, \"ticks\": \"\"}, \"colorscale\": [[0.0, \"#0d0887\"], [0.1111111111111111, \"#46039f\"], [0.2222222222222222, \"#7201a8\"], [0.3333333333333333, \"#9c179e\"], [0.4444444444444444, \"#bd3786\"], [0.5555555555555556, \"#d8576b\"], [0.6666666666666666, \"#ed7953\"], [0.7777777777777778, \"#fb9f3a\"], [0.8888888888888888, \"#fdca26\"], [1.0, \"#f0f921\"]], \"type\": \"heatmapgl\"}], \"histogram\": [{\"marker\": {\"colorbar\": {\"outlinewidth\": 0, \"ticks\": \"\"}}, \"type\": \"histogram\"}], \"histogram2d\": [{\"colorbar\": {\"outlinewidth\": 0, \"ticks\": \"\"}, \"colorscale\": [[0.0, \"#0d0887\"], [0.1111111111111111, \"#46039f\"], [0.2222222222222222, \"#7201a8\"], [0.3333333333333333, \"#9c179e\"], [0.4444444444444444, \"#bd3786\"], [0.5555555555555556, \"#d8576b\"], [0.6666666666666666, \"#ed7953\"], [0.7777777777777778, \"#fb9f3a\"], [0.8888888888888888, \"#fdca26\"], [1.0, \"#f0f921\"]], \"type\": \"histogram2d\"}], \"histogram2dcontour\": [{\"colorbar\": {\"outlinewidth\": 0, \"ticks\": \"\"}, \"colorscale\": [[0.0, \"#0d0887\"], [0.1111111111111111, \"#46039f\"], [0.2222222222222222, \"#7201a8\"], [0.3333333333333333, \"#9c179e\"], [0.4444444444444444, \"#bd3786\"], [0.5555555555555556, \"#d8576b\"], [0.6666666666666666, \"#ed7953\"], [0.7777777777777778, \"#fb9f3a\"], [0.8888888888888888, \"#fdca26\"], [1.0, \"#f0f921\"]], \"type\": \"histogram2dcontour\"}], \"mesh3d\": [{\"colorbar\": {\"outlinewidth\": 0, \"ticks\": \"\"}, \"type\": \"mesh3d\"}], \"parcoords\": [{\"line\": {\"colorbar\": {\"outlinewidth\": 0, \"ticks\": \"\"}}, \"type\": \"parcoords\"}], \"pie\": [{\"automargin\": true, \"type\": \"pie\"}], \"scatter\": [{\"marker\": {\"colorbar\": {\"outlinewidth\": 0, \"ticks\": \"\"}}, \"type\": \"scatter\"}], \"scatter3d\": [{\"line\": {\"colorbar\": {\"outlinewidth\": 0, \"ticks\": \"\"}}, \"marker\": {\"colorbar\": {\"outlinewidth\": 0, \"ticks\": \"\"}}, \"type\": \"scatter3d\"}], \"scattercarpet\": [{\"marker\": {\"colorbar\": {\"outlinewidth\": 0, \"ticks\": \"\"}}, \"type\": \"scattercarpet\"}], \"scattergeo\": [{\"marker\": {\"colorbar\": {\"outlinewidth\": 0, \"ticks\": \"\"}}, \"type\": \"scattergeo\"}], \"scattergl\": [{\"marker\": {\"colorbar\": {\"outlinewidth\": 0, \"ticks\": \"\"}}, \"type\": \"scattergl\"}], \"scattermapbox\": [{\"marker\": {\"colorbar\": {\"outlinewidth\": 0, \"ticks\": \"\"}}, \"type\": \"scattermapbox\"}], \"scatterpolar\": [{\"marker\": {\"colorbar\": {\"outlinewidth\": 0, \"ticks\": \"\"}}, \"type\": \"scatterpolar\"}], \"scatterpolargl\": [{\"marker\": {\"colorbar\": {\"outlinewidth\": 0, \"ticks\": \"\"}}, \"type\": \"scatterpolargl\"}], \"scatterternary\": [{\"marker\": {\"colorbar\": {\"outlinewidth\": 0, \"ticks\": \"\"}}, \"type\": \"scatterternary\"}], \"surface\": [{\"colorbar\": {\"outlinewidth\": 0, \"ticks\": \"\"}, \"colorscale\": [[0.0, \"#0d0887\"], [0.1111111111111111, \"#46039f\"], [0.2222222222222222, \"#7201a8\"], [0.3333333333333333, \"#9c179e\"], [0.4444444444444444, \"#bd3786\"], [0.5555555555555556, \"#d8576b\"], [0.6666666666666666, \"#ed7953\"], [0.7777777777777778, \"#fb9f3a\"], [0.8888888888888888, \"#fdca26\"], [1.0, \"#f0f921\"]], \"type\": \"surface\"}], \"table\": [{\"cells\": {\"fill\": {\"color\": \"#EBF0F8\"}, \"line\": {\"color\": \"white\"}}, \"header\": {\"fill\": {\"color\": \"#C8D4E3\"}, \"line\": {\"color\": \"white\"}}, \"type\": \"table\"}]}, \"layout\": {\"annotationdefaults\": {\"arrowcolor\": \"#2a3f5f\", \"arrowhead\": 0, \"arrowwidth\": 1}, \"autotypenumbers\": \"strict\", \"coloraxis\": {\"colorbar\": {\"outlinewidth\": 0, \"ticks\": \"\"}}, \"colorscale\": {\"diverging\": [[0, \"#8e0152\"], [0.1, \"#c51b7d\"], [0.2, \"#de77ae\"], [0.3, \"#f1b6da\"], [0.4, \"#fde0ef\"], [0.5, \"#f7f7f7\"], [0.6, \"#e6f5d0\"], [0.7, \"#b8e186\"], [0.8, \"#7fbc41\"], [0.9, \"#4d9221\"], [1, \"#276419\"]], \"sequential\": [[0.0, \"#0d0887\"], [0.1111111111111111, \"#46039f\"], [0.2222222222222222, \"#7201a8\"], [0.3333333333333333, \"#9c179e\"], [0.4444444444444444, \"#bd3786\"], [0.5555555555555556, \"#d8576b\"], [0.6666666666666666, \"#ed7953\"], [0.7777777777777778, \"#fb9f3a\"], [0.8888888888888888, \"#fdca26\"], [1.0, \"#f0f921\"]], \"sequentialminus\": [[0.0, \"#0d0887\"], [0.1111111111111111, \"#46039f\"], [0.2222222222222222, \"#7201a8\"], [0.3333333333333333, \"#9c179e\"], [0.4444444444444444, \"#bd3786\"], [0.5555555555555556, \"#d8576b\"], [0.6666666666666666, \"#ed7953\"], [0.7777777777777778, \"#fb9f3a\"], [0.8888888888888888, \"#fdca26\"], [1.0, \"#f0f921\"]]}, \"colorway\": [\"#636efa\", \"#EF553B\", \"#00cc96\", \"#ab63fa\", \"#FFA15A\", \"#19d3f3\", \"#FF6692\", \"#B6E880\", \"#FF97FF\", \"#FECB52\"], \"font\": {\"color\": \"#2a3f5f\"}, \"geo\": {\"bgcolor\": \"white\", \"lakecolor\": \"white\", \"landcolor\": \"#E5ECF6\", \"showlakes\": true, \"showland\": true, \"subunitcolor\": \"white\"}, \"hoverlabel\": {\"align\": \"left\"}, \"hovermode\": \"closest\", \"mapbox\": {\"style\": \"light\"}, \"paper_bgcolor\": \"white\", \"plot_bgcolor\": \"#E5ECF6\", \"polar\": {\"angularaxis\": {\"gridcolor\": \"white\", \"linecolor\": \"white\", \"ticks\": \"\"}, \"bgcolor\": \"#E5ECF6\", \"radialaxis\": {\"gridcolor\": \"white\", \"linecolor\": \"white\", \"ticks\": \"\"}}, \"scene\": {\"xaxis\": {\"backgroundcolor\": \"#E5ECF6\", \"gridcolor\": \"white\", \"gridwidth\": 2, \"linecolor\": \"white\", \"showbackground\": true, \"ticks\": \"\", \"zerolinecolor\": \"white\"}, \"yaxis\": {\"backgroundcolor\": \"#E5ECF6\", \"gridcolor\": \"white\", \"gridwidth\": 2, \"linecolor\": \"white\", \"showbackground\": true, \"ticks\": \"\", \"zerolinecolor\": \"white\"}, \"zaxis\": {\"backgroundcolor\": \"#E5ECF6\", \"gridcolor\": \"white\", \"gridwidth\": 2, \"linecolor\": \"white\", \"showbackground\": true, \"ticks\": \"\", \"zerolinecolor\": \"white\"}}, \"shapedefaults\": {\"line\": {\"color\": \"#2a3f5f\"}}, \"ternary\": {\"aaxis\": {\"gridcolor\": \"white\", \"linecolor\": \"white\", \"ticks\": \"\"}, \"baxis\": {\"gridcolor\": \"white\", \"linecolor\": \"white\", \"ticks\": \"\"}, \"bgcolor\": \"#E5ECF6\", \"caxis\": {\"gridcolor\": \"white\", \"linecolor\": \"white\", \"ticks\": \"\"}}, \"title\": {\"x\": 0.05}, \"xaxis\": {\"automargin\": true, \"gridcolor\": \"white\", \"linecolor\": \"white\", \"ticks\": \"\", \"title\": {\"standoff\": 15}, \"zerolinecolor\": \"white\", \"zerolinewidth\": 2}, \"yaxis\": {\"automargin\": true, \"gridcolor\": \"white\", \"linecolor\": \"white\", \"ticks\": \"\", \"title\": {\"standoff\": 15}, \"zerolinecolor\": \"white\", \"zerolinewidth\": 2}}}, \"title\": {\"font\": {\"color\": \"#4D5663\"}}, \"xaxis\": {\"gridcolor\": \"#E1E5ED\", \"showgrid\": true, \"tickfont\": {\"color\": \"#4D5663\"}, \"title\": {\"font\": {\"color\": \"#4D5663\"}, \"text\": \"\"}, \"zerolinecolor\": \"#E1E5ED\"}, \"yaxis\": {\"gridcolor\": \"#E1E5ED\", \"showgrid\": true, \"tickfont\": {\"color\": \"#4D5663\"}, \"title\": {\"font\": {\"color\": \"#4D5663\"}, \"text\": \"\"}, \"zerolinecolor\": \"#E1E5ED\"}},                        {\"showLink\": true, \"linkText\": \"Export to plot.ly\", \"plotlyServerURL\": \"https://plot.ly\", \"responsive\": true}                    ).then(function(){\n",
       "                            \n",
       "var gd = document.getElementById('64c3cc6d-00b4-4734-b4aa-bf4a6a8853a6');\n",
       "var x = new MutationObserver(function (mutations, observer) {{\n",
       "        var display = window.getComputedStyle(gd).display;\n",
       "        if (!display || display === 'none') {{\n",
       "            console.log([gd, 'removed!']);\n",
       "            Plotly.purge(gd);\n",
       "            observer.disconnect();\n",
       "        }}\n",
       "}});\n",
       "\n",
       "// Listen for the removal of the full notebook cells\n",
       "var notebookContainer = gd.closest('#notebook-container');\n",
       "if (notebookContainer) {{\n",
       "    x.observe(notebookContainer, {childList: true});\n",
       "}}\n",
       "\n",
       "// Listen for the clearing of the current output cell\n",
       "var outputEl = gd.closest('.output');\n",
       "if (outputEl) {{\n",
       "    x.observe(outputEl, {childList: true});\n",
       "}}\n",
       "\n",
       "                        })                };                });            </script>        </div>"
      ]
     },
     "metadata": {},
     "output_type": "display_data"
    }
   ],
   "source": [
    "df.iplot(kind='box')"
   ]
  },
  {
   "cell_type": "code",
   "execution_count": null,
   "metadata": {},
   "outputs": [],
   "source": []
  },
  {
   "cell_type": "code",
   "execution_count": 47,
   "metadata": {},
   "outputs": [],
   "source": [
    "df3 = pd.DataFrame({'x':[1,2,3,4,5], 'y':[10,20,30,20,100], 'z':[5,4,3,2,1]})"
   ]
  },
  {
   "cell_type": "code",
   "execution_count": 45,
   "metadata": {},
   "outputs": [
    {
     "data": {
      "text/html": [
       "<div>\n",
       "<style scoped>\n",
       "    .dataframe tbody tr th:only-of-type {\n",
       "        vertical-align: middle;\n",
       "    }\n",
       "\n",
       "    .dataframe tbody tr th {\n",
       "        vertical-align: top;\n",
       "    }\n",
       "\n",
       "    .dataframe thead th {\n",
       "        text-align: right;\n",
       "    }\n",
       "</style>\n",
       "<table border=\"1\" class=\"dataframe\">\n",
       "  <thead>\n",
       "    <tr style=\"text-align: right;\">\n",
       "      <th></th>\n",
       "      <th>x</th>\n",
       "      <th>y</th>\n",
       "      <th>z</th>\n",
       "    </tr>\n",
       "  </thead>\n",
       "  <tbody>\n",
       "    <tr>\n",
       "      <th>0</th>\n",
       "      <td>1</td>\n",
       "      <td>10</td>\n",
       "      <td>5</td>\n",
       "    </tr>\n",
       "    <tr>\n",
       "      <th>1</th>\n",
       "      <td>2</td>\n",
       "      <td>20</td>\n",
       "      <td>4</td>\n",
       "    </tr>\n",
       "    <tr>\n",
       "      <th>2</th>\n",
       "      <td>3</td>\n",
       "      <td>30</td>\n",
       "      <td>3</td>\n",
       "    </tr>\n",
       "    <tr>\n",
       "      <th>3</th>\n",
       "      <td>4</td>\n",
       "      <td>40</td>\n",
       "      <td>2</td>\n",
       "    </tr>\n",
       "    <tr>\n",
       "      <th>4</th>\n",
       "      <td>5</td>\n",
       "      <td>50</td>\n",
       "      <td>1</td>\n",
       "    </tr>\n",
       "  </tbody>\n",
       "</table>\n",
       "</div>"
      ],
      "text/plain": [
       "   x   y  z\n",
       "0  1  10  5\n",
       "1  2  20  4\n",
       "2  3  30  3\n",
       "3  4  40  2\n",
       "4  5  50  1"
      ]
     },
     "execution_count": 45,
     "metadata": {},
     "output_type": "execute_result"
    }
   ],
   "source": [
    "df3"
   ]
  },
  {
   "cell_type": "code",
   "execution_count": 49,
   "metadata": {},
   "outputs": [
    {
     "data": {
      "application/vnd.plotly.v1+json": {
       "config": {
        "linkText": "Export to plot.ly",
        "plotlyServerURL": "https://plot.ly",
        "showLink": true
       },
       "data": [
        {
         "colorscale": [
          [
           0,
           "rgb(165,0,38)"
          ],
          [
           0.1,
           "rgb(215,48,39)"
          ],
          [
           0.2,
           "rgb(244,109,67)"
          ],
          [
           0.3,
           "rgb(253,174,97)"
          ],
          [
           0.4,
           "rgb(254,224,144)"
          ],
          [
           0.5,
           "rgb(255,255,191)"
          ],
          [
           0.6,
           "rgb(224,243,248)"
          ],
          [
           0.7,
           "rgb(171,217,233)"
          ],
          [
           0.8,
           "rgb(116,173,209)"
          ],
          [
           0.9,
           "rgb(69,117,180)"
          ],
          [
           1,
           "rgb(49,54,149)"
          ]
         ],
         "type": "surface",
         "x": [
          0,
          1,
          2,
          3,
          4
         ],
         "y": [
          "x",
          "y",
          "z"
         ],
         "z": [
          [
           1,
           2,
           3,
           4,
           5
          ],
          [
           10,
           20,
           30,
           20,
           100
          ],
          [
           5,
           4,
           3,
           2,
           1
          ]
         ]
        }
       ],
       "layout": {
        "legend": {
         "bgcolor": "#F5F6F9",
         "font": {
          "color": "#4D5663"
         }
        },
        "paper_bgcolor": "#F5F6F9",
        "plot_bgcolor": "#F5F6F9",
        "template": {
         "data": {
          "bar": [
           {
            "error_x": {
             "color": "#2a3f5f"
            },
            "error_y": {
             "color": "#2a3f5f"
            },
            "marker": {
             "line": {
              "color": "#E5ECF6",
              "width": 0.5
             }
            },
            "type": "bar"
           }
          ],
          "barpolar": [
           {
            "marker": {
             "line": {
              "color": "#E5ECF6",
              "width": 0.5
             }
            },
            "type": "barpolar"
           }
          ],
          "carpet": [
           {
            "aaxis": {
             "endlinecolor": "#2a3f5f",
             "gridcolor": "white",
             "linecolor": "white",
             "minorgridcolor": "white",
             "startlinecolor": "#2a3f5f"
            },
            "baxis": {
             "endlinecolor": "#2a3f5f",
             "gridcolor": "white",
             "linecolor": "white",
             "minorgridcolor": "white",
             "startlinecolor": "#2a3f5f"
            },
            "type": "carpet"
           }
          ],
          "choropleth": [
           {
            "colorbar": {
             "outlinewidth": 0,
             "ticks": ""
            },
            "type": "choropleth"
           }
          ],
          "contour": [
           {
            "colorbar": {
             "outlinewidth": 0,
             "ticks": ""
            },
            "colorscale": [
             [
              0,
              "#0d0887"
             ],
             [
              0.1111111111111111,
              "#46039f"
             ],
             [
              0.2222222222222222,
              "#7201a8"
             ],
             [
              0.3333333333333333,
              "#9c179e"
             ],
             [
              0.4444444444444444,
              "#bd3786"
             ],
             [
              0.5555555555555556,
              "#d8576b"
             ],
             [
              0.6666666666666666,
              "#ed7953"
             ],
             [
              0.7777777777777778,
              "#fb9f3a"
             ],
             [
              0.8888888888888888,
              "#fdca26"
             ],
             [
              1,
              "#f0f921"
             ]
            ],
            "type": "contour"
           }
          ],
          "contourcarpet": [
           {
            "colorbar": {
             "outlinewidth": 0,
             "ticks": ""
            },
            "type": "contourcarpet"
           }
          ],
          "heatmap": [
           {
            "colorbar": {
             "outlinewidth": 0,
             "ticks": ""
            },
            "colorscale": [
             [
              0,
              "#0d0887"
             ],
             [
              0.1111111111111111,
              "#46039f"
             ],
             [
              0.2222222222222222,
              "#7201a8"
             ],
             [
              0.3333333333333333,
              "#9c179e"
             ],
             [
              0.4444444444444444,
              "#bd3786"
             ],
             [
              0.5555555555555556,
              "#d8576b"
             ],
             [
              0.6666666666666666,
              "#ed7953"
             ],
             [
              0.7777777777777778,
              "#fb9f3a"
             ],
             [
              0.8888888888888888,
              "#fdca26"
             ],
             [
              1,
              "#f0f921"
             ]
            ],
            "type": "heatmap"
           }
          ],
          "heatmapgl": [
           {
            "colorbar": {
             "outlinewidth": 0,
             "ticks": ""
            },
            "colorscale": [
             [
              0,
              "#0d0887"
             ],
             [
              0.1111111111111111,
              "#46039f"
             ],
             [
              0.2222222222222222,
              "#7201a8"
             ],
             [
              0.3333333333333333,
              "#9c179e"
             ],
             [
              0.4444444444444444,
              "#bd3786"
             ],
             [
              0.5555555555555556,
              "#d8576b"
             ],
             [
              0.6666666666666666,
              "#ed7953"
             ],
             [
              0.7777777777777778,
              "#fb9f3a"
             ],
             [
              0.8888888888888888,
              "#fdca26"
             ],
             [
              1,
              "#f0f921"
             ]
            ],
            "type": "heatmapgl"
           }
          ],
          "histogram": [
           {
            "marker": {
             "colorbar": {
              "outlinewidth": 0,
              "ticks": ""
             }
            },
            "type": "histogram"
           }
          ],
          "histogram2d": [
           {
            "colorbar": {
             "outlinewidth": 0,
             "ticks": ""
            },
            "colorscale": [
             [
              0,
              "#0d0887"
             ],
             [
              0.1111111111111111,
              "#46039f"
             ],
             [
              0.2222222222222222,
              "#7201a8"
             ],
             [
              0.3333333333333333,
              "#9c179e"
             ],
             [
              0.4444444444444444,
              "#bd3786"
             ],
             [
              0.5555555555555556,
              "#d8576b"
             ],
             [
              0.6666666666666666,
              "#ed7953"
             ],
             [
              0.7777777777777778,
              "#fb9f3a"
             ],
             [
              0.8888888888888888,
              "#fdca26"
             ],
             [
              1,
              "#f0f921"
             ]
            ],
            "type": "histogram2d"
           }
          ],
          "histogram2dcontour": [
           {
            "colorbar": {
             "outlinewidth": 0,
             "ticks": ""
            },
            "colorscale": [
             [
              0,
              "#0d0887"
             ],
             [
              0.1111111111111111,
              "#46039f"
             ],
             [
              0.2222222222222222,
              "#7201a8"
             ],
             [
              0.3333333333333333,
              "#9c179e"
             ],
             [
              0.4444444444444444,
              "#bd3786"
             ],
             [
              0.5555555555555556,
              "#d8576b"
             ],
             [
              0.6666666666666666,
              "#ed7953"
             ],
             [
              0.7777777777777778,
              "#fb9f3a"
             ],
             [
              0.8888888888888888,
              "#fdca26"
             ],
             [
              1,
              "#f0f921"
             ]
            ],
            "type": "histogram2dcontour"
           }
          ],
          "mesh3d": [
           {
            "colorbar": {
             "outlinewidth": 0,
             "ticks": ""
            },
            "type": "mesh3d"
           }
          ],
          "parcoords": [
           {
            "line": {
             "colorbar": {
              "outlinewidth": 0,
              "ticks": ""
             }
            },
            "type": "parcoords"
           }
          ],
          "pie": [
           {
            "automargin": true,
            "type": "pie"
           }
          ],
          "scatter": [
           {
            "marker": {
             "colorbar": {
              "outlinewidth": 0,
              "ticks": ""
             }
            },
            "type": "scatter"
           }
          ],
          "scatter3d": [
           {
            "line": {
             "colorbar": {
              "outlinewidth": 0,
              "ticks": ""
             }
            },
            "marker": {
             "colorbar": {
              "outlinewidth": 0,
              "ticks": ""
             }
            },
            "type": "scatter3d"
           }
          ],
          "scattercarpet": [
           {
            "marker": {
             "colorbar": {
              "outlinewidth": 0,
              "ticks": ""
             }
            },
            "type": "scattercarpet"
           }
          ],
          "scattergeo": [
           {
            "marker": {
             "colorbar": {
              "outlinewidth": 0,
              "ticks": ""
             }
            },
            "type": "scattergeo"
           }
          ],
          "scattergl": [
           {
            "marker": {
             "colorbar": {
              "outlinewidth": 0,
              "ticks": ""
             }
            },
            "type": "scattergl"
           }
          ],
          "scattermapbox": [
           {
            "marker": {
             "colorbar": {
              "outlinewidth": 0,
              "ticks": ""
             }
            },
            "type": "scattermapbox"
           }
          ],
          "scatterpolar": [
           {
            "marker": {
             "colorbar": {
              "outlinewidth": 0,
              "ticks": ""
             }
            },
            "type": "scatterpolar"
           }
          ],
          "scatterpolargl": [
           {
            "marker": {
             "colorbar": {
              "outlinewidth": 0,
              "ticks": ""
             }
            },
            "type": "scatterpolargl"
           }
          ],
          "scatterternary": [
           {
            "marker": {
             "colorbar": {
              "outlinewidth": 0,
              "ticks": ""
             }
            },
            "type": "scatterternary"
           }
          ],
          "surface": [
           {
            "colorbar": {
             "outlinewidth": 0,
             "ticks": ""
            },
            "colorscale": [
             [
              0,
              "#0d0887"
             ],
             [
              0.1111111111111111,
              "#46039f"
             ],
             [
              0.2222222222222222,
              "#7201a8"
             ],
             [
              0.3333333333333333,
              "#9c179e"
             ],
             [
              0.4444444444444444,
              "#bd3786"
             ],
             [
              0.5555555555555556,
              "#d8576b"
             ],
             [
              0.6666666666666666,
              "#ed7953"
             ],
             [
              0.7777777777777778,
              "#fb9f3a"
             ],
             [
              0.8888888888888888,
              "#fdca26"
             ],
             [
              1,
              "#f0f921"
             ]
            ],
            "type": "surface"
           }
          ],
          "table": [
           {
            "cells": {
             "fill": {
              "color": "#EBF0F8"
             },
             "line": {
              "color": "white"
             }
            },
            "header": {
             "fill": {
              "color": "#C8D4E3"
             },
             "line": {
              "color": "white"
             }
            },
            "type": "table"
           }
          ]
         },
         "layout": {
          "annotationdefaults": {
           "arrowcolor": "#2a3f5f",
           "arrowhead": 0,
           "arrowwidth": 1
          },
          "autotypenumbers": "strict",
          "coloraxis": {
           "colorbar": {
            "outlinewidth": 0,
            "ticks": ""
           }
          },
          "colorscale": {
           "diverging": [
            [
             0,
             "#8e0152"
            ],
            [
             0.1,
             "#c51b7d"
            ],
            [
             0.2,
             "#de77ae"
            ],
            [
             0.3,
             "#f1b6da"
            ],
            [
             0.4,
             "#fde0ef"
            ],
            [
             0.5,
             "#f7f7f7"
            ],
            [
             0.6,
             "#e6f5d0"
            ],
            [
             0.7,
             "#b8e186"
            ],
            [
             0.8,
             "#7fbc41"
            ],
            [
             0.9,
             "#4d9221"
            ],
            [
             1,
             "#276419"
            ]
           ],
           "sequential": [
            [
             0,
             "#0d0887"
            ],
            [
             0.1111111111111111,
             "#46039f"
            ],
            [
             0.2222222222222222,
             "#7201a8"
            ],
            [
             0.3333333333333333,
             "#9c179e"
            ],
            [
             0.4444444444444444,
             "#bd3786"
            ],
            [
             0.5555555555555556,
             "#d8576b"
            ],
            [
             0.6666666666666666,
             "#ed7953"
            ],
            [
             0.7777777777777778,
             "#fb9f3a"
            ],
            [
             0.8888888888888888,
             "#fdca26"
            ],
            [
             1,
             "#f0f921"
            ]
           ],
           "sequentialminus": [
            [
             0,
             "#0d0887"
            ],
            [
             0.1111111111111111,
             "#46039f"
            ],
            [
             0.2222222222222222,
             "#7201a8"
            ],
            [
             0.3333333333333333,
             "#9c179e"
            ],
            [
             0.4444444444444444,
             "#bd3786"
            ],
            [
             0.5555555555555556,
             "#d8576b"
            ],
            [
             0.6666666666666666,
             "#ed7953"
            ],
            [
             0.7777777777777778,
             "#fb9f3a"
            ],
            [
             0.8888888888888888,
             "#fdca26"
            ],
            [
             1,
             "#f0f921"
            ]
           ]
          },
          "colorway": [
           "#636efa",
           "#EF553B",
           "#00cc96",
           "#ab63fa",
           "#FFA15A",
           "#19d3f3",
           "#FF6692",
           "#B6E880",
           "#FF97FF",
           "#FECB52"
          ],
          "font": {
           "color": "#2a3f5f"
          },
          "geo": {
           "bgcolor": "white",
           "lakecolor": "white",
           "landcolor": "#E5ECF6",
           "showlakes": true,
           "showland": true,
           "subunitcolor": "white"
          },
          "hoverlabel": {
           "align": "left"
          },
          "hovermode": "closest",
          "mapbox": {
           "style": "light"
          },
          "paper_bgcolor": "white",
          "plot_bgcolor": "#E5ECF6",
          "polar": {
           "angularaxis": {
            "gridcolor": "white",
            "linecolor": "white",
            "ticks": ""
           },
           "bgcolor": "#E5ECF6",
           "radialaxis": {
            "gridcolor": "white",
            "linecolor": "white",
            "ticks": ""
           }
          },
          "scene": {
           "xaxis": {
            "backgroundcolor": "#E5ECF6",
            "gridcolor": "white",
            "gridwidth": 2,
            "linecolor": "white",
            "showbackground": true,
            "ticks": "",
            "zerolinecolor": "white"
           },
           "yaxis": {
            "backgroundcolor": "#E5ECF6",
            "gridcolor": "white",
            "gridwidth": 2,
            "linecolor": "white",
            "showbackground": true,
            "ticks": "",
            "zerolinecolor": "white"
           },
           "zaxis": {
            "backgroundcolor": "#E5ECF6",
            "gridcolor": "white",
            "gridwidth": 2,
            "linecolor": "white",
            "showbackground": true,
            "ticks": "",
            "zerolinecolor": "white"
           }
          },
          "shapedefaults": {
           "line": {
            "color": "#2a3f5f"
           }
          },
          "ternary": {
           "aaxis": {
            "gridcolor": "white",
            "linecolor": "white",
            "ticks": ""
           },
           "baxis": {
            "gridcolor": "white",
            "linecolor": "white",
            "ticks": ""
           },
           "bgcolor": "#E5ECF6",
           "caxis": {
            "gridcolor": "white",
            "linecolor": "white",
            "ticks": ""
           }
          },
          "title": {
           "x": 0.05
          },
          "xaxis": {
           "automargin": true,
           "gridcolor": "white",
           "linecolor": "white",
           "ticks": "",
           "title": {
            "standoff": 15
           },
           "zerolinecolor": "white",
           "zerolinewidth": 2
          },
          "yaxis": {
           "automargin": true,
           "gridcolor": "white",
           "linecolor": "white",
           "ticks": "",
           "title": {
            "standoff": 15
           },
           "zerolinecolor": "white",
           "zerolinewidth": 2
          }
         }
        },
        "title": {
         "font": {
          "color": "#4D5663"
         }
        },
        "xaxis": {
         "gridcolor": "#E1E5ED",
         "showgrid": true,
         "tickfont": {
          "color": "#4D5663"
         },
         "title": {
          "font": {
           "color": "#4D5663"
          },
          "text": ""
         },
         "zerolinecolor": "#E1E5ED"
        },
        "yaxis": {
         "gridcolor": "#E1E5ED",
         "showgrid": true,
         "tickfont": {
          "color": "#4D5663"
         },
         "title": {
          "font": {
           "color": "#4D5663"
          },
          "text": ""
         },
         "zerolinecolor": "#E1E5ED"
        }
       }
      },
      "text/html": [
       "<div>                            <div id=\"aa6a6d28-1d57-47f3-b22a-7f8514db02d3\" class=\"plotly-graph-div\" style=\"height:525px; width:100%;\"></div>            <script type=\"text/javascript\">                require([\"plotly\"], function(Plotly) {                    window.PLOTLYENV=window.PLOTLYENV || {};\n",
       "                    window.PLOTLYENV.BASE_URL='https://plot.ly';                                    if (document.getElementById(\"aa6a6d28-1d57-47f3-b22a-7f8514db02d3\")) {                    Plotly.newPlot(                        \"aa6a6d28-1d57-47f3-b22a-7f8514db02d3\",                        [{\"colorscale\": [[0.0, \"rgb(165,0,38)\"], [0.1, \"rgb(215,48,39)\"], [0.2, \"rgb(244,109,67)\"], [0.3, \"rgb(253,174,97)\"], [0.4, \"rgb(254,224,144)\"], [0.5, \"rgb(255,255,191)\"], [0.6, \"rgb(224,243,248)\"], [0.7, \"rgb(171,217,233)\"], [0.8, \"rgb(116,173,209)\"], [0.9, \"rgb(69,117,180)\"], [1.0, \"rgb(49,54,149)\"]], \"type\": \"surface\", \"x\": [0, 1, 2, 3, 4], \"y\": [\"x\", \"y\", \"z\"], \"z\": [[1, 2, 3, 4, 5], [10, 20, 30, 20, 100], [5, 4, 3, 2, 1]]}],                        {\"legend\": {\"bgcolor\": \"#F5F6F9\", \"font\": {\"color\": \"#4D5663\"}}, \"paper_bgcolor\": \"#F5F6F9\", \"plot_bgcolor\": \"#F5F6F9\", \"template\": {\"data\": {\"bar\": [{\"error_x\": {\"color\": \"#2a3f5f\"}, \"error_y\": {\"color\": \"#2a3f5f\"}, \"marker\": {\"line\": {\"color\": \"#E5ECF6\", \"width\": 0.5}}, \"type\": \"bar\"}], \"barpolar\": [{\"marker\": {\"line\": {\"color\": \"#E5ECF6\", \"width\": 0.5}}, \"type\": \"barpolar\"}], \"carpet\": [{\"aaxis\": {\"endlinecolor\": \"#2a3f5f\", \"gridcolor\": \"white\", \"linecolor\": \"white\", \"minorgridcolor\": \"white\", \"startlinecolor\": \"#2a3f5f\"}, \"baxis\": {\"endlinecolor\": \"#2a3f5f\", \"gridcolor\": \"white\", \"linecolor\": \"white\", \"minorgridcolor\": \"white\", \"startlinecolor\": \"#2a3f5f\"}, \"type\": \"carpet\"}], \"choropleth\": [{\"colorbar\": {\"outlinewidth\": 0, \"ticks\": \"\"}, \"type\": \"choropleth\"}], \"contour\": [{\"colorbar\": {\"outlinewidth\": 0, \"ticks\": \"\"}, \"colorscale\": [[0.0, \"#0d0887\"], [0.1111111111111111, \"#46039f\"], [0.2222222222222222, \"#7201a8\"], [0.3333333333333333, \"#9c179e\"], [0.4444444444444444, \"#bd3786\"], [0.5555555555555556, \"#d8576b\"], [0.6666666666666666, \"#ed7953\"], [0.7777777777777778, \"#fb9f3a\"], [0.8888888888888888, \"#fdca26\"], [1.0, \"#f0f921\"]], \"type\": \"contour\"}], \"contourcarpet\": [{\"colorbar\": {\"outlinewidth\": 0, \"ticks\": \"\"}, \"type\": \"contourcarpet\"}], \"heatmap\": [{\"colorbar\": {\"outlinewidth\": 0, \"ticks\": \"\"}, \"colorscale\": [[0.0, \"#0d0887\"], [0.1111111111111111, \"#46039f\"], [0.2222222222222222, \"#7201a8\"], [0.3333333333333333, \"#9c179e\"], [0.4444444444444444, \"#bd3786\"], [0.5555555555555556, \"#d8576b\"], [0.6666666666666666, \"#ed7953\"], [0.7777777777777778, \"#fb9f3a\"], [0.8888888888888888, \"#fdca26\"], [1.0, \"#f0f921\"]], \"type\": \"heatmap\"}], \"heatmapgl\": [{\"colorbar\": {\"outlinewidth\": 0, \"ticks\": \"\"}, \"colorscale\": [[0.0, \"#0d0887\"], [0.1111111111111111, \"#46039f\"], [0.2222222222222222, \"#7201a8\"], [0.3333333333333333, \"#9c179e\"], [0.4444444444444444, \"#bd3786\"], [0.5555555555555556, \"#d8576b\"], [0.6666666666666666, \"#ed7953\"], [0.7777777777777778, \"#fb9f3a\"], [0.8888888888888888, \"#fdca26\"], [1.0, \"#f0f921\"]], \"type\": \"heatmapgl\"}], \"histogram\": [{\"marker\": {\"colorbar\": {\"outlinewidth\": 0, \"ticks\": \"\"}}, \"type\": \"histogram\"}], \"histogram2d\": [{\"colorbar\": {\"outlinewidth\": 0, \"ticks\": \"\"}, \"colorscale\": [[0.0, \"#0d0887\"], [0.1111111111111111, \"#46039f\"], [0.2222222222222222, \"#7201a8\"], [0.3333333333333333, \"#9c179e\"], [0.4444444444444444, \"#bd3786\"], [0.5555555555555556, \"#d8576b\"], [0.6666666666666666, \"#ed7953\"], [0.7777777777777778, \"#fb9f3a\"], [0.8888888888888888, \"#fdca26\"], [1.0, \"#f0f921\"]], \"type\": \"histogram2d\"}], \"histogram2dcontour\": [{\"colorbar\": {\"outlinewidth\": 0, \"ticks\": \"\"}, \"colorscale\": [[0.0, \"#0d0887\"], [0.1111111111111111, \"#46039f\"], [0.2222222222222222, \"#7201a8\"], [0.3333333333333333, \"#9c179e\"], [0.4444444444444444, \"#bd3786\"], [0.5555555555555556, \"#d8576b\"], [0.6666666666666666, \"#ed7953\"], [0.7777777777777778, \"#fb9f3a\"], [0.8888888888888888, \"#fdca26\"], [1.0, \"#f0f921\"]], \"type\": \"histogram2dcontour\"}], \"mesh3d\": [{\"colorbar\": {\"outlinewidth\": 0, \"ticks\": \"\"}, \"type\": \"mesh3d\"}], \"parcoords\": [{\"line\": {\"colorbar\": {\"outlinewidth\": 0, \"ticks\": \"\"}}, \"type\": \"parcoords\"}], \"pie\": [{\"automargin\": true, \"type\": \"pie\"}], \"scatter\": [{\"marker\": {\"colorbar\": {\"outlinewidth\": 0, \"ticks\": \"\"}}, \"type\": \"scatter\"}], \"scatter3d\": [{\"line\": {\"colorbar\": {\"outlinewidth\": 0, \"ticks\": \"\"}}, \"marker\": {\"colorbar\": {\"outlinewidth\": 0, \"ticks\": \"\"}}, \"type\": \"scatter3d\"}], \"scattercarpet\": [{\"marker\": {\"colorbar\": {\"outlinewidth\": 0, \"ticks\": \"\"}}, \"type\": \"scattercarpet\"}], \"scattergeo\": [{\"marker\": {\"colorbar\": {\"outlinewidth\": 0, \"ticks\": \"\"}}, \"type\": \"scattergeo\"}], \"scattergl\": [{\"marker\": {\"colorbar\": {\"outlinewidth\": 0, \"ticks\": \"\"}}, \"type\": \"scattergl\"}], \"scattermapbox\": [{\"marker\": {\"colorbar\": {\"outlinewidth\": 0, \"ticks\": \"\"}}, \"type\": \"scattermapbox\"}], \"scatterpolar\": [{\"marker\": {\"colorbar\": {\"outlinewidth\": 0, \"ticks\": \"\"}}, \"type\": \"scatterpolar\"}], \"scatterpolargl\": [{\"marker\": {\"colorbar\": {\"outlinewidth\": 0, \"ticks\": \"\"}}, \"type\": \"scatterpolargl\"}], \"scatterternary\": [{\"marker\": {\"colorbar\": {\"outlinewidth\": 0, \"ticks\": \"\"}}, \"type\": \"scatterternary\"}], \"surface\": [{\"colorbar\": {\"outlinewidth\": 0, \"ticks\": \"\"}, \"colorscale\": [[0.0, \"#0d0887\"], [0.1111111111111111, \"#46039f\"], [0.2222222222222222, \"#7201a8\"], [0.3333333333333333, \"#9c179e\"], [0.4444444444444444, \"#bd3786\"], [0.5555555555555556, \"#d8576b\"], [0.6666666666666666, \"#ed7953\"], [0.7777777777777778, \"#fb9f3a\"], [0.8888888888888888, \"#fdca26\"], [1.0, \"#f0f921\"]], \"type\": \"surface\"}], \"table\": [{\"cells\": {\"fill\": {\"color\": \"#EBF0F8\"}, \"line\": {\"color\": \"white\"}}, \"header\": {\"fill\": {\"color\": \"#C8D4E3\"}, \"line\": {\"color\": \"white\"}}, \"type\": \"table\"}]}, \"layout\": {\"annotationdefaults\": {\"arrowcolor\": \"#2a3f5f\", \"arrowhead\": 0, \"arrowwidth\": 1}, \"autotypenumbers\": \"strict\", \"coloraxis\": {\"colorbar\": {\"outlinewidth\": 0, \"ticks\": \"\"}}, \"colorscale\": {\"diverging\": [[0, \"#8e0152\"], [0.1, \"#c51b7d\"], [0.2, \"#de77ae\"], [0.3, \"#f1b6da\"], [0.4, \"#fde0ef\"], [0.5, \"#f7f7f7\"], [0.6, \"#e6f5d0\"], [0.7, \"#b8e186\"], [0.8, \"#7fbc41\"], [0.9, \"#4d9221\"], [1, \"#276419\"]], \"sequential\": [[0.0, \"#0d0887\"], [0.1111111111111111, \"#46039f\"], [0.2222222222222222, \"#7201a8\"], [0.3333333333333333, \"#9c179e\"], [0.4444444444444444, \"#bd3786\"], [0.5555555555555556, \"#d8576b\"], [0.6666666666666666, \"#ed7953\"], [0.7777777777777778, \"#fb9f3a\"], [0.8888888888888888, \"#fdca26\"], [1.0, \"#f0f921\"]], \"sequentialminus\": [[0.0, \"#0d0887\"], [0.1111111111111111, \"#46039f\"], [0.2222222222222222, \"#7201a8\"], [0.3333333333333333, \"#9c179e\"], [0.4444444444444444, \"#bd3786\"], [0.5555555555555556, \"#d8576b\"], [0.6666666666666666, \"#ed7953\"], [0.7777777777777778, \"#fb9f3a\"], [0.8888888888888888, \"#fdca26\"], [1.0, \"#f0f921\"]]}, \"colorway\": [\"#636efa\", \"#EF553B\", \"#00cc96\", \"#ab63fa\", \"#FFA15A\", \"#19d3f3\", \"#FF6692\", \"#B6E880\", \"#FF97FF\", \"#FECB52\"], \"font\": {\"color\": \"#2a3f5f\"}, \"geo\": {\"bgcolor\": \"white\", \"lakecolor\": \"white\", \"landcolor\": \"#E5ECF6\", \"showlakes\": true, \"showland\": true, \"subunitcolor\": \"white\"}, \"hoverlabel\": {\"align\": \"left\"}, \"hovermode\": \"closest\", \"mapbox\": {\"style\": \"light\"}, \"paper_bgcolor\": \"white\", \"plot_bgcolor\": \"#E5ECF6\", \"polar\": {\"angularaxis\": {\"gridcolor\": \"white\", \"linecolor\": \"white\", \"ticks\": \"\"}, \"bgcolor\": \"#E5ECF6\", \"radialaxis\": {\"gridcolor\": \"white\", \"linecolor\": \"white\", \"ticks\": \"\"}}, \"scene\": {\"xaxis\": {\"backgroundcolor\": \"#E5ECF6\", \"gridcolor\": \"white\", \"gridwidth\": 2, \"linecolor\": \"white\", \"showbackground\": true, \"ticks\": \"\", \"zerolinecolor\": \"white\"}, \"yaxis\": {\"backgroundcolor\": \"#E5ECF6\", \"gridcolor\": \"white\", \"gridwidth\": 2, \"linecolor\": \"white\", \"showbackground\": true, \"ticks\": \"\", \"zerolinecolor\": \"white\"}, \"zaxis\": {\"backgroundcolor\": \"#E5ECF6\", \"gridcolor\": \"white\", \"gridwidth\": 2, \"linecolor\": \"white\", \"showbackground\": true, \"ticks\": \"\", \"zerolinecolor\": \"white\"}}, \"shapedefaults\": {\"line\": {\"color\": \"#2a3f5f\"}}, \"ternary\": {\"aaxis\": {\"gridcolor\": \"white\", \"linecolor\": \"white\", \"ticks\": \"\"}, \"baxis\": {\"gridcolor\": \"white\", \"linecolor\": \"white\", \"ticks\": \"\"}, \"bgcolor\": \"#E5ECF6\", \"caxis\": {\"gridcolor\": \"white\", \"linecolor\": \"white\", \"ticks\": \"\"}}, \"title\": {\"x\": 0.05}, \"xaxis\": {\"automargin\": true, \"gridcolor\": \"white\", \"linecolor\": \"white\", \"ticks\": \"\", \"title\": {\"standoff\": 15}, \"zerolinecolor\": \"white\", \"zerolinewidth\": 2}, \"yaxis\": {\"automargin\": true, \"gridcolor\": \"white\", \"linecolor\": \"white\", \"ticks\": \"\", \"title\": {\"standoff\": 15}, \"zerolinecolor\": \"white\", \"zerolinewidth\": 2}}}, \"title\": {\"font\": {\"color\": \"#4D5663\"}}, \"xaxis\": {\"gridcolor\": \"#E1E5ED\", \"showgrid\": true, \"tickfont\": {\"color\": \"#4D5663\"}, \"title\": {\"font\": {\"color\": \"#4D5663\"}, \"text\": \"\"}, \"zerolinecolor\": \"#E1E5ED\"}, \"yaxis\": {\"gridcolor\": \"#E1E5ED\", \"showgrid\": true, \"tickfont\": {\"color\": \"#4D5663\"}, \"title\": {\"font\": {\"color\": \"#4D5663\"}, \"text\": \"\"}, \"zerolinecolor\": \"#E1E5ED\"}},                        {\"showLink\": true, \"linkText\": \"Export to plot.ly\", \"plotlyServerURL\": \"https://plot.ly\", \"responsive\": true}                    ).then(function(){\n",
       "                            \n",
       "var gd = document.getElementById('aa6a6d28-1d57-47f3-b22a-7f8514db02d3');\n",
       "var x = new MutationObserver(function (mutations, observer) {{\n",
       "        var display = window.getComputedStyle(gd).display;\n",
       "        if (!display || display === 'none') {{\n",
       "            console.log([gd, 'removed!']);\n",
       "            Plotly.purge(gd);\n",
       "            observer.disconnect();\n",
       "        }}\n",
       "}});\n",
       "\n",
       "// Listen for the removal of the full notebook cells\n",
       "var notebookContainer = gd.closest('#notebook-container');\n",
       "if (notebookContainer) {{\n",
       "    x.observe(notebookContainer, {childList: true});\n",
       "}}\n",
       "\n",
       "// Listen for the clearing of the current output cell\n",
       "var outputEl = gd.closest('.output');\n",
       "if (outputEl) {{\n",
       "    x.observe(outputEl, {childList: true});\n",
       "}}\n",
       "\n",
       "                        })                };                });            </script>        </div>"
      ]
     },
     "metadata": {},
     "output_type": "display_data"
    }
   ],
   "source": [
    "df3.iplot(kind='surface', colorscale='rdylbu')"
   ]
  },
  {
   "cell_type": "code",
   "execution_count": null,
   "metadata": {},
   "outputs": [],
   "source": []
  },
  {
   "cell_type": "code",
   "execution_count": 54,
   "metadata": {},
   "outputs": [
    {
     "data": {
      "application/vnd.plotly.v1+json": {
       "config": {
        "linkText": "Export to plot.ly",
        "plotlyServerURL": "https://plot.ly",
        "showLink": true
       },
       "data": [
        {
         "histfunc": "count",
         "histnorm": "",
         "marker": {
          "color": "rgba(255, 153, 51, 1.0)",
          "line": {
           "color": "#4D5663",
           "width": 1.3
          }
         },
         "name": "A",
         "nbinsx": 30,
         "opacity": 0.8,
         "orientation": "v",
         "type": "histogram",
         "x": [
          -0.020189904066568676,
          0.1605430195388812,
          0.2183093910227895,
          -2.4481729834834183,
          -1.3420320191794017,
          -0.11221568571796266,
          0.5438037913168252,
          -0.6738957753062436,
          1.2812552096620458,
          -1.9536234368933418,
          0.6253512625110269,
          -0.367816742191912,
          -0.768336789815034,
          -0.4129987988772313,
          0.19697310981348015,
          -0.27701278168076676,
          -2.1850709253021408,
          -0.5250012837190554,
          -0.2960852772923362,
          2.1017025013406174,
          -1.0911147300173158,
          0.03328166238849761,
          0.8748423978764613,
          -0.7007281434378153,
          -0.7032378773912719,
          0.8163765079870988,
          0.6030432620160926,
          0.9510948268094824,
          0.27023316558141663,
          -0.7311343794012733,
          -0.8666389092607147,
          1.6069767733420819,
          -0.48121297176306743,
          0.8828189161472906,
          1.032297574576932,
          -1.5001633282861504,
          0.5649349776911442,
          -0.051387101531794106,
          -0.2781026509732436,
          -0.8923371781052455,
          1.1915575077827307,
          -1.2536370325127713,
          -0.2805725925410075,
          1.070862086463324,
          -0.5607966024437397,
          0.44671495095770924,
          0.9055046646215376,
          0.9966668848767872,
          -0.6389673657208839,
          -0.19119612298566752,
          -1.867018118228768,
          1.7299122438438277,
          -1.5392952098290518,
          1.9085227576174537,
          -0.7365200192739271,
          0.291020559910531,
          -0.6876208386672505,
          -0.4396880008989103,
          0.8766948555928455,
          0.48993246404209895,
          0.04486282746655476,
          0.3311347774803122,
          1.3444595160554034,
          1.2292855329948622,
          -0.37737713594871525,
          -0.20849767131121968,
          0.8803939015253044,
          0.6916060145498991,
          -0.6001880277835497,
          -1.0400549304427917,
          0.003272206458725557,
          -1.3528129854600308,
          -0.3469507174506524,
          -0.9140855889241825,
          0.9577028104654609,
          -0.20396839758209903,
          -0.5635726556127097,
          -0.6292571060303892,
          -1.4412942860438325,
          -0.023173287497486254,
          0.2867170728131295,
          1.4891400934905492,
          1.683467368370149,
          0.0032825188849990358,
          -1.724488989643146,
          0.3619017524142584,
          -1.086482992483747,
          1.3030784312470234,
          2.086086574606949,
          -0.9148799666797345,
          -2.53659794781672,
          0.14790147153220412,
          1.5081605357439327,
          0.03172942631163809,
          -1.3844203538077873,
          2.7317365325469214,
          1.8435597585089694,
          -0.9235347978823618,
          -2.2293208131348097,
          0.8302728483937458
         ]
        },
        {
         "histfunc": "count",
         "histnorm": "",
         "marker": {
          "color": "rgba(55, 128, 191, 1.0)",
          "line": {
           "color": "#4D5663",
           "width": 1.3
          }
         },
         "name": "B",
         "nbinsx": 30,
         "opacity": 0.8,
         "orientation": "v",
         "type": "histogram",
         "x": [
          -0.4380037600693329,
          1.3856258480513495,
          -1.6439581318945904,
          1.780163099731763,
          -0.06886238487724357,
          -0.3419320878039712,
          1.7176474787692995,
          -3.0128342192986843,
          1.268848134771191,
          0.2448222463181939,
          0.6832274431968387,
          0.5900880475260439,
          -0.28351085192768744,
          0.03951006673344334,
          0.33378442318795754,
          0.0036633902122219066,
          -1.0335621009028737,
          -1.4346287159598332,
          -0.7637090963596298,
          -0.49509070170442804,
          0.7017553526944327,
          1.0578719391875344,
          0.7596212001824827,
          0.8464267198538894,
          0.5115456059271346,
          1.4785023222198197,
          -2.1651187773032246,
          1.0007144847757021,
          0.7384916218488192,
          0.26590612111690903,
          1.956294281895234,
          -0.8617578488568759,
          0.011053299902504497,
          1.5429553670798497,
          1.7290962461445358,
          -0.08249248371447555,
          -0.5315109256761953,
          -0.5644574743776344,
          0.7402337629534262,
          -0.6086185725746197,
          0.2187789432258602,
          -0.125717596041093,
          0.20048527432005395,
          2.731679171077915,
          -1.8603447004357492,
          0.9554304810338209,
          -1.4103828466835837,
          1.065950515655746,
          -1.236848826065617,
          -0.7318542012955099,
          2.2934039074168857,
          -0.7557077880124786,
          2.0115055050237043,
          0.37154483900426716,
          -1.9242514925498644,
          0.7925365130656604,
          -0.2819909724010163,
          -0.40942736078084324,
          -0.7623793634102329,
          1.1645877433591125,
          -0.38777448037124174,
          -0.1723366430999955,
          0.016858458282385105,
          0.04213951346102748,
          -0.2200209199138018,
          0.4556172925040396,
          0.9847325399374394,
          0.3486345501482719,
          0.9407477147125772,
          -0.13776682864629283,
          0.25163129965039865,
          1.1259847998476251,
          -1.2270319722269811,
          -0.8076192569794358,
          -0.1342328858251307,
          0.19426191413022975,
          -0.9440956952124823,
          -0.5819788729383728,
          -0.48095783847540297,
          -0.8869083142131824,
          -0.14477563692269194,
          1.6866780586582282,
          1.5258822957160807,
          -1.0275474178043047,
          -1.0323270449559678,
          0.9102697897984027,
          -0.1566664582921049,
          0.7704706110055723,
          -0.37923470972809126,
          0.15897524427418847,
          -0.4839263654265887,
          -0.39319145215301765,
          0.4437255355807462,
          -0.4350402940246013,
          0.7316571164610378,
          -1.8887992487543999,
          0.6035468169807476,
          0.16115878831117503,
          1.375156129392616,
          0.5982663947397071
         ]
        },
        {
         "histfunc": "count",
         "histnorm": "",
         "marker": {
          "color": "rgba(50, 171, 96, 1.0)",
          "line": {
           "color": "#4D5663",
           "width": 1.3
          }
         },
         "name": "C",
         "nbinsx": 30,
         "opacity": 0.8,
         "orientation": "v",
         "type": "histogram",
         "x": [
          -0.9331308355733341,
          0.12539125190782266,
          -0.5826274882840796,
          1.538666334357524,
          -1.7274960200280642,
          -0.6246340895816981,
          0.8757756779822631,
          1.1446178716120907,
          -1.8674807150864499,
          0.4929854879925438,
          1.6087237941600827,
          0.00403581169119472,
          0.3387429698083554,
          -1.091562519111494,
          0.049621223832586596,
          0.413631229048461,
          -0.906872396994403,
          -0.23988192131216016,
          -1.9614917247524626,
          0.5823904755813313,
          -1.1193801692557945,
          0.8318308552816366,
          -0.7558098068051601,
          0.7099805947369157,
          0.2622129159914279,
          0.45234041521296053,
          -0.45333781624007824,
          -1.5591624560808224,
          0.14955589754009757,
          0.042532647130016386,
          -0.29515420408850174,
          0.7468841380204412,
          -0.30075637307075787,
          1.8468666456361396,
          0.349329776303073,
          -1.3659029962894353,
          0.24196349094017464,
          0.7093642694862414,
          0.42390013120014924,
          0.16952567778832683,
          -0.48690258667357683,
          -0.8724138565251532,
          1.0367451639380085,
          1.0162731899375543,
          1.2817227511333238,
          1.0963533662760434,
          0.37554547886557976,
          -0.14471360360842764,
          -1.2452445131401817,
          -1.1029478425649724,
          -1.157542051838458,
          -0.67239539908866,
          -1.326749037336286,
          0.376759246361514,
          0.6539699710346577,
          0.8580451963648623,
          0.6729653968696636,
          2.6911551665544797,
          -0.671525051147614,
          -0.11673890146869877,
          -1.593489446902274,
          -1.3256767506688802,
          0.173202476859852,
          -1.1389200757237263,
          -2.185007623439091,
          -3.139204515064847,
          0.120464777745759,
          1.1210250513099758,
          0.01336528748146471,
          1.355912962800932,
          0.3593865499783559,
          -1.0609039600902184,
          -1.5404425382900173,
          -0.3850781813027051,
          0.5007428784942515,
          0.8786526898703361,
          0.43269599626147,
          0.2228666774544576,
          -0.6433973192029896,
          1.1092657015373828,
          1.0792382022513454,
          -0.9822820063408606,
          -0.44261469859124053,
          -0.17746979075039673,
          0.7350095886868749,
          -0.10673807686590155,
          -1.1455465997132093,
          -1.04971699304803,
          -0.23660704909094354,
          1.664825431283724,
          0.52314519345455,
          -0.7713133338765619,
          0.4020249405971316,
          0.370730560452333,
          0.39309217498023896,
          0.8976125204425404,
          -0.022809273831166026,
          -0.44563449993903204,
          1.4332355098767757,
          0.33501316651965235
         ]
        },
        {
         "histfunc": "count",
         "histnorm": "",
         "marker": {
          "color": "rgba(128, 0, 128, 1.0)",
          "line": {
           "color": "#4D5663",
           "width": 1.3
          }
         },
         "name": "D",
         "nbinsx": 30,
         "opacity": 0.8,
         "orientation": "v",
         "type": "histogram",
         "x": [
          -0.5972618598477876,
          0.49913129985884647,
          1.7730264589727827,
          1.1032823872819204,
          -0.8151579178878929,
          0.7544427114688668,
          1.0774286321416484,
          -0.051946512921370425,
          0.6166519502349622,
          1.4118594304742158,
          0.13717225426810745,
          0.6050015374397305,
          -0.3856010246759087,
          -0.5891087047560496,
          -0.03820969691035504,
          -1.0139398407192033,
          -1.8002177795266743,
          2.4331651321022374,
          2.619589756643213,
          0.1679663590479456,
          1.021448468810051,
          0.9512341173952743,
          0.16222026213196905,
          0.5354111619240958,
          0.5181742993661161,
          -0.871494439001104,
          -0.09685894088541698,
          1.0541791334435062,
          -0.1975401478765995,
          -0.7492561923357114,
          -1.069393525413521,
          0.5047777483460927,
          0.9137379834785593,
          0.4186634324449865,
          -1.0287345824885585,
          0.48790568201222684,
          -0.4050553157701971,
          0.11141541052830012,
          -1.7255301254782913,
          -0.08350333594487494,
          0.45249482106131833,
          -0.09343094523639385,
          -1.1097099840336093,
          0.3572648089204684,
          0.21617504521772882,
          -1.8432127866249164,
          -1.0017756232366533,
          -3.0394611961570424,
          -2.0765768625295604,
          -0.08793900930099857,
          -1.183950224972636,
          -0.5717968444413271,
          0.4138392187337821,
          -0.054182122952612474,
          0.010036201028902115,
          -0.11117296334648173,
          0.03829259173105282,
          0.5677693356912435,
          -0.09862976094514372,
          0.8366927598732063,
          -1.1388446424392644,
          -1.726824651763009,
          -2.1408436066424428,
          -0.41730496546954354,
          1.9682058113107093,
          0.14770333504684413,
          0.9518760707874068,
          0.6640022570758064,
          0.250994155569197,
          -0.6535481050924123,
          0.2050650353763908,
          1.1264110703819419,
          0.8332230610418235,
          -0.6552689024075415,
          -0.10761767621075648,
          -1.1593078130627543,
          -2.560148376587137,
          -0.7501456943804221,
          -0.655428643820223,
          -0.8165852861077829,
          -0.12019692016527625,
          0.5620944262447766,
          0.8002584560979304,
          -0.7503343293526445,
          -0.022872732491072807,
          -0.8133206402807482,
          0.5901216522003285,
          0.17342835503505383,
          -1.220213981996596,
          -0.17031710380254936,
          2.06408937773803,
          -0.48942538351366077,
          0.8770885868617431,
          1.8772108464491117,
          -0.1416863365318827,
          1.1442123784007612,
          0.6543647925446888,
          -0.31106413751265755,
          0.14154219683602615,
          -0.8936821553152134
         ]
        }
       ],
       "layout": {
        "barmode": "overlay",
        "legend": {
         "bgcolor": "#F5F6F9",
         "font": {
          "color": "#4D5663"
         }
        },
        "paper_bgcolor": "#F5F6F9",
        "plot_bgcolor": "#F5F6F9",
        "template": {
         "data": {
          "bar": [
           {
            "error_x": {
             "color": "#2a3f5f"
            },
            "error_y": {
             "color": "#2a3f5f"
            },
            "marker": {
             "line": {
              "color": "#E5ECF6",
              "width": 0.5
             }
            },
            "type": "bar"
           }
          ],
          "barpolar": [
           {
            "marker": {
             "line": {
              "color": "#E5ECF6",
              "width": 0.5
             }
            },
            "type": "barpolar"
           }
          ],
          "carpet": [
           {
            "aaxis": {
             "endlinecolor": "#2a3f5f",
             "gridcolor": "white",
             "linecolor": "white",
             "minorgridcolor": "white",
             "startlinecolor": "#2a3f5f"
            },
            "baxis": {
             "endlinecolor": "#2a3f5f",
             "gridcolor": "white",
             "linecolor": "white",
             "minorgridcolor": "white",
             "startlinecolor": "#2a3f5f"
            },
            "type": "carpet"
           }
          ],
          "choropleth": [
           {
            "colorbar": {
             "outlinewidth": 0,
             "ticks": ""
            },
            "type": "choropleth"
           }
          ],
          "contour": [
           {
            "colorbar": {
             "outlinewidth": 0,
             "ticks": ""
            },
            "colorscale": [
             [
              0,
              "#0d0887"
             ],
             [
              0.1111111111111111,
              "#46039f"
             ],
             [
              0.2222222222222222,
              "#7201a8"
             ],
             [
              0.3333333333333333,
              "#9c179e"
             ],
             [
              0.4444444444444444,
              "#bd3786"
             ],
             [
              0.5555555555555556,
              "#d8576b"
             ],
             [
              0.6666666666666666,
              "#ed7953"
             ],
             [
              0.7777777777777778,
              "#fb9f3a"
             ],
             [
              0.8888888888888888,
              "#fdca26"
             ],
             [
              1,
              "#f0f921"
             ]
            ],
            "type": "contour"
           }
          ],
          "contourcarpet": [
           {
            "colorbar": {
             "outlinewidth": 0,
             "ticks": ""
            },
            "type": "contourcarpet"
           }
          ],
          "heatmap": [
           {
            "colorbar": {
             "outlinewidth": 0,
             "ticks": ""
            },
            "colorscale": [
             [
              0,
              "#0d0887"
             ],
             [
              0.1111111111111111,
              "#46039f"
             ],
             [
              0.2222222222222222,
              "#7201a8"
             ],
             [
              0.3333333333333333,
              "#9c179e"
             ],
             [
              0.4444444444444444,
              "#bd3786"
             ],
             [
              0.5555555555555556,
              "#d8576b"
             ],
             [
              0.6666666666666666,
              "#ed7953"
             ],
             [
              0.7777777777777778,
              "#fb9f3a"
             ],
             [
              0.8888888888888888,
              "#fdca26"
             ],
             [
              1,
              "#f0f921"
             ]
            ],
            "type": "heatmap"
           }
          ],
          "heatmapgl": [
           {
            "colorbar": {
             "outlinewidth": 0,
             "ticks": ""
            },
            "colorscale": [
             [
              0,
              "#0d0887"
             ],
             [
              0.1111111111111111,
              "#46039f"
             ],
             [
              0.2222222222222222,
              "#7201a8"
             ],
             [
              0.3333333333333333,
              "#9c179e"
             ],
             [
              0.4444444444444444,
              "#bd3786"
             ],
             [
              0.5555555555555556,
              "#d8576b"
             ],
             [
              0.6666666666666666,
              "#ed7953"
             ],
             [
              0.7777777777777778,
              "#fb9f3a"
             ],
             [
              0.8888888888888888,
              "#fdca26"
             ],
             [
              1,
              "#f0f921"
             ]
            ],
            "type": "heatmapgl"
           }
          ],
          "histogram": [
           {
            "marker": {
             "colorbar": {
              "outlinewidth": 0,
              "ticks": ""
             }
            },
            "type": "histogram"
           }
          ],
          "histogram2d": [
           {
            "colorbar": {
             "outlinewidth": 0,
             "ticks": ""
            },
            "colorscale": [
             [
              0,
              "#0d0887"
             ],
             [
              0.1111111111111111,
              "#46039f"
             ],
             [
              0.2222222222222222,
              "#7201a8"
             ],
             [
              0.3333333333333333,
              "#9c179e"
             ],
             [
              0.4444444444444444,
              "#bd3786"
             ],
             [
              0.5555555555555556,
              "#d8576b"
             ],
             [
              0.6666666666666666,
              "#ed7953"
             ],
             [
              0.7777777777777778,
              "#fb9f3a"
             ],
             [
              0.8888888888888888,
              "#fdca26"
             ],
             [
              1,
              "#f0f921"
             ]
            ],
            "type": "histogram2d"
           }
          ],
          "histogram2dcontour": [
           {
            "colorbar": {
             "outlinewidth": 0,
             "ticks": ""
            },
            "colorscale": [
             [
              0,
              "#0d0887"
             ],
             [
              0.1111111111111111,
              "#46039f"
             ],
             [
              0.2222222222222222,
              "#7201a8"
             ],
             [
              0.3333333333333333,
              "#9c179e"
             ],
             [
              0.4444444444444444,
              "#bd3786"
             ],
             [
              0.5555555555555556,
              "#d8576b"
             ],
             [
              0.6666666666666666,
              "#ed7953"
             ],
             [
              0.7777777777777778,
              "#fb9f3a"
             ],
             [
              0.8888888888888888,
              "#fdca26"
             ],
             [
              1,
              "#f0f921"
             ]
            ],
            "type": "histogram2dcontour"
           }
          ],
          "mesh3d": [
           {
            "colorbar": {
             "outlinewidth": 0,
             "ticks": ""
            },
            "type": "mesh3d"
           }
          ],
          "parcoords": [
           {
            "line": {
             "colorbar": {
              "outlinewidth": 0,
              "ticks": ""
             }
            },
            "type": "parcoords"
           }
          ],
          "pie": [
           {
            "automargin": true,
            "type": "pie"
           }
          ],
          "scatter": [
           {
            "marker": {
             "colorbar": {
              "outlinewidth": 0,
              "ticks": ""
             }
            },
            "type": "scatter"
           }
          ],
          "scatter3d": [
           {
            "line": {
             "colorbar": {
              "outlinewidth": 0,
              "ticks": ""
             }
            },
            "marker": {
             "colorbar": {
              "outlinewidth": 0,
              "ticks": ""
             }
            },
            "type": "scatter3d"
           }
          ],
          "scattercarpet": [
           {
            "marker": {
             "colorbar": {
              "outlinewidth": 0,
              "ticks": ""
             }
            },
            "type": "scattercarpet"
           }
          ],
          "scattergeo": [
           {
            "marker": {
             "colorbar": {
              "outlinewidth": 0,
              "ticks": ""
             }
            },
            "type": "scattergeo"
           }
          ],
          "scattergl": [
           {
            "marker": {
             "colorbar": {
              "outlinewidth": 0,
              "ticks": ""
             }
            },
            "type": "scattergl"
           }
          ],
          "scattermapbox": [
           {
            "marker": {
             "colorbar": {
              "outlinewidth": 0,
              "ticks": ""
             }
            },
            "type": "scattermapbox"
           }
          ],
          "scatterpolar": [
           {
            "marker": {
             "colorbar": {
              "outlinewidth": 0,
              "ticks": ""
             }
            },
            "type": "scatterpolar"
           }
          ],
          "scatterpolargl": [
           {
            "marker": {
             "colorbar": {
              "outlinewidth": 0,
              "ticks": ""
             }
            },
            "type": "scatterpolargl"
           }
          ],
          "scatterternary": [
           {
            "marker": {
             "colorbar": {
              "outlinewidth": 0,
              "ticks": ""
             }
            },
            "type": "scatterternary"
           }
          ],
          "surface": [
           {
            "colorbar": {
             "outlinewidth": 0,
             "ticks": ""
            },
            "colorscale": [
             [
              0,
              "#0d0887"
             ],
             [
              0.1111111111111111,
              "#46039f"
             ],
             [
              0.2222222222222222,
              "#7201a8"
             ],
             [
              0.3333333333333333,
              "#9c179e"
             ],
             [
              0.4444444444444444,
              "#bd3786"
             ],
             [
              0.5555555555555556,
              "#d8576b"
             ],
             [
              0.6666666666666666,
              "#ed7953"
             ],
             [
              0.7777777777777778,
              "#fb9f3a"
             ],
             [
              0.8888888888888888,
              "#fdca26"
             ],
             [
              1,
              "#f0f921"
             ]
            ],
            "type": "surface"
           }
          ],
          "table": [
           {
            "cells": {
             "fill": {
              "color": "#EBF0F8"
             },
             "line": {
              "color": "white"
             }
            },
            "header": {
             "fill": {
              "color": "#C8D4E3"
             },
             "line": {
              "color": "white"
             }
            },
            "type": "table"
           }
          ]
         },
         "layout": {
          "annotationdefaults": {
           "arrowcolor": "#2a3f5f",
           "arrowhead": 0,
           "arrowwidth": 1
          },
          "autotypenumbers": "strict",
          "coloraxis": {
           "colorbar": {
            "outlinewidth": 0,
            "ticks": ""
           }
          },
          "colorscale": {
           "diverging": [
            [
             0,
             "#8e0152"
            ],
            [
             0.1,
             "#c51b7d"
            ],
            [
             0.2,
             "#de77ae"
            ],
            [
             0.3,
             "#f1b6da"
            ],
            [
             0.4,
             "#fde0ef"
            ],
            [
             0.5,
             "#f7f7f7"
            ],
            [
             0.6,
             "#e6f5d0"
            ],
            [
             0.7,
             "#b8e186"
            ],
            [
             0.8,
             "#7fbc41"
            ],
            [
             0.9,
             "#4d9221"
            ],
            [
             1,
             "#276419"
            ]
           ],
           "sequential": [
            [
             0,
             "#0d0887"
            ],
            [
             0.1111111111111111,
             "#46039f"
            ],
            [
             0.2222222222222222,
             "#7201a8"
            ],
            [
             0.3333333333333333,
             "#9c179e"
            ],
            [
             0.4444444444444444,
             "#bd3786"
            ],
            [
             0.5555555555555556,
             "#d8576b"
            ],
            [
             0.6666666666666666,
             "#ed7953"
            ],
            [
             0.7777777777777778,
             "#fb9f3a"
            ],
            [
             0.8888888888888888,
             "#fdca26"
            ],
            [
             1,
             "#f0f921"
            ]
           ],
           "sequentialminus": [
            [
             0,
             "#0d0887"
            ],
            [
             0.1111111111111111,
             "#46039f"
            ],
            [
             0.2222222222222222,
             "#7201a8"
            ],
            [
             0.3333333333333333,
             "#9c179e"
            ],
            [
             0.4444444444444444,
             "#bd3786"
            ],
            [
             0.5555555555555556,
             "#d8576b"
            ],
            [
             0.6666666666666666,
             "#ed7953"
            ],
            [
             0.7777777777777778,
             "#fb9f3a"
            ],
            [
             0.8888888888888888,
             "#fdca26"
            ],
            [
             1,
             "#f0f921"
            ]
           ]
          },
          "colorway": [
           "#636efa",
           "#EF553B",
           "#00cc96",
           "#ab63fa",
           "#FFA15A",
           "#19d3f3",
           "#FF6692",
           "#B6E880",
           "#FF97FF",
           "#FECB52"
          ],
          "font": {
           "color": "#2a3f5f"
          },
          "geo": {
           "bgcolor": "white",
           "lakecolor": "white",
           "landcolor": "#E5ECF6",
           "showlakes": true,
           "showland": true,
           "subunitcolor": "white"
          },
          "hoverlabel": {
           "align": "left"
          },
          "hovermode": "closest",
          "mapbox": {
           "style": "light"
          },
          "paper_bgcolor": "white",
          "plot_bgcolor": "#E5ECF6",
          "polar": {
           "angularaxis": {
            "gridcolor": "white",
            "linecolor": "white",
            "ticks": ""
           },
           "bgcolor": "#E5ECF6",
           "radialaxis": {
            "gridcolor": "white",
            "linecolor": "white",
            "ticks": ""
           }
          },
          "scene": {
           "xaxis": {
            "backgroundcolor": "#E5ECF6",
            "gridcolor": "white",
            "gridwidth": 2,
            "linecolor": "white",
            "showbackground": true,
            "ticks": "",
            "zerolinecolor": "white"
           },
           "yaxis": {
            "backgroundcolor": "#E5ECF6",
            "gridcolor": "white",
            "gridwidth": 2,
            "linecolor": "white",
            "showbackground": true,
            "ticks": "",
            "zerolinecolor": "white"
           },
           "zaxis": {
            "backgroundcolor": "#E5ECF6",
            "gridcolor": "white",
            "gridwidth": 2,
            "linecolor": "white",
            "showbackground": true,
            "ticks": "",
            "zerolinecolor": "white"
           }
          },
          "shapedefaults": {
           "line": {
            "color": "#2a3f5f"
           }
          },
          "ternary": {
           "aaxis": {
            "gridcolor": "white",
            "linecolor": "white",
            "ticks": ""
           },
           "baxis": {
            "gridcolor": "white",
            "linecolor": "white",
            "ticks": ""
           },
           "bgcolor": "#E5ECF6",
           "caxis": {
            "gridcolor": "white",
            "linecolor": "white",
            "ticks": ""
           }
          },
          "title": {
           "x": 0.05
          },
          "xaxis": {
           "automargin": true,
           "gridcolor": "white",
           "linecolor": "white",
           "ticks": "",
           "title": {
            "standoff": 15
           },
           "zerolinecolor": "white",
           "zerolinewidth": 2
          },
          "yaxis": {
           "automargin": true,
           "gridcolor": "white",
           "linecolor": "white",
           "ticks": "",
           "title": {
            "standoff": 15
           },
           "zerolinecolor": "white",
           "zerolinewidth": 2
          }
         }
        },
        "title": {
         "font": {
          "color": "#4D5663"
         }
        },
        "xaxis": {
         "gridcolor": "#E1E5ED",
         "showgrid": true,
         "tickfont": {
          "color": "#4D5663"
         },
         "title": {
          "font": {
           "color": "#4D5663"
          },
          "text": ""
         },
         "zerolinecolor": "#E1E5ED"
        },
        "yaxis": {
         "gridcolor": "#E1E5ED",
         "showgrid": true,
         "tickfont": {
          "color": "#4D5663"
         },
         "title": {
          "font": {
           "color": "#4D5663"
          },
          "text": ""
         },
         "zerolinecolor": "#E1E5ED"
        }
       }
      },
      "text/html": [
       "<div>                            <div id=\"d19b5fa4-c67d-4043-b62d-4a127a13646c\" class=\"plotly-graph-div\" style=\"height:525px; width:100%;\"></div>            <script type=\"text/javascript\">                require([\"plotly\"], function(Plotly) {                    window.PLOTLYENV=window.PLOTLYENV || {};\n",
       "                    window.PLOTLYENV.BASE_URL='https://plot.ly';                                    if (document.getElementById(\"d19b5fa4-c67d-4043-b62d-4a127a13646c\")) {                    Plotly.newPlot(                        \"d19b5fa4-c67d-4043-b62d-4a127a13646c\",                        [{\"histfunc\": \"count\", \"histnorm\": \"\", \"marker\": {\"color\": \"rgba(255, 153, 51, 1.0)\", \"line\": {\"color\": \"#4D5663\", \"width\": 1.3}}, \"name\": \"A\", \"nbinsx\": 30, \"opacity\": 0.8, \"orientation\": \"v\", \"type\": \"histogram\", \"x\": [-0.020189904066568676, 0.1605430195388812, 0.2183093910227895, -2.4481729834834183, -1.3420320191794017, -0.11221568571796266, 0.5438037913168252, -0.6738957753062436, 1.2812552096620458, -1.9536234368933418, 0.6253512625110269, -0.367816742191912, -0.768336789815034, -0.4129987988772313, 0.19697310981348015, -0.27701278168076676, -2.1850709253021408, -0.5250012837190554, -0.2960852772923362, 2.1017025013406174, -1.0911147300173158, 0.03328166238849761, 0.8748423978764613, -0.7007281434378153, -0.7032378773912719, 0.8163765079870988, 0.6030432620160926, 0.9510948268094824, 0.27023316558141663, -0.7311343794012733, -0.8666389092607147, 1.6069767733420819, -0.48121297176306743, 0.8828189161472906, 1.032297574576932, -1.5001633282861504, 0.5649349776911442, -0.051387101531794106, -0.2781026509732436, -0.8923371781052455, 1.1915575077827307, -1.2536370325127713, -0.2805725925410075, 1.070862086463324, -0.5607966024437397, 0.44671495095770924, 0.9055046646215376, 0.9966668848767872, -0.6389673657208839, -0.19119612298566752, -1.867018118228768, 1.7299122438438277, -1.5392952098290518, 1.9085227576174537, -0.7365200192739271, 0.291020559910531, -0.6876208386672505, -0.4396880008989103, 0.8766948555928455, 0.48993246404209895, 0.04486282746655476, 0.3311347774803122, 1.3444595160554034, 1.2292855329948622, -0.37737713594871525, -0.20849767131121968, 0.8803939015253044, 0.6916060145498991, -0.6001880277835497, -1.0400549304427917, 0.003272206458725557, -1.3528129854600308, -0.3469507174506524, -0.9140855889241825, 0.9577028104654609, -0.20396839758209903, -0.5635726556127097, -0.6292571060303892, -1.4412942860438325, -0.023173287497486254, 0.2867170728131295, 1.4891400934905492, 1.683467368370149, 0.0032825188849990358, -1.724488989643146, 0.3619017524142584, -1.086482992483747, 1.3030784312470234, 2.086086574606949, -0.9148799666797345, -2.53659794781672, 0.14790147153220412, 1.5081605357439327, 0.03172942631163809, -1.3844203538077873, 2.7317365325469214, 1.8435597585089694, -0.9235347978823618, -2.2293208131348097, 0.8302728483937458]}, {\"histfunc\": \"count\", \"histnorm\": \"\", \"marker\": {\"color\": \"rgba(55, 128, 191, 1.0)\", \"line\": {\"color\": \"#4D5663\", \"width\": 1.3}}, \"name\": \"B\", \"nbinsx\": 30, \"opacity\": 0.8, \"orientation\": \"v\", \"type\": \"histogram\", \"x\": [-0.4380037600693329, 1.3856258480513495, -1.6439581318945904, 1.780163099731763, -0.06886238487724357, -0.3419320878039712, 1.7176474787692995, -3.0128342192986843, 1.268848134771191, 0.2448222463181939, 0.6832274431968387, 0.5900880475260439, -0.28351085192768744, 0.03951006673344334, 0.33378442318795754, 0.0036633902122219066, -1.0335621009028737, -1.4346287159598332, -0.7637090963596298, -0.49509070170442804, 0.7017553526944327, 1.0578719391875344, 0.7596212001824827, 0.8464267198538894, 0.5115456059271346, 1.4785023222198197, -2.1651187773032246, 1.0007144847757021, 0.7384916218488192, 0.26590612111690903, 1.956294281895234, -0.8617578488568759, 0.011053299902504497, 1.5429553670798497, 1.7290962461445358, -0.08249248371447555, -0.5315109256761953, -0.5644574743776344, 0.7402337629534262, -0.6086185725746197, 0.2187789432258602, -0.125717596041093, 0.20048527432005395, 2.731679171077915, -1.8603447004357492, 0.9554304810338209, -1.4103828466835837, 1.065950515655746, -1.236848826065617, -0.7318542012955099, 2.2934039074168857, -0.7557077880124786, 2.0115055050237043, 0.37154483900426716, -1.9242514925498644, 0.7925365130656604, -0.2819909724010163, -0.40942736078084324, -0.7623793634102329, 1.1645877433591125, -0.38777448037124174, -0.1723366430999955, 0.016858458282385105, 0.04213951346102748, -0.2200209199138018, 0.4556172925040396, 0.9847325399374394, 0.3486345501482719, 0.9407477147125772, -0.13776682864629283, 0.25163129965039865, 1.1259847998476251, -1.2270319722269811, -0.8076192569794358, -0.1342328858251307, 0.19426191413022975, -0.9440956952124823, -0.5819788729383728, -0.48095783847540297, -0.8869083142131824, -0.14477563692269194, 1.6866780586582282, 1.5258822957160807, -1.0275474178043047, -1.0323270449559678, 0.9102697897984027, -0.1566664582921049, 0.7704706110055723, -0.37923470972809126, 0.15897524427418847, -0.4839263654265887, -0.39319145215301765, 0.4437255355807462, -0.4350402940246013, 0.7316571164610378, -1.8887992487543999, 0.6035468169807476, 0.16115878831117503, 1.375156129392616, 0.5982663947397071]}, {\"histfunc\": \"count\", \"histnorm\": \"\", \"marker\": {\"color\": \"rgba(50, 171, 96, 1.0)\", \"line\": {\"color\": \"#4D5663\", \"width\": 1.3}}, \"name\": \"C\", \"nbinsx\": 30, \"opacity\": 0.8, \"orientation\": \"v\", \"type\": \"histogram\", \"x\": [-0.9331308355733341, 0.12539125190782266, -0.5826274882840796, 1.538666334357524, -1.7274960200280642, -0.6246340895816981, 0.8757756779822631, 1.1446178716120907, -1.8674807150864499, 0.4929854879925438, 1.6087237941600827, 0.00403581169119472, 0.3387429698083554, -1.091562519111494, 0.049621223832586596, 0.413631229048461, -0.906872396994403, -0.23988192131216016, -1.9614917247524626, 0.5823904755813313, -1.1193801692557945, 0.8318308552816366, -0.7558098068051601, 0.7099805947369157, 0.2622129159914279, 0.45234041521296053, -0.45333781624007824, -1.5591624560808224, 0.14955589754009757, 0.042532647130016386, -0.29515420408850174, 0.7468841380204412, -0.30075637307075787, 1.8468666456361396, 0.349329776303073, -1.3659029962894353, 0.24196349094017464, 0.7093642694862414, 0.42390013120014924, 0.16952567778832683, -0.48690258667357683, -0.8724138565251532, 1.0367451639380085, 1.0162731899375543, 1.2817227511333238, 1.0963533662760434, 0.37554547886557976, -0.14471360360842764, -1.2452445131401817, -1.1029478425649724, -1.157542051838458, -0.67239539908866, -1.326749037336286, 0.376759246361514, 0.6539699710346577, 0.8580451963648623, 0.6729653968696636, 2.6911551665544797, -0.671525051147614, -0.11673890146869877, -1.593489446902274, -1.3256767506688802, 0.173202476859852, -1.1389200757237263, -2.185007623439091, -3.139204515064847, 0.120464777745759, 1.1210250513099758, 0.01336528748146471, 1.355912962800932, 0.3593865499783559, -1.0609039600902184, -1.5404425382900173, -0.3850781813027051, 0.5007428784942515, 0.8786526898703361, 0.43269599626147, 0.2228666774544576, -0.6433973192029896, 1.1092657015373828, 1.0792382022513454, -0.9822820063408606, -0.44261469859124053, -0.17746979075039673, 0.7350095886868749, -0.10673807686590155, -1.1455465997132093, -1.04971699304803, -0.23660704909094354, 1.664825431283724, 0.52314519345455, -0.7713133338765619, 0.4020249405971316, 0.370730560452333, 0.39309217498023896, 0.8976125204425404, -0.022809273831166026, -0.44563449993903204, 1.4332355098767757, 0.33501316651965235]}, {\"histfunc\": \"count\", \"histnorm\": \"\", \"marker\": {\"color\": \"rgba(128, 0, 128, 1.0)\", \"line\": {\"color\": \"#4D5663\", \"width\": 1.3}}, \"name\": \"D\", \"nbinsx\": 30, \"opacity\": 0.8, \"orientation\": \"v\", \"type\": \"histogram\", \"x\": [-0.5972618598477876, 0.49913129985884647, 1.7730264589727827, 1.1032823872819204, -0.8151579178878929, 0.7544427114688668, 1.0774286321416484, -0.051946512921370425, 0.6166519502349622, 1.4118594304742158, 0.13717225426810745, 0.6050015374397305, -0.3856010246759087, -0.5891087047560496, -0.03820969691035504, -1.0139398407192033, -1.8002177795266743, 2.4331651321022374, 2.619589756643213, 0.1679663590479456, 1.021448468810051, 0.9512341173952743, 0.16222026213196905, 0.5354111619240958, 0.5181742993661161, -0.871494439001104, -0.09685894088541698, 1.0541791334435062, -0.1975401478765995, -0.7492561923357114, -1.069393525413521, 0.5047777483460927, 0.9137379834785593, 0.4186634324449865, -1.0287345824885585, 0.48790568201222684, -0.4050553157701971, 0.11141541052830012, -1.7255301254782913, -0.08350333594487494, 0.45249482106131833, -0.09343094523639385, -1.1097099840336093, 0.3572648089204684, 0.21617504521772882, -1.8432127866249164, -1.0017756232366533, -3.0394611961570424, -2.0765768625295604, -0.08793900930099857, -1.183950224972636, -0.5717968444413271, 0.4138392187337821, -0.054182122952612474, 0.010036201028902115, -0.11117296334648173, 0.03829259173105282, 0.5677693356912435, -0.09862976094514372, 0.8366927598732063, -1.1388446424392644, -1.726824651763009, -2.1408436066424428, -0.41730496546954354, 1.9682058113107093, 0.14770333504684413, 0.9518760707874068, 0.6640022570758064, 0.250994155569197, -0.6535481050924123, 0.2050650353763908, 1.1264110703819419, 0.8332230610418235, -0.6552689024075415, -0.10761767621075648, -1.1593078130627543, -2.560148376587137, -0.7501456943804221, -0.655428643820223, -0.8165852861077829, -0.12019692016527625, 0.5620944262447766, 0.8002584560979304, -0.7503343293526445, -0.022872732491072807, -0.8133206402807482, 0.5901216522003285, 0.17342835503505383, -1.220213981996596, -0.17031710380254936, 2.06408937773803, -0.48942538351366077, 0.8770885868617431, 1.8772108464491117, -0.1416863365318827, 1.1442123784007612, 0.6543647925446888, -0.31106413751265755, 0.14154219683602615, -0.8936821553152134]}],                        {\"barmode\": \"overlay\", \"legend\": {\"bgcolor\": \"#F5F6F9\", \"font\": {\"color\": \"#4D5663\"}}, \"paper_bgcolor\": \"#F5F6F9\", \"plot_bgcolor\": \"#F5F6F9\", \"template\": {\"data\": {\"bar\": [{\"error_x\": {\"color\": \"#2a3f5f\"}, \"error_y\": {\"color\": \"#2a3f5f\"}, \"marker\": {\"line\": {\"color\": \"#E5ECF6\", \"width\": 0.5}}, \"type\": \"bar\"}], \"barpolar\": [{\"marker\": {\"line\": {\"color\": \"#E5ECF6\", \"width\": 0.5}}, \"type\": \"barpolar\"}], \"carpet\": [{\"aaxis\": {\"endlinecolor\": \"#2a3f5f\", \"gridcolor\": \"white\", \"linecolor\": \"white\", \"minorgridcolor\": \"white\", \"startlinecolor\": \"#2a3f5f\"}, \"baxis\": {\"endlinecolor\": \"#2a3f5f\", \"gridcolor\": \"white\", \"linecolor\": \"white\", \"minorgridcolor\": \"white\", \"startlinecolor\": \"#2a3f5f\"}, \"type\": \"carpet\"}], \"choropleth\": [{\"colorbar\": {\"outlinewidth\": 0, \"ticks\": \"\"}, \"type\": \"choropleth\"}], \"contour\": [{\"colorbar\": {\"outlinewidth\": 0, \"ticks\": \"\"}, \"colorscale\": [[0.0, \"#0d0887\"], [0.1111111111111111, \"#46039f\"], [0.2222222222222222, \"#7201a8\"], [0.3333333333333333, \"#9c179e\"], [0.4444444444444444, \"#bd3786\"], [0.5555555555555556, \"#d8576b\"], [0.6666666666666666, \"#ed7953\"], [0.7777777777777778, \"#fb9f3a\"], [0.8888888888888888, \"#fdca26\"], [1.0, \"#f0f921\"]], \"type\": \"contour\"}], \"contourcarpet\": [{\"colorbar\": {\"outlinewidth\": 0, \"ticks\": \"\"}, \"type\": \"contourcarpet\"}], \"heatmap\": [{\"colorbar\": {\"outlinewidth\": 0, \"ticks\": \"\"}, \"colorscale\": [[0.0, \"#0d0887\"], [0.1111111111111111, \"#46039f\"], [0.2222222222222222, \"#7201a8\"], [0.3333333333333333, \"#9c179e\"], [0.4444444444444444, \"#bd3786\"], [0.5555555555555556, \"#d8576b\"], [0.6666666666666666, \"#ed7953\"], [0.7777777777777778, \"#fb9f3a\"], [0.8888888888888888, \"#fdca26\"], [1.0, \"#f0f921\"]], \"type\": \"heatmap\"}], \"heatmapgl\": [{\"colorbar\": {\"outlinewidth\": 0, \"ticks\": \"\"}, \"colorscale\": [[0.0, \"#0d0887\"], [0.1111111111111111, \"#46039f\"], [0.2222222222222222, \"#7201a8\"], [0.3333333333333333, \"#9c179e\"], [0.4444444444444444, \"#bd3786\"], [0.5555555555555556, \"#d8576b\"], [0.6666666666666666, \"#ed7953\"], [0.7777777777777778, \"#fb9f3a\"], [0.8888888888888888, \"#fdca26\"], [1.0, \"#f0f921\"]], \"type\": \"heatmapgl\"}], \"histogram\": [{\"marker\": {\"colorbar\": {\"outlinewidth\": 0, \"ticks\": \"\"}}, \"type\": \"histogram\"}], \"histogram2d\": [{\"colorbar\": {\"outlinewidth\": 0, \"ticks\": \"\"}, \"colorscale\": [[0.0, \"#0d0887\"], [0.1111111111111111, \"#46039f\"], [0.2222222222222222, \"#7201a8\"], [0.3333333333333333, \"#9c179e\"], [0.4444444444444444, \"#bd3786\"], [0.5555555555555556, \"#d8576b\"], [0.6666666666666666, \"#ed7953\"], [0.7777777777777778, \"#fb9f3a\"], [0.8888888888888888, \"#fdca26\"], [1.0, \"#f0f921\"]], \"type\": \"histogram2d\"}], \"histogram2dcontour\": [{\"colorbar\": {\"outlinewidth\": 0, \"ticks\": \"\"}, \"colorscale\": [[0.0, \"#0d0887\"], [0.1111111111111111, \"#46039f\"], [0.2222222222222222, \"#7201a8\"], [0.3333333333333333, \"#9c179e\"], [0.4444444444444444, \"#bd3786\"], [0.5555555555555556, \"#d8576b\"], [0.6666666666666666, \"#ed7953\"], [0.7777777777777778, \"#fb9f3a\"], [0.8888888888888888, \"#fdca26\"], [1.0, \"#f0f921\"]], \"type\": \"histogram2dcontour\"}], \"mesh3d\": [{\"colorbar\": {\"outlinewidth\": 0, \"ticks\": \"\"}, \"type\": \"mesh3d\"}], \"parcoords\": [{\"line\": {\"colorbar\": {\"outlinewidth\": 0, \"ticks\": \"\"}}, \"type\": \"parcoords\"}], \"pie\": [{\"automargin\": true, \"type\": \"pie\"}], \"scatter\": [{\"marker\": {\"colorbar\": {\"outlinewidth\": 0, \"ticks\": \"\"}}, \"type\": \"scatter\"}], \"scatter3d\": [{\"line\": {\"colorbar\": {\"outlinewidth\": 0, \"ticks\": \"\"}}, \"marker\": {\"colorbar\": {\"outlinewidth\": 0, \"ticks\": \"\"}}, \"type\": \"scatter3d\"}], \"scattercarpet\": [{\"marker\": {\"colorbar\": {\"outlinewidth\": 0, \"ticks\": \"\"}}, \"type\": \"scattercarpet\"}], \"scattergeo\": [{\"marker\": {\"colorbar\": {\"outlinewidth\": 0, \"ticks\": \"\"}}, \"type\": \"scattergeo\"}], \"scattergl\": [{\"marker\": {\"colorbar\": {\"outlinewidth\": 0, \"ticks\": \"\"}}, \"type\": \"scattergl\"}], \"scattermapbox\": [{\"marker\": {\"colorbar\": {\"outlinewidth\": 0, \"ticks\": \"\"}}, \"type\": \"scattermapbox\"}], \"scatterpolar\": [{\"marker\": {\"colorbar\": {\"outlinewidth\": 0, \"ticks\": \"\"}}, \"type\": \"scatterpolar\"}], \"scatterpolargl\": [{\"marker\": {\"colorbar\": {\"outlinewidth\": 0, \"ticks\": \"\"}}, \"type\": \"scatterpolargl\"}], \"scatterternary\": [{\"marker\": {\"colorbar\": {\"outlinewidth\": 0, \"ticks\": \"\"}}, \"type\": \"scatterternary\"}], \"surface\": [{\"colorbar\": {\"outlinewidth\": 0, \"ticks\": \"\"}, \"colorscale\": [[0.0, \"#0d0887\"], [0.1111111111111111, \"#46039f\"], [0.2222222222222222, \"#7201a8\"], [0.3333333333333333, \"#9c179e\"], [0.4444444444444444, \"#bd3786\"], [0.5555555555555556, \"#d8576b\"], [0.6666666666666666, \"#ed7953\"], [0.7777777777777778, \"#fb9f3a\"], [0.8888888888888888, \"#fdca26\"], [1.0, \"#f0f921\"]], \"type\": \"surface\"}], \"table\": [{\"cells\": {\"fill\": {\"color\": \"#EBF0F8\"}, \"line\": {\"color\": \"white\"}}, \"header\": {\"fill\": {\"color\": \"#C8D4E3\"}, \"line\": {\"color\": \"white\"}}, \"type\": \"table\"}]}, \"layout\": {\"annotationdefaults\": {\"arrowcolor\": \"#2a3f5f\", \"arrowhead\": 0, \"arrowwidth\": 1}, \"autotypenumbers\": \"strict\", \"coloraxis\": {\"colorbar\": {\"outlinewidth\": 0, \"ticks\": \"\"}}, \"colorscale\": {\"diverging\": [[0, \"#8e0152\"], [0.1, \"#c51b7d\"], [0.2, \"#de77ae\"], [0.3, \"#f1b6da\"], [0.4, \"#fde0ef\"], [0.5, \"#f7f7f7\"], [0.6, \"#e6f5d0\"], [0.7, \"#b8e186\"], [0.8, \"#7fbc41\"], [0.9, \"#4d9221\"], [1, \"#276419\"]], \"sequential\": [[0.0, \"#0d0887\"], [0.1111111111111111, \"#46039f\"], [0.2222222222222222, \"#7201a8\"], [0.3333333333333333, \"#9c179e\"], [0.4444444444444444, \"#bd3786\"], [0.5555555555555556, \"#d8576b\"], [0.6666666666666666, \"#ed7953\"], [0.7777777777777778, \"#fb9f3a\"], [0.8888888888888888, \"#fdca26\"], [1.0, \"#f0f921\"]], \"sequentialminus\": [[0.0, \"#0d0887\"], [0.1111111111111111, \"#46039f\"], [0.2222222222222222, \"#7201a8\"], [0.3333333333333333, \"#9c179e\"], [0.4444444444444444, \"#bd3786\"], [0.5555555555555556, \"#d8576b\"], [0.6666666666666666, \"#ed7953\"], [0.7777777777777778, \"#fb9f3a\"], [0.8888888888888888, \"#fdca26\"], [1.0, \"#f0f921\"]]}, \"colorway\": [\"#636efa\", \"#EF553B\", \"#00cc96\", \"#ab63fa\", \"#FFA15A\", \"#19d3f3\", \"#FF6692\", \"#B6E880\", \"#FF97FF\", \"#FECB52\"], \"font\": {\"color\": \"#2a3f5f\"}, \"geo\": {\"bgcolor\": \"white\", \"lakecolor\": \"white\", \"landcolor\": \"#E5ECF6\", \"showlakes\": true, \"showland\": true, \"subunitcolor\": \"white\"}, \"hoverlabel\": {\"align\": \"left\"}, \"hovermode\": \"closest\", \"mapbox\": {\"style\": \"light\"}, \"paper_bgcolor\": \"white\", \"plot_bgcolor\": \"#E5ECF6\", \"polar\": {\"angularaxis\": {\"gridcolor\": \"white\", \"linecolor\": \"white\", \"ticks\": \"\"}, \"bgcolor\": \"#E5ECF6\", \"radialaxis\": {\"gridcolor\": \"white\", \"linecolor\": \"white\", \"ticks\": \"\"}}, \"scene\": {\"xaxis\": {\"backgroundcolor\": \"#E5ECF6\", \"gridcolor\": \"white\", \"gridwidth\": 2, \"linecolor\": \"white\", \"showbackground\": true, \"ticks\": \"\", \"zerolinecolor\": \"white\"}, \"yaxis\": {\"backgroundcolor\": \"#E5ECF6\", \"gridcolor\": \"white\", \"gridwidth\": 2, \"linecolor\": \"white\", \"showbackground\": true, \"ticks\": \"\", \"zerolinecolor\": \"white\"}, \"zaxis\": {\"backgroundcolor\": \"#E5ECF6\", \"gridcolor\": \"white\", \"gridwidth\": 2, \"linecolor\": \"white\", \"showbackground\": true, \"ticks\": \"\", \"zerolinecolor\": \"white\"}}, \"shapedefaults\": {\"line\": {\"color\": \"#2a3f5f\"}}, \"ternary\": {\"aaxis\": {\"gridcolor\": \"white\", \"linecolor\": \"white\", \"ticks\": \"\"}, \"baxis\": {\"gridcolor\": \"white\", \"linecolor\": \"white\", \"ticks\": \"\"}, \"bgcolor\": \"#E5ECF6\", \"caxis\": {\"gridcolor\": \"white\", \"linecolor\": \"white\", \"ticks\": \"\"}}, \"title\": {\"x\": 0.05}, \"xaxis\": {\"automargin\": true, \"gridcolor\": \"white\", \"linecolor\": \"white\", \"ticks\": \"\", \"title\": {\"standoff\": 15}, \"zerolinecolor\": \"white\", \"zerolinewidth\": 2}, \"yaxis\": {\"automargin\": true, \"gridcolor\": \"white\", \"linecolor\": \"white\", \"ticks\": \"\", \"title\": {\"standoff\": 15}, \"zerolinecolor\": \"white\", \"zerolinewidth\": 2}}}, \"title\": {\"font\": {\"color\": \"#4D5663\"}}, \"xaxis\": {\"gridcolor\": \"#E1E5ED\", \"showgrid\": true, \"tickfont\": {\"color\": \"#4D5663\"}, \"title\": {\"font\": {\"color\": \"#4D5663\"}, \"text\": \"\"}, \"zerolinecolor\": \"#E1E5ED\"}, \"yaxis\": {\"gridcolor\": \"#E1E5ED\", \"showgrid\": true, \"tickfont\": {\"color\": \"#4D5663\"}, \"title\": {\"font\": {\"color\": \"#4D5663\"}, \"text\": \"\"}, \"zerolinecolor\": \"#E1E5ED\"}},                        {\"showLink\": true, \"linkText\": \"Export to plot.ly\", \"plotlyServerURL\": \"https://plot.ly\", \"responsive\": true}                    ).then(function(){\n",
       "                            \n",
       "var gd = document.getElementById('d19b5fa4-c67d-4043-b62d-4a127a13646c');\n",
       "var x = new MutationObserver(function (mutations, observer) {{\n",
       "        var display = window.getComputedStyle(gd).display;\n",
       "        if (!display || display === 'none') {{\n",
       "            console.log([gd, 'removed!']);\n",
       "            Plotly.purge(gd);\n",
       "            observer.disconnect();\n",
       "        }}\n",
       "}});\n",
       "\n",
       "// Listen for the removal of the full notebook cells\n",
       "var notebookContainer = gd.closest('#notebook-container');\n",
       "if (notebookContainer) {{\n",
       "    x.observe(notebookContainer, {childList: true});\n",
       "}}\n",
       "\n",
       "// Listen for the clearing of the current output cell\n",
       "var outputEl = gd.closest('.output');\n",
       "if (outputEl) {{\n",
       "    x.observe(outputEl, {childList: true});\n",
       "}}\n",
       "\n",
       "                        })                };                });            </script>        </div>"
      ]
     },
     "metadata": {},
     "output_type": "display_data"
    }
   ],
   "source": [
    "df.iplot(kind='hist', bins=30)"
   ]
  },
  {
   "cell_type": "code",
   "execution_count": null,
   "metadata": {},
   "outputs": [],
   "source": []
  },
  {
   "cell_type": "code",
   "execution_count": null,
   "metadata": {},
   "outputs": [],
   "source": []
  },
  {
   "cell_type": "code",
   "execution_count": 55,
   "metadata": {},
   "outputs": [
    {
     "data": {
      "application/vnd.plotly.v1+json": {
       "config": {
        "linkText": "Export to plot.ly",
        "plotlyServerURL": "https://plot.ly",
        "showLink": true
       },
       "data": [
        {
         "line": {
          "color": "rgba(255, 153, 51, 1.0)",
          "dash": "solid",
          "shape": "linear",
          "width": 1.3
         },
         "mode": "lines",
         "name": "A",
         "text": "",
         "type": "scatter",
         "x": [
          0,
          1,
          2,
          3,
          4,
          5,
          6,
          7,
          8,
          9,
          10,
          11,
          12,
          13,
          14,
          15,
          16,
          17,
          18,
          19,
          20,
          21,
          22,
          23,
          24,
          25,
          26,
          27,
          28,
          29,
          30,
          31,
          32,
          33,
          34,
          35,
          36,
          37,
          38,
          39,
          40,
          41,
          42,
          43,
          44,
          45,
          46,
          47,
          48,
          49,
          50,
          51,
          52,
          53,
          54,
          55,
          56,
          57,
          58,
          59,
          60,
          61,
          62,
          63,
          64,
          65,
          66,
          67,
          68,
          69,
          70,
          71,
          72,
          73,
          74,
          75,
          76,
          77,
          78,
          79,
          80,
          81,
          82,
          83,
          84,
          85,
          86,
          87,
          88,
          89,
          90,
          91,
          92,
          93,
          94,
          95,
          96,
          97,
          98,
          99
         ],
         "y": [
          -0.020189904066568676,
          0.1605430195388812,
          0.2183093910227895,
          -2.4481729834834183,
          -1.3420320191794017,
          -0.11221568571796266,
          0.5438037913168252,
          -0.6738957753062436,
          1.2812552096620458,
          -1.9536234368933418,
          0.6253512625110269,
          -0.367816742191912,
          -0.768336789815034,
          -0.4129987988772313,
          0.19697310981348015,
          -0.27701278168076676,
          -2.1850709253021408,
          -0.5250012837190554,
          -0.2960852772923362,
          2.1017025013406174,
          -1.0911147300173158,
          0.03328166238849761,
          0.8748423978764613,
          -0.7007281434378153,
          -0.7032378773912719,
          0.8163765079870988,
          0.6030432620160926,
          0.9510948268094824,
          0.27023316558141663,
          -0.7311343794012733,
          -0.8666389092607147,
          1.6069767733420819,
          -0.48121297176306743,
          0.8828189161472906,
          1.032297574576932,
          -1.5001633282861504,
          0.5649349776911442,
          -0.051387101531794106,
          -0.2781026509732436,
          -0.8923371781052455,
          1.1915575077827307,
          -1.2536370325127713,
          -0.2805725925410075,
          1.070862086463324,
          -0.5607966024437397,
          0.44671495095770924,
          0.9055046646215376,
          0.9966668848767872,
          -0.6389673657208839,
          -0.19119612298566752,
          -1.867018118228768,
          1.7299122438438277,
          -1.5392952098290518,
          1.9085227576174537,
          -0.7365200192739271,
          0.291020559910531,
          -0.6876208386672505,
          -0.4396880008989103,
          0.8766948555928455,
          0.48993246404209895,
          0.04486282746655476,
          0.3311347774803122,
          1.3444595160554034,
          1.2292855329948622,
          -0.37737713594871525,
          -0.20849767131121968,
          0.8803939015253044,
          0.6916060145498991,
          -0.6001880277835497,
          -1.0400549304427917,
          0.003272206458725557,
          -1.3528129854600308,
          -0.3469507174506524,
          -0.9140855889241825,
          0.9577028104654609,
          -0.20396839758209903,
          -0.5635726556127097,
          -0.6292571060303892,
          -1.4412942860438325,
          -0.023173287497486254,
          0.2867170728131295,
          1.4891400934905492,
          1.683467368370149,
          0.0032825188849990358,
          -1.724488989643146,
          0.3619017524142584,
          -1.086482992483747,
          1.3030784312470234,
          2.086086574606949,
          -0.9148799666797345,
          -2.53659794781672,
          0.14790147153220412,
          1.5081605357439327,
          0.03172942631163809,
          -1.3844203538077873,
          2.7317365325469214,
          1.8435597585089694,
          -0.9235347978823618,
          -2.2293208131348097,
          0.8302728483937458
         ]
        },
        {
         "line": {
          "color": "rgba(55, 128, 191, 1.0)",
          "dash": "solid",
          "shape": "linear",
          "width": 1.3
         },
         "mode": "lines",
         "name": "B",
         "text": "",
         "type": "scatter",
         "x": [
          0,
          1,
          2,
          3,
          4,
          5,
          6,
          7,
          8,
          9,
          10,
          11,
          12,
          13,
          14,
          15,
          16,
          17,
          18,
          19,
          20,
          21,
          22,
          23,
          24,
          25,
          26,
          27,
          28,
          29,
          30,
          31,
          32,
          33,
          34,
          35,
          36,
          37,
          38,
          39,
          40,
          41,
          42,
          43,
          44,
          45,
          46,
          47,
          48,
          49,
          50,
          51,
          52,
          53,
          54,
          55,
          56,
          57,
          58,
          59,
          60,
          61,
          62,
          63,
          64,
          65,
          66,
          67,
          68,
          69,
          70,
          71,
          72,
          73,
          74,
          75,
          76,
          77,
          78,
          79,
          80,
          81,
          82,
          83,
          84,
          85,
          86,
          87,
          88,
          89,
          90,
          91,
          92,
          93,
          94,
          95,
          96,
          97,
          98,
          99
         ],
         "y": [
          -0.4380037600693329,
          1.3856258480513495,
          -1.6439581318945904,
          1.780163099731763,
          -0.06886238487724357,
          -0.3419320878039712,
          1.7176474787692995,
          -3.0128342192986843,
          1.268848134771191,
          0.2448222463181939,
          0.6832274431968387,
          0.5900880475260439,
          -0.28351085192768744,
          0.03951006673344334,
          0.33378442318795754,
          0.0036633902122219066,
          -1.0335621009028737,
          -1.4346287159598332,
          -0.7637090963596298,
          -0.49509070170442804,
          0.7017553526944327,
          1.0578719391875344,
          0.7596212001824827,
          0.8464267198538894,
          0.5115456059271346,
          1.4785023222198197,
          -2.1651187773032246,
          1.0007144847757021,
          0.7384916218488192,
          0.26590612111690903,
          1.956294281895234,
          -0.8617578488568759,
          0.011053299902504497,
          1.5429553670798497,
          1.7290962461445358,
          -0.08249248371447555,
          -0.5315109256761953,
          -0.5644574743776344,
          0.7402337629534262,
          -0.6086185725746197,
          0.2187789432258602,
          -0.125717596041093,
          0.20048527432005395,
          2.731679171077915,
          -1.8603447004357492,
          0.9554304810338209,
          -1.4103828466835837,
          1.065950515655746,
          -1.236848826065617,
          -0.7318542012955099,
          2.2934039074168857,
          -0.7557077880124786,
          2.0115055050237043,
          0.37154483900426716,
          -1.9242514925498644,
          0.7925365130656604,
          -0.2819909724010163,
          -0.40942736078084324,
          -0.7623793634102329,
          1.1645877433591125,
          -0.38777448037124174,
          -0.1723366430999955,
          0.016858458282385105,
          0.04213951346102748,
          -0.2200209199138018,
          0.4556172925040396,
          0.9847325399374394,
          0.3486345501482719,
          0.9407477147125772,
          -0.13776682864629283,
          0.25163129965039865,
          1.1259847998476251,
          -1.2270319722269811,
          -0.8076192569794358,
          -0.1342328858251307,
          0.19426191413022975,
          -0.9440956952124823,
          -0.5819788729383728,
          -0.48095783847540297,
          -0.8869083142131824,
          -0.14477563692269194,
          1.6866780586582282,
          1.5258822957160807,
          -1.0275474178043047,
          -1.0323270449559678,
          0.9102697897984027,
          -0.1566664582921049,
          0.7704706110055723,
          -0.37923470972809126,
          0.15897524427418847,
          -0.4839263654265887,
          -0.39319145215301765,
          0.4437255355807462,
          -0.4350402940246013,
          0.7316571164610378,
          -1.8887992487543999,
          0.6035468169807476,
          0.16115878831117503,
          1.375156129392616,
          0.5982663947397071
         ]
        },
        {
         "connectgaps": false,
         "fill": "tozeroy",
         "line": {
          "color": "green",
          "dash": "solid",
          "shape": "linear",
          "width": 0.5
         },
         "mode": "lines",
         "name": "Spread",
         "showlegend": false,
         "type": "scatter",
         "x": [
          0,
          1,
          2,
          3,
          4,
          5,
          6,
          7,
          8,
          9,
          10,
          11,
          12,
          13,
          14,
          15,
          16,
          17,
          18,
          19,
          20,
          21,
          22,
          23,
          24,
          25,
          26,
          27,
          28,
          29,
          30,
          31,
          32,
          33,
          34,
          35,
          36,
          37,
          38,
          39,
          40,
          41,
          42,
          43,
          44,
          45,
          46,
          47,
          48,
          49,
          50,
          51,
          52,
          53,
          54,
          55,
          56,
          57,
          58,
          59,
          60,
          61,
          62,
          63,
          64,
          65,
          66,
          67,
          68,
          69,
          70,
          71,
          72,
          73,
          74,
          75,
          76,
          77,
          78,
          79,
          80,
          81,
          82,
          83,
          84,
          85,
          86,
          87,
          88,
          89,
          90,
          91,
          92,
          93,
          94,
          95,
          96,
          97,
          98,
          99
         ],
         "xaxis": "x2",
         "y": [
          0.4178138560027642,
          "",
          1.86226752291738,
          "",
          "",
          0.22971640208600858,
          "",
          2.3389384439924408,
          0.012407074890854686,
          "",
          "",
          "",
          "",
          "",
          "",
          "",
          "",
          0.9096274322407778,
          0.4676238190672936,
          2.5967932030450456,
          "",
          "",
          0.11522119769397865,
          "",
          "",
          "",
          2.768162039319317,
          "",
          "",
          "",
          "",
          2.4687346221989577,
          "",
          "",
          "",
          "",
          1.0964459033673395,
          0.5130703728458402,
          "",
          "",
          0.9727785645568705,
          "",
          "",
          "",
          1.2995480979920093,
          "",
          2.3158875113051214,
          "",
          0.5978814603447331,
          0.5406580783098425,
          "",
          2.4856200318563064,
          "",
          1.5369779186131867,
          1.1877314732759374,
          "",
          "",
          "",
          1.6390742190030785,
          "",
          0.4326373078377965,
          0.5034714205803077,
          1.3276010577730182,
          1.1871460195338348,
          "",
          "",
          "",
          0.34297146440162724,
          "",
          "",
          "",
          "",
          0.8800812547763287,
          "",
          1.0919356962905917,
          "",
          0.3805230395997725,
          "",
          "",
          0.8637350267156961,
          0.43149270973582143,
          "",
          0.1575850726540684,
          1.0308299366893037,
          "",
          "",
          "",
          0.532607820241451,
          2.4653212843350403,
          "",
          "",
          0.5410929236852218,
          1.0644350001631866,
          0.4667697203362394,
          "",
          4.620535781301321,
          1.2400129415282217,
          "",
          "",
          0.2320064536540387
         ],
         "yaxis": "y2"
        },
        {
         "connectgaps": false,
         "fill": "tozeroy",
         "line": {
          "color": "red",
          "dash": "solid",
          "shape": "linear",
          "width": 0.5
         },
         "mode": "lines",
         "name": "Spread",
         "showlegend": false,
         "type": "scatter",
         "x": [
          0,
          1,
          2,
          3,
          4,
          5,
          6,
          7,
          8,
          9,
          10,
          11,
          12,
          13,
          14,
          15,
          16,
          17,
          18,
          19,
          20,
          21,
          22,
          23,
          24,
          25,
          26,
          27,
          28,
          29,
          30,
          31,
          32,
          33,
          34,
          35,
          36,
          37,
          38,
          39,
          40,
          41,
          42,
          43,
          44,
          45,
          46,
          47,
          48,
          49,
          50,
          51,
          52,
          53,
          54,
          55,
          56,
          57,
          58,
          59,
          60,
          61,
          62,
          63,
          64,
          65,
          66,
          67,
          68,
          69,
          70,
          71,
          72,
          73,
          74,
          75,
          76,
          77,
          78,
          79,
          80,
          81,
          82,
          83,
          84,
          85,
          86,
          87,
          88,
          89,
          90,
          91,
          92,
          93,
          94,
          95,
          96,
          97,
          98,
          99
         ],
         "xaxis": "x2",
         "y": [
          "",
          -1.2250828285124682,
          "",
          -4.228336083215181,
          -1.2731696343021581,
          "",
          -1.1738436874524742,
          "",
          "",
          -2.1984456832115358,
          -0.057876180685811796,
          -0.957904789717956,
          -0.4848259378873465,
          -0.4525088656106746,
          -0.13681131337447738,
          -0.28067617189298866,
          -1.151508824399267,
          "",
          "",
          "",
          -1.7928700827117485,
          -1.024590276799037,
          "",
          -1.5471548632917047,
          -1.2147834833184064,
          -0.6621258142327209,
          "",
          -0.0496196579662197,
          -0.4682584562674026,
          -0.9970405005181824,
          -2.8229331911559488,
          "",
          -0.4922662716655719,
          -0.6601364509325591,
          -0.6967986715676038,
          -1.4176708445716748,
          "",
          "",
          -1.01833641392667,
          -0.2837186055306258,
          "",
          -1.1279194364716782,
          -0.48105786686106145,
          -1.660817084614591,
          "",
          -0.5087155300761117,
          "",
          -0.06928363077895883,
          "",
          "",
          -4.160422025645653,
          "",
          -3.5508007148527563,
          "",
          "",
          -0.5015159531551294,
          -0.40562986626623426,
          -0.03026064011806706,
          "",
          -0.6746552793170135,
          "",
          "",
          "",
          "",
          -0.15735621603491345,
          -0.6641149638152593,
          -0.10433863841213498,
          "",
          -1.540935742496127,
          -0.9022881017964989,
          -0.2483590931916731,
          -2.478797785307656,
          "",
          -0.10646633194474664,
          "",
          -0.3982303117123288,
          "",
          -0.0472782330920164,
          -0.9603364475684295,
          "",
          "",
          -0.19753796516767896,
          "",
          "",
          -0.6921619446871781,
          -0.5483680373841442,
          -0.929816534191642,
          "",
          "",
          -1.073855210953923,
          -2.0526715823901314,
          "",
          "",
          "",
          -2.116077470268825,
          "",
          "",
          -1.084693586193537,
          -3.604476942527426,
          ""
         ],
         "yaxis": "y2"
        }
       ],
       "layout": {
        "hovermode": "x",
        "legend": {
         "bgcolor": "#F5F6F9",
         "font": {
          "color": "#4D5663"
         }
        },
        "paper_bgcolor": "#F5F6F9",
        "plot_bgcolor": "#F5F6F9",
        "template": {
         "data": {
          "bar": [
           {
            "error_x": {
             "color": "#2a3f5f"
            },
            "error_y": {
             "color": "#2a3f5f"
            },
            "marker": {
             "line": {
              "color": "#E5ECF6",
              "width": 0.5
             }
            },
            "type": "bar"
           }
          ],
          "barpolar": [
           {
            "marker": {
             "line": {
              "color": "#E5ECF6",
              "width": 0.5
             }
            },
            "type": "barpolar"
           }
          ],
          "carpet": [
           {
            "aaxis": {
             "endlinecolor": "#2a3f5f",
             "gridcolor": "white",
             "linecolor": "white",
             "minorgridcolor": "white",
             "startlinecolor": "#2a3f5f"
            },
            "baxis": {
             "endlinecolor": "#2a3f5f",
             "gridcolor": "white",
             "linecolor": "white",
             "minorgridcolor": "white",
             "startlinecolor": "#2a3f5f"
            },
            "type": "carpet"
           }
          ],
          "choropleth": [
           {
            "colorbar": {
             "outlinewidth": 0,
             "ticks": ""
            },
            "type": "choropleth"
           }
          ],
          "contour": [
           {
            "colorbar": {
             "outlinewidth": 0,
             "ticks": ""
            },
            "colorscale": [
             [
              0,
              "#0d0887"
             ],
             [
              0.1111111111111111,
              "#46039f"
             ],
             [
              0.2222222222222222,
              "#7201a8"
             ],
             [
              0.3333333333333333,
              "#9c179e"
             ],
             [
              0.4444444444444444,
              "#bd3786"
             ],
             [
              0.5555555555555556,
              "#d8576b"
             ],
             [
              0.6666666666666666,
              "#ed7953"
             ],
             [
              0.7777777777777778,
              "#fb9f3a"
             ],
             [
              0.8888888888888888,
              "#fdca26"
             ],
             [
              1,
              "#f0f921"
             ]
            ],
            "type": "contour"
           }
          ],
          "contourcarpet": [
           {
            "colorbar": {
             "outlinewidth": 0,
             "ticks": ""
            },
            "type": "contourcarpet"
           }
          ],
          "heatmap": [
           {
            "colorbar": {
             "outlinewidth": 0,
             "ticks": ""
            },
            "colorscale": [
             [
              0,
              "#0d0887"
             ],
             [
              0.1111111111111111,
              "#46039f"
             ],
             [
              0.2222222222222222,
              "#7201a8"
             ],
             [
              0.3333333333333333,
              "#9c179e"
             ],
             [
              0.4444444444444444,
              "#bd3786"
             ],
             [
              0.5555555555555556,
              "#d8576b"
             ],
             [
              0.6666666666666666,
              "#ed7953"
             ],
             [
              0.7777777777777778,
              "#fb9f3a"
             ],
             [
              0.8888888888888888,
              "#fdca26"
             ],
             [
              1,
              "#f0f921"
             ]
            ],
            "type": "heatmap"
           }
          ],
          "heatmapgl": [
           {
            "colorbar": {
             "outlinewidth": 0,
             "ticks": ""
            },
            "colorscale": [
             [
              0,
              "#0d0887"
             ],
             [
              0.1111111111111111,
              "#46039f"
             ],
             [
              0.2222222222222222,
              "#7201a8"
             ],
             [
              0.3333333333333333,
              "#9c179e"
             ],
             [
              0.4444444444444444,
              "#bd3786"
             ],
             [
              0.5555555555555556,
              "#d8576b"
             ],
             [
              0.6666666666666666,
              "#ed7953"
             ],
             [
              0.7777777777777778,
              "#fb9f3a"
             ],
             [
              0.8888888888888888,
              "#fdca26"
             ],
             [
              1,
              "#f0f921"
             ]
            ],
            "type": "heatmapgl"
           }
          ],
          "histogram": [
           {
            "marker": {
             "colorbar": {
              "outlinewidth": 0,
              "ticks": ""
             }
            },
            "type": "histogram"
           }
          ],
          "histogram2d": [
           {
            "colorbar": {
             "outlinewidth": 0,
             "ticks": ""
            },
            "colorscale": [
             [
              0,
              "#0d0887"
             ],
             [
              0.1111111111111111,
              "#46039f"
             ],
             [
              0.2222222222222222,
              "#7201a8"
             ],
             [
              0.3333333333333333,
              "#9c179e"
             ],
             [
              0.4444444444444444,
              "#bd3786"
             ],
             [
              0.5555555555555556,
              "#d8576b"
             ],
             [
              0.6666666666666666,
              "#ed7953"
             ],
             [
              0.7777777777777778,
              "#fb9f3a"
             ],
             [
              0.8888888888888888,
              "#fdca26"
             ],
             [
              1,
              "#f0f921"
             ]
            ],
            "type": "histogram2d"
           }
          ],
          "histogram2dcontour": [
           {
            "colorbar": {
             "outlinewidth": 0,
             "ticks": ""
            },
            "colorscale": [
             [
              0,
              "#0d0887"
             ],
             [
              0.1111111111111111,
              "#46039f"
             ],
             [
              0.2222222222222222,
              "#7201a8"
             ],
             [
              0.3333333333333333,
              "#9c179e"
             ],
             [
              0.4444444444444444,
              "#bd3786"
             ],
             [
              0.5555555555555556,
              "#d8576b"
             ],
             [
              0.6666666666666666,
              "#ed7953"
             ],
             [
              0.7777777777777778,
              "#fb9f3a"
             ],
             [
              0.8888888888888888,
              "#fdca26"
             ],
             [
              1,
              "#f0f921"
             ]
            ],
            "type": "histogram2dcontour"
           }
          ],
          "mesh3d": [
           {
            "colorbar": {
             "outlinewidth": 0,
             "ticks": ""
            },
            "type": "mesh3d"
           }
          ],
          "parcoords": [
           {
            "line": {
             "colorbar": {
              "outlinewidth": 0,
              "ticks": ""
             }
            },
            "type": "parcoords"
           }
          ],
          "pie": [
           {
            "automargin": true,
            "type": "pie"
           }
          ],
          "scatter": [
           {
            "marker": {
             "colorbar": {
              "outlinewidth": 0,
              "ticks": ""
             }
            },
            "type": "scatter"
           }
          ],
          "scatter3d": [
           {
            "line": {
             "colorbar": {
              "outlinewidth": 0,
              "ticks": ""
             }
            },
            "marker": {
             "colorbar": {
              "outlinewidth": 0,
              "ticks": ""
             }
            },
            "type": "scatter3d"
           }
          ],
          "scattercarpet": [
           {
            "marker": {
             "colorbar": {
              "outlinewidth": 0,
              "ticks": ""
             }
            },
            "type": "scattercarpet"
           }
          ],
          "scattergeo": [
           {
            "marker": {
             "colorbar": {
              "outlinewidth": 0,
              "ticks": ""
             }
            },
            "type": "scattergeo"
           }
          ],
          "scattergl": [
           {
            "marker": {
             "colorbar": {
              "outlinewidth": 0,
              "ticks": ""
             }
            },
            "type": "scattergl"
           }
          ],
          "scattermapbox": [
           {
            "marker": {
             "colorbar": {
              "outlinewidth": 0,
              "ticks": ""
             }
            },
            "type": "scattermapbox"
           }
          ],
          "scatterpolar": [
           {
            "marker": {
             "colorbar": {
              "outlinewidth": 0,
              "ticks": ""
             }
            },
            "type": "scatterpolar"
           }
          ],
          "scatterpolargl": [
           {
            "marker": {
             "colorbar": {
              "outlinewidth": 0,
              "ticks": ""
             }
            },
            "type": "scatterpolargl"
           }
          ],
          "scatterternary": [
           {
            "marker": {
             "colorbar": {
              "outlinewidth": 0,
              "ticks": ""
             }
            },
            "type": "scatterternary"
           }
          ],
          "surface": [
           {
            "colorbar": {
             "outlinewidth": 0,
             "ticks": ""
            },
            "colorscale": [
             [
              0,
              "#0d0887"
             ],
             [
              0.1111111111111111,
              "#46039f"
             ],
             [
              0.2222222222222222,
              "#7201a8"
             ],
             [
              0.3333333333333333,
              "#9c179e"
             ],
             [
              0.4444444444444444,
              "#bd3786"
             ],
             [
              0.5555555555555556,
              "#d8576b"
             ],
             [
              0.6666666666666666,
              "#ed7953"
             ],
             [
              0.7777777777777778,
              "#fb9f3a"
             ],
             [
              0.8888888888888888,
              "#fdca26"
             ],
             [
              1,
              "#f0f921"
             ]
            ],
            "type": "surface"
           }
          ],
          "table": [
           {
            "cells": {
             "fill": {
              "color": "#EBF0F8"
             },
             "line": {
              "color": "white"
             }
            },
            "header": {
             "fill": {
              "color": "#C8D4E3"
             },
             "line": {
              "color": "white"
             }
            },
            "type": "table"
           }
          ]
         },
         "layout": {
          "annotationdefaults": {
           "arrowcolor": "#2a3f5f",
           "arrowhead": 0,
           "arrowwidth": 1
          },
          "autotypenumbers": "strict",
          "coloraxis": {
           "colorbar": {
            "outlinewidth": 0,
            "ticks": ""
           }
          },
          "colorscale": {
           "diverging": [
            [
             0,
             "#8e0152"
            ],
            [
             0.1,
             "#c51b7d"
            ],
            [
             0.2,
             "#de77ae"
            ],
            [
             0.3,
             "#f1b6da"
            ],
            [
             0.4,
             "#fde0ef"
            ],
            [
             0.5,
             "#f7f7f7"
            ],
            [
             0.6,
             "#e6f5d0"
            ],
            [
             0.7,
             "#b8e186"
            ],
            [
             0.8,
             "#7fbc41"
            ],
            [
             0.9,
             "#4d9221"
            ],
            [
             1,
             "#276419"
            ]
           ],
           "sequential": [
            [
             0,
             "#0d0887"
            ],
            [
             0.1111111111111111,
             "#46039f"
            ],
            [
             0.2222222222222222,
             "#7201a8"
            ],
            [
             0.3333333333333333,
             "#9c179e"
            ],
            [
             0.4444444444444444,
             "#bd3786"
            ],
            [
             0.5555555555555556,
             "#d8576b"
            ],
            [
             0.6666666666666666,
             "#ed7953"
            ],
            [
             0.7777777777777778,
             "#fb9f3a"
            ],
            [
             0.8888888888888888,
             "#fdca26"
            ],
            [
             1,
             "#f0f921"
            ]
           ],
           "sequentialminus": [
            [
             0,
             "#0d0887"
            ],
            [
             0.1111111111111111,
             "#46039f"
            ],
            [
             0.2222222222222222,
             "#7201a8"
            ],
            [
             0.3333333333333333,
             "#9c179e"
            ],
            [
             0.4444444444444444,
             "#bd3786"
            ],
            [
             0.5555555555555556,
             "#d8576b"
            ],
            [
             0.6666666666666666,
             "#ed7953"
            ],
            [
             0.7777777777777778,
             "#fb9f3a"
            ],
            [
             0.8888888888888888,
             "#fdca26"
            ],
            [
             1,
             "#f0f921"
            ]
           ]
          },
          "colorway": [
           "#636efa",
           "#EF553B",
           "#00cc96",
           "#ab63fa",
           "#FFA15A",
           "#19d3f3",
           "#FF6692",
           "#B6E880",
           "#FF97FF",
           "#FECB52"
          ],
          "font": {
           "color": "#2a3f5f"
          },
          "geo": {
           "bgcolor": "white",
           "lakecolor": "white",
           "landcolor": "#E5ECF6",
           "showlakes": true,
           "showland": true,
           "subunitcolor": "white"
          },
          "hoverlabel": {
           "align": "left"
          },
          "hovermode": "closest",
          "mapbox": {
           "style": "light"
          },
          "paper_bgcolor": "white",
          "plot_bgcolor": "#E5ECF6",
          "polar": {
           "angularaxis": {
            "gridcolor": "white",
            "linecolor": "white",
            "ticks": ""
           },
           "bgcolor": "#E5ECF6",
           "radialaxis": {
            "gridcolor": "white",
            "linecolor": "white",
            "ticks": ""
           }
          },
          "scene": {
           "xaxis": {
            "backgroundcolor": "#E5ECF6",
            "gridcolor": "white",
            "gridwidth": 2,
            "linecolor": "white",
            "showbackground": true,
            "ticks": "",
            "zerolinecolor": "white"
           },
           "yaxis": {
            "backgroundcolor": "#E5ECF6",
            "gridcolor": "white",
            "gridwidth": 2,
            "linecolor": "white",
            "showbackground": true,
            "ticks": "",
            "zerolinecolor": "white"
           },
           "zaxis": {
            "backgroundcolor": "#E5ECF6",
            "gridcolor": "white",
            "gridwidth": 2,
            "linecolor": "white",
            "showbackground": true,
            "ticks": "",
            "zerolinecolor": "white"
           }
          },
          "shapedefaults": {
           "line": {
            "color": "#2a3f5f"
           }
          },
          "ternary": {
           "aaxis": {
            "gridcolor": "white",
            "linecolor": "white",
            "ticks": ""
           },
           "baxis": {
            "gridcolor": "white",
            "linecolor": "white",
            "ticks": ""
           },
           "bgcolor": "#E5ECF6",
           "caxis": {
            "gridcolor": "white",
            "linecolor": "white",
            "ticks": ""
           }
          },
          "title": {
           "x": 0.05
          },
          "xaxis": {
           "automargin": true,
           "gridcolor": "white",
           "linecolor": "white",
           "ticks": "",
           "title": {
            "standoff": 15
           },
           "zerolinecolor": "white",
           "zerolinewidth": 2
          },
          "yaxis": {
           "automargin": true,
           "gridcolor": "white",
           "linecolor": "white",
           "ticks": "",
           "title": {
            "standoff": 15
           },
           "zerolinecolor": "white",
           "zerolinewidth": 2
          }
         }
        },
        "title": {
         "font": {
          "color": "#4D5663"
         }
        },
        "xaxis": {
         "gridcolor": "#E1E5ED",
         "showgrid": true,
         "tickfont": {
          "color": "#4D5663"
         },
         "title": {
          "font": {
           "color": "#4D5663"
          },
          "text": ""
         },
         "zerolinecolor": "#E1E5ED"
        },
        "xaxis2": {
         "anchor": "y2",
         "gridcolor": "#E1E5ED",
         "showgrid": true,
         "showticklabels": false,
         "tickfont": {
          "color": "#4D5663"
         },
         "title": {
          "font": {
           "color": "#4D5663"
          },
          "text": ""
         },
         "zerolinecolor": "#E1E5ED"
        },
        "yaxis": {
         "domain": [
          0.3,
          1
         ],
         "gridcolor": "#E1E5ED",
         "showgrid": true,
         "tickfont": {
          "color": "#4D5663"
         },
         "title": {
          "font": {
           "color": "#4D5663"
          },
          "text": ""
         },
         "zerolinecolor": "#E1E5ED"
        },
        "yaxis2": {
         "domain": [
          0,
          0.25
         ],
         "gridcolor": "#E1E5ED",
         "showgrid": true,
         "tickfont": {
          "color": "#4D5663"
         },
         "title": {
          "font": {
           "color": "#4D5663"
          },
          "text": "Spread"
         },
         "zerolinecolor": "#E1E5ED"
        }
       }
      },
      "text/html": [
       "<div>                            <div id=\"b02ea3be-5f1b-4cea-9225-c2e2d87c8215\" class=\"plotly-graph-div\" style=\"height:525px; width:100%;\"></div>            <script type=\"text/javascript\">                require([\"plotly\"], function(Plotly) {                    window.PLOTLYENV=window.PLOTLYENV || {};\n",
       "                    window.PLOTLYENV.BASE_URL='https://plot.ly';                                    if (document.getElementById(\"b02ea3be-5f1b-4cea-9225-c2e2d87c8215\")) {                    Plotly.newPlot(                        \"b02ea3be-5f1b-4cea-9225-c2e2d87c8215\",                        [{\"line\": {\"color\": \"rgba(255, 153, 51, 1.0)\", \"dash\": \"solid\", \"shape\": \"linear\", \"width\": 1.3}, \"mode\": \"lines\", \"name\": \"A\", \"text\": \"\", \"type\": \"scatter\", \"x\": [0, 1, 2, 3, 4, 5, 6, 7, 8, 9, 10, 11, 12, 13, 14, 15, 16, 17, 18, 19, 20, 21, 22, 23, 24, 25, 26, 27, 28, 29, 30, 31, 32, 33, 34, 35, 36, 37, 38, 39, 40, 41, 42, 43, 44, 45, 46, 47, 48, 49, 50, 51, 52, 53, 54, 55, 56, 57, 58, 59, 60, 61, 62, 63, 64, 65, 66, 67, 68, 69, 70, 71, 72, 73, 74, 75, 76, 77, 78, 79, 80, 81, 82, 83, 84, 85, 86, 87, 88, 89, 90, 91, 92, 93, 94, 95, 96, 97, 98, 99], \"y\": [-0.020189904066568676, 0.1605430195388812, 0.2183093910227895, -2.4481729834834183, -1.3420320191794017, -0.11221568571796266, 0.5438037913168252, -0.6738957753062436, 1.2812552096620458, -1.9536234368933418, 0.6253512625110269, -0.367816742191912, -0.768336789815034, -0.4129987988772313, 0.19697310981348015, -0.27701278168076676, -2.1850709253021408, -0.5250012837190554, -0.2960852772923362, 2.1017025013406174, -1.0911147300173158, 0.03328166238849761, 0.8748423978764613, -0.7007281434378153, -0.7032378773912719, 0.8163765079870988, 0.6030432620160926, 0.9510948268094824, 0.27023316558141663, -0.7311343794012733, -0.8666389092607147, 1.6069767733420819, -0.48121297176306743, 0.8828189161472906, 1.032297574576932, -1.5001633282861504, 0.5649349776911442, -0.051387101531794106, -0.2781026509732436, -0.8923371781052455, 1.1915575077827307, -1.2536370325127713, -0.2805725925410075, 1.070862086463324, -0.5607966024437397, 0.44671495095770924, 0.9055046646215376, 0.9966668848767872, -0.6389673657208839, -0.19119612298566752, -1.867018118228768, 1.7299122438438277, -1.5392952098290518, 1.9085227576174537, -0.7365200192739271, 0.291020559910531, -0.6876208386672505, -0.4396880008989103, 0.8766948555928455, 0.48993246404209895, 0.04486282746655476, 0.3311347774803122, 1.3444595160554034, 1.2292855329948622, -0.37737713594871525, -0.20849767131121968, 0.8803939015253044, 0.6916060145498991, -0.6001880277835497, -1.0400549304427917, 0.003272206458725557, -1.3528129854600308, -0.3469507174506524, -0.9140855889241825, 0.9577028104654609, -0.20396839758209903, -0.5635726556127097, -0.6292571060303892, -1.4412942860438325, -0.023173287497486254, 0.2867170728131295, 1.4891400934905492, 1.683467368370149, 0.0032825188849990358, -1.724488989643146, 0.3619017524142584, -1.086482992483747, 1.3030784312470234, 2.086086574606949, -0.9148799666797345, -2.53659794781672, 0.14790147153220412, 1.5081605357439327, 0.03172942631163809, -1.3844203538077873, 2.7317365325469214, 1.8435597585089694, -0.9235347978823618, -2.2293208131348097, 0.8302728483937458]}, {\"line\": {\"color\": \"rgba(55, 128, 191, 1.0)\", \"dash\": \"solid\", \"shape\": \"linear\", \"width\": 1.3}, \"mode\": \"lines\", \"name\": \"B\", \"text\": \"\", \"type\": \"scatter\", \"x\": [0, 1, 2, 3, 4, 5, 6, 7, 8, 9, 10, 11, 12, 13, 14, 15, 16, 17, 18, 19, 20, 21, 22, 23, 24, 25, 26, 27, 28, 29, 30, 31, 32, 33, 34, 35, 36, 37, 38, 39, 40, 41, 42, 43, 44, 45, 46, 47, 48, 49, 50, 51, 52, 53, 54, 55, 56, 57, 58, 59, 60, 61, 62, 63, 64, 65, 66, 67, 68, 69, 70, 71, 72, 73, 74, 75, 76, 77, 78, 79, 80, 81, 82, 83, 84, 85, 86, 87, 88, 89, 90, 91, 92, 93, 94, 95, 96, 97, 98, 99], \"y\": [-0.4380037600693329, 1.3856258480513495, -1.6439581318945904, 1.780163099731763, -0.06886238487724357, -0.3419320878039712, 1.7176474787692995, -3.0128342192986843, 1.268848134771191, 0.2448222463181939, 0.6832274431968387, 0.5900880475260439, -0.28351085192768744, 0.03951006673344334, 0.33378442318795754, 0.0036633902122219066, -1.0335621009028737, -1.4346287159598332, -0.7637090963596298, -0.49509070170442804, 0.7017553526944327, 1.0578719391875344, 0.7596212001824827, 0.8464267198538894, 0.5115456059271346, 1.4785023222198197, -2.1651187773032246, 1.0007144847757021, 0.7384916218488192, 0.26590612111690903, 1.956294281895234, -0.8617578488568759, 0.011053299902504497, 1.5429553670798497, 1.7290962461445358, -0.08249248371447555, -0.5315109256761953, -0.5644574743776344, 0.7402337629534262, -0.6086185725746197, 0.2187789432258602, -0.125717596041093, 0.20048527432005395, 2.731679171077915, -1.8603447004357492, 0.9554304810338209, -1.4103828466835837, 1.065950515655746, -1.236848826065617, -0.7318542012955099, 2.2934039074168857, -0.7557077880124786, 2.0115055050237043, 0.37154483900426716, -1.9242514925498644, 0.7925365130656604, -0.2819909724010163, -0.40942736078084324, -0.7623793634102329, 1.1645877433591125, -0.38777448037124174, -0.1723366430999955, 0.016858458282385105, 0.04213951346102748, -0.2200209199138018, 0.4556172925040396, 0.9847325399374394, 0.3486345501482719, 0.9407477147125772, -0.13776682864629283, 0.25163129965039865, 1.1259847998476251, -1.2270319722269811, -0.8076192569794358, -0.1342328858251307, 0.19426191413022975, -0.9440956952124823, -0.5819788729383728, -0.48095783847540297, -0.8869083142131824, -0.14477563692269194, 1.6866780586582282, 1.5258822957160807, -1.0275474178043047, -1.0323270449559678, 0.9102697897984027, -0.1566664582921049, 0.7704706110055723, -0.37923470972809126, 0.15897524427418847, -0.4839263654265887, -0.39319145215301765, 0.4437255355807462, -0.4350402940246013, 0.7316571164610378, -1.8887992487543999, 0.6035468169807476, 0.16115878831117503, 1.375156129392616, 0.5982663947397071]}, {\"connectgaps\": false, \"fill\": \"tozeroy\", \"line\": {\"color\": \"green\", \"dash\": \"solid\", \"shape\": \"linear\", \"width\": 0.5}, \"mode\": \"lines\", \"name\": \"Spread\", \"showlegend\": false, \"type\": \"scatter\", \"x\": [0, 1, 2, 3, 4, 5, 6, 7, 8, 9, 10, 11, 12, 13, 14, 15, 16, 17, 18, 19, 20, 21, 22, 23, 24, 25, 26, 27, 28, 29, 30, 31, 32, 33, 34, 35, 36, 37, 38, 39, 40, 41, 42, 43, 44, 45, 46, 47, 48, 49, 50, 51, 52, 53, 54, 55, 56, 57, 58, 59, 60, 61, 62, 63, 64, 65, 66, 67, 68, 69, 70, 71, 72, 73, 74, 75, 76, 77, 78, 79, 80, 81, 82, 83, 84, 85, 86, 87, 88, 89, 90, 91, 92, 93, 94, 95, 96, 97, 98, 99], \"xaxis\": \"x2\", \"y\": [0.4178138560027642, \"\", 1.86226752291738, \"\", \"\", 0.22971640208600858, \"\", 2.3389384439924408, 0.012407074890854686, \"\", \"\", \"\", \"\", \"\", \"\", \"\", \"\", 0.9096274322407778, 0.4676238190672936, 2.5967932030450456, \"\", \"\", 0.11522119769397865, \"\", \"\", \"\", 2.768162039319317, \"\", \"\", \"\", \"\", 2.4687346221989577, \"\", \"\", \"\", \"\", 1.0964459033673395, 0.5130703728458402, \"\", \"\", 0.9727785645568705, \"\", \"\", \"\", 1.2995480979920093, \"\", 2.3158875113051214, \"\", 0.5978814603447331, 0.5406580783098425, \"\", 2.4856200318563064, \"\", 1.5369779186131867, 1.1877314732759374, \"\", \"\", \"\", 1.6390742190030785, \"\", 0.4326373078377965, 0.5034714205803077, 1.3276010577730182, 1.1871460195338348, \"\", \"\", \"\", 0.34297146440162724, \"\", \"\", \"\", \"\", 0.8800812547763287, \"\", 1.0919356962905917, \"\", 0.3805230395997725, \"\", \"\", 0.8637350267156961, 0.43149270973582143, \"\", 0.1575850726540684, 1.0308299366893037, \"\", \"\", \"\", 0.532607820241451, 2.4653212843350403, \"\", \"\", 0.5410929236852218, 1.0644350001631866, 0.4667697203362394, \"\", 4.620535781301321, 1.2400129415282217, \"\", \"\", 0.2320064536540387], \"yaxis\": \"y2\"}, {\"connectgaps\": false, \"fill\": \"tozeroy\", \"line\": {\"color\": \"red\", \"dash\": \"solid\", \"shape\": \"linear\", \"width\": 0.5}, \"mode\": \"lines\", \"name\": \"Spread\", \"showlegend\": false, \"type\": \"scatter\", \"x\": [0, 1, 2, 3, 4, 5, 6, 7, 8, 9, 10, 11, 12, 13, 14, 15, 16, 17, 18, 19, 20, 21, 22, 23, 24, 25, 26, 27, 28, 29, 30, 31, 32, 33, 34, 35, 36, 37, 38, 39, 40, 41, 42, 43, 44, 45, 46, 47, 48, 49, 50, 51, 52, 53, 54, 55, 56, 57, 58, 59, 60, 61, 62, 63, 64, 65, 66, 67, 68, 69, 70, 71, 72, 73, 74, 75, 76, 77, 78, 79, 80, 81, 82, 83, 84, 85, 86, 87, 88, 89, 90, 91, 92, 93, 94, 95, 96, 97, 98, 99], \"xaxis\": \"x2\", \"y\": [\"\", -1.2250828285124682, \"\", -4.228336083215181, -1.2731696343021581, \"\", -1.1738436874524742, \"\", \"\", -2.1984456832115358, -0.057876180685811796, -0.957904789717956, -0.4848259378873465, -0.4525088656106746, -0.13681131337447738, -0.28067617189298866, -1.151508824399267, \"\", \"\", \"\", -1.7928700827117485, -1.024590276799037, \"\", -1.5471548632917047, -1.2147834833184064, -0.6621258142327209, \"\", -0.0496196579662197, -0.4682584562674026, -0.9970405005181824, -2.8229331911559488, \"\", -0.4922662716655719, -0.6601364509325591, -0.6967986715676038, -1.4176708445716748, \"\", \"\", -1.01833641392667, -0.2837186055306258, \"\", -1.1279194364716782, -0.48105786686106145, -1.660817084614591, \"\", -0.5087155300761117, \"\", -0.06928363077895883, \"\", \"\", -4.160422025645653, \"\", -3.5508007148527563, \"\", \"\", -0.5015159531551294, -0.40562986626623426, -0.03026064011806706, \"\", -0.6746552793170135, \"\", \"\", \"\", \"\", -0.15735621603491345, -0.6641149638152593, -0.10433863841213498, \"\", -1.540935742496127, -0.9022881017964989, -0.2483590931916731, -2.478797785307656, \"\", -0.10646633194474664, \"\", -0.3982303117123288, \"\", -0.0472782330920164, -0.9603364475684295, \"\", \"\", -0.19753796516767896, \"\", \"\", -0.6921619446871781, -0.5483680373841442, -0.929816534191642, \"\", \"\", -1.073855210953923, -2.0526715823901314, \"\", \"\", \"\", -2.116077470268825, \"\", \"\", -1.084693586193537, -3.604476942527426, \"\"], \"yaxis\": \"y2\"}],                        {\"hovermode\": \"x\", \"legend\": {\"bgcolor\": \"#F5F6F9\", \"font\": {\"color\": \"#4D5663\"}}, \"paper_bgcolor\": \"#F5F6F9\", \"plot_bgcolor\": \"#F5F6F9\", \"template\": {\"data\": {\"bar\": [{\"error_x\": {\"color\": \"#2a3f5f\"}, \"error_y\": {\"color\": \"#2a3f5f\"}, \"marker\": {\"line\": {\"color\": \"#E5ECF6\", \"width\": 0.5}}, \"type\": \"bar\"}], \"barpolar\": [{\"marker\": {\"line\": {\"color\": \"#E5ECF6\", \"width\": 0.5}}, \"type\": \"barpolar\"}], \"carpet\": [{\"aaxis\": {\"endlinecolor\": \"#2a3f5f\", \"gridcolor\": \"white\", \"linecolor\": \"white\", \"minorgridcolor\": \"white\", \"startlinecolor\": \"#2a3f5f\"}, \"baxis\": {\"endlinecolor\": \"#2a3f5f\", \"gridcolor\": \"white\", \"linecolor\": \"white\", \"minorgridcolor\": \"white\", \"startlinecolor\": \"#2a3f5f\"}, \"type\": \"carpet\"}], \"choropleth\": [{\"colorbar\": {\"outlinewidth\": 0, \"ticks\": \"\"}, \"type\": \"choropleth\"}], \"contour\": [{\"colorbar\": {\"outlinewidth\": 0, \"ticks\": \"\"}, \"colorscale\": [[0.0, \"#0d0887\"], [0.1111111111111111, \"#46039f\"], [0.2222222222222222, \"#7201a8\"], [0.3333333333333333, \"#9c179e\"], [0.4444444444444444, \"#bd3786\"], [0.5555555555555556, \"#d8576b\"], [0.6666666666666666, \"#ed7953\"], [0.7777777777777778, \"#fb9f3a\"], [0.8888888888888888, \"#fdca26\"], [1.0, \"#f0f921\"]], \"type\": \"contour\"}], \"contourcarpet\": [{\"colorbar\": {\"outlinewidth\": 0, \"ticks\": \"\"}, \"type\": \"contourcarpet\"}], \"heatmap\": [{\"colorbar\": {\"outlinewidth\": 0, \"ticks\": \"\"}, \"colorscale\": [[0.0, \"#0d0887\"], [0.1111111111111111, \"#46039f\"], [0.2222222222222222, \"#7201a8\"], [0.3333333333333333, \"#9c179e\"], [0.4444444444444444, \"#bd3786\"], [0.5555555555555556, \"#d8576b\"], [0.6666666666666666, \"#ed7953\"], [0.7777777777777778, \"#fb9f3a\"], [0.8888888888888888, \"#fdca26\"], [1.0, \"#f0f921\"]], \"type\": \"heatmap\"}], \"heatmapgl\": [{\"colorbar\": {\"outlinewidth\": 0, \"ticks\": \"\"}, \"colorscale\": [[0.0, \"#0d0887\"], [0.1111111111111111, \"#46039f\"], [0.2222222222222222, \"#7201a8\"], [0.3333333333333333, \"#9c179e\"], [0.4444444444444444, \"#bd3786\"], [0.5555555555555556, \"#d8576b\"], [0.6666666666666666, \"#ed7953\"], [0.7777777777777778, \"#fb9f3a\"], [0.8888888888888888, \"#fdca26\"], [1.0, \"#f0f921\"]], \"type\": \"heatmapgl\"}], \"histogram\": [{\"marker\": {\"colorbar\": {\"outlinewidth\": 0, \"ticks\": \"\"}}, \"type\": \"histogram\"}], \"histogram2d\": [{\"colorbar\": {\"outlinewidth\": 0, \"ticks\": \"\"}, \"colorscale\": [[0.0, \"#0d0887\"], [0.1111111111111111, \"#46039f\"], [0.2222222222222222, \"#7201a8\"], [0.3333333333333333, \"#9c179e\"], [0.4444444444444444, \"#bd3786\"], [0.5555555555555556, \"#d8576b\"], [0.6666666666666666, \"#ed7953\"], [0.7777777777777778, \"#fb9f3a\"], [0.8888888888888888, \"#fdca26\"], [1.0, \"#f0f921\"]], \"type\": \"histogram2d\"}], \"histogram2dcontour\": [{\"colorbar\": {\"outlinewidth\": 0, \"ticks\": \"\"}, \"colorscale\": [[0.0, \"#0d0887\"], [0.1111111111111111, \"#46039f\"], [0.2222222222222222, \"#7201a8\"], [0.3333333333333333, \"#9c179e\"], [0.4444444444444444, \"#bd3786\"], [0.5555555555555556, \"#d8576b\"], [0.6666666666666666, \"#ed7953\"], [0.7777777777777778, \"#fb9f3a\"], [0.8888888888888888, \"#fdca26\"], [1.0, \"#f0f921\"]], \"type\": \"histogram2dcontour\"}], \"mesh3d\": [{\"colorbar\": {\"outlinewidth\": 0, \"ticks\": \"\"}, \"type\": \"mesh3d\"}], \"parcoords\": [{\"line\": {\"colorbar\": {\"outlinewidth\": 0, \"ticks\": \"\"}}, \"type\": \"parcoords\"}], \"pie\": [{\"automargin\": true, \"type\": \"pie\"}], \"scatter\": [{\"marker\": {\"colorbar\": {\"outlinewidth\": 0, \"ticks\": \"\"}}, \"type\": \"scatter\"}], \"scatter3d\": [{\"line\": {\"colorbar\": {\"outlinewidth\": 0, \"ticks\": \"\"}}, \"marker\": {\"colorbar\": {\"outlinewidth\": 0, \"ticks\": \"\"}}, \"type\": \"scatter3d\"}], \"scattercarpet\": [{\"marker\": {\"colorbar\": {\"outlinewidth\": 0, \"ticks\": \"\"}}, \"type\": \"scattercarpet\"}], \"scattergeo\": [{\"marker\": {\"colorbar\": {\"outlinewidth\": 0, \"ticks\": \"\"}}, \"type\": \"scattergeo\"}], \"scattergl\": [{\"marker\": {\"colorbar\": {\"outlinewidth\": 0, \"ticks\": \"\"}}, \"type\": \"scattergl\"}], \"scattermapbox\": [{\"marker\": {\"colorbar\": {\"outlinewidth\": 0, \"ticks\": \"\"}}, \"type\": \"scattermapbox\"}], \"scatterpolar\": [{\"marker\": {\"colorbar\": {\"outlinewidth\": 0, \"ticks\": \"\"}}, \"type\": \"scatterpolar\"}], \"scatterpolargl\": [{\"marker\": {\"colorbar\": {\"outlinewidth\": 0, \"ticks\": \"\"}}, \"type\": \"scatterpolargl\"}], \"scatterternary\": [{\"marker\": {\"colorbar\": {\"outlinewidth\": 0, \"ticks\": \"\"}}, \"type\": \"scatterternary\"}], \"surface\": [{\"colorbar\": {\"outlinewidth\": 0, \"ticks\": \"\"}, \"colorscale\": [[0.0, \"#0d0887\"], [0.1111111111111111, \"#46039f\"], [0.2222222222222222, \"#7201a8\"], [0.3333333333333333, \"#9c179e\"], [0.4444444444444444, \"#bd3786\"], [0.5555555555555556, \"#d8576b\"], [0.6666666666666666, \"#ed7953\"], [0.7777777777777778, \"#fb9f3a\"], [0.8888888888888888, \"#fdca26\"], [1.0, \"#f0f921\"]], \"type\": \"surface\"}], \"table\": [{\"cells\": {\"fill\": {\"color\": \"#EBF0F8\"}, \"line\": {\"color\": \"white\"}}, \"header\": {\"fill\": {\"color\": \"#C8D4E3\"}, \"line\": {\"color\": \"white\"}}, \"type\": \"table\"}]}, \"layout\": {\"annotationdefaults\": {\"arrowcolor\": \"#2a3f5f\", \"arrowhead\": 0, \"arrowwidth\": 1}, \"autotypenumbers\": \"strict\", \"coloraxis\": {\"colorbar\": {\"outlinewidth\": 0, \"ticks\": \"\"}}, \"colorscale\": {\"diverging\": [[0, \"#8e0152\"], [0.1, \"#c51b7d\"], [0.2, \"#de77ae\"], [0.3, \"#f1b6da\"], [0.4, \"#fde0ef\"], [0.5, \"#f7f7f7\"], [0.6, \"#e6f5d0\"], [0.7, \"#b8e186\"], [0.8, \"#7fbc41\"], [0.9, \"#4d9221\"], [1, \"#276419\"]], \"sequential\": [[0.0, \"#0d0887\"], [0.1111111111111111, \"#46039f\"], [0.2222222222222222, \"#7201a8\"], [0.3333333333333333, \"#9c179e\"], [0.4444444444444444, \"#bd3786\"], [0.5555555555555556, \"#d8576b\"], [0.6666666666666666, \"#ed7953\"], [0.7777777777777778, \"#fb9f3a\"], [0.8888888888888888, \"#fdca26\"], [1.0, \"#f0f921\"]], \"sequentialminus\": [[0.0, \"#0d0887\"], [0.1111111111111111, \"#46039f\"], [0.2222222222222222, \"#7201a8\"], [0.3333333333333333, \"#9c179e\"], [0.4444444444444444, \"#bd3786\"], [0.5555555555555556, \"#d8576b\"], [0.6666666666666666, \"#ed7953\"], [0.7777777777777778, \"#fb9f3a\"], [0.8888888888888888, \"#fdca26\"], [1.0, \"#f0f921\"]]}, \"colorway\": [\"#636efa\", \"#EF553B\", \"#00cc96\", \"#ab63fa\", \"#FFA15A\", \"#19d3f3\", \"#FF6692\", \"#B6E880\", \"#FF97FF\", \"#FECB52\"], \"font\": {\"color\": \"#2a3f5f\"}, \"geo\": {\"bgcolor\": \"white\", \"lakecolor\": \"white\", \"landcolor\": \"#E5ECF6\", \"showlakes\": true, \"showland\": true, \"subunitcolor\": \"white\"}, \"hoverlabel\": {\"align\": \"left\"}, \"hovermode\": \"closest\", \"mapbox\": {\"style\": \"light\"}, \"paper_bgcolor\": \"white\", \"plot_bgcolor\": \"#E5ECF6\", \"polar\": {\"angularaxis\": {\"gridcolor\": \"white\", \"linecolor\": \"white\", \"ticks\": \"\"}, \"bgcolor\": \"#E5ECF6\", \"radialaxis\": {\"gridcolor\": \"white\", \"linecolor\": \"white\", \"ticks\": \"\"}}, \"scene\": {\"xaxis\": {\"backgroundcolor\": \"#E5ECF6\", \"gridcolor\": \"white\", \"gridwidth\": 2, \"linecolor\": \"white\", \"showbackground\": true, \"ticks\": \"\", \"zerolinecolor\": \"white\"}, \"yaxis\": {\"backgroundcolor\": \"#E5ECF6\", \"gridcolor\": \"white\", \"gridwidth\": 2, \"linecolor\": \"white\", \"showbackground\": true, \"ticks\": \"\", \"zerolinecolor\": \"white\"}, \"zaxis\": {\"backgroundcolor\": \"#E5ECF6\", \"gridcolor\": \"white\", \"gridwidth\": 2, \"linecolor\": \"white\", \"showbackground\": true, \"ticks\": \"\", \"zerolinecolor\": \"white\"}}, \"shapedefaults\": {\"line\": {\"color\": \"#2a3f5f\"}}, \"ternary\": {\"aaxis\": {\"gridcolor\": \"white\", \"linecolor\": \"white\", \"ticks\": \"\"}, \"baxis\": {\"gridcolor\": \"white\", \"linecolor\": \"white\", \"ticks\": \"\"}, \"bgcolor\": \"#E5ECF6\", \"caxis\": {\"gridcolor\": \"white\", \"linecolor\": \"white\", \"ticks\": \"\"}}, \"title\": {\"x\": 0.05}, \"xaxis\": {\"automargin\": true, \"gridcolor\": \"white\", \"linecolor\": \"white\", \"ticks\": \"\", \"title\": {\"standoff\": 15}, \"zerolinecolor\": \"white\", \"zerolinewidth\": 2}, \"yaxis\": {\"automargin\": true, \"gridcolor\": \"white\", \"linecolor\": \"white\", \"ticks\": \"\", \"title\": {\"standoff\": 15}, \"zerolinecolor\": \"white\", \"zerolinewidth\": 2}}}, \"title\": {\"font\": {\"color\": \"#4D5663\"}}, \"xaxis\": {\"gridcolor\": \"#E1E5ED\", \"showgrid\": true, \"tickfont\": {\"color\": \"#4D5663\"}, \"title\": {\"font\": {\"color\": \"#4D5663\"}, \"text\": \"\"}, \"zerolinecolor\": \"#E1E5ED\"}, \"xaxis2\": {\"anchor\": \"y2\", \"gridcolor\": \"#E1E5ED\", \"showgrid\": true, \"showticklabels\": false, \"tickfont\": {\"color\": \"#4D5663\"}, \"title\": {\"font\": {\"color\": \"#4D5663\"}, \"text\": \"\"}, \"zerolinecolor\": \"#E1E5ED\"}, \"yaxis\": {\"domain\": [0.3, 1], \"gridcolor\": \"#E1E5ED\", \"showgrid\": true, \"tickfont\": {\"color\": \"#4D5663\"}, \"title\": {\"font\": {\"color\": \"#4D5663\"}, \"text\": \"\"}, \"zerolinecolor\": \"#E1E5ED\"}, \"yaxis2\": {\"domain\": [0, 0.25], \"gridcolor\": \"#E1E5ED\", \"showgrid\": true, \"tickfont\": {\"color\": \"#4D5663\"}, \"title\": {\"font\": {\"color\": \"#4D5663\"}, \"text\": \"Spread\"}, \"zerolinecolor\": \"#E1E5ED\"}},                        {\"showLink\": true, \"linkText\": \"Export to plot.ly\", \"plotlyServerURL\": \"https://plot.ly\", \"responsive\": true}                    ).then(function(){\n",
       "                            \n",
       "var gd = document.getElementById('b02ea3be-5f1b-4cea-9225-c2e2d87c8215');\n",
       "var x = new MutationObserver(function (mutations, observer) {{\n",
       "        var display = window.getComputedStyle(gd).display;\n",
       "        if (!display || display === 'none') {{\n",
       "            console.log([gd, 'removed!']);\n",
       "            Plotly.purge(gd);\n",
       "            observer.disconnect();\n",
       "        }}\n",
       "}});\n",
       "\n",
       "// Listen for the removal of the full notebook cells\n",
       "var notebookContainer = gd.closest('#notebook-container');\n",
       "if (notebookContainer) {{\n",
       "    x.observe(notebookContainer, {childList: true});\n",
       "}}\n",
       "\n",
       "// Listen for the clearing of the current output cell\n",
       "var outputEl = gd.closest('.output');\n",
       "if (outputEl) {{\n",
       "    x.observe(outputEl, {childList: true});\n",
       "}}\n",
       "\n",
       "                        })                };                });            </script>        </div>"
      ]
     },
     "metadata": {},
     "output_type": "display_data"
    }
   ],
   "source": [
    "df[['A','B']].iplot(kind='spread')"
   ]
  },
  {
   "cell_type": "code",
   "execution_count": null,
   "metadata": {},
   "outputs": [],
   "source": []
  },
  {
   "cell_type": "code",
   "execution_count": 59,
   "metadata": {},
   "outputs": [
    {
     "data": {
      "text/html": [
       "<div>\n",
       "<style scoped>\n",
       "    .dataframe tbody tr th:only-of-type {\n",
       "        vertical-align: middle;\n",
       "    }\n",
       "\n",
       "    .dataframe tbody tr th {\n",
       "        vertical-align: top;\n",
       "    }\n",
       "\n",
       "    .dataframe thead th {\n",
       "        text-align: right;\n",
       "    }\n",
       "</style>\n",
       "<table border=\"1\" class=\"dataframe\">\n",
       "  <thead>\n",
       "    <tr style=\"text-align: right;\">\n",
       "      <th></th>\n",
       "      <th>x</th>\n",
       "      <th>y</th>\n",
       "      <th>z</th>\n",
       "    </tr>\n",
       "  </thead>\n",
       "  <tbody>\n",
       "    <tr>\n",
       "      <th>0</th>\n",
       "      <td>1</td>\n",
       "      <td>10</td>\n",
       "      <td>5</td>\n",
       "    </tr>\n",
       "    <tr>\n",
       "      <th>1</th>\n",
       "      <td>2</td>\n",
       "      <td>20</td>\n",
       "      <td>4</td>\n",
       "    </tr>\n",
       "    <tr>\n",
       "      <th>2</th>\n",
       "      <td>3</td>\n",
       "      <td>30</td>\n",
       "      <td>3</td>\n",
       "    </tr>\n",
       "    <tr>\n",
       "      <th>3</th>\n",
       "      <td>4</td>\n",
       "      <td>20</td>\n",
       "      <td>2</td>\n",
       "    </tr>\n",
       "    <tr>\n",
       "      <th>4</th>\n",
       "      <td>5</td>\n",
       "      <td>100</td>\n",
       "      <td>1</td>\n",
       "    </tr>\n",
       "  </tbody>\n",
       "</table>\n",
       "</div>"
      ],
      "text/plain": [
       "   x    y  z\n",
       "0  1   10  5\n",
       "1  2   20  4\n",
       "2  3   30  3\n",
       "3  4   20  2\n",
       "4  5  100  1"
      ]
     },
     "execution_count": 59,
     "metadata": {},
     "output_type": "execute_result"
    }
   ],
   "source": [
    "df3"
   ]
  },
  {
   "cell_type": "code",
   "execution_count": 67,
   "metadata": {},
   "outputs": [
    {
     "data": {
      "application/vnd.plotly.v1+json": {
       "config": {
        "linkText": "Export to plot.ly",
        "plotlyServerURL": "https://plot.ly",
        "showLink": true
       },
       "data": [
        {
         "marker": {
          "color": [
           "orange",
           "orange",
           "orange",
           "orange",
           "orange",
           "orange",
           "orange",
           "orange",
           "orange",
           "orange",
           "orange",
           "orange",
           "orange",
           "orange",
           "orange",
           "orange",
           "orange",
           "orange",
           "orange",
           "orange",
           "orange",
           "orange",
           "orange",
           "orange",
           "orange",
           "orange",
           "orange",
           "orange",
           "orange",
           "orange",
           "orange",
           "orange",
           "orange",
           "orange",
           "orange",
           "orange",
           "orange",
           "orange",
           "orange",
           "orange",
           "orange",
           "orange",
           "orange",
           "orange",
           "orange",
           "orange",
           "orange",
           "orange",
           "orange",
           "orange",
           "orange",
           "orange",
           "orange",
           "orange",
           "orange",
           "orange",
           "orange",
           "orange",
           "orange",
           "orange",
           "orange",
           "orange",
           "orange",
           "orange",
           "orange",
           "orange",
           "orange",
           "orange",
           "orange",
           "orange",
           "orange",
           "orange",
           "orange",
           "orange",
           "orange",
           "orange",
           "orange",
           "orange",
           "orange",
           "orange",
           "orange",
           "orange",
           "orange",
           "orange",
           "orange",
           "orange",
           "orange",
           "orange",
           "orange",
           "orange",
           "orange",
           "orange",
           "orange",
           "orange",
           "orange",
           "orange",
           "orange",
           "orange",
           "orange",
           "orange"
          ],
          "line": {
           "width": 1.3
          },
          "size": [
           49,
           67,
           55,
           92,
           36,
           55,
           80,
           85,
           33,
           74,
           93,
           65,
           71,
           47,
           66,
           72,
           50,
           61,
           32,
           75,
           46,
           80,
           52,
           78,
           70,
           73,
           58,
           39,
           68,
           66,
           60,
           78,
           60,
           97,
           71,
           42,
           69,
           78,
           73,
           68,
           57,
           50,
           83,
           83,
           87,
           84,
           72,
           63,
           44,
           46,
           45,
           54,
           43,
           72,
           77,
           80,
           77,
           112,
           54,
           63,
           38,
           43,
           68,
           46,
           28,
           12,
           67,
           85,
           66,
           89,
           72,
           47,
           39,
           59,
           74,
           80,
           73,
           69,
           54,
           84,
           84,
           48,
           58,
           62,
           78,
           64,
           46,
           47,
           61,
           94,
           74,
           52,
           72,
           72,
           72,
           81,
           65,
           58,
           90,
           71
          ],
          "symbol": "circle"
         },
         "mode": "markers",
         "text": "",
         "type": "scatter",
         "x": [
          -0.020189904066568676,
          0.1605430195388812,
          0.2183093910227895,
          -2.4481729834834183,
          -1.3420320191794017,
          -0.11221568571796266,
          0.5438037913168252,
          -0.6738957753062436,
          1.2812552096620458,
          -1.9536234368933418,
          0.6253512625110269,
          -0.367816742191912,
          -0.768336789815034,
          -0.4129987988772313,
          0.19697310981348015,
          -0.27701278168076676,
          -2.1850709253021408,
          -0.5250012837190554,
          -0.2960852772923362,
          2.1017025013406174,
          -1.0911147300173158,
          0.03328166238849761,
          0.8748423978764613,
          -0.7007281434378153,
          -0.7032378773912719,
          0.8163765079870988,
          0.6030432620160926,
          0.9510948268094824,
          0.27023316558141663,
          -0.7311343794012733,
          -0.8666389092607147,
          1.6069767733420819,
          -0.48121297176306743,
          0.8828189161472906,
          1.032297574576932,
          -1.5001633282861504,
          0.5649349776911442,
          -0.051387101531794106,
          -0.2781026509732436,
          -0.8923371781052455,
          1.1915575077827307,
          -1.2536370325127713,
          -0.2805725925410075,
          1.070862086463324,
          -0.5607966024437397,
          0.44671495095770924,
          0.9055046646215376,
          0.9966668848767872,
          -0.6389673657208839,
          -0.19119612298566752,
          -1.867018118228768,
          1.7299122438438277,
          -1.5392952098290518,
          1.9085227576174537,
          -0.7365200192739271,
          0.291020559910531,
          -0.6876208386672505,
          -0.4396880008989103,
          0.8766948555928455,
          0.48993246404209895,
          0.04486282746655476,
          0.3311347774803122,
          1.3444595160554034,
          1.2292855329948622,
          -0.37737713594871525,
          -0.20849767131121968,
          0.8803939015253044,
          0.6916060145498991,
          -0.6001880277835497,
          -1.0400549304427917,
          0.003272206458725557,
          -1.3528129854600308,
          -0.3469507174506524,
          -0.9140855889241825,
          0.9577028104654609,
          -0.20396839758209903,
          -0.5635726556127097,
          -0.6292571060303892,
          -1.4412942860438325,
          -0.023173287497486254,
          0.2867170728131295,
          1.4891400934905492,
          1.683467368370149,
          0.0032825188849990358,
          -1.724488989643146,
          0.3619017524142584,
          -1.086482992483747,
          1.3030784312470234,
          2.086086574606949,
          -0.9148799666797345,
          -2.53659794781672,
          0.14790147153220412,
          1.5081605357439327,
          0.03172942631163809,
          -1.3844203538077873,
          2.7317365325469214,
          1.8435597585089694,
          -0.9235347978823618,
          -2.2293208131348097,
          0.8302728483937458
         ],
         "y": [
          -0.4380037600693329,
          1.3856258480513495,
          -1.6439581318945904,
          1.780163099731763,
          -0.06886238487724357,
          -0.3419320878039712,
          1.7176474787692995,
          -3.0128342192986843,
          1.268848134771191,
          0.2448222463181939,
          0.6832274431968387,
          0.5900880475260439,
          -0.28351085192768744,
          0.03951006673344334,
          0.33378442318795754,
          0.0036633902122219066,
          -1.0335621009028737,
          -1.4346287159598332,
          -0.7637090963596298,
          -0.49509070170442804,
          0.7017553526944327,
          1.0578719391875344,
          0.7596212001824827,
          0.8464267198538894,
          0.5115456059271346,
          1.4785023222198197,
          -2.1651187773032246,
          1.0007144847757021,
          0.7384916218488192,
          0.26590612111690903,
          1.956294281895234,
          -0.8617578488568759,
          0.011053299902504497,
          1.5429553670798497,
          1.7290962461445358,
          -0.08249248371447555,
          -0.5315109256761953,
          -0.5644574743776344,
          0.7402337629534262,
          -0.6086185725746197,
          0.2187789432258602,
          -0.125717596041093,
          0.20048527432005395,
          2.731679171077915,
          -1.8603447004357492,
          0.9554304810338209,
          -1.4103828466835837,
          1.065950515655746,
          -1.236848826065617,
          -0.7318542012955099,
          2.2934039074168857,
          -0.7557077880124786,
          2.0115055050237043,
          0.37154483900426716,
          -1.9242514925498644,
          0.7925365130656604,
          -0.2819909724010163,
          -0.40942736078084324,
          -0.7623793634102329,
          1.1645877433591125,
          -0.38777448037124174,
          -0.1723366430999955,
          0.016858458282385105,
          0.04213951346102748,
          -0.2200209199138018,
          0.4556172925040396,
          0.9847325399374394,
          0.3486345501482719,
          0.9407477147125772,
          -0.13776682864629283,
          0.25163129965039865,
          1.1259847998476251,
          -1.2270319722269811,
          -0.8076192569794358,
          -0.1342328858251307,
          0.19426191413022975,
          -0.9440956952124823,
          -0.5819788729383728,
          -0.48095783847540297,
          -0.8869083142131824,
          -0.14477563692269194,
          1.6866780586582282,
          1.5258822957160807,
          -1.0275474178043047,
          -1.0323270449559678,
          0.9102697897984027,
          -0.1566664582921049,
          0.7704706110055723,
          -0.37923470972809126,
          0.15897524427418847,
          -0.4839263654265887,
          -0.39319145215301765,
          0.4437255355807462,
          -0.4350402940246013,
          0.7316571164610378,
          -1.8887992487543999,
          0.6035468169807476,
          0.16115878831117503,
          1.375156129392616,
          0.5982663947397071
         ]
        }
       ],
       "layout": {
        "legend": {
         "bgcolor": "#F5F6F9",
         "font": {
          "color": "#4D5663"
         }
        },
        "paper_bgcolor": "#F5F6F9",
        "plot_bgcolor": "#F5F6F9",
        "template": {
         "data": {
          "bar": [
           {
            "error_x": {
             "color": "#2a3f5f"
            },
            "error_y": {
             "color": "#2a3f5f"
            },
            "marker": {
             "line": {
              "color": "#E5ECF6",
              "width": 0.5
             }
            },
            "type": "bar"
           }
          ],
          "barpolar": [
           {
            "marker": {
             "line": {
              "color": "#E5ECF6",
              "width": 0.5
             }
            },
            "type": "barpolar"
           }
          ],
          "carpet": [
           {
            "aaxis": {
             "endlinecolor": "#2a3f5f",
             "gridcolor": "white",
             "linecolor": "white",
             "minorgridcolor": "white",
             "startlinecolor": "#2a3f5f"
            },
            "baxis": {
             "endlinecolor": "#2a3f5f",
             "gridcolor": "white",
             "linecolor": "white",
             "minorgridcolor": "white",
             "startlinecolor": "#2a3f5f"
            },
            "type": "carpet"
           }
          ],
          "choropleth": [
           {
            "colorbar": {
             "outlinewidth": 0,
             "ticks": ""
            },
            "type": "choropleth"
           }
          ],
          "contour": [
           {
            "colorbar": {
             "outlinewidth": 0,
             "ticks": ""
            },
            "colorscale": [
             [
              0,
              "#0d0887"
             ],
             [
              0.1111111111111111,
              "#46039f"
             ],
             [
              0.2222222222222222,
              "#7201a8"
             ],
             [
              0.3333333333333333,
              "#9c179e"
             ],
             [
              0.4444444444444444,
              "#bd3786"
             ],
             [
              0.5555555555555556,
              "#d8576b"
             ],
             [
              0.6666666666666666,
              "#ed7953"
             ],
             [
              0.7777777777777778,
              "#fb9f3a"
             ],
             [
              0.8888888888888888,
              "#fdca26"
             ],
             [
              1,
              "#f0f921"
             ]
            ],
            "type": "contour"
           }
          ],
          "contourcarpet": [
           {
            "colorbar": {
             "outlinewidth": 0,
             "ticks": ""
            },
            "type": "contourcarpet"
           }
          ],
          "heatmap": [
           {
            "colorbar": {
             "outlinewidth": 0,
             "ticks": ""
            },
            "colorscale": [
             [
              0,
              "#0d0887"
             ],
             [
              0.1111111111111111,
              "#46039f"
             ],
             [
              0.2222222222222222,
              "#7201a8"
             ],
             [
              0.3333333333333333,
              "#9c179e"
             ],
             [
              0.4444444444444444,
              "#bd3786"
             ],
             [
              0.5555555555555556,
              "#d8576b"
             ],
             [
              0.6666666666666666,
              "#ed7953"
             ],
             [
              0.7777777777777778,
              "#fb9f3a"
             ],
             [
              0.8888888888888888,
              "#fdca26"
             ],
             [
              1,
              "#f0f921"
             ]
            ],
            "type": "heatmap"
           }
          ],
          "heatmapgl": [
           {
            "colorbar": {
             "outlinewidth": 0,
             "ticks": ""
            },
            "colorscale": [
             [
              0,
              "#0d0887"
             ],
             [
              0.1111111111111111,
              "#46039f"
             ],
             [
              0.2222222222222222,
              "#7201a8"
             ],
             [
              0.3333333333333333,
              "#9c179e"
             ],
             [
              0.4444444444444444,
              "#bd3786"
             ],
             [
              0.5555555555555556,
              "#d8576b"
             ],
             [
              0.6666666666666666,
              "#ed7953"
             ],
             [
              0.7777777777777778,
              "#fb9f3a"
             ],
             [
              0.8888888888888888,
              "#fdca26"
             ],
             [
              1,
              "#f0f921"
             ]
            ],
            "type": "heatmapgl"
           }
          ],
          "histogram": [
           {
            "marker": {
             "colorbar": {
              "outlinewidth": 0,
              "ticks": ""
             }
            },
            "type": "histogram"
           }
          ],
          "histogram2d": [
           {
            "colorbar": {
             "outlinewidth": 0,
             "ticks": ""
            },
            "colorscale": [
             [
              0,
              "#0d0887"
             ],
             [
              0.1111111111111111,
              "#46039f"
             ],
             [
              0.2222222222222222,
              "#7201a8"
             ],
             [
              0.3333333333333333,
              "#9c179e"
             ],
             [
              0.4444444444444444,
              "#bd3786"
             ],
             [
              0.5555555555555556,
              "#d8576b"
             ],
             [
              0.6666666666666666,
              "#ed7953"
             ],
             [
              0.7777777777777778,
              "#fb9f3a"
             ],
             [
              0.8888888888888888,
              "#fdca26"
             ],
             [
              1,
              "#f0f921"
             ]
            ],
            "type": "histogram2d"
           }
          ],
          "histogram2dcontour": [
           {
            "colorbar": {
             "outlinewidth": 0,
             "ticks": ""
            },
            "colorscale": [
             [
              0,
              "#0d0887"
             ],
             [
              0.1111111111111111,
              "#46039f"
             ],
             [
              0.2222222222222222,
              "#7201a8"
             ],
             [
              0.3333333333333333,
              "#9c179e"
             ],
             [
              0.4444444444444444,
              "#bd3786"
             ],
             [
              0.5555555555555556,
              "#d8576b"
             ],
             [
              0.6666666666666666,
              "#ed7953"
             ],
             [
              0.7777777777777778,
              "#fb9f3a"
             ],
             [
              0.8888888888888888,
              "#fdca26"
             ],
             [
              1,
              "#f0f921"
             ]
            ],
            "type": "histogram2dcontour"
           }
          ],
          "mesh3d": [
           {
            "colorbar": {
             "outlinewidth": 0,
             "ticks": ""
            },
            "type": "mesh3d"
           }
          ],
          "parcoords": [
           {
            "line": {
             "colorbar": {
              "outlinewidth": 0,
              "ticks": ""
             }
            },
            "type": "parcoords"
           }
          ],
          "pie": [
           {
            "automargin": true,
            "type": "pie"
           }
          ],
          "scatter": [
           {
            "marker": {
             "colorbar": {
              "outlinewidth": 0,
              "ticks": ""
             }
            },
            "type": "scatter"
           }
          ],
          "scatter3d": [
           {
            "line": {
             "colorbar": {
              "outlinewidth": 0,
              "ticks": ""
             }
            },
            "marker": {
             "colorbar": {
              "outlinewidth": 0,
              "ticks": ""
             }
            },
            "type": "scatter3d"
           }
          ],
          "scattercarpet": [
           {
            "marker": {
             "colorbar": {
              "outlinewidth": 0,
              "ticks": ""
             }
            },
            "type": "scattercarpet"
           }
          ],
          "scattergeo": [
           {
            "marker": {
             "colorbar": {
              "outlinewidth": 0,
              "ticks": ""
             }
            },
            "type": "scattergeo"
           }
          ],
          "scattergl": [
           {
            "marker": {
             "colorbar": {
              "outlinewidth": 0,
              "ticks": ""
             }
            },
            "type": "scattergl"
           }
          ],
          "scattermapbox": [
           {
            "marker": {
             "colorbar": {
              "outlinewidth": 0,
              "ticks": ""
             }
            },
            "type": "scattermapbox"
           }
          ],
          "scatterpolar": [
           {
            "marker": {
             "colorbar": {
              "outlinewidth": 0,
              "ticks": ""
             }
            },
            "type": "scatterpolar"
           }
          ],
          "scatterpolargl": [
           {
            "marker": {
             "colorbar": {
              "outlinewidth": 0,
              "ticks": ""
             }
            },
            "type": "scatterpolargl"
           }
          ],
          "scatterternary": [
           {
            "marker": {
             "colorbar": {
              "outlinewidth": 0,
              "ticks": ""
             }
            },
            "type": "scatterternary"
           }
          ],
          "surface": [
           {
            "colorbar": {
             "outlinewidth": 0,
             "ticks": ""
            },
            "colorscale": [
             [
              0,
              "#0d0887"
             ],
             [
              0.1111111111111111,
              "#46039f"
             ],
             [
              0.2222222222222222,
              "#7201a8"
             ],
             [
              0.3333333333333333,
              "#9c179e"
             ],
             [
              0.4444444444444444,
              "#bd3786"
             ],
             [
              0.5555555555555556,
              "#d8576b"
             ],
             [
              0.6666666666666666,
              "#ed7953"
             ],
             [
              0.7777777777777778,
              "#fb9f3a"
             ],
             [
              0.8888888888888888,
              "#fdca26"
             ],
             [
              1,
              "#f0f921"
             ]
            ],
            "type": "surface"
           }
          ],
          "table": [
           {
            "cells": {
             "fill": {
              "color": "#EBF0F8"
             },
             "line": {
              "color": "white"
             }
            },
            "header": {
             "fill": {
              "color": "#C8D4E3"
             },
             "line": {
              "color": "white"
             }
            },
            "type": "table"
           }
          ]
         },
         "layout": {
          "annotationdefaults": {
           "arrowcolor": "#2a3f5f",
           "arrowhead": 0,
           "arrowwidth": 1
          },
          "autotypenumbers": "strict",
          "coloraxis": {
           "colorbar": {
            "outlinewidth": 0,
            "ticks": ""
           }
          },
          "colorscale": {
           "diverging": [
            [
             0,
             "#8e0152"
            ],
            [
             0.1,
             "#c51b7d"
            ],
            [
             0.2,
             "#de77ae"
            ],
            [
             0.3,
             "#f1b6da"
            ],
            [
             0.4,
             "#fde0ef"
            ],
            [
             0.5,
             "#f7f7f7"
            ],
            [
             0.6,
             "#e6f5d0"
            ],
            [
             0.7,
             "#b8e186"
            ],
            [
             0.8,
             "#7fbc41"
            ],
            [
             0.9,
             "#4d9221"
            ],
            [
             1,
             "#276419"
            ]
           ],
           "sequential": [
            [
             0,
             "#0d0887"
            ],
            [
             0.1111111111111111,
             "#46039f"
            ],
            [
             0.2222222222222222,
             "#7201a8"
            ],
            [
             0.3333333333333333,
             "#9c179e"
            ],
            [
             0.4444444444444444,
             "#bd3786"
            ],
            [
             0.5555555555555556,
             "#d8576b"
            ],
            [
             0.6666666666666666,
             "#ed7953"
            ],
            [
             0.7777777777777778,
             "#fb9f3a"
            ],
            [
             0.8888888888888888,
             "#fdca26"
            ],
            [
             1,
             "#f0f921"
            ]
           ],
           "sequentialminus": [
            [
             0,
             "#0d0887"
            ],
            [
             0.1111111111111111,
             "#46039f"
            ],
            [
             0.2222222222222222,
             "#7201a8"
            ],
            [
             0.3333333333333333,
             "#9c179e"
            ],
            [
             0.4444444444444444,
             "#bd3786"
            ],
            [
             0.5555555555555556,
             "#d8576b"
            ],
            [
             0.6666666666666666,
             "#ed7953"
            ],
            [
             0.7777777777777778,
             "#fb9f3a"
            ],
            [
             0.8888888888888888,
             "#fdca26"
            ],
            [
             1,
             "#f0f921"
            ]
           ]
          },
          "colorway": [
           "#636efa",
           "#EF553B",
           "#00cc96",
           "#ab63fa",
           "#FFA15A",
           "#19d3f3",
           "#FF6692",
           "#B6E880",
           "#FF97FF",
           "#FECB52"
          ],
          "font": {
           "color": "#2a3f5f"
          },
          "geo": {
           "bgcolor": "white",
           "lakecolor": "white",
           "landcolor": "#E5ECF6",
           "showlakes": true,
           "showland": true,
           "subunitcolor": "white"
          },
          "hoverlabel": {
           "align": "left"
          },
          "hovermode": "closest",
          "mapbox": {
           "style": "light"
          },
          "paper_bgcolor": "white",
          "plot_bgcolor": "#E5ECF6",
          "polar": {
           "angularaxis": {
            "gridcolor": "white",
            "linecolor": "white",
            "ticks": ""
           },
           "bgcolor": "#E5ECF6",
           "radialaxis": {
            "gridcolor": "white",
            "linecolor": "white",
            "ticks": ""
           }
          },
          "scene": {
           "xaxis": {
            "backgroundcolor": "#E5ECF6",
            "gridcolor": "white",
            "gridwidth": 2,
            "linecolor": "white",
            "showbackground": true,
            "ticks": "",
            "zerolinecolor": "white"
           },
           "yaxis": {
            "backgroundcolor": "#E5ECF6",
            "gridcolor": "white",
            "gridwidth": 2,
            "linecolor": "white",
            "showbackground": true,
            "ticks": "",
            "zerolinecolor": "white"
           },
           "zaxis": {
            "backgroundcolor": "#E5ECF6",
            "gridcolor": "white",
            "gridwidth": 2,
            "linecolor": "white",
            "showbackground": true,
            "ticks": "",
            "zerolinecolor": "white"
           }
          },
          "shapedefaults": {
           "line": {
            "color": "#2a3f5f"
           }
          },
          "ternary": {
           "aaxis": {
            "gridcolor": "white",
            "linecolor": "white",
            "ticks": ""
           },
           "baxis": {
            "gridcolor": "white",
            "linecolor": "white",
            "ticks": ""
           },
           "bgcolor": "#E5ECF6",
           "caxis": {
            "gridcolor": "white",
            "linecolor": "white",
            "ticks": ""
           }
          },
          "title": {
           "x": 0.05
          },
          "xaxis": {
           "automargin": true,
           "gridcolor": "white",
           "linecolor": "white",
           "ticks": "",
           "title": {
            "standoff": 15
           },
           "zerolinecolor": "white",
           "zerolinewidth": 2
          },
          "yaxis": {
           "automargin": true,
           "gridcolor": "white",
           "linecolor": "white",
           "ticks": "",
           "title": {
            "standoff": 15
           },
           "zerolinecolor": "white",
           "zerolinewidth": 2
          }
         }
        },
        "title": {
         "font": {
          "color": "#4D5663"
         }
        },
        "xaxis": {
         "gridcolor": "#E1E5ED",
         "showgrid": true,
         "tickfont": {
          "color": "#4D5663"
         },
         "title": {
          "font": {
           "color": "#4D5663"
          },
          "text": ""
         },
         "zerolinecolor": "#E1E5ED"
        },
        "yaxis": {
         "gridcolor": "#E1E5ED",
         "showgrid": true,
         "tickfont": {
          "color": "#4D5663"
         },
         "title": {
          "font": {
           "color": "#4D5663"
          },
          "text": ""
         },
         "zerolinecolor": "#E1E5ED"
        }
       }
      },
      "text/html": [
       "<div>                            <div id=\"df46b15a-af5c-4900-92cf-4aa0c16eb1e6\" class=\"plotly-graph-div\" style=\"height:525px; width:100%;\"></div>            <script type=\"text/javascript\">                require([\"plotly\"], function(Plotly) {                    window.PLOTLYENV=window.PLOTLYENV || {};\n",
       "                    window.PLOTLYENV.BASE_URL='https://plot.ly';                                    if (document.getElementById(\"df46b15a-af5c-4900-92cf-4aa0c16eb1e6\")) {                    Plotly.newPlot(                        \"df46b15a-af5c-4900-92cf-4aa0c16eb1e6\",                        [{\"marker\": {\"color\": [\"orange\", \"orange\", \"orange\", \"orange\", \"orange\", \"orange\", \"orange\", \"orange\", \"orange\", \"orange\", \"orange\", \"orange\", \"orange\", \"orange\", \"orange\", \"orange\", \"orange\", \"orange\", \"orange\", \"orange\", \"orange\", \"orange\", \"orange\", \"orange\", \"orange\", \"orange\", \"orange\", \"orange\", \"orange\", \"orange\", \"orange\", \"orange\", \"orange\", \"orange\", \"orange\", \"orange\", \"orange\", \"orange\", \"orange\", \"orange\", \"orange\", \"orange\", \"orange\", \"orange\", \"orange\", \"orange\", \"orange\", \"orange\", \"orange\", \"orange\", \"orange\", \"orange\", \"orange\", \"orange\", \"orange\", \"orange\", \"orange\", \"orange\", \"orange\", \"orange\", \"orange\", \"orange\", \"orange\", \"orange\", \"orange\", \"orange\", \"orange\", \"orange\", \"orange\", \"orange\", \"orange\", \"orange\", \"orange\", \"orange\", \"orange\", \"orange\", \"orange\", \"orange\", \"orange\", \"orange\", \"orange\", \"orange\", \"orange\", \"orange\", \"orange\", \"orange\", \"orange\", \"orange\", \"orange\", \"orange\", \"orange\", \"orange\", \"orange\", \"orange\", \"orange\", \"orange\", \"orange\", \"orange\", \"orange\", \"orange\"], \"line\": {\"width\": 1.3}, \"size\": [49, 67, 55, 92, 36, 55, 80, 85, 33, 74, 93, 65, 71, 47, 66, 72, 50, 61, 32, 75, 46, 80, 52, 78, 70, 73, 58, 39, 68, 66, 60, 78, 60, 97, 71, 42, 69, 78, 73, 68, 57, 50, 83, 83, 87, 84, 72, 63, 44, 46, 45, 54, 43, 72, 77, 80, 77, 112, 54, 63, 38, 43, 68, 46, 28, 12, 67, 85, 66, 89, 72, 47, 39, 59, 74, 80, 73, 69, 54, 84, 84, 48, 58, 62, 78, 64, 46, 47, 61, 94, 74, 52, 72, 72, 72, 81, 65, 58, 90, 71], \"symbol\": \"circle\"}, \"mode\": \"markers\", \"text\": \"\", \"type\": \"scatter\", \"x\": [-0.020189904066568676, 0.1605430195388812, 0.2183093910227895, -2.4481729834834183, -1.3420320191794017, -0.11221568571796266, 0.5438037913168252, -0.6738957753062436, 1.2812552096620458, -1.9536234368933418, 0.6253512625110269, -0.367816742191912, -0.768336789815034, -0.4129987988772313, 0.19697310981348015, -0.27701278168076676, -2.1850709253021408, -0.5250012837190554, -0.2960852772923362, 2.1017025013406174, -1.0911147300173158, 0.03328166238849761, 0.8748423978764613, -0.7007281434378153, -0.7032378773912719, 0.8163765079870988, 0.6030432620160926, 0.9510948268094824, 0.27023316558141663, -0.7311343794012733, -0.8666389092607147, 1.6069767733420819, -0.48121297176306743, 0.8828189161472906, 1.032297574576932, -1.5001633282861504, 0.5649349776911442, -0.051387101531794106, -0.2781026509732436, -0.8923371781052455, 1.1915575077827307, -1.2536370325127713, -0.2805725925410075, 1.070862086463324, -0.5607966024437397, 0.44671495095770924, 0.9055046646215376, 0.9966668848767872, -0.6389673657208839, -0.19119612298566752, -1.867018118228768, 1.7299122438438277, -1.5392952098290518, 1.9085227576174537, -0.7365200192739271, 0.291020559910531, -0.6876208386672505, -0.4396880008989103, 0.8766948555928455, 0.48993246404209895, 0.04486282746655476, 0.3311347774803122, 1.3444595160554034, 1.2292855329948622, -0.37737713594871525, -0.20849767131121968, 0.8803939015253044, 0.6916060145498991, -0.6001880277835497, -1.0400549304427917, 0.003272206458725557, -1.3528129854600308, -0.3469507174506524, -0.9140855889241825, 0.9577028104654609, -0.20396839758209903, -0.5635726556127097, -0.6292571060303892, -1.4412942860438325, -0.023173287497486254, 0.2867170728131295, 1.4891400934905492, 1.683467368370149, 0.0032825188849990358, -1.724488989643146, 0.3619017524142584, -1.086482992483747, 1.3030784312470234, 2.086086574606949, -0.9148799666797345, -2.53659794781672, 0.14790147153220412, 1.5081605357439327, 0.03172942631163809, -1.3844203538077873, 2.7317365325469214, 1.8435597585089694, -0.9235347978823618, -2.2293208131348097, 0.8302728483937458], \"y\": [-0.4380037600693329, 1.3856258480513495, -1.6439581318945904, 1.780163099731763, -0.06886238487724357, -0.3419320878039712, 1.7176474787692995, -3.0128342192986843, 1.268848134771191, 0.2448222463181939, 0.6832274431968387, 0.5900880475260439, -0.28351085192768744, 0.03951006673344334, 0.33378442318795754, 0.0036633902122219066, -1.0335621009028737, -1.4346287159598332, -0.7637090963596298, -0.49509070170442804, 0.7017553526944327, 1.0578719391875344, 0.7596212001824827, 0.8464267198538894, 0.5115456059271346, 1.4785023222198197, -2.1651187773032246, 1.0007144847757021, 0.7384916218488192, 0.26590612111690903, 1.956294281895234, -0.8617578488568759, 0.011053299902504497, 1.5429553670798497, 1.7290962461445358, -0.08249248371447555, -0.5315109256761953, -0.5644574743776344, 0.7402337629534262, -0.6086185725746197, 0.2187789432258602, -0.125717596041093, 0.20048527432005395, 2.731679171077915, -1.8603447004357492, 0.9554304810338209, -1.4103828466835837, 1.065950515655746, -1.236848826065617, -0.7318542012955099, 2.2934039074168857, -0.7557077880124786, 2.0115055050237043, 0.37154483900426716, -1.9242514925498644, 0.7925365130656604, -0.2819909724010163, -0.40942736078084324, -0.7623793634102329, 1.1645877433591125, -0.38777448037124174, -0.1723366430999955, 0.016858458282385105, 0.04213951346102748, -0.2200209199138018, 0.4556172925040396, 0.9847325399374394, 0.3486345501482719, 0.9407477147125772, -0.13776682864629283, 0.25163129965039865, 1.1259847998476251, -1.2270319722269811, -0.8076192569794358, -0.1342328858251307, 0.19426191413022975, -0.9440956952124823, -0.5819788729383728, -0.48095783847540297, -0.8869083142131824, -0.14477563692269194, 1.6866780586582282, 1.5258822957160807, -1.0275474178043047, -1.0323270449559678, 0.9102697897984027, -0.1566664582921049, 0.7704706110055723, -0.37923470972809126, 0.15897524427418847, -0.4839263654265887, -0.39319145215301765, 0.4437255355807462, -0.4350402940246013, 0.7316571164610378, -1.8887992487543999, 0.6035468169807476, 0.16115878831117503, 1.375156129392616, 0.5982663947397071]}],                        {\"legend\": {\"bgcolor\": \"#F5F6F9\", \"font\": {\"color\": \"#4D5663\"}}, \"paper_bgcolor\": \"#F5F6F9\", \"plot_bgcolor\": \"#F5F6F9\", \"template\": {\"data\": {\"bar\": [{\"error_x\": {\"color\": \"#2a3f5f\"}, \"error_y\": {\"color\": \"#2a3f5f\"}, \"marker\": {\"line\": {\"color\": \"#E5ECF6\", \"width\": 0.5}}, \"type\": \"bar\"}], \"barpolar\": [{\"marker\": {\"line\": {\"color\": \"#E5ECF6\", \"width\": 0.5}}, \"type\": \"barpolar\"}], \"carpet\": [{\"aaxis\": {\"endlinecolor\": \"#2a3f5f\", \"gridcolor\": \"white\", \"linecolor\": \"white\", \"minorgridcolor\": \"white\", \"startlinecolor\": \"#2a3f5f\"}, \"baxis\": {\"endlinecolor\": \"#2a3f5f\", \"gridcolor\": \"white\", \"linecolor\": \"white\", \"minorgridcolor\": \"white\", \"startlinecolor\": \"#2a3f5f\"}, \"type\": \"carpet\"}], \"choropleth\": [{\"colorbar\": {\"outlinewidth\": 0, \"ticks\": \"\"}, \"type\": \"choropleth\"}], \"contour\": [{\"colorbar\": {\"outlinewidth\": 0, \"ticks\": \"\"}, \"colorscale\": [[0.0, \"#0d0887\"], [0.1111111111111111, \"#46039f\"], [0.2222222222222222, \"#7201a8\"], [0.3333333333333333, \"#9c179e\"], [0.4444444444444444, \"#bd3786\"], [0.5555555555555556, \"#d8576b\"], [0.6666666666666666, \"#ed7953\"], [0.7777777777777778, \"#fb9f3a\"], [0.8888888888888888, \"#fdca26\"], [1.0, \"#f0f921\"]], \"type\": \"contour\"}], \"contourcarpet\": [{\"colorbar\": {\"outlinewidth\": 0, \"ticks\": \"\"}, \"type\": \"contourcarpet\"}], \"heatmap\": [{\"colorbar\": {\"outlinewidth\": 0, \"ticks\": \"\"}, \"colorscale\": [[0.0, \"#0d0887\"], [0.1111111111111111, \"#46039f\"], [0.2222222222222222, \"#7201a8\"], [0.3333333333333333, \"#9c179e\"], [0.4444444444444444, \"#bd3786\"], [0.5555555555555556, \"#d8576b\"], [0.6666666666666666, \"#ed7953\"], [0.7777777777777778, \"#fb9f3a\"], [0.8888888888888888, \"#fdca26\"], [1.0, \"#f0f921\"]], \"type\": \"heatmap\"}], \"heatmapgl\": [{\"colorbar\": {\"outlinewidth\": 0, \"ticks\": \"\"}, \"colorscale\": [[0.0, \"#0d0887\"], [0.1111111111111111, \"#46039f\"], [0.2222222222222222, \"#7201a8\"], [0.3333333333333333, \"#9c179e\"], [0.4444444444444444, \"#bd3786\"], [0.5555555555555556, \"#d8576b\"], [0.6666666666666666, \"#ed7953\"], [0.7777777777777778, \"#fb9f3a\"], [0.8888888888888888, \"#fdca26\"], [1.0, \"#f0f921\"]], \"type\": \"heatmapgl\"}], \"histogram\": [{\"marker\": {\"colorbar\": {\"outlinewidth\": 0, \"ticks\": \"\"}}, \"type\": \"histogram\"}], \"histogram2d\": [{\"colorbar\": {\"outlinewidth\": 0, \"ticks\": \"\"}, \"colorscale\": [[0.0, \"#0d0887\"], [0.1111111111111111, \"#46039f\"], [0.2222222222222222, \"#7201a8\"], [0.3333333333333333, \"#9c179e\"], [0.4444444444444444, \"#bd3786\"], [0.5555555555555556, \"#d8576b\"], [0.6666666666666666, \"#ed7953\"], [0.7777777777777778, \"#fb9f3a\"], [0.8888888888888888, \"#fdca26\"], [1.0, \"#f0f921\"]], \"type\": \"histogram2d\"}], \"histogram2dcontour\": [{\"colorbar\": {\"outlinewidth\": 0, \"ticks\": \"\"}, \"colorscale\": [[0.0, \"#0d0887\"], [0.1111111111111111, \"#46039f\"], [0.2222222222222222, \"#7201a8\"], [0.3333333333333333, \"#9c179e\"], [0.4444444444444444, \"#bd3786\"], [0.5555555555555556, \"#d8576b\"], [0.6666666666666666, \"#ed7953\"], [0.7777777777777778, \"#fb9f3a\"], [0.8888888888888888, \"#fdca26\"], [1.0, \"#f0f921\"]], \"type\": \"histogram2dcontour\"}], \"mesh3d\": [{\"colorbar\": {\"outlinewidth\": 0, \"ticks\": \"\"}, \"type\": \"mesh3d\"}], \"parcoords\": [{\"line\": {\"colorbar\": {\"outlinewidth\": 0, \"ticks\": \"\"}}, \"type\": \"parcoords\"}], \"pie\": [{\"automargin\": true, \"type\": \"pie\"}], \"scatter\": [{\"marker\": {\"colorbar\": {\"outlinewidth\": 0, \"ticks\": \"\"}}, \"type\": \"scatter\"}], \"scatter3d\": [{\"line\": {\"colorbar\": {\"outlinewidth\": 0, \"ticks\": \"\"}}, \"marker\": {\"colorbar\": {\"outlinewidth\": 0, \"ticks\": \"\"}}, \"type\": \"scatter3d\"}], \"scattercarpet\": [{\"marker\": {\"colorbar\": {\"outlinewidth\": 0, \"ticks\": \"\"}}, \"type\": \"scattercarpet\"}], \"scattergeo\": [{\"marker\": {\"colorbar\": {\"outlinewidth\": 0, \"ticks\": \"\"}}, \"type\": \"scattergeo\"}], \"scattergl\": [{\"marker\": {\"colorbar\": {\"outlinewidth\": 0, \"ticks\": \"\"}}, \"type\": \"scattergl\"}], \"scattermapbox\": [{\"marker\": {\"colorbar\": {\"outlinewidth\": 0, \"ticks\": \"\"}}, \"type\": \"scattermapbox\"}], \"scatterpolar\": [{\"marker\": {\"colorbar\": {\"outlinewidth\": 0, \"ticks\": \"\"}}, \"type\": \"scatterpolar\"}], \"scatterpolargl\": [{\"marker\": {\"colorbar\": {\"outlinewidth\": 0, \"ticks\": \"\"}}, \"type\": \"scatterpolargl\"}], \"scatterternary\": [{\"marker\": {\"colorbar\": {\"outlinewidth\": 0, \"ticks\": \"\"}}, \"type\": \"scatterternary\"}], \"surface\": [{\"colorbar\": {\"outlinewidth\": 0, \"ticks\": \"\"}, \"colorscale\": [[0.0, \"#0d0887\"], [0.1111111111111111, \"#46039f\"], [0.2222222222222222, \"#7201a8\"], [0.3333333333333333, \"#9c179e\"], [0.4444444444444444, \"#bd3786\"], [0.5555555555555556, \"#d8576b\"], [0.6666666666666666, \"#ed7953\"], [0.7777777777777778, \"#fb9f3a\"], [0.8888888888888888, \"#fdca26\"], [1.0, \"#f0f921\"]], \"type\": \"surface\"}], \"table\": [{\"cells\": {\"fill\": {\"color\": \"#EBF0F8\"}, \"line\": {\"color\": \"white\"}}, \"header\": {\"fill\": {\"color\": \"#C8D4E3\"}, \"line\": {\"color\": \"white\"}}, \"type\": \"table\"}]}, \"layout\": {\"annotationdefaults\": {\"arrowcolor\": \"#2a3f5f\", \"arrowhead\": 0, \"arrowwidth\": 1}, \"autotypenumbers\": \"strict\", \"coloraxis\": {\"colorbar\": {\"outlinewidth\": 0, \"ticks\": \"\"}}, \"colorscale\": {\"diverging\": [[0, \"#8e0152\"], [0.1, \"#c51b7d\"], [0.2, \"#de77ae\"], [0.3, \"#f1b6da\"], [0.4, \"#fde0ef\"], [0.5, \"#f7f7f7\"], [0.6, \"#e6f5d0\"], [0.7, \"#b8e186\"], [0.8, \"#7fbc41\"], [0.9, \"#4d9221\"], [1, \"#276419\"]], \"sequential\": [[0.0, \"#0d0887\"], [0.1111111111111111, \"#46039f\"], [0.2222222222222222, \"#7201a8\"], [0.3333333333333333, \"#9c179e\"], [0.4444444444444444, \"#bd3786\"], [0.5555555555555556, \"#d8576b\"], [0.6666666666666666, \"#ed7953\"], [0.7777777777777778, \"#fb9f3a\"], [0.8888888888888888, \"#fdca26\"], [1.0, \"#f0f921\"]], \"sequentialminus\": [[0.0, \"#0d0887\"], [0.1111111111111111, \"#46039f\"], [0.2222222222222222, \"#7201a8\"], [0.3333333333333333, \"#9c179e\"], [0.4444444444444444, \"#bd3786\"], [0.5555555555555556, \"#d8576b\"], [0.6666666666666666, \"#ed7953\"], [0.7777777777777778, \"#fb9f3a\"], [0.8888888888888888, \"#fdca26\"], [1.0, \"#f0f921\"]]}, \"colorway\": [\"#636efa\", \"#EF553B\", \"#00cc96\", \"#ab63fa\", \"#FFA15A\", \"#19d3f3\", \"#FF6692\", \"#B6E880\", \"#FF97FF\", \"#FECB52\"], \"font\": {\"color\": \"#2a3f5f\"}, \"geo\": {\"bgcolor\": \"white\", \"lakecolor\": \"white\", \"landcolor\": \"#E5ECF6\", \"showlakes\": true, \"showland\": true, \"subunitcolor\": \"white\"}, \"hoverlabel\": {\"align\": \"left\"}, \"hovermode\": \"closest\", \"mapbox\": {\"style\": \"light\"}, \"paper_bgcolor\": \"white\", \"plot_bgcolor\": \"#E5ECF6\", \"polar\": {\"angularaxis\": {\"gridcolor\": \"white\", \"linecolor\": \"white\", \"ticks\": \"\"}, \"bgcolor\": \"#E5ECF6\", \"radialaxis\": {\"gridcolor\": \"white\", \"linecolor\": \"white\", \"ticks\": \"\"}}, \"scene\": {\"xaxis\": {\"backgroundcolor\": \"#E5ECF6\", \"gridcolor\": \"white\", \"gridwidth\": 2, \"linecolor\": \"white\", \"showbackground\": true, \"ticks\": \"\", \"zerolinecolor\": \"white\"}, \"yaxis\": {\"backgroundcolor\": \"#E5ECF6\", \"gridcolor\": \"white\", \"gridwidth\": 2, \"linecolor\": \"white\", \"showbackground\": true, \"ticks\": \"\", \"zerolinecolor\": \"white\"}, \"zaxis\": {\"backgroundcolor\": \"#E5ECF6\", \"gridcolor\": \"white\", \"gridwidth\": 2, \"linecolor\": \"white\", \"showbackground\": true, \"ticks\": \"\", \"zerolinecolor\": \"white\"}}, \"shapedefaults\": {\"line\": {\"color\": \"#2a3f5f\"}}, \"ternary\": {\"aaxis\": {\"gridcolor\": \"white\", \"linecolor\": \"white\", \"ticks\": \"\"}, \"baxis\": {\"gridcolor\": \"white\", \"linecolor\": \"white\", \"ticks\": \"\"}, \"bgcolor\": \"#E5ECF6\", \"caxis\": {\"gridcolor\": \"white\", \"linecolor\": \"white\", \"ticks\": \"\"}}, \"title\": {\"x\": 0.05}, \"xaxis\": {\"automargin\": true, \"gridcolor\": \"white\", \"linecolor\": \"white\", \"ticks\": \"\", \"title\": {\"standoff\": 15}, \"zerolinecolor\": \"white\", \"zerolinewidth\": 2}, \"yaxis\": {\"automargin\": true, \"gridcolor\": \"white\", \"linecolor\": \"white\", \"ticks\": \"\", \"title\": {\"standoff\": 15}, \"zerolinecolor\": \"white\", \"zerolinewidth\": 2}}}, \"title\": {\"font\": {\"color\": \"#4D5663\"}}, \"xaxis\": {\"gridcolor\": \"#E1E5ED\", \"showgrid\": true, \"tickfont\": {\"color\": \"#4D5663\"}, \"title\": {\"font\": {\"color\": \"#4D5663\"}, \"text\": \"\"}, \"zerolinecolor\": \"#E1E5ED\"}, \"yaxis\": {\"gridcolor\": \"#E1E5ED\", \"showgrid\": true, \"tickfont\": {\"color\": \"#4D5663\"}, \"title\": {\"font\": {\"color\": \"#4D5663\"}, \"text\": \"\"}, \"zerolinecolor\": \"#E1E5ED\"}},                        {\"showLink\": true, \"linkText\": \"Export to plot.ly\", \"plotlyServerURL\": \"https://plot.ly\", \"responsive\": true}                    ).then(function(){\n",
       "                            \n",
       "var gd = document.getElementById('df46b15a-af5c-4900-92cf-4aa0c16eb1e6');\n",
       "var x = new MutationObserver(function (mutations, observer) {{\n",
       "        var display = window.getComputedStyle(gd).display;\n",
       "        if (!display || display === 'none') {{\n",
       "            console.log([gd, 'removed!']);\n",
       "            Plotly.purge(gd);\n",
       "            observer.disconnect();\n",
       "        }}\n",
       "}});\n",
       "\n",
       "// Listen for the removal of the full notebook cells\n",
       "var notebookContainer = gd.closest('#notebook-container');\n",
       "if (notebookContainer) {{\n",
       "    x.observe(notebookContainer, {childList: true});\n",
       "}}\n",
       "\n",
       "// Listen for the clearing of the current output cell\n",
       "var outputEl = gd.closest('.output');\n",
       "if (outputEl) {{\n",
       "    x.observe(outputEl, {childList: true});\n",
       "}}\n",
       "\n",
       "                        })                };                });            </script>        </div>"
      ]
     },
     "metadata": {},
     "output_type": "display_data"
    }
   ],
   "source": [
    "df.iplot(kind='bubble', x='A', y='B', size='C', color='orange')"
   ]
  },
  {
   "cell_type": "code",
   "execution_count": null,
   "metadata": {},
   "outputs": [],
   "source": []
  },
  {
   "cell_type": "code",
   "execution_count": null,
   "metadata": {},
   "outputs": [],
   "source": []
  },
  {
   "cell_type": "code",
   "execution_count": 62,
   "metadata": {},
   "outputs": [
    {
     "data": {
      "application/vnd.plotly.v1+json": {
       "config": {
        "linkText": "Export to plot.ly",
        "plotlyServerURL": "https://plot.ly",
        "showLink": true
       },
       "data": [
        {
         "histfunc": "count",
         "histnorm": "",
         "marker": {
          "color": "rgba(255, 153, 51, 1.0)",
          "line": {
           "color": "#4D5663",
           "width": 1.3
          }
         },
         "name": "A",
         "nbinsx": 10,
         "opacity": 0.8,
         "orientation": "v",
         "type": "histogram",
         "x": [
          -0.020189904066568676,
          0.1605430195388812,
          0.2183093910227895,
          -2.4481729834834183,
          -1.3420320191794017,
          -0.11221568571796266,
          0.5438037913168252,
          -0.6738957753062436,
          1.2812552096620458,
          -1.9536234368933418,
          0.6253512625110269,
          -0.367816742191912,
          -0.768336789815034,
          -0.4129987988772313,
          0.19697310981348015,
          -0.27701278168076676,
          -2.1850709253021408,
          -0.5250012837190554,
          -0.2960852772923362,
          2.1017025013406174,
          -1.0911147300173158,
          0.03328166238849761,
          0.8748423978764613,
          -0.7007281434378153,
          -0.7032378773912719,
          0.8163765079870988,
          0.6030432620160926,
          0.9510948268094824,
          0.27023316558141663,
          -0.7311343794012733,
          -0.8666389092607147,
          1.6069767733420819,
          -0.48121297176306743,
          0.8828189161472906,
          1.032297574576932,
          -1.5001633282861504,
          0.5649349776911442,
          -0.051387101531794106,
          -0.2781026509732436,
          -0.8923371781052455,
          1.1915575077827307,
          -1.2536370325127713,
          -0.2805725925410075,
          1.070862086463324,
          -0.5607966024437397,
          0.44671495095770924,
          0.9055046646215376,
          0.9966668848767872,
          -0.6389673657208839,
          -0.19119612298566752,
          -1.867018118228768,
          1.7299122438438277,
          -1.5392952098290518,
          1.9085227576174537,
          -0.7365200192739271,
          0.291020559910531,
          -0.6876208386672505,
          -0.4396880008989103,
          0.8766948555928455,
          0.48993246404209895,
          0.04486282746655476,
          0.3311347774803122,
          1.3444595160554034,
          1.2292855329948622,
          -0.37737713594871525,
          -0.20849767131121968,
          0.8803939015253044,
          0.6916060145498991,
          -0.6001880277835497,
          -1.0400549304427917,
          0.003272206458725557,
          -1.3528129854600308,
          -0.3469507174506524,
          -0.9140855889241825,
          0.9577028104654609,
          -0.20396839758209903,
          -0.5635726556127097,
          -0.6292571060303892,
          -1.4412942860438325,
          -0.023173287497486254,
          0.2867170728131295,
          1.4891400934905492,
          1.683467368370149,
          0.0032825188849990358,
          -1.724488989643146,
          0.3619017524142584,
          -1.086482992483747,
          1.3030784312470234,
          2.086086574606949,
          -0.9148799666797345,
          -2.53659794781672,
          0.14790147153220412,
          1.5081605357439327,
          0.03172942631163809,
          -1.3844203538077873,
          2.7317365325469214,
          1.8435597585089694,
          -0.9235347978823618,
          -2.2293208131348097,
          0.8302728483937458
         ],
         "xaxis": "x",
         "yaxis": "y"
        },
        {
         "line": {
          "color": "rgba(128, 128, 128, 1.0)",
          "dash": "solid",
          "shape": "linear",
          "width": 1.3
         },
         "marker": {
          "size": 2,
          "symbol": "circle"
         },
         "mode": "markers",
         "name": "A",
         "text": "",
         "type": "scatter",
         "x": [
          -0.4380037600693329,
          1.3856258480513495,
          -1.6439581318945904,
          1.780163099731763,
          -0.06886238487724357,
          -0.3419320878039712,
          1.7176474787692995,
          -3.0128342192986843,
          1.268848134771191,
          0.2448222463181939,
          0.6832274431968387,
          0.5900880475260439,
          -0.28351085192768744,
          0.03951006673344334,
          0.33378442318795754,
          0.0036633902122219066,
          -1.0335621009028737,
          -1.4346287159598332,
          -0.7637090963596298,
          -0.49509070170442804,
          0.7017553526944327,
          1.0578719391875344,
          0.7596212001824827,
          0.8464267198538894,
          0.5115456059271346,
          1.4785023222198197,
          -2.1651187773032246,
          1.0007144847757021,
          0.7384916218488192,
          0.26590612111690903,
          1.956294281895234,
          -0.8617578488568759,
          0.011053299902504497,
          1.5429553670798497,
          1.7290962461445358,
          -0.08249248371447555,
          -0.5315109256761953,
          -0.5644574743776344,
          0.7402337629534262,
          -0.6086185725746197,
          0.2187789432258602,
          -0.125717596041093,
          0.20048527432005395,
          2.731679171077915,
          -1.8603447004357492,
          0.9554304810338209,
          -1.4103828466835837,
          1.065950515655746,
          -1.236848826065617,
          -0.7318542012955099,
          2.2934039074168857,
          -0.7557077880124786,
          2.0115055050237043,
          0.37154483900426716,
          -1.9242514925498644,
          0.7925365130656604,
          -0.2819909724010163,
          -0.40942736078084324,
          -0.7623793634102329,
          1.1645877433591125,
          -0.38777448037124174,
          -0.1723366430999955,
          0.016858458282385105,
          0.04213951346102748,
          -0.2200209199138018,
          0.4556172925040396,
          0.9847325399374394,
          0.3486345501482719,
          0.9407477147125772,
          -0.13776682864629283,
          0.25163129965039865,
          1.1259847998476251,
          -1.2270319722269811,
          -0.8076192569794358,
          -0.1342328858251307,
          0.19426191413022975,
          -0.9440956952124823,
          -0.5819788729383728,
          -0.48095783847540297,
          -0.8869083142131824,
          -0.14477563692269194,
          1.6866780586582282,
          1.5258822957160807,
          -1.0275474178043047,
          -1.0323270449559678,
          0.9102697897984027,
          -0.1566664582921049,
          0.7704706110055723,
          -0.37923470972809126,
          0.15897524427418847,
          -0.4839263654265887,
          -0.39319145215301765,
          0.4437255355807462,
          -0.4350402940246013,
          0.7316571164610378,
          -1.8887992487543999,
          0.6035468169807476,
          0.16115878831117503,
          1.375156129392616,
          0.5982663947397071
         ],
         "xaxis": "x2",
         "y": [
          -0.020189904066568676,
          0.1605430195388812,
          0.2183093910227895,
          -2.4481729834834183,
          -1.3420320191794017,
          -0.11221568571796266,
          0.5438037913168252,
          -0.6738957753062436,
          1.2812552096620458,
          -1.9536234368933418,
          0.6253512625110269,
          -0.367816742191912,
          -0.768336789815034,
          -0.4129987988772313,
          0.19697310981348015,
          -0.27701278168076676,
          -2.1850709253021408,
          -0.5250012837190554,
          -0.2960852772923362,
          2.1017025013406174,
          -1.0911147300173158,
          0.03328166238849761,
          0.8748423978764613,
          -0.7007281434378153,
          -0.7032378773912719,
          0.8163765079870988,
          0.6030432620160926,
          0.9510948268094824,
          0.27023316558141663,
          -0.7311343794012733,
          -0.8666389092607147,
          1.6069767733420819,
          -0.48121297176306743,
          0.8828189161472906,
          1.032297574576932,
          -1.5001633282861504,
          0.5649349776911442,
          -0.051387101531794106,
          -0.2781026509732436,
          -0.8923371781052455,
          1.1915575077827307,
          -1.2536370325127713,
          -0.2805725925410075,
          1.070862086463324,
          -0.5607966024437397,
          0.44671495095770924,
          0.9055046646215376,
          0.9966668848767872,
          -0.6389673657208839,
          -0.19119612298566752,
          -1.867018118228768,
          1.7299122438438277,
          -1.5392952098290518,
          1.9085227576174537,
          -0.7365200192739271,
          0.291020559910531,
          -0.6876208386672505,
          -0.4396880008989103,
          0.8766948555928455,
          0.48993246404209895,
          0.04486282746655476,
          0.3311347774803122,
          1.3444595160554034,
          1.2292855329948622,
          -0.37737713594871525,
          -0.20849767131121968,
          0.8803939015253044,
          0.6916060145498991,
          -0.6001880277835497,
          -1.0400549304427917,
          0.003272206458725557,
          -1.3528129854600308,
          -0.3469507174506524,
          -0.9140855889241825,
          0.9577028104654609,
          -0.20396839758209903,
          -0.5635726556127097,
          -0.6292571060303892,
          -1.4412942860438325,
          -0.023173287497486254,
          0.2867170728131295,
          1.4891400934905492,
          1.683467368370149,
          0.0032825188849990358,
          -1.724488989643146,
          0.3619017524142584,
          -1.086482992483747,
          1.3030784312470234,
          2.086086574606949,
          -0.9148799666797345,
          -2.53659794781672,
          0.14790147153220412,
          1.5081605357439327,
          0.03172942631163809,
          -1.3844203538077873,
          2.7317365325469214,
          1.8435597585089694,
          -0.9235347978823618,
          -2.2293208131348097,
          0.8302728483937458
         ],
         "yaxis": "y2"
        },
        {
         "line": {
          "color": "rgba(128, 128, 128, 1.0)",
          "dash": "solid",
          "shape": "linear",
          "width": 1.3
         },
         "marker": {
          "size": 2,
          "symbol": "circle"
         },
         "mode": "markers",
         "name": "A",
         "text": "",
         "type": "scatter",
         "x": [
          -0.9331308355733341,
          0.12539125190782266,
          -0.5826274882840796,
          1.538666334357524,
          -1.7274960200280642,
          -0.6246340895816981,
          0.8757756779822631,
          1.1446178716120907,
          -1.8674807150864499,
          0.4929854879925438,
          1.6087237941600827,
          0.00403581169119472,
          0.3387429698083554,
          -1.091562519111494,
          0.049621223832586596,
          0.413631229048461,
          -0.906872396994403,
          -0.23988192131216016,
          -1.9614917247524626,
          0.5823904755813313,
          -1.1193801692557945,
          0.8318308552816366,
          -0.7558098068051601,
          0.7099805947369157,
          0.2622129159914279,
          0.45234041521296053,
          -0.45333781624007824,
          -1.5591624560808224,
          0.14955589754009757,
          0.042532647130016386,
          -0.29515420408850174,
          0.7468841380204412,
          -0.30075637307075787,
          1.8468666456361396,
          0.349329776303073,
          -1.3659029962894353,
          0.24196349094017464,
          0.7093642694862414,
          0.42390013120014924,
          0.16952567778832683,
          -0.48690258667357683,
          -0.8724138565251532,
          1.0367451639380085,
          1.0162731899375543,
          1.2817227511333238,
          1.0963533662760434,
          0.37554547886557976,
          -0.14471360360842764,
          -1.2452445131401817,
          -1.1029478425649724,
          -1.157542051838458,
          -0.67239539908866,
          -1.326749037336286,
          0.376759246361514,
          0.6539699710346577,
          0.8580451963648623,
          0.6729653968696636,
          2.6911551665544797,
          -0.671525051147614,
          -0.11673890146869877,
          -1.593489446902274,
          -1.3256767506688802,
          0.173202476859852,
          -1.1389200757237263,
          -2.185007623439091,
          -3.139204515064847,
          0.120464777745759,
          1.1210250513099758,
          0.01336528748146471,
          1.355912962800932,
          0.3593865499783559,
          -1.0609039600902184,
          -1.5404425382900173,
          -0.3850781813027051,
          0.5007428784942515,
          0.8786526898703361,
          0.43269599626147,
          0.2228666774544576,
          -0.6433973192029896,
          1.1092657015373828,
          1.0792382022513454,
          -0.9822820063408606,
          -0.44261469859124053,
          -0.17746979075039673,
          0.7350095886868749,
          -0.10673807686590155,
          -1.1455465997132093,
          -1.04971699304803,
          -0.23660704909094354,
          1.664825431283724,
          0.52314519345455,
          -0.7713133338765619,
          0.4020249405971316,
          0.370730560452333,
          0.39309217498023896,
          0.8976125204425404,
          -0.022809273831166026,
          -0.44563449993903204,
          1.4332355098767757,
          0.33501316651965235
         ],
         "xaxis": "x3",
         "y": [
          -0.020189904066568676,
          0.1605430195388812,
          0.2183093910227895,
          -2.4481729834834183,
          -1.3420320191794017,
          -0.11221568571796266,
          0.5438037913168252,
          -0.6738957753062436,
          1.2812552096620458,
          -1.9536234368933418,
          0.6253512625110269,
          -0.367816742191912,
          -0.768336789815034,
          -0.4129987988772313,
          0.19697310981348015,
          -0.27701278168076676,
          -2.1850709253021408,
          -0.5250012837190554,
          -0.2960852772923362,
          2.1017025013406174,
          -1.0911147300173158,
          0.03328166238849761,
          0.8748423978764613,
          -0.7007281434378153,
          -0.7032378773912719,
          0.8163765079870988,
          0.6030432620160926,
          0.9510948268094824,
          0.27023316558141663,
          -0.7311343794012733,
          -0.8666389092607147,
          1.6069767733420819,
          -0.48121297176306743,
          0.8828189161472906,
          1.032297574576932,
          -1.5001633282861504,
          0.5649349776911442,
          -0.051387101531794106,
          -0.2781026509732436,
          -0.8923371781052455,
          1.1915575077827307,
          -1.2536370325127713,
          -0.2805725925410075,
          1.070862086463324,
          -0.5607966024437397,
          0.44671495095770924,
          0.9055046646215376,
          0.9966668848767872,
          -0.6389673657208839,
          -0.19119612298566752,
          -1.867018118228768,
          1.7299122438438277,
          -1.5392952098290518,
          1.9085227576174537,
          -0.7365200192739271,
          0.291020559910531,
          -0.6876208386672505,
          -0.4396880008989103,
          0.8766948555928455,
          0.48993246404209895,
          0.04486282746655476,
          0.3311347774803122,
          1.3444595160554034,
          1.2292855329948622,
          -0.37737713594871525,
          -0.20849767131121968,
          0.8803939015253044,
          0.6916060145498991,
          -0.6001880277835497,
          -1.0400549304427917,
          0.003272206458725557,
          -1.3528129854600308,
          -0.3469507174506524,
          -0.9140855889241825,
          0.9577028104654609,
          -0.20396839758209903,
          -0.5635726556127097,
          -0.6292571060303892,
          -1.4412942860438325,
          -0.023173287497486254,
          0.2867170728131295,
          1.4891400934905492,
          1.683467368370149,
          0.0032825188849990358,
          -1.724488989643146,
          0.3619017524142584,
          -1.086482992483747,
          1.3030784312470234,
          2.086086574606949,
          -0.9148799666797345,
          -2.53659794781672,
          0.14790147153220412,
          1.5081605357439327,
          0.03172942631163809,
          -1.3844203538077873,
          2.7317365325469214,
          1.8435597585089694,
          -0.9235347978823618,
          -2.2293208131348097,
          0.8302728483937458
         ],
         "yaxis": "y3"
        },
        {
         "line": {
          "color": "rgba(128, 128, 128, 1.0)",
          "dash": "solid",
          "shape": "linear",
          "width": 1.3
         },
         "marker": {
          "size": 2,
          "symbol": "circle"
         },
         "mode": "markers",
         "name": "A",
         "text": "",
         "type": "scatter",
         "x": [
          -0.5972618598477876,
          0.49913129985884647,
          1.7730264589727827,
          1.1032823872819204,
          -0.8151579178878929,
          0.7544427114688668,
          1.0774286321416484,
          -0.051946512921370425,
          0.6166519502349622,
          1.4118594304742158,
          0.13717225426810745,
          0.6050015374397305,
          -0.3856010246759087,
          -0.5891087047560496,
          -0.03820969691035504,
          -1.0139398407192033,
          -1.8002177795266743,
          2.4331651321022374,
          2.619589756643213,
          0.1679663590479456,
          1.021448468810051,
          0.9512341173952743,
          0.16222026213196905,
          0.5354111619240958,
          0.5181742993661161,
          -0.871494439001104,
          -0.09685894088541698,
          1.0541791334435062,
          -0.1975401478765995,
          -0.7492561923357114,
          -1.069393525413521,
          0.5047777483460927,
          0.9137379834785593,
          0.4186634324449865,
          -1.0287345824885585,
          0.48790568201222684,
          -0.4050553157701971,
          0.11141541052830012,
          -1.7255301254782913,
          -0.08350333594487494,
          0.45249482106131833,
          -0.09343094523639385,
          -1.1097099840336093,
          0.3572648089204684,
          0.21617504521772882,
          -1.8432127866249164,
          -1.0017756232366533,
          -3.0394611961570424,
          -2.0765768625295604,
          -0.08793900930099857,
          -1.183950224972636,
          -0.5717968444413271,
          0.4138392187337821,
          -0.054182122952612474,
          0.010036201028902115,
          -0.11117296334648173,
          0.03829259173105282,
          0.5677693356912435,
          -0.09862976094514372,
          0.8366927598732063,
          -1.1388446424392644,
          -1.726824651763009,
          -2.1408436066424428,
          -0.41730496546954354,
          1.9682058113107093,
          0.14770333504684413,
          0.9518760707874068,
          0.6640022570758064,
          0.250994155569197,
          -0.6535481050924123,
          0.2050650353763908,
          1.1264110703819419,
          0.8332230610418235,
          -0.6552689024075415,
          -0.10761767621075648,
          -1.1593078130627543,
          -2.560148376587137,
          -0.7501456943804221,
          -0.655428643820223,
          -0.8165852861077829,
          -0.12019692016527625,
          0.5620944262447766,
          0.8002584560979304,
          -0.7503343293526445,
          -0.022872732491072807,
          -0.8133206402807482,
          0.5901216522003285,
          0.17342835503505383,
          -1.220213981996596,
          -0.17031710380254936,
          2.06408937773803,
          -0.48942538351366077,
          0.8770885868617431,
          1.8772108464491117,
          -0.1416863365318827,
          1.1442123784007612,
          0.6543647925446888,
          -0.31106413751265755,
          0.14154219683602615,
          -0.8936821553152134
         ],
         "xaxis": "x4",
         "y": [
          -0.020189904066568676,
          0.1605430195388812,
          0.2183093910227895,
          -2.4481729834834183,
          -1.3420320191794017,
          -0.11221568571796266,
          0.5438037913168252,
          -0.6738957753062436,
          1.2812552096620458,
          -1.9536234368933418,
          0.6253512625110269,
          -0.367816742191912,
          -0.768336789815034,
          -0.4129987988772313,
          0.19697310981348015,
          -0.27701278168076676,
          -2.1850709253021408,
          -0.5250012837190554,
          -0.2960852772923362,
          2.1017025013406174,
          -1.0911147300173158,
          0.03328166238849761,
          0.8748423978764613,
          -0.7007281434378153,
          -0.7032378773912719,
          0.8163765079870988,
          0.6030432620160926,
          0.9510948268094824,
          0.27023316558141663,
          -0.7311343794012733,
          -0.8666389092607147,
          1.6069767733420819,
          -0.48121297176306743,
          0.8828189161472906,
          1.032297574576932,
          -1.5001633282861504,
          0.5649349776911442,
          -0.051387101531794106,
          -0.2781026509732436,
          -0.8923371781052455,
          1.1915575077827307,
          -1.2536370325127713,
          -0.2805725925410075,
          1.070862086463324,
          -0.5607966024437397,
          0.44671495095770924,
          0.9055046646215376,
          0.9966668848767872,
          -0.6389673657208839,
          -0.19119612298566752,
          -1.867018118228768,
          1.7299122438438277,
          -1.5392952098290518,
          1.9085227576174537,
          -0.7365200192739271,
          0.291020559910531,
          -0.6876208386672505,
          -0.4396880008989103,
          0.8766948555928455,
          0.48993246404209895,
          0.04486282746655476,
          0.3311347774803122,
          1.3444595160554034,
          1.2292855329948622,
          -0.37737713594871525,
          -0.20849767131121968,
          0.8803939015253044,
          0.6916060145498991,
          -0.6001880277835497,
          -1.0400549304427917,
          0.003272206458725557,
          -1.3528129854600308,
          -0.3469507174506524,
          -0.9140855889241825,
          0.9577028104654609,
          -0.20396839758209903,
          -0.5635726556127097,
          -0.6292571060303892,
          -1.4412942860438325,
          -0.023173287497486254,
          0.2867170728131295,
          1.4891400934905492,
          1.683467368370149,
          0.0032825188849990358,
          -1.724488989643146,
          0.3619017524142584,
          -1.086482992483747,
          1.3030784312470234,
          2.086086574606949,
          -0.9148799666797345,
          -2.53659794781672,
          0.14790147153220412,
          1.5081605357439327,
          0.03172942631163809,
          -1.3844203538077873,
          2.7317365325469214,
          1.8435597585089694,
          -0.9235347978823618,
          -2.2293208131348097,
          0.8302728483937458
         ],
         "yaxis": "y4"
        },
        {
         "line": {
          "color": "rgba(128, 128, 128, 1.0)",
          "dash": "solid",
          "shape": "linear",
          "width": 1.3
         },
         "marker": {
          "size": 2,
          "symbol": "circle"
         },
         "mode": "markers",
         "name": "B",
         "text": "",
         "type": "scatter",
         "x": [
          -0.020189904066568676,
          0.1605430195388812,
          0.2183093910227895,
          -2.4481729834834183,
          -1.3420320191794017,
          -0.11221568571796266,
          0.5438037913168252,
          -0.6738957753062436,
          1.2812552096620458,
          -1.9536234368933418,
          0.6253512625110269,
          -0.367816742191912,
          -0.768336789815034,
          -0.4129987988772313,
          0.19697310981348015,
          -0.27701278168076676,
          -2.1850709253021408,
          -0.5250012837190554,
          -0.2960852772923362,
          2.1017025013406174,
          -1.0911147300173158,
          0.03328166238849761,
          0.8748423978764613,
          -0.7007281434378153,
          -0.7032378773912719,
          0.8163765079870988,
          0.6030432620160926,
          0.9510948268094824,
          0.27023316558141663,
          -0.7311343794012733,
          -0.8666389092607147,
          1.6069767733420819,
          -0.48121297176306743,
          0.8828189161472906,
          1.032297574576932,
          -1.5001633282861504,
          0.5649349776911442,
          -0.051387101531794106,
          -0.2781026509732436,
          -0.8923371781052455,
          1.1915575077827307,
          -1.2536370325127713,
          -0.2805725925410075,
          1.070862086463324,
          -0.5607966024437397,
          0.44671495095770924,
          0.9055046646215376,
          0.9966668848767872,
          -0.6389673657208839,
          -0.19119612298566752,
          -1.867018118228768,
          1.7299122438438277,
          -1.5392952098290518,
          1.9085227576174537,
          -0.7365200192739271,
          0.291020559910531,
          -0.6876208386672505,
          -0.4396880008989103,
          0.8766948555928455,
          0.48993246404209895,
          0.04486282746655476,
          0.3311347774803122,
          1.3444595160554034,
          1.2292855329948622,
          -0.37737713594871525,
          -0.20849767131121968,
          0.8803939015253044,
          0.6916060145498991,
          -0.6001880277835497,
          -1.0400549304427917,
          0.003272206458725557,
          -1.3528129854600308,
          -0.3469507174506524,
          -0.9140855889241825,
          0.9577028104654609,
          -0.20396839758209903,
          -0.5635726556127097,
          -0.6292571060303892,
          -1.4412942860438325,
          -0.023173287497486254,
          0.2867170728131295,
          1.4891400934905492,
          1.683467368370149,
          0.0032825188849990358,
          -1.724488989643146,
          0.3619017524142584,
          -1.086482992483747,
          1.3030784312470234,
          2.086086574606949,
          -0.9148799666797345,
          -2.53659794781672,
          0.14790147153220412,
          1.5081605357439327,
          0.03172942631163809,
          -1.3844203538077873,
          2.7317365325469214,
          1.8435597585089694,
          -0.9235347978823618,
          -2.2293208131348097,
          0.8302728483937458
         ],
         "xaxis": "x5",
         "y": [
          -0.4380037600693329,
          1.3856258480513495,
          -1.6439581318945904,
          1.780163099731763,
          -0.06886238487724357,
          -0.3419320878039712,
          1.7176474787692995,
          -3.0128342192986843,
          1.268848134771191,
          0.2448222463181939,
          0.6832274431968387,
          0.5900880475260439,
          -0.28351085192768744,
          0.03951006673344334,
          0.33378442318795754,
          0.0036633902122219066,
          -1.0335621009028737,
          -1.4346287159598332,
          -0.7637090963596298,
          -0.49509070170442804,
          0.7017553526944327,
          1.0578719391875344,
          0.7596212001824827,
          0.8464267198538894,
          0.5115456059271346,
          1.4785023222198197,
          -2.1651187773032246,
          1.0007144847757021,
          0.7384916218488192,
          0.26590612111690903,
          1.956294281895234,
          -0.8617578488568759,
          0.011053299902504497,
          1.5429553670798497,
          1.7290962461445358,
          -0.08249248371447555,
          -0.5315109256761953,
          -0.5644574743776344,
          0.7402337629534262,
          -0.6086185725746197,
          0.2187789432258602,
          -0.125717596041093,
          0.20048527432005395,
          2.731679171077915,
          -1.8603447004357492,
          0.9554304810338209,
          -1.4103828466835837,
          1.065950515655746,
          -1.236848826065617,
          -0.7318542012955099,
          2.2934039074168857,
          -0.7557077880124786,
          2.0115055050237043,
          0.37154483900426716,
          -1.9242514925498644,
          0.7925365130656604,
          -0.2819909724010163,
          -0.40942736078084324,
          -0.7623793634102329,
          1.1645877433591125,
          -0.38777448037124174,
          -0.1723366430999955,
          0.016858458282385105,
          0.04213951346102748,
          -0.2200209199138018,
          0.4556172925040396,
          0.9847325399374394,
          0.3486345501482719,
          0.9407477147125772,
          -0.13776682864629283,
          0.25163129965039865,
          1.1259847998476251,
          -1.2270319722269811,
          -0.8076192569794358,
          -0.1342328858251307,
          0.19426191413022975,
          -0.9440956952124823,
          -0.5819788729383728,
          -0.48095783847540297,
          -0.8869083142131824,
          -0.14477563692269194,
          1.6866780586582282,
          1.5258822957160807,
          -1.0275474178043047,
          -1.0323270449559678,
          0.9102697897984027,
          -0.1566664582921049,
          0.7704706110055723,
          -0.37923470972809126,
          0.15897524427418847,
          -0.4839263654265887,
          -0.39319145215301765,
          0.4437255355807462,
          -0.4350402940246013,
          0.7316571164610378,
          -1.8887992487543999,
          0.6035468169807476,
          0.16115878831117503,
          1.375156129392616,
          0.5982663947397071
         ],
         "yaxis": "y5"
        },
        {
         "histfunc": "count",
         "histnorm": "",
         "marker": {
          "color": "rgba(55, 128, 191, 1.0)",
          "line": {
           "color": "#4D5663",
           "width": 1.3
          }
         },
         "name": "B",
         "nbinsx": 10,
         "opacity": 0.8,
         "orientation": "v",
         "type": "histogram",
         "x": [
          -0.4380037600693329,
          1.3856258480513495,
          -1.6439581318945904,
          1.780163099731763,
          -0.06886238487724357,
          -0.3419320878039712,
          1.7176474787692995,
          -3.0128342192986843,
          1.268848134771191,
          0.2448222463181939,
          0.6832274431968387,
          0.5900880475260439,
          -0.28351085192768744,
          0.03951006673344334,
          0.33378442318795754,
          0.0036633902122219066,
          -1.0335621009028737,
          -1.4346287159598332,
          -0.7637090963596298,
          -0.49509070170442804,
          0.7017553526944327,
          1.0578719391875344,
          0.7596212001824827,
          0.8464267198538894,
          0.5115456059271346,
          1.4785023222198197,
          -2.1651187773032246,
          1.0007144847757021,
          0.7384916218488192,
          0.26590612111690903,
          1.956294281895234,
          -0.8617578488568759,
          0.011053299902504497,
          1.5429553670798497,
          1.7290962461445358,
          -0.08249248371447555,
          -0.5315109256761953,
          -0.5644574743776344,
          0.7402337629534262,
          -0.6086185725746197,
          0.2187789432258602,
          -0.125717596041093,
          0.20048527432005395,
          2.731679171077915,
          -1.8603447004357492,
          0.9554304810338209,
          -1.4103828466835837,
          1.065950515655746,
          -1.236848826065617,
          -0.7318542012955099,
          2.2934039074168857,
          -0.7557077880124786,
          2.0115055050237043,
          0.37154483900426716,
          -1.9242514925498644,
          0.7925365130656604,
          -0.2819909724010163,
          -0.40942736078084324,
          -0.7623793634102329,
          1.1645877433591125,
          -0.38777448037124174,
          -0.1723366430999955,
          0.016858458282385105,
          0.04213951346102748,
          -0.2200209199138018,
          0.4556172925040396,
          0.9847325399374394,
          0.3486345501482719,
          0.9407477147125772,
          -0.13776682864629283,
          0.25163129965039865,
          1.1259847998476251,
          -1.2270319722269811,
          -0.8076192569794358,
          -0.1342328858251307,
          0.19426191413022975,
          -0.9440956952124823,
          -0.5819788729383728,
          -0.48095783847540297,
          -0.8869083142131824,
          -0.14477563692269194,
          1.6866780586582282,
          1.5258822957160807,
          -1.0275474178043047,
          -1.0323270449559678,
          0.9102697897984027,
          -0.1566664582921049,
          0.7704706110055723,
          -0.37923470972809126,
          0.15897524427418847,
          -0.4839263654265887,
          -0.39319145215301765,
          0.4437255355807462,
          -0.4350402940246013,
          0.7316571164610378,
          -1.8887992487543999,
          0.6035468169807476,
          0.16115878831117503,
          1.375156129392616,
          0.5982663947397071
         ],
         "xaxis": "x6",
         "yaxis": "y6"
        },
        {
         "line": {
          "color": "rgba(128, 128, 128, 1.0)",
          "dash": "solid",
          "shape": "linear",
          "width": 1.3
         },
         "marker": {
          "size": 2,
          "symbol": "circle"
         },
         "mode": "markers",
         "name": "B",
         "text": "",
         "type": "scatter",
         "x": [
          -0.9331308355733341,
          0.12539125190782266,
          -0.5826274882840796,
          1.538666334357524,
          -1.7274960200280642,
          -0.6246340895816981,
          0.8757756779822631,
          1.1446178716120907,
          -1.8674807150864499,
          0.4929854879925438,
          1.6087237941600827,
          0.00403581169119472,
          0.3387429698083554,
          -1.091562519111494,
          0.049621223832586596,
          0.413631229048461,
          -0.906872396994403,
          -0.23988192131216016,
          -1.9614917247524626,
          0.5823904755813313,
          -1.1193801692557945,
          0.8318308552816366,
          -0.7558098068051601,
          0.7099805947369157,
          0.2622129159914279,
          0.45234041521296053,
          -0.45333781624007824,
          -1.5591624560808224,
          0.14955589754009757,
          0.042532647130016386,
          -0.29515420408850174,
          0.7468841380204412,
          -0.30075637307075787,
          1.8468666456361396,
          0.349329776303073,
          -1.3659029962894353,
          0.24196349094017464,
          0.7093642694862414,
          0.42390013120014924,
          0.16952567778832683,
          -0.48690258667357683,
          -0.8724138565251532,
          1.0367451639380085,
          1.0162731899375543,
          1.2817227511333238,
          1.0963533662760434,
          0.37554547886557976,
          -0.14471360360842764,
          -1.2452445131401817,
          -1.1029478425649724,
          -1.157542051838458,
          -0.67239539908866,
          -1.326749037336286,
          0.376759246361514,
          0.6539699710346577,
          0.8580451963648623,
          0.6729653968696636,
          2.6911551665544797,
          -0.671525051147614,
          -0.11673890146869877,
          -1.593489446902274,
          -1.3256767506688802,
          0.173202476859852,
          -1.1389200757237263,
          -2.185007623439091,
          -3.139204515064847,
          0.120464777745759,
          1.1210250513099758,
          0.01336528748146471,
          1.355912962800932,
          0.3593865499783559,
          -1.0609039600902184,
          -1.5404425382900173,
          -0.3850781813027051,
          0.5007428784942515,
          0.8786526898703361,
          0.43269599626147,
          0.2228666774544576,
          -0.6433973192029896,
          1.1092657015373828,
          1.0792382022513454,
          -0.9822820063408606,
          -0.44261469859124053,
          -0.17746979075039673,
          0.7350095886868749,
          -0.10673807686590155,
          -1.1455465997132093,
          -1.04971699304803,
          -0.23660704909094354,
          1.664825431283724,
          0.52314519345455,
          -0.7713133338765619,
          0.4020249405971316,
          0.370730560452333,
          0.39309217498023896,
          0.8976125204425404,
          -0.022809273831166026,
          -0.44563449993903204,
          1.4332355098767757,
          0.33501316651965235
         ],
         "xaxis": "x7",
         "y": [
          -0.4380037600693329,
          1.3856258480513495,
          -1.6439581318945904,
          1.780163099731763,
          -0.06886238487724357,
          -0.3419320878039712,
          1.7176474787692995,
          -3.0128342192986843,
          1.268848134771191,
          0.2448222463181939,
          0.6832274431968387,
          0.5900880475260439,
          -0.28351085192768744,
          0.03951006673344334,
          0.33378442318795754,
          0.0036633902122219066,
          -1.0335621009028737,
          -1.4346287159598332,
          -0.7637090963596298,
          -0.49509070170442804,
          0.7017553526944327,
          1.0578719391875344,
          0.7596212001824827,
          0.8464267198538894,
          0.5115456059271346,
          1.4785023222198197,
          -2.1651187773032246,
          1.0007144847757021,
          0.7384916218488192,
          0.26590612111690903,
          1.956294281895234,
          -0.8617578488568759,
          0.011053299902504497,
          1.5429553670798497,
          1.7290962461445358,
          -0.08249248371447555,
          -0.5315109256761953,
          -0.5644574743776344,
          0.7402337629534262,
          -0.6086185725746197,
          0.2187789432258602,
          -0.125717596041093,
          0.20048527432005395,
          2.731679171077915,
          -1.8603447004357492,
          0.9554304810338209,
          -1.4103828466835837,
          1.065950515655746,
          -1.236848826065617,
          -0.7318542012955099,
          2.2934039074168857,
          -0.7557077880124786,
          2.0115055050237043,
          0.37154483900426716,
          -1.9242514925498644,
          0.7925365130656604,
          -0.2819909724010163,
          -0.40942736078084324,
          -0.7623793634102329,
          1.1645877433591125,
          -0.38777448037124174,
          -0.1723366430999955,
          0.016858458282385105,
          0.04213951346102748,
          -0.2200209199138018,
          0.4556172925040396,
          0.9847325399374394,
          0.3486345501482719,
          0.9407477147125772,
          -0.13776682864629283,
          0.25163129965039865,
          1.1259847998476251,
          -1.2270319722269811,
          -0.8076192569794358,
          -0.1342328858251307,
          0.19426191413022975,
          -0.9440956952124823,
          -0.5819788729383728,
          -0.48095783847540297,
          -0.8869083142131824,
          -0.14477563692269194,
          1.6866780586582282,
          1.5258822957160807,
          -1.0275474178043047,
          -1.0323270449559678,
          0.9102697897984027,
          -0.1566664582921049,
          0.7704706110055723,
          -0.37923470972809126,
          0.15897524427418847,
          -0.4839263654265887,
          -0.39319145215301765,
          0.4437255355807462,
          -0.4350402940246013,
          0.7316571164610378,
          -1.8887992487543999,
          0.6035468169807476,
          0.16115878831117503,
          1.375156129392616,
          0.5982663947397071
         ],
         "yaxis": "y7"
        },
        {
         "line": {
          "color": "rgba(128, 128, 128, 1.0)",
          "dash": "solid",
          "shape": "linear",
          "width": 1.3
         },
         "marker": {
          "size": 2,
          "symbol": "circle"
         },
         "mode": "markers",
         "name": "B",
         "text": "",
         "type": "scatter",
         "x": [
          -0.5972618598477876,
          0.49913129985884647,
          1.7730264589727827,
          1.1032823872819204,
          -0.8151579178878929,
          0.7544427114688668,
          1.0774286321416484,
          -0.051946512921370425,
          0.6166519502349622,
          1.4118594304742158,
          0.13717225426810745,
          0.6050015374397305,
          -0.3856010246759087,
          -0.5891087047560496,
          -0.03820969691035504,
          -1.0139398407192033,
          -1.8002177795266743,
          2.4331651321022374,
          2.619589756643213,
          0.1679663590479456,
          1.021448468810051,
          0.9512341173952743,
          0.16222026213196905,
          0.5354111619240958,
          0.5181742993661161,
          -0.871494439001104,
          -0.09685894088541698,
          1.0541791334435062,
          -0.1975401478765995,
          -0.7492561923357114,
          -1.069393525413521,
          0.5047777483460927,
          0.9137379834785593,
          0.4186634324449865,
          -1.0287345824885585,
          0.48790568201222684,
          -0.4050553157701971,
          0.11141541052830012,
          -1.7255301254782913,
          -0.08350333594487494,
          0.45249482106131833,
          -0.09343094523639385,
          -1.1097099840336093,
          0.3572648089204684,
          0.21617504521772882,
          -1.8432127866249164,
          -1.0017756232366533,
          -3.0394611961570424,
          -2.0765768625295604,
          -0.08793900930099857,
          -1.183950224972636,
          -0.5717968444413271,
          0.4138392187337821,
          -0.054182122952612474,
          0.010036201028902115,
          -0.11117296334648173,
          0.03829259173105282,
          0.5677693356912435,
          -0.09862976094514372,
          0.8366927598732063,
          -1.1388446424392644,
          -1.726824651763009,
          -2.1408436066424428,
          -0.41730496546954354,
          1.9682058113107093,
          0.14770333504684413,
          0.9518760707874068,
          0.6640022570758064,
          0.250994155569197,
          -0.6535481050924123,
          0.2050650353763908,
          1.1264110703819419,
          0.8332230610418235,
          -0.6552689024075415,
          -0.10761767621075648,
          -1.1593078130627543,
          -2.560148376587137,
          -0.7501456943804221,
          -0.655428643820223,
          -0.8165852861077829,
          -0.12019692016527625,
          0.5620944262447766,
          0.8002584560979304,
          -0.7503343293526445,
          -0.022872732491072807,
          -0.8133206402807482,
          0.5901216522003285,
          0.17342835503505383,
          -1.220213981996596,
          -0.17031710380254936,
          2.06408937773803,
          -0.48942538351366077,
          0.8770885868617431,
          1.8772108464491117,
          -0.1416863365318827,
          1.1442123784007612,
          0.6543647925446888,
          -0.31106413751265755,
          0.14154219683602615,
          -0.8936821553152134
         ],
         "xaxis": "x8",
         "y": [
          -0.4380037600693329,
          1.3856258480513495,
          -1.6439581318945904,
          1.780163099731763,
          -0.06886238487724357,
          -0.3419320878039712,
          1.7176474787692995,
          -3.0128342192986843,
          1.268848134771191,
          0.2448222463181939,
          0.6832274431968387,
          0.5900880475260439,
          -0.28351085192768744,
          0.03951006673344334,
          0.33378442318795754,
          0.0036633902122219066,
          -1.0335621009028737,
          -1.4346287159598332,
          -0.7637090963596298,
          -0.49509070170442804,
          0.7017553526944327,
          1.0578719391875344,
          0.7596212001824827,
          0.8464267198538894,
          0.5115456059271346,
          1.4785023222198197,
          -2.1651187773032246,
          1.0007144847757021,
          0.7384916218488192,
          0.26590612111690903,
          1.956294281895234,
          -0.8617578488568759,
          0.011053299902504497,
          1.5429553670798497,
          1.7290962461445358,
          -0.08249248371447555,
          -0.5315109256761953,
          -0.5644574743776344,
          0.7402337629534262,
          -0.6086185725746197,
          0.2187789432258602,
          -0.125717596041093,
          0.20048527432005395,
          2.731679171077915,
          -1.8603447004357492,
          0.9554304810338209,
          -1.4103828466835837,
          1.065950515655746,
          -1.236848826065617,
          -0.7318542012955099,
          2.2934039074168857,
          -0.7557077880124786,
          2.0115055050237043,
          0.37154483900426716,
          -1.9242514925498644,
          0.7925365130656604,
          -0.2819909724010163,
          -0.40942736078084324,
          -0.7623793634102329,
          1.1645877433591125,
          -0.38777448037124174,
          -0.1723366430999955,
          0.016858458282385105,
          0.04213951346102748,
          -0.2200209199138018,
          0.4556172925040396,
          0.9847325399374394,
          0.3486345501482719,
          0.9407477147125772,
          -0.13776682864629283,
          0.25163129965039865,
          1.1259847998476251,
          -1.2270319722269811,
          -0.8076192569794358,
          -0.1342328858251307,
          0.19426191413022975,
          -0.9440956952124823,
          -0.5819788729383728,
          -0.48095783847540297,
          -0.8869083142131824,
          -0.14477563692269194,
          1.6866780586582282,
          1.5258822957160807,
          -1.0275474178043047,
          -1.0323270449559678,
          0.9102697897984027,
          -0.1566664582921049,
          0.7704706110055723,
          -0.37923470972809126,
          0.15897524427418847,
          -0.4839263654265887,
          -0.39319145215301765,
          0.4437255355807462,
          -0.4350402940246013,
          0.7316571164610378,
          -1.8887992487543999,
          0.6035468169807476,
          0.16115878831117503,
          1.375156129392616,
          0.5982663947397071
         ],
         "yaxis": "y8"
        },
        {
         "line": {
          "color": "rgba(128, 128, 128, 1.0)",
          "dash": "solid",
          "shape": "linear",
          "width": 1.3
         },
         "marker": {
          "size": 2,
          "symbol": "circle"
         },
         "mode": "markers",
         "name": "C",
         "text": "",
         "type": "scatter",
         "x": [
          -0.020189904066568676,
          0.1605430195388812,
          0.2183093910227895,
          -2.4481729834834183,
          -1.3420320191794017,
          -0.11221568571796266,
          0.5438037913168252,
          -0.6738957753062436,
          1.2812552096620458,
          -1.9536234368933418,
          0.6253512625110269,
          -0.367816742191912,
          -0.768336789815034,
          -0.4129987988772313,
          0.19697310981348015,
          -0.27701278168076676,
          -2.1850709253021408,
          -0.5250012837190554,
          -0.2960852772923362,
          2.1017025013406174,
          -1.0911147300173158,
          0.03328166238849761,
          0.8748423978764613,
          -0.7007281434378153,
          -0.7032378773912719,
          0.8163765079870988,
          0.6030432620160926,
          0.9510948268094824,
          0.27023316558141663,
          -0.7311343794012733,
          -0.8666389092607147,
          1.6069767733420819,
          -0.48121297176306743,
          0.8828189161472906,
          1.032297574576932,
          -1.5001633282861504,
          0.5649349776911442,
          -0.051387101531794106,
          -0.2781026509732436,
          -0.8923371781052455,
          1.1915575077827307,
          -1.2536370325127713,
          -0.2805725925410075,
          1.070862086463324,
          -0.5607966024437397,
          0.44671495095770924,
          0.9055046646215376,
          0.9966668848767872,
          -0.6389673657208839,
          -0.19119612298566752,
          -1.867018118228768,
          1.7299122438438277,
          -1.5392952098290518,
          1.9085227576174537,
          -0.7365200192739271,
          0.291020559910531,
          -0.6876208386672505,
          -0.4396880008989103,
          0.8766948555928455,
          0.48993246404209895,
          0.04486282746655476,
          0.3311347774803122,
          1.3444595160554034,
          1.2292855329948622,
          -0.37737713594871525,
          -0.20849767131121968,
          0.8803939015253044,
          0.6916060145498991,
          -0.6001880277835497,
          -1.0400549304427917,
          0.003272206458725557,
          -1.3528129854600308,
          -0.3469507174506524,
          -0.9140855889241825,
          0.9577028104654609,
          -0.20396839758209903,
          -0.5635726556127097,
          -0.6292571060303892,
          -1.4412942860438325,
          -0.023173287497486254,
          0.2867170728131295,
          1.4891400934905492,
          1.683467368370149,
          0.0032825188849990358,
          -1.724488989643146,
          0.3619017524142584,
          -1.086482992483747,
          1.3030784312470234,
          2.086086574606949,
          -0.9148799666797345,
          -2.53659794781672,
          0.14790147153220412,
          1.5081605357439327,
          0.03172942631163809,
          -1.3844203538077873,
          2.7317365325469214,
          1.8435597585089694,
          -0.9235347978823618,
          -2.2293208131348097,
          0.8302728483937458
         ],
         "xaxis": "x9",
         "y": [
          -0.9331308355733341,
          0.12539125190782266,
          -0.5826274882840796,
          1.538666334357524,
          -1.7274960200280642,
          -0.6246340895816981,
          0.8757756779822631,
          1.1446178716120907,
          -1.8674807150864499,
          0.4929854879925438,
          1.6087237941600827,
          0.00403581169119472,
          0.3387429698083554,
          -1.091562519111494,
          0.049621223832586596,
          0.413631229048461,
          -0.906872396994403,
          -0.23988192131216016,
          -1.9614917247524626,
          0.5823904755813313,
          -1.1193801692557945,
          0.8318308552816366,
          -0.7558098068051601,
          0.7099805947369157,
          0.2622129159914279,
          0.45234041521296053,
          -0.45333781624007824,
          -1.5591624560808224,
          0.14955589754009757,
          0.042532647130016386,
          -0.29515420408850174,
          0.7468841380204412,
          -0.30075637307075787,
          1.8468666456361396,
          0.349329776303073,
          -1.3659029962894353,
          0.24196349094017464,
          0.7093642694862414,
          0.42390013120014924,
          0.16952567778832683,
          -0.48690258667357683,
          -0.8724138565251532,
          1.0367451639380085,
          1.0162731899375543,
          1.2817227511333238,
          1.0963533662760434,
          0.37554547886557976,
          -0.14471360360842764,
          -1.2452445131401817,
          -1.1029478425649724,
          -1.157542051838458,
          -0.67239539908866,
          -1.326749037336286,
          0.376759246361514,
          0.6539699710346577,
          0.8580451963648623,
          0.6729653968696636,
          2.6911551665544797,
          -0.671525051147614,
          -0.11673890146869877,
          -1.593489446902274,
          -1.3256767506688802,
          0.173202476859852,
          -1.1389200757237263,
          -2.185007623439091,
          -3.139204515064847,
          0.120464777745759,
          1.1210250513099758,
          0.01336528748146471,
          1.355912962800932,
          0.3593865499783559,
          -1.0609039600902184,
          -1.5404425382900173,
          -0.3850781813027051,
          0.5007428784942515,
          0.8786526898703361,
          0.43269599626147,
          0.2228666774544576,
          -0.6433973192029896,
          1.1092657015373828,
          1.0792382022513454,
          -0.9822820063408606,
          -0.44261469859124053,
          -0.17746979075039673,
          0.7350095886868749,
          -0.10673807686590155,
          -1.1455465997132093,
          -1.04971699304803,
          -0.23660704909094354,
          1.664825431283724,
          0.52314519345455,
          -0.7713133338765619,
          0.4020249405971316,
          0.370730560452333,
          0.39309217498023896,
          0.8976125204425404,
          -0.022809273831166026,
          -0.44563449993903204,
          1.4332355098767757,
          0.33501316651965235
         ],
         "yaxis": "y9"
        },
        {
         "line": {
          "color": "rgba(128, 128, 128, 1.0)",
          "dash": "solid",
          "shape": "linear",
          "width": 1.3
         },
         "marker": {
          "size": 2,
          "symbol": "circle"
         },
         "mode": "markers",
         "name": "C",
         "text": "",
         "type": "scatter",
         "x": [
          -0.4380037600693329,
          1.3856258480513495,
          -1.6439581318945904,
          1.780163099731763,
          -0.06886238487724357,
          -0.3419320878039712,
          1.7176474787692995,
          -3.0128342192986843,
          1.268848134771191,
          0.2448222463181939,
          0.6832274431968387,
          0.5900880475260439,
          -0.28351085192768744,
          0.03951006673344334,
          0.33378442318795754,
          0.0036633902122219066,
          -1.0335621009028737,
          -1.4346287159598332,
          -0.7637090963596298,
          -0.49509070170442804,
          0.7017553526944327,
          1.0578719391875344,
          0.7596212001824827,
          0.8464267198538894,
          0.5115456059271346,
          1.4785023222198197,
          -2.1651187773032246,
          1.0007144847757021,
          0.7384916218488192,
          0.26590612111690903,
          1.956294281895234,
          -0.8617578488568759,
          0.011053299902504497,
          1.5429553670798497,
          1.7290962461445358,
          -0.08249248371447555,
          -0.5315109256761953,
          -0.5644574743776344,
          0.7402337629534262,
          -0.6086185725746197,
          0.2187789432258602,
          -0.125717596041093,
          0.20048527432005395,
          2.731679171077915,
          -1.8603447004357492,
          0.9554304810338209,
          -1.4103828466835837,
          1.065950515655746,
          -1.236848826065617,
          -0.7318542012955099,
          2.2934039074168857,
          -0.7557077880124786,
          2.0115055050237043,
          0.37154483900426716,
          -1.9242514925498644,
          0.7925365130656604,
          -0.2819909724010163,
          -0.40942736078084324,
          -0.7623793634102329,
          1.1645877433591125,
          -0.38777448037124174,
          -0.1723366430999955,
          0.016858458282385105,
          0.04213951346102748,
          -0.2200209199138018,
          0.4556172925040396,
          0.9847325399374394,
          0.3486345501482719,
          0.9407477147125772,
          -0.13776682864629283,
          0.25163129965039865,
          1.1259847998476251,
          -1.2270319722269811,
          -0.8076192569794358,
          -0.1342328858251307,
          0.19426191413022975,
          -0.9440956952124823,
          -0.5819788729383728,
          -0.48095783847540297,
          -0.8869083142131824,
          -0.14477563692269194,
          1.6866780586582282,
          1.5258822957160807,
          -1.0275474178043047,
          -1.0323270449559678,
          0.9102697897984027,
          -0.1566664582921049,
          0.7704706110055723,
          -0.37923470972809126,
          0.15897524427418847,
          -0.4839263654265887,
          -0.39319145215301765,
          0.4437255355807462,
          -0.4350402940246013,
          0.7316571164610378,
          -1.8887992487543999,
          0.6035468169807476,
          0.16115878831117503,
          1.375156129392616,
          0.5982663947397071
         ],
         "xaxis": "x10",
         "y": [
          -0.9331308355733341,
          0.12539125190782266,
          -0.5826274882840796,
          1.538666334357524,
          -1.7274960200280642,
          -0.6246340895816981,
          0.8757756779822631,
          1.1446178716120907,
          -1.8674807150864499,
          0.4929854879925438,
          1.6087237941600827,
          0.00403581169119472,
          0.3387429698083554,
          -1.091562519111494,
          0.049621223832586596,
          0.413631229048461,
          -0.906872396994403,
          -0.23988192131216016,
          -1.9614917247524626,
          0.5823904755813313,
          -1.1193801692557945,
          0.8318308552816366,
          -0.7558098068051601,
          0.7099805947369157,
          0.2622129159914279,
          0.45234041521296053,
          -0.45333781624007824,
          -1.5591624560808224,
          0.14955589754009757,
          0.042532647130016386,
          -0.29515420408850174,
          0.7468841380204412,
          -0.30075637307075787,
          1.8468666456361396,
          0.349329776303073,
          -1.3659029962894353,
          0.24196349094017464,
          0.7093642694862414,
          0.42390013120014924,
          0.16952567778832683,
          -0.48690258667357683,
          -0.8724138565251532,
          1.0367451639380085,
          1.0162731899375543,
          1.2817227511333238,
          1.0963533662760434,
          0.37554547886557976,
          -0.14471360360842764,
          -1.2452445131401817,
          -1.1029478425649724,
          -1.157542051838458,
          -0.67239539908866,
          -1.326749037336286,
          0.376759246361514,
          0.6539699710346577,
          0.8580451963648623,
          0.6729653968696636,
          2.6911551665544797,
          -0.671525051147614,
          -0.11673890146869877,
          -1.593489446902274,
          -1.3256767506688802,
          0.173202476859852,
          -1.1389200757237263,
          -2.185007623439091,
          -3.139204515064847,
          0.120464777745759,
          1.1210250513099758,
          0.01336528748146471,
          1.355912962800932,
          0.3593865499783559,
          -1.0609039600902184,
          -1.5404425382900173,
          -0.3850781813027051,
          0.5007428784942515,
          0.8786526898703361,
          0.43269599626147,
          0.2228666774544576,
          -0.6433973192029896,
          1.1092657015373828,
          1.0792382022513454,
          -0.9822820063408606,
          -0.44261469859124053,
          -0.17746979075039673,
          0.7350095886868749,
          -0.10673807686590155,
          -1.1455465997132093,
          -1.04971699304803,
          -0.23660704909094354,
          1.664825431283724,
          0.52314519345455,
          -0.7713133338765619,
          0.4020249405971316,
          0.370730560452333,
          0.39309217498023896,
          0.8976125204425404,
          -0.022809273831166026,
          -0.44563449993903204,
          1.4332355098767757,
          0.33501316651965235
         ],
         "yaxis": "y10"
        },
        {
         "histfunc": "count",
         "histnorm": "",
         "marker": {
          "color": "rgba(50, 171, 96, 1.0)",
          "line": {
           "color": "#4D5663",
           "width": 1.3
          }
         },
         "name": "C",
         "nbinsx": 10,
         "opacity": 0.8,
         "orientation": "v",
         "type": "histogram",
         "x": [
          -0.9331308355733341,
          0.12539125190782266,
          -0.5826274882840796,
          1.538666334357524,
          -1.7274960200280642,
          -0.6246340895816981,
          0.8757756779822631,
          1.1446178716120907,
          -1.8674807150864499,
          0.4929854879925438,
          1.6087237941600827,
          0.00403581169119472,
          0.3387429698083554,
          -1.091562519111494,
          0.049621223832586596,
          0.413631229048461,
          -0.906872396994403,
          -0.23988192131216016,
          -1.9614917247524626,
          0.5823904755813313,
          -1.1193801692557945,
          0.8318308552816366,
          -0.7558098068051601,
          0.7099805947369157,
          0.2622129159914279,
          0.45234041521296053,
          -0.45333781624007824,
          -1.5591624560808224,
          0.14955589754009757,
          0.042532647130016386,
          -0.29515420408850174,
          0.7468841380204412,
          -0.30075637307075787,
          1.8468666456361396,
          0.349329776303073,
          -1.3659029962894353,
          0.24196349094017464,
          0.7093642694862414,
          0.42390013120014924,
          0.16952567778832683,
          -0.48690258667357683,
          -0.8724138565251532,
          1.0367451639380085,
          1.0162731899375543,
          1.2817227511333238,
          1.0963533662760434,
          0.37554547886557976,
          -0.14471360360842764,
          -1.2452445131401817,
          -1.1029478425649724,
          -1.157542051838458,
          -0.67239539908866,
          -1.326749037336286,
          0.376759246361514,
          0.6539699710346577,
          0.8580451963648623,
          0.6729653968696636,
          2.6911551665544797,
          -0.671525051147614,
          -0.11673890146869877,
          -1.593489446902274,
          -1.3256767506688802,
          0.173202476859852,
          -1.1389200757237263,
          -2.185007623439091,
          -3.139204515064847,
          0.120464777745759,
          1.1210250513099758,
          0.01336528748146471,
          1.355912962800932,
          0.3593865499783559,
          -1.0609039600902184,
          -1.5404425382900173,
          -0.3850781813027051,
          0.5007428784942515,
          0.8786526898703361,
          0.43269599626147,
          0.2228666774544576,
          -0.6433973192029896,
          1.1092657015373828,
          1.0792382022513454,
          -0.9822820063408606,
          -0.44261469859124053,
          -0.17746979075039673,
          0.7350095886868749,
          -0.10673807686590155,
          -1.1455465997132093,
          -1.04971699304803,
          -0.23660704909094354,
          1.664825431283724,
          0.52314519345455,
          -0.7713133338765619,
          0.4020249405971316,
          0.370730560452333,
          0.39309217498023896,
          0.8976125204425404,
          -0.022809273831166026,
          -0.44563449993903204,
          1.4332355098767757,
          0.33501316651965235
         ],
         "xaxis": "x11",
         "yaxis": "y11"
        },
        {
         "line": {
          "color": "rgba(128, 128, 128, 1.0)",
          "dash": "solid",
          "shape": "linear",
          "width": 1.3
         },
         "marker": {
          "size": 2,
          "symbol": "circle"
         },
         "mode": "markers",
         "name": "C",
         "text": "",
         "type": "scatter",
         "x": [
          -0.5972618598477876,
          0.49913129985884647,
          1.7730264589727827,
          1.1032823872819204,
          -0.8151579178878929,
          0.7544427114688668,
          1.0774286321416484,
          -0.051946512921370425,
          0.6166519502349622,
          1.4118594304742158,
          0.13717225426810745,
          0.6050015374397305,
          -0.3856010246759087,
          -0.5891087047560496,
          -0.03820969691035504,
          -1.0139398407192033,
          -1.8002177795266743,
          2.4331651321022374,
          2.619589756643213,
          0.1679663590479456,
          1.021448468810051,
          0.9512341173952743,
          0.16222026213196905,
          0.5354111619240958,
          0.5181742993661161,
          -0.871494439001104,
          -0.09685894088541698,
          1.0541791334435062,
          -0.1975401478765995,
          -0.7492561923357114,
          -1.069393525413521,
          0.5047777483460927,
          0.9137379834785593,
          0.4186634324449865,
          -1.0287345824885585,
          0.48790568201222684,
          -0.4050553157701971,
          0.11141541052830012,
          -1.7255301254782913,
          -0.08350333594487494,
          0.45249482106131833,
          -0.09343094523639385,
          -1.1097099840336093,
          0.3572648089204684,
          0.21617504521772882,
          -1.8432127866249164,
          -1.0017756232366533,
          -3.0394611961570424,
          -2.0765768625295604,
          -0.08793900930099857,
          -1.183950224972636,
          -0.5717968444413271,
          0.4138392187337821,
          -0.054182122952612474,
          0.010036201028902115,
          -0.11117296334648173,
          0.03829259173105282,
          0.5677693356912435,
          -0.09862976094514372,
          0.8366927598732063,
          -1.1388446424392644,
          -1.726824651763009,
          -2.1408436066424428,
          -0.41730496546954354,
          1.9682058113107093,
          0.14770333504684413,
          0.9518760707874068,
          0.6640022570758064,
          0.250994155569197,
          -0.6535481050924123,
          0.2050650353763908,
          1.1264110703819419,
          0.8332230610418235,
          -0.6552689024075415,
          -0.10761767621075648,
          -1.1593078130627543,
          -2.560148376587137,
          -0.7501456943804221,
          -0.655428643820223,
          -0.8165852861077829,
          -0.12019692016527625,
          0.5620944262447766,
          0.8002584560979304,
          -0.7503343293526445,
          -0.022872732491072807,
          -0.8133206402807482,
          0.5901216522003285,
          0.17342835503505383,
          -1.220213981996596,
          -0.17031710380254936,
          2.06408937773803,
          -0.48942538351366077,
          0.8770885868617431,
          1.8772108464491117,
          -0.1416863365318827,
          1.1442123784007612,
          0.6543647925446888,
          -0.31106413751265755,
          0.14154219683602615,
          -0.8936821553152134
         ],
         "xaxis": "x12",
         "y": [
          -0.9331308355733341,
          0.12539125190782266,
          -0.5826274882840796,
          1.538666334357524,
          -1.7274960200280642,
          -0.6246340895816981,
          0.8757756779822631,
          1.1446178716120907,
          -1.8674807150864499,
          0.4929854879925438,
          1.6087237941600827,
          0.00403581169119472,
          0.3387429698083554,
          -1.091562519111494,
          0.049621223832586596,
          0.413631229048461,
          -0.906872396994403,
          -0.23988192131216016,
          -1.9614917247524626,
          0.5823904755813313,
          -1.1193801692557945,
          0.8318308552816366,
          -0.7558098068051601,
          0.7099805947369157,
          0.2622129159914279,
          0.45234041521296053,
          -0.45333781624007824,
          -1.5591624560808224,
          0.14955589754009757,
          0.042532647130016386,
          -0.29515420408850174,
          0.7468841380204412,
          -0.30075637307075787,
          1.8468666456361396,
          0.349329776303073,
          -1.3659029962894353,
          0.24196349094017464,
          0.7093642694862414,
          0.42390013120014924,
          0.16952567778832683,
          -0.48690258667357683,
          -0.8724138565251532,
          1.0367451639380085,
          1.0162731899375543,
          1.2817227511333238,
          1.0963533662760434,
          0.37554547886557976,
          -0.14471360360842764,
          -1.2452445131401817,
          -1.1029478425649724,
          -1.157542051838458,
          -0.67239539908866,
          -1.326749037336286,
          0.376759246361514,
          0.6539699710346577,
          0.8580451963648623,
          0.6729653968696636,
          2.6911551665544797,
          -0.671525051147614,
          -0.11673890146869877,
          -1.593489446902274,
          -1.3256767506688802,
          0.173202476859852,
          -1.1389200757237263,
          -2.185007623439091,
          -3.139204515064847,
          0.120464777745759,
          1.1210250513099758,
          0.01336528748146471,
          1.355912962800932,
          0.3593865499783559,
          -1.0609039600902184,
          -1.5404425382900173,
          -0.3850781813027051,
          0.5007428784942515,
          0.8786526898703361,
          0.43269599626147,
          0.2228666774544576,
          -0.6433973192029896,
          1.1092657015373828,
          1.0792382022513454,
          -0.9822820063408606,
          -0.44261469859124053,
          -0.17746979075039673,
          0.7350095886868749,
          -0.10673807686590155,
          -1.1455465997132093,
          -1.04971699304803,
          -0.23660704909094354,
          1.664825431283724,
          0.52314519345455,
          -0.7713133338765619,
          0.4020249405971316,
          0.370730560452333,
          0.39309217498023896,
          0.8976125204425404,
          -0.022809273831166026,
          -0.44563449993903204,
          1.4332355098767757,
          0.33501316651965235
         ],
         "yaxis": "y12"
        },
        {
         "line": {
          "color": "rgba(128, 128, 128, 1.0)",
          "dash": "solid",
          "shape": "linear",
          "width": 1.3
         },
         "marker": {
          "size": 2,
          "symbol": "circle"
         },
         "mode": "markers",
         "name": "D",
         "text": "",
         "type": "scatter",
         "x": [
          -0.020189904066568676,
          0.1605430195388812,
          0.2183093910227895,
          -2.4481729834834183,
          -1.3420320191794017,
          -0.11221568571796266,
          0.5438037913168252,
          -0.6738957753062436,
          1.2812552096620458,
          -1.9536234368933418,
          0.6253512625110269,
          -0.367816742191912,
          -0.768336789815034,
          -0.4129987988772313,
          0.19697310981348015,
          -0.27701278168076676,
          -2.1850709253021408,
          -0.5250012837190554,
          -0.2960852772923362,
          2.1017025013406174,
          -1.0911147300173158,
          0.03328166238849761,
          0.8748423978764613,
          -0.7007281434378153,
          -0.7032378773912719,
          0.8163765079870988,
          0.6030432620160926,
          0.9510948268094824,
          0.27023316558141663,
          -0.7311343794012733,
          -0.8666389092607147,
          1.6069767733420819,
          -0.48121297176306743,
          0.8828189161472906,
          1.032297574576932,
          -1.5001633282861504,
          0.5649349776911442,
          -0.051387101531794106,
          -0.2781026509732436,
          -0.8923371781052455,
          1.1915575077827307,
          -1.2536370325127713,
          -0.2805725925410075,
          1.070862086463324,
          -0.5607966024437397,
          0.44671495095770924,
          0.9055046646215376,
          0.9966668848767872,
          -0.6389673657208839,
          -0.19119612298566752,
          -1.867018118228768,
          1.7299122438438277,
          -1.5392952098290518,
          1.9085227576174537,
          -0.7365200192739271,
          0.291020559910531,
          -0.6876208386672505,
          -0.4396880008989103,
          0.8766948555928455,
          0.48993246404209895,
          0.04486282746655476,
          0.3311347774803122,
          1.3444595160554034,
          1.2292855329948622,
          -0.37737713594871525,
          -0.20849767131121968,
          0.8803939015253044,
          0.6916060145498991,
          -0.6001880277835497,
          -1.0400549304427917,
          0.003272206458725557,
          -1.3528129854600308,
          -0.3469507174506524,
          -0.9140855889241825,
          0.9577028104654609,
          -0.20396839758209903,
          -0.5635726556127097,
          -0.6292571060303892,
          -1.4412942860438325,
          -0.023173287497486254,
          0.2867170728131295,
          1.4891400934905492,
          1.683467368370149,
          0.0032825188849990358,
          -1.724488989643146,
          0.3619017524142584,
          -1.086482992483747,
          1.3030784312470234,
          2.086086574606949,
          -0.9148799666797345,
          -2.53659794781672,
          0.14790147153220412,
          1.5081605357439327,
          0.03172942631163809,
          -1.3844203538077873,
          2.7317365325469214,
          1.8435597585089694,
          -0.9235347978823618,
          -2.2293208131348097,
          0.8302728483937458
         ],
         "xaxis": "x13",
         "y": [
          -0.5972618598477876,
          0.49913129985884647,
          1.7730264589727827,
          1.1032823872819204,
          -0.8151579178878929,
          0.7544427114688668,
          1.0774286321416484,
          -0.051946512921370425,
          0.6166519502349622,
          1.4118594304742158,
          0.13717225426810745,
          0.6050015374397305,
          -0.3856010246759087,
          -0.5891087047560496,
          -0.03820969691035504,
          -1.0139398407192033,
          -1.8002177795266743,
          2.4331651321022374,
          2.619589756643213,
          0.1679663590479456,
          1.021448468810051,
          0.9512341173952743,
          0.16222026213196905,
          0.5354111619240958,
          0.5181742993661161,
          -0.871494439001104,
          -0.09685894088541698,
          1.0541791334435062,
          -0.1975401478765995,
          -0.7492561923357114,
          -1.069393525413521,
          0.5047777483460927,
          0.9137379834785593,
          0.4186634324449865,
          -1.0287345824885585,
          0.48790568201222684,
          -0.4050553157701971,
          0.11141541052830012,
          -1.7255301254782913,
          -0.08350333594487494,
          0.45249482106131833,
          -0.09343094523639385,
          -1.1097099840336093,
          0.3572648089204684,
          0.21617504521772882,
          -1.8432127866249164,
          -1.0017756232366533,
          -3.0394611961570424,
          -2.0765768625295604,
          -0.08793900930099857,
          -1.183950224972636,
          -0.5717968444413271,
          0.4138392187337821,
          -0.054182122952612474,
          0.010036201028902115,
          -0.11117296334648173,
          0.03829259173105282,
          0.5677693356912435,
          -0.09862976094514372,
          0.8366927598732063,
          -1.1388446424392644,
          -1.726824651763009,
          -2.1408436066424428,
          -0.41730496546954354,
          1.9682058113107093,
          0.14770333504684413,
          0.9518760707874068,
          0.6640022570758064,
          0.250994155569197,
          -0.6535481050924123,
          0.2050650353763908,
          1.1264110703819419,
          0.8332230610418235,
          -0.6552689024075415,
          -0.10761767621075648,
          -1.1593078130627543,
          -2.560148376587137,
          -0.7501456943804221,
          -0.655428643820223,
          -0.8165852861077829,
          -0.12019692016527625,
          0.5620944262447766,
          0.8002584560979304,
          -0.7503343293526445,
          -0.022872732491072807,
          -0.8133206402807482,
          0.5901216522003285,
          0.17342835503505383,
          -1.220213981996596,
          -0.17031710380254936,
          2.06408937773803,
          -0.48942538351366077,
          0.8770885868617431,
          1.8772108464491117,
          -0.1416863365318827,
          1.1442123784007612,
          0.6543647925446888,
          -0.31106413751265755,
          0.14154219683602615,
          -0.8936821553152134
         ],
         "yaxis": "y13"
        },
        {
         "line": {
          "color": "rgba(128, 128, 128, 1.0)",
          "dash": "solid",
          "shape": "linear",
          "width": 1.3
         },
         "marker": {
          "size": 2,
          "symbol": "circle"
         },
         "mode": "markers",
         "name": "D",
         "text": "",
         "type": "scatter",
         "x": [
          -0.4380037600693329,
          1.3856258480513495,
          -1.6439581318945904,
          1.780163099731763,
          -0.06886238487724357,
          -0.3419320878039712,
          1.7176474787692995,
          -3.0128342192986843,
          1.268848134771191,
          0.2448222463181939,
          0.6832274431968387,
          0.5900880475260439,
          -0.28351085192768744,
          0.03951006673344334,
          0.33378442318795754,
          0.0036633902122219066,
          -1.0335621009028737,
          -1.4346287159598332,
          -0.7637090963596298,
          -0.49509070170442804,
          0.7017553526944327,
          1.0578719391875344,
          0.7596212001824827,
          0.8464267198538894,
          0.5115456059271346,
          1.4785023222198197,
          -2.1651187773032246,
          1.0007144847757021,
          0.7384916218488192,
          0.26590612111690903,
          1.956294281895234,
          -0.8617578488568759,
          0.011053299902504497,
          1.5429553670798497,
          1.7290962461445358,
          -0.08249248371447555,
          -0.5315109256761953,
          -0.5644574743776344,
          0.7402337629534262,
          -0.6086185725746197,
          0.2187789432258602,
          -0.125717596041093,
          0.20048527432005395,
          2.731679171077915,
          -1.8603447004357492,
          0.9554304810338209,
          -1.4103828466835837,
          1.065950515655746,
          -1.236848826065617,
          -0.7318542012955099,
          2.2934039074168857,
          -0.7557077880124786,
          2.0115055050237043,
          0.37154483900426716,
          -1.9242514925498644,
          0.7925365130656604,
          -0.2819909724010163,
          -0.40942736078084324,
          -0.7623793634102329,
          1.1645877433591125,
          -0.38777448037124174,
          -0.1723366430999955,
          0.016858458282385105,
          0.04213951346102748,
          -0.2200209199138018,
          0.4556172925040396,
          0.9847325399374394,
          0.3486345501482719,
          0.9407477147125772,
          -0.13776682864629283,
          0.25163129965039865,
          1.1259847998476251,
          -1.2270319722269811,
          -0.8076192569794358,
          -0.1342328858251307,
          0.19426191413022975,
          -0.9440956952124823,
          -0.5819788729383728,
          -0.48095783847540297,
          -0.8869083142131824,
          -0.14477563692269194,
          1.6866780586582282,
          1.5258822957160807,
          -1.0275474178043047,
          -1.0323270449559678,
          0.9102697897984027,
          -0.1566664582921049,
          0.7704706110055723,
          -0.37923470972809126,
          0.15897524427418847,
          -0.4839263654265887,
          -0.39319145215301765,
          0.4437255355807462,
          -0.4350402940246013,
          0.7316571164610378,
          -1.8887992487543999,
          0.6035468169807476,
          0.16115878831117503,
          1.375156129392616,
          0.5982663947397071
         ],
         "xaxis": "x14",
         "y": [
          -0.5972618598477876,
          0.49913129985884647,
          1.7730264589727827,
          1.1032823872819204,
          -0.8151579178878929,
          0.7544427114688668,
          1.0774286321416484,
          -0.051946512921370425,
          0.6166519502349622,
          1.4118594304742158,
          0.13717225426810745,
          0.6050015374397305,
          -0.3856010246759087,
          -0.5891087047560496,
          -0.03820969691035504,
          -1.0139398407192033,
          -1.8002177795266743,
          2.4331651321022374,
          2.619589756643213,
          0.1679663590479456,
          1.021448468810051,
          0.9512341173952743,
          0.16222026213196905,
          0.5354111619240958,
          0.5181742993661161,
          -0.871494439001104,
          -0.09685894088541698,
          1.0541791334435062,
          -0.1975401478765995,
          -0.7492561923357114,
          -1.069393525413521,
          0.5047777483460927,
          0.9137379834785593,
          0.4186634324449865,
          -1.0287345824885585,
          0.48790568201222684,
          -0.4050553157701971,
          0.11141541052830012,
          -1.7255301254782913,
          -0.08350333594487494,
          0.45249482106131833,
          -0.09343094523639385,
          -1.1097099840336093,
          0.3572648089204684,
          0.21617504521772882,
          -1.8432127866249164,
          -1.0017756232366533,
          -3.0394611961570424,
          -2.0765768625295604,
          -0.08793900930099857,
          -1.183950224972636,
          -0.5717968444413271,
          0.4138392187337821,
          -0.054182122952612474,
          0.010036201028902115,
          -0.11117296334648173,
          0.03829259173105282,
          0.5677693356912435,
          -0.09862976094514372,
          0.8366927598732063,
          -1.1388446424392644,
          -1.726824651763009,
          -2.1408436066424428,
          -0.41730496546954354,
          1.9682058113107093,
          0.14770333504684413,
          0.9518760707874068,
          0.6640022570758064,
          0.250994155569197,
          -0.6535481050924123,
          0.2050650353763908,
          1.1264110703819419,
          0.8332230610418235,
          -0.6552689024075415,
          -0.10761767621075648,
          -1.1593078130627543,
          -2.560148376587137,
          -0.7501456943804221,
          -0.655428643820223,
          -0.8165852861077829,
          -0.12019692016527625,
          0.5620944262447766,
          0.8002584560979304,
          -0.7503343293526445,
          -0.022872732491072807,
          -0.8133206402807482,
          0.5901216522003285,
          0.17342835503505383,
          -1.220213981996596,
          -0.17031710380254936,
          2.06408937773803,
          -0.48942538351366077,
          0.8770885868617431,
          1.8772108464491117,
          -0.1416863365318827,
          1.1442123784007612,
          0.6543647925446888,
          -0.31106413751265755,
          0.14154219683602615,
          -0.8936821553152134
         ],
         "yaxis": "y14"
        },
        {
         "line": {
          "color": "rgba(128, 128, 128, 1.0)",
          "dash": "solid",
          "shape": "linear",
          "width": 1.3
         },
         "marker": {
          "size": 2,
          "symbol": "circle"
         },
         "mode": "markers",
         "name": "D",
         "text": "",
         "type": "scatter",
         "x": [
          -0.9331308355733341,
          0.12539125190782266,
          -0.5826274882840796,
          1.538666334357524,
          -1.7274960200280642,
          -0.6246340895816981,
          0.8757756779822631,
          1.1446178716120907,
          -1.8674807150864499,
          0.4929854879925438,
          1.6087237941600827,
          0.00403581169119472,
          0.3387429698083554,
          -1.091562519111494,
          0.049621223832586596,
          0.413631229048461,
          -0.906872396994403,
          -0.23988192131216016,
          -1.9614917247524626,
          0.5823904755813313,
          -1.1193801692557945,
          0.8318308552816366,
          -0.7558098068051601,
          0.7099805947369157,
          0.2622129159914279,
          0.45234041521296053,
          -0.45333781624007824,
          -1.5591624560808224,
          0.14955589754009757,
          0.042532647130016386,
          -0.29515420408850174,
          0.7468841380204412,
          -0.30075637307075787,
          1.8468666456361396,
          0.349329776303073,
          -1.3659029962894353,
          0.24196349094017464,
          0.7093642694862414,
          0.42390013120014924,
          0.16952567778832683,
          -0.48690258667357683,
          -0.8724138565251532,
          1.0367451639380085,
          1.0162731899375543,
          1.2817227511333238,
          1.0963533662760434,
          0.37554547886557976,
          -0.14471360360842764,
          -1.2452445131401817,
          -1.1029478425649724,
          -1.157542051838458,
          -0.67239539908866,
          -1.326749037336286,
          0.376759246361514,
          0.6539699710346577,
          0.8580451963648623,
          0.6729653968696636,
          2.6911551665544797,
          -0.671525051147614,
          -0.11673890146869877,
          -1.593489446902274,
          -1.3256767506688802,
          0.173202476859852,
          -1.1389200757237263,
          -2.185007623439091,
          -3.139204515064847,
          0.120464777745759,
          1.1210250513099758,
          0.01336528748146471,
          1.355912962800932,
          0.3593865499783559,
          -1.0609039600902184,
          -1.5404425382900173,
          -0.3850781813027051,
          0.5007428784942515,
          0.8786526898703361,
          0.43269599626147,
          0.2228666774544576,
          -0.6433973192029896,
          1.1092657015373828,
          1.0792382022513454,
          -0.9822820063408606,
          -0.44261469859124053,
          -0.17746979075039673,
          0.7350095886868749,
          -0.10673807686590155,
          -1.1455465997132093,
          -1.04971699304803,
          -0.23660704909094354,
          1.664825431283724,
          0.52314519345455,
          -0.7713133338765619,
          0.4020249405971316,
          0.370730560452333,
          0.39309217498023896,
          0.8976125204425404,
          -0.022809273831166026,
          -0.44563449993903204,
          1.4332355098767757,
          0.33501316651965235
         ],
         "xaxis": "x15",
         "y": [
          -0.5972618598477876,
          0.49913129985884647,
          1.7730264589727827,
          1.1032823872819204,
          -0.8151579178878929,
          0.7544427114688668,
          1.0774286321416484,
          -0.051946512921370425,
          0.6166519502349622,
          1.4118594304742158,
          0.13717225426810745,
          0.6050015374397305,
          -0.3856010246759087,
          -0.5891087047560496,
          -0.03820969691035504,
          -1.0139398407192033,
          -1.8002177795266743,
          2.4331651321022374,
          2.619589756643213,
          0.1679663590479456,
          1.021448468810051,
          0.9512341173952743,
          0.16222026213196905,
          0.5354111619240958,
          0.5181742993661161,
          -0.871494439001104,
          -0.09685894088541698,
          1.0541791334435062,
          -0.1975401478765995,
          -0.7492561923357114,
          -1.069393525413521,
          0.5047777483460927,
          0.9137379834785593,
          0.4186634324449865,
          -1.0287345824885585,
          0.48790568201222684,
          -0.4050553157701971,
          0.11141541052830012,
          -1.7255301254782913,
          -0.08350333594487494,
          0.45249482106131833,
          -0.09343094523639385,
          -1.1097099840336093,
          0.3572648089204684,
          0.21617504521772882,
          -1.8432127866249164,
          -1.0017756232366533,
          -3.0394611961570424,
          -2.0765768625295604,
          -0.08793900930099857,
          -1.183950224972636,
          -0.5717968444413271,
          0.4138392187337821,
          -0.054182122952612474,
          0.010036201028902115,
          -0.11117296334648173,
          0.03829259173105282,
          0.5677693356912435,
          -0.09862976094514372,
          0.8366927598732063,
          -1.1388446424392644,
          -1.726824651763009,
          -2.1408436066424428,
          -0.41730496546954354,
          1.9682058113107093,
          0.14770333504684413,
          0.9518760707874068,
          0.6640022570758064,
          0.250994155569197,
          -0.6535481050924123,
          0.2050650353763908,
          1.1264110703819419,
          0.8332230610418235,
          -0.6552689024075415,
          -0.10761767621075648,
          -1.1593078130627543,
          -2.560148376587137,
          -0.7501456943804221,
          -0.655428643820223,
          -0.8165852861077829,
          -0.12019692016527625,
          0.5620944262447766,
          0.8002584560979304,
          -0.7503343293526445,
          -0.022872732491072807,
          -0.8133206402807482,
          0.5901216522003285,
          0.17342835503505383,
          -1.220213981996596,
          -0.17031710380254936,
          2.06408937773803,
          -0.48942538351366077,
          0.8770885868617431,
          1.8772108464491117,
          -0.1416863365318827,
          1.1442123784007612,
          0.6543647925446888,
          -0.31106413751265755,
          0.14154219683602615,
          -0.8936821553152134
         ],
         "yaxis": "y15"
        },
        {
         "histfunc": "count",
         "histnorm": "",
         "marker": {
          "color": "rgba(128, 0, 128, 1.0)",
          "line": {
           "color": "#4D5663",
           "width": 1.3
          }
         },
         "name": "D",
         "nbinsx": 10,
         "opacity": 0.8,
         "orientation": "v",
         "type": "histogram",
         "x": [
          -0.5972618598477876,
          0.49913129985884647,
          1.7730264589727827,
          1.1032823872819204,
          -0.8151579178878929,
          0.7544427114688668,
          1.0774286321416484,
          -0.051946512921370425,
          0.6166519502349622,
          1.4118594304742158,
          0.13717225426810745,
          0.6050015374397305,
          -0.3856010246759087,
          -0.5891087047560496,
          -0.03820969691035504,
          -1.0139398407192033,
          -1.8002177795266743,
          2.4331651321022374,
          2.619589756643213,
          0.1679663590479456,
          1.021448468810051,
          0.9512341173952743,
          0.16222026213196905,
          0.5354111619240958,
          0.5181742993661161,
          -0.871494439001104,
          -0.09685894088541698,
          1.0541791334435062,
          -0.1975401478765995,
          -0.7492561923357114,
          -1.069393525413521,
          0.5047777483460927,
          0.9137379834785593,
          0.4186634324449865,
          -1.0287345824885585,
          0.48790568201222684,
          -0.4050553157701971,
          0.11141541052830012,
          -1.7255301254782913,
          -0.08350333594487494,
          0.45249482106131833,
          -0.09343094523639385,
          -1.1097099840336093,
          0.3572648089204684,
          0.21617504521772882,
          -1.8432127866249164,
          -1.0017756232366533,
          -3.0394611961570424,
          -2.0765768625295604,
          -0.08793900930099857,
          -1.183950224972636,
          -0.5717968444413271,
          0.4138392187337821,
          -0.054182122952612474,
          0.010036201028902115,
          -0.11117296334648173,
          0.03829259173105282,
          0.5677693356912435,
          -0.09862976094514372,
          0.8366927598732063,
          -1.1388446424392644,
          -1.726824651763009,
          -2.1408436066424428,
          -0.41730496546954354,
          1.9682058113107093,
          0.14770333504684413,
          0.9518760707874068,
          0.6640022570758064,
          0.250994155569197,
          -0.6535481050924123,
          0.2050650353763908,
          1.1264110703819419,
          0.8332230610418235,
          -0.6552689024075415,
          -0.10761767621075648,
          -1.1593078130627543,
          -2.560148376587137,
          -0.7501456943804221,
          -0.655428643820223,
          -0.8165852861077829,
          -0.12019692016527625,
          0.5620944262447766,
          0.8002584560979304,
          -0.7503343293526445,
          -0.022872732491072807,
          -0.8133206402807482,
          0.5901216522003285,
          0.17342835503505383,
          -1.220213981996596,
          -0.17031710380254936,
          2.06408937773803,
          -0.48942538351366077,
          0.8770885868617431,
          1.8772108464491117,
          -0.1416863365318827,
          1.1442123784007612,
          0.6543647925446888,
          -0.31106413751265755,
          0.14154219683602615,
          -0.8936821553152134
         ],
         "xaxis": "x16",
         "yaxis": "y16"
        }
       ],
       "layout": {
        "bargap": 0.02,
        "legend": {
         "bgcolor": "#F5F6F9",
         "font": {
          "color": "#4D5663"
         }
        },
        "paper_bgcolor": "#F5F6F9",
        "plot_bgcolor": "#F5F6F9",
        "showlegend": false,
        "template": {
         "data": {
          "bar": [
           {
            "error_x": {
             "color": "#2a3f5f"
            },
            "error_y": {
             "color": "#2a3f5f"
            },
            "marker": {
             "line": {
              "color": "#E5ECF6",
              "width": 0.5
             }
            },
            "type": "bar"
           }
          ],
          "barpolar": [
           {
            "marker": {
             "line": {
              "color": "#E5ECF6",
              "width": 0.5
             }
            },
            "type": "barpolar"
           }
          ],
          "carpet": [
           {
            "aaxis": {
             "endlinecolor": "#2a3f5f",
             "gridcolor": "white",
             "linecolor": "white",
             "minorgridcolor": "white",
             "startlinecolor": "#2a3f5f"
            },
            "baxis": {
             "endlinecolor": "#2a3f5f",
             "gridcolor": "white",
             "linecolor": "white",
             "minorgridcolor": "white",
             "startlinecolor": "#2a3f5f"
            },
            "type": "carpet"
           }
          ],
          "choropleth": [
           {
            "colorbar": {
             "outlinewidth": 0,
             "ticks": ""
            },
            "type": "choropleth"
           }
          ],
          "contour": [
           {
            "colorbar": {
             "outlinewidth": 0,
             "ticks": ""
            },
            "colorscale": [
             [
              0,
              "#0d0887"
             ],
             [
              0.1111111111111111,
              "#46039f"
             ],
             [
              0.2222222222222222,
              "#7201a8"
             ],
             [
              0.3333333333333333,
              "#9c179e"
             ],
             [
              0.4444444444444444,
              "#bd3786"
             ],
             [
              0.5555555555555556,
              "#d8576b"
             ],
             [
              0.6666666666666666,
              "#ed7953"
             ],
             [
              0.7777777777777778,
              "#fb9f3a"
             ],
             [
              0.8888888888888888,
              "#fdca26"
             ],
             [
              1,
              "#f0f921"
             ]
            ],
            "type": "contour"
           }
          ],
          "contourcarpet": [
           {
            "colorbar": {
             "outlinewidth": 0,
             "ticks": ""
            },
            "type": "contourcarpet"
           }
          ],
          "heatmap": [
           {
            "colorbar": {
             "outlinewidth": 0,
             "ticks": ""
            },
            "colorscale": [
             [
              0,
              "#0d0887"
             ],
             [
              0.1111111111111111,
              "#46039f"
             ],
             [
              0.2222222222222222,
              "#7201a8"
             ],
             [
              0.3333333333333333,
              "#9c179e"
             ],
             [
              0.4444444444444444,
              "#bd3786"
             ],
             [
              0.5555555555555556,
              "#d8576b"
             ],
             [
              0.6666666666666666,
              "#ed7953"
             ],
             [
              0.7777777777777778,
              "#fb9f3a"
             ],
             [
              0.8888888888888888,
              "#fdca26"
             ],
             [
              1,
              "#f0f921"
             ]
            ],
            "type": "heatmap"
           }
          ],
          "heatmapgl": [
           {
            "colorbar": {
             "outlinewidth": 0,
             "ticks": ""
            },
            "colorscale": [
             [
              0,
              "#0d0887"
             ],
             [
              0.1111111111111111,
              "#46039f"
             ],
             [
              0.2222222222222222,
              "#7201a8"
             ],
             [
              0.3333333333333333,
              "#9c179e"
             ],
             [
              0.4444444444444444,
              "#bd3786"
             ],
             [
              0.5555555555555556,
              "#d8576b"
             ],
             [
              0.6666666666666666,
              "#ed7953"
             ],
             [
              0.7777777777777778,
              "#fb9f3a"
             ],
             [
              0.8888888888888888,
              "#fdca26"
             ],
             [
              1,
              "#f0f921"
             ]
            ],
            "type": "heatmapgl"
           }
          ],
          "histogram": [
           {
            "marker": {
             "colorbar": {
              "outlinewidth": 0,
              "ticks": ""
             }
            },
            "type": "histogram"
           }
          ],
          "histogram2d": [
           {
            "colorbar": {
             "outlinewidth": 0,
             "ticks": ""
            },
            "colorscale": [
             [
              0,
              "#0d0887"
             ],
             [
              0.1111111111111111,
              "#46039f"
             ],
             [
              0.2222222222222222,
              "#7201a8"
             ],
             [
              0.3333333333333333,
              "#9c179e"
             ],
             [
              0.4444444444444444,
              "#bd3786"
             ],
             [
              0.5555555555555556,
              "#d8576b"
             ],
             [
              0.6666666666666666,
              "#ed7953"
             ],
             [
              0.7777777777777778,
              "#fb9f3a"
             ],
             [
              0.8888888888888888,
              "#fdca26"
             ],
             [
              1,
              "#f0f921"
             ]
            ],
            "type": "histogram2d"
           }
          ],
          "histogram2dcontour": [
           {
            "colorbar": {
             "outlinewidth": 0,
             "ticks": ""
            },
            "colorscale": [
             [
              0,
              "#0d0887"
             ],
             [
              0.1111111111111111,
              "#46039f"
             ],
             [
              0.2222222222222222,
              "#7201a8"
             ],
             [
              0.3333333333333333,
              "#9c179e"
             ],
             [
              0.4444444444444444,
              "#bd3786"
             ],
             [
              0.5555555555555556,
              "#d8576b"
             ],
             [
              0.6666666666666666,
              "#ed7953"
             ],
             [
              0.7777777777777778,
              "#fb9f3a"
             ],
             [
              0.8888888888888888,
              "#fdca26"
             ],
             [
              1,
              "#f0f921"
             ]
            ],
            "type": "histogram2dcontour"
           }
          ],
          "mesh3d": [
           {
            "colorbar": {
             "outlinewidth": 0,
             "ticks": ""
            },
            "type": "mesh3d"
           }
          ],
          "parcoords": [
           {
            "line": {
             "colorbar": {
              "outlinewidth": 0,
              "ticks": ""
             }
            },
            "type": "parcoords"
           }
          ],
          "pie": [
           {
            "automargin": true,
            "type": "pie"
           }
          ],
          "scatter": [
           {
            "marker": {
             "colorbar": {
              "outlinewidth": 0,
              "ticks": ""
             }
            },
            "type": "scatter"
           }
          ],
          "scatter3d": [
           {
            "line": {
             "colorbar": {
              "outlinewidth": 0,
              "ticks": ""
             }
            },
            "marker": {
             "colorbar": {
              "outlinewidth": 0,
              "ticks": ""
             }
            },
            "type": "scatter3d"
           }
          ],
          "scattercarpet": [
           {
            "marker": {
             "colorbar": {
              "outlinewidth": 0,
              "ticks": ""
             }
            },
            "type": "scattercarpet"
           }
          ],
          "scattergeo": [
           {
            "marker": {
             "colorbar": {
              "outlinewidth": 0,
              "ticks": ""
             }
            },
            "type": "scattergeo"
           }
          ],
          "scattergl": [
           {
            "marker": {
             "colorbar": {
              "outlinewidth": 0,
              "ticks": ""
             }
            },
            "type": "scattergl"
           }
          ],
          "scattermapbox": [
           {
            "marker": {
             "colorbar": {
              "outlinewidth": 0,
              "ticks": ""
             }
            },
            "type": "scattermapbox"
           }
          ],
          "scatterpolar": [
           {
            "marker": {
             "colorbar": {
              "outlinewidth": 0,
              "ticks": ""
             }
            },
            "type": "scatterpolar"
           }
          ],
          "scatterpolargl": [
           {
            "marker": {
             "colorbar": {
              "outlinewidth": 0,
              "ticks": ""
             }
            },
            "type": "scatterpolargl"
           }
          ],
          "scatterternary": [
           {
            "marker": {
             "colorbar": {
              "outlinewidth": 0,
              "ticks": ""
             }
            },
            "type": "scatterternary"
           }
          ],
          "surface": [
           {
            "colorbar": {
             "outlinewidth": 0,
             "ticks": ""
            },
            "colorscale": [
             [
              0,
              "#0d0887"
             ],
             [
              0.1111111111111111,
              "#46039f"
             ],
             [
              0.2222222222222222,
              "#7201a8"
             ],
             [
              0.3333333333333333,
              "#9c179e"
             ],
             [
              0.4444444444444444,
              "#bd3786"
             ],
             [
              0.5555555555555556,
              "#d8576b"
             ],
             [
              0.6666666666666666,
              "#ed7953"
             ],
             [
              0.7777777777777778,
              "#fb9f3a"
             ],
             [
              0.8888888888888888,
              "#fdca26"
             ],
             [
              1,
              "#f0f921"
             ]
            ],
            "type": "surface"
           }
          ],
          "table": [
           {
            "cells": {
             "fill": {
              "color": "#EBF0F8"
             },
             "line": {
              "color": "white"
             }
            },
            "header": {
             "fill": {
              "color": "#C8D4E3"
             },
             "line": {
              "color": "white"
             }
            },
            "type": "table"
           }
          ]
         },
         "layout": {
          "annotationdefaults": {
           "arrowcolor": "#2a3f5f",
           "arrowhead": 0,
           "arrowwidth": 1
          },
          "autotypenumbers": "strict",
          "coloraxis": {
           "colorbar": {
            "outlinewidth": 0,
            "ticks": ""
           }
          },
          "colorscale": {
           "diverging": [
            [
             0,
             "#8e0152"
            ],
            [
             0.1,
             "#c51b7d"
            ],
            [
             0.2,
             "#de77ae"
            ],
            [
             0.3,
             "#f1b6da"
            ],
            [
             0.4,
             "#fde0ef"
            ],
            [
             0.5,
             "#f7f7f7"
            ],
            [
             0.6,
             "#e6f5d0"
            ],
            [
             0.7,
             "#b8e186"
            ],
            [
             0.8,
             "#7fbc41"
            ],
            [
             0.9,
             "#4d9221"
            ],
            [
             1,
             "#276419"
            ]
           ],
           "sequential": [
            [
             0,
             "#0d0887"
            ],
            [
             0.1111111111111111,
             "#46039f"
            ],
            [
             0.2222222222222222,
             "#7201a8"
            ],
            [
             0.3333333333333333,
             "#9c179e"
            ],
            [
             0.4444444444444444,
             "#bd3786"
            ],
            [
             0.5555555555555556,
             "#d8576b"
            ],
            [
             0.6666666666666666,
             "#ed7953"
            ],
            [
             0.7777777777777778,
             "#fb9f3a"
            ],
            [
             0.8888888888888888,
             "#fdca26"
            ],
            [
             1,
             "#f0f921"
            ]
           ],
           "sequentialminus": [
            [
             0,
             "#0d0887"
            ],
            [
             0.1111111111111111,
             "#46039f"
            ],
            [
             0.2222222222222222,
             "#7201a8"
            ],
            [
             0.3333333333333333,
             "#9c179e"
            ],
            [
             0.4444444444444444,
             "#bd3786"
            ],
            [
             0.5555555555555556,
             "#d8576b"
            ],
            [
             0.6666666666666666,
             "#ed7953"
            ],
            [
             0.7777777777777778,
             "#fb9f3a"
            ],
            [
             0.8888888888888888,
             "#fdca26"
            ],
            [
             1,
             "#f0f921"
            ]
           ]
          },
          "colorway": [
           "#636efa",
           "#EF553B",
           "#00cc96",
           "#ab63fa",
           "#FFA15A",
           "#19d3f3",
           "#FF6692",
           "#B6E880",
           "#FF97FF",
           "#FECB52"
          ],
          "font": {
           "color": "#2a3f5f"
          },
          "geo": {
           "bgcolor": "white",
           "lakecolor": "white",
           "landcolor": "#E5ECF6",
           "showlakes": true,
           "showland": true,
           "subunitcolor": "white"
          },
          "hoverlabel": {
           "align": "left"
          },
          "hovermode": "closest",
          "mapbox": {
           "style": "light"
          },
          "paper_bgcolor": "white",
          "plot_bgcolor": "#E5ECF6",
          "polar": {
           "angularaxis": {
            "gridcolor": "white",
            "linecolor": "white",
            "ticks": ""
           },
           "bgcolor": "#E5ECF6",
           "radialaxis": {
            "gridcolor": "white",
            "linecolor": "white",
            "ticks": ""
           }
          },
          "scene": {
           "xaxis": {
            "backgroundcolor": "#E5ECF6",
            "gridcolor": "white",
            "gridwidth": 2,
            "linecolor": "white",
            "showbackground": true,
            "ticks": "",
            "zerolinecolor": "white"
           },
           "yaxis": {
            "backgroundcolor": "#E5ECF6",
            "gridcolor": "white",
            "gridwidth": 2,
            "linecolor": "white",
            "showbackground": true,
            "ticks": "",
            "zerolinecolor": "white"
           },
           "zaxis": {
            "backgroundcolor": "#E5ECF6",
            "gridcolor": "white",
            "gridwidth": 2,
            "linecolor": "white",
            "showbackground": true,
            "ticks": "",
            "zerolinecolor": "white"
           }
          },
          "shapedefaults": {
           "line": {
            "color": "#2a3f5f"
           }
          },
          "ternary": {
           "aaxis": {
            "gridcolor": "white",
            "linecolor": "white",
            "ticks": ""
           },
           "baxis": {
            "gridcolor": "white",
            "linecolor": "white",
            "ticks": ""
           },
           "bgcolor": "#E5ECF6",
           "caxis": {
            "gridcolor": "white",
            "linecolor": "white",
            "ticks": ""
           }
          },
          "title": {
           "x": 0.05
          },
          "xaxis": {
           "automargin": true,
           "gridcolor": "white",
           "linecolor": "white",
           "ticks": "",
           "title": {
            "standoff": 15
           },
           "zerolinecolor": "white",
           "zerolinewidth": 2
          },
          "yaxis": {
           "automargin": true,
           "gridcolor": "white",
           "linecolor": "white",
           "ticks": "",
           "title": {
            "standoff": 15
           },
           "zerolinecolor": "white",
           "zerolinewidth": 2
          }
         }
        },
        "title": {
         "font": {
          "color": "#4D5663"
         }
        },
        "xaxis": {
         "anchor": "y",
         "domain": [
          0,
          0.2125
         ],
         "gridcolor": "#E1E5ED",
         "showgrid": false,
         "tickfont": {
          "color": "#4D5663"
         },
         "title": {
          "font": {
           "color": "#4D5663"
          },
          "text": ""
         },
         "zerolinecolor": "#E1E5ED"
        },
        "xaxis10": {
         "anchor": "y10",
         "domain": [
          0.2625,
          0.475
         ],
         "gridcolor": "#E1E5ED",
         "showgrid": false,
         "tickfont": {
          "color": "#4D5663"
         },
         "title": {
          "font": {
           "color": "#4D5663"
          },
          "text": ""
         },
         "zerolinecolor": "#E1E5ED"
        },
        "xaxis11": {
         "anchor": "y11",
         "domain": [
          0.525,
          0.7375
         ],
         "gridcolor": "#E1E5ED",
         "showgrid": false,
         "tickfont": {
          "color": "#4D5663"
         },
         "title": {
          "font": {
           "color": "#4D5663"
          },
          "text": ""
         },
         "zerolinecolor": "#E1E5ED"
        },
        "xaxis12": {
         "anchor": "y12",
         "domain": [
          0.7875,
          1
         ],
         "gridcolor": "#E1E5ED",
         "showgrid": false,
         "tickfont": {
          "color": "#4D5663"
         },
         "title": {
          "font": {
           "color": "#4D5663"
          },
          "text": ""
         },
         "zerolinecolor": "#E1E5ED"
        },
        "xaxis13": {
         "anchor": "y13",
         "domain": [
          0,
          0.2125
         ],
         "gridcolor": "#E1E5ED",
         "showgrid": false,
         "tickfont": {
          "color": "#4D5663"
         },
         "title": {
          "font": {
           "color": "#4D5663"
          },
          "text": ""
         },
         "zerolinecolor": "#E1E5ED"
        },
        "xaxis14": {
         "anchor": "y14",
         "domain": [
          0.2625,
          0.475
         ],
         "gridcolor": "#E1E5ED",
         "showgrid": false,
         "tickfont": {
          "color": "#4D5663"
         },
         "title": {
          "font": {
           "color": "#4D5663"
          },
          "text": ""
         },
         "zerolinecolor": "#E1E5ED"
        },
        "xaxis15": {
         "anchor": "y15",
         "domain": [
          0.525,
          0.7375
         ],
         "gridcolor": "#E1E5ED",
         "showgrid": false,
         "tickfont": {
          "color": "#4D5663"
         },
         "title": {
          "font": {
           "color": "#4D5663"
          },
          "text": ""
         },
         "zerolinecolor": "#E1E5ED"
        },
        "xaxis16": {
         "anchor": "y16",
         "domain": [
          0.7875,
          1
         ],
         "gridcolor": "#E1E5ED",
         "showgrid": false,
         "tickfont": {
          "color": "#4D5663"
         },
         "title": {
          "font": {
           "color": "#4D5663"
          },
          "text": ""
         },
         "zerolinecolor": "#E1E5ED"
        },
        "xaxis2": {
         "anchor": "y2",
         "domain": [
          0.2625,
          0.475
         ],
         "gridcolor": "#E1E5ED",
         "showgrid": false,
         "tickfont": {
          "color": "#4D5663"
         },
         "title": {
          "font": {
           "color": "#4D5663"
          },
          "text": ""
         },
         "zerolinecolor": "#E1E5ED"
        },
        "xaxis3": {
         "anchor": "y3",
         "domain": [
          0.525,
          0.7375
         ],
         "gridcolor": "#E1E5ED",
         "showgrid": false,
         "tickfont": {
          "color": "#4D5663"
         },
         "title": {
          "font": {
           "color": "#4D5663"
          },
          "text": ""
         },
         "zerolinecolor": "#E1E5ED"
        },
        "xaxis4": {
         "anchor": "y4",
         "domain": [
          0.7875,
          1
         ],
         "gridcolor": "#E1E5ED",
         "showgrid": false,
         "tickfont": {
          "color": "#4D5663"
         },
         "title": {
          "font": {
           "color": "#4D5663"
          },
          "text": ""
         },
         "zerolinecolor": "#E1E5ED"
        },
        "xaxis5": {
         "anchor": "y5",
         "domain": [
          0,
          0.2125
         ],
         "gridcolor": "#E1E5ED",
         "showgrid": false,
         "tickfont": {
          "color": "#4D5663"
         },
         "title": {
          "font": {
           "color": "#4D5663"
          },
          "text": ""
         },
         "zerolinecolor": "#E1E5ED"
        },
        "xaxis6": {
         "anchor": "y6",
         "domain": [
          0.2625,
          0.475
         ],
         "gridcolor": "#E1E5ED",
         "showgrid": false,
         "tickfont": {
          "color": "#4D5663"
         },
         "title": {
          "font": {
           "color": "#4D5663"
          },
          "text": ""
         },
         "zerolinecolor": "#E1E5ED"
        },
        "xaxis7": {
         "anchor": "y7",
         "domain": [
          0.525,
          0.7375
         ],
         "gridcolor": "#E1E5ED",
         "showgrid": false,
         "tickfont": {
          "color": "#4D5663"
         },
         "title": {
          "font": {
           "color": "#4D5663"
          },
          "text": ""
         },
         "zerolinecolor": "#E1E5ED"
        },
        "xaxis8": {
         "anchor": "y8",
         "domain": [
          0.7875,
          1
         ],
         "gridcolor": "#E1E5ED",
         "showgrid": false,
         "tickfont": {
          "color": "#4D5663"
         },
         "title": {
          "font": {
           "color": "#4D5663"
          },
          "text": ""
         },
         "zerolinecolor": "#E1E5ED"
        },
        "xaxis9": {
         "anchor": "y9",
         "domain": [
          0,
          0.2125
         ],
         "gridcolor": "#E1E5ED",
         "showgrid": false,
         "tickfont": {
          "color": "#4D5663"
         },
         "title": {
          "font": {
           "color": "#4D5663"
          },
          "text": ""
         },
         "zerolinecolor": "#E1E5ED"
        },
        "yaxis": {
         "anchor": "x",
         "domain": [
          0.8025,
          1
         ],
         "gridcolor": "#E1E5ED",
         "showgrid": false,
         "tickfont": {
          "color": "#4D5663"
         },
         "title": {
          "font": {
           "color": "#4D5663"
          },
          "text": ""
         },
         "zerolinecolor": "#E1E5ED"
        },
        "yaxis10": {
         "anchor": "x10",
         "domain": [
          0.2675,
          0.465
         ],
         "gridcolor": "#E1E5ED",
         "showgrid": false,
         "tickfont": {
          "color": "#4D5663"
         },
         "title": {
          "font": {
           "color": "#4D5663"
          },
          "text": ""
         },
         "zerolinecolor": "#E1E5ED"
        },
        "yaxis11": {
         "anchor": "x11",
         "domain": [
          0.2675,
          0.465
         ],
         "gridcolor": "#E1E5ED",
         "showgrid": false,
         "tickfont": {
          "color": "#4D5663"
         },
         "title": {
          "font": {
           "color": "#4D5663"
          },
          "text": ""
         },
         "zerolinecolor": "#E1E5ED"
        },
        "yaxis12": {
         "anchor": "x12",
         "domain": [
          0.2675,
          0.465
         ],
         "gridcolor": "#E1E5ED",
         "showgrid": false,
         "tickfont": {
          "color": "#4D5663"
         },
         "title": {
          "font": {
           "color": "#4D5663"
          },
          "text": ""
         },
         "zerolinecolor": "#E1E5ED"
        },
        "yaxis13": {
         "anchor": "x13",
         "domain": [
          0,
          0.1975
         ],
         "gridcolor": "#E1E5ED",
         "showgrid": false,
         "tickfont": {
          "color": "#4D5663"
         },
         "title": {
          "font": {
           "color": "#4D5663"
          },
          "text": ""
         },
         "zerolinecolor": "#E1E5ED"
        },
        "yaxis14": {
         "anchor": "x14",
         "domain": [
          0,
          0.1975
         ],
         "gridcolor": "#E1E5ED",
         "showgrid": false,
         "tickfont": {
          "color": "#4D5663"
         },
         "title": {
          "font": {
           "color": "#4D5663"
          },
          "text": ""
         },
         "zerolinecolor": "#E1E5ED"
        },
        "yaxis15": {
         "anchor": "x15",
         "domain": [
          0,
          0.1975
         ],
         "gridcolor": "#E1E5ED",
         "showgrid": false,
         "tickfont": {
          "color": "#4D5663"
         },
         "title": {
          "font": {
           "color": "#4D5663"
          },
          "text": ""
         },
         "zerolinecolor": "#E1E5ED"
        },
        "yaxis16": {
         "anchor": "x16",
         "domain": [
          0,
          0.1975
         ],
         "gridcolor": "#E1E5ED",
         "showgrid": false,
         "tickfont": {
          "color": "#4D5663"
         },
         "title": {
          "font": {
           "color": "#4D5663"
          },
          "text": ""
         },
         "zerolinecolor": "#E1E5ED"
        },
        "yaxis2": {
         "anchor": "x2",
         "domain": [
          0.8025,
          1
         ],
         "gridcolor": "#E1E5ED",
         "showgrid": false,
         "tickfont": {
          "color": "#4D5663"
         },
         "title": {
          "font": {
           "color": "#4D5663"
          },
          "text": ""
         },
         "zerolinecolor": "#E1E5ED"
        },
        "yaxis3": {
         "anchor": "x3",
         "domain": [
          0.8025,
          1
         ],
         "gridcolor": "#E1E5ED",
         "showgrid": false,
         "tickfont": {
          "color": "#4D5663"
         },
         "title": {
          "font": {
           "color": "#4D5663"
          },
          "text": ""
         },
         "zerolinecolor": "#E1E5ED"
        },
        "yaxis4": {
         "anchor": "x4",
         "domain": [
          0.8025,
          1
         ],
         "gridcolor": "#E1E5ED",
         "showgrid": false,
         "tickfont": {
          "color": "#4D5663"
         },
         "title": {
          "font": {
           "color": "#4D5663"
          },
          "text": ""
         },
         "zerolinecolor": "#E1E5ED"
        },
        "yaxis5": {
         "anchor": "x5",
         "domain": [
          0.535,
          0.7325
         ],
         "gridcolor": "#E1E5ED",
         "showgrid": false,
         "tickfont": {
          "color": "#4D5663"
         },
         "title": {
          "font": {
           "color": "#4D5663"
          },
          "text": ""
         },
         "zerolinecolor": "#E1E5ED"
        },
        "yaxis6": {
         "anchor": "x6",
         "domain": [
          0.535,
          0.7325
         ],
         "gridcolor": "#E1E5ED",
         "showgrid": false,
         "tickfont": {
          "color": "#4D5663"
         },
         "title": {
          "font": {
           "color": "#4D5663"
          },
          "text": ""
         },
         "zerolinecolor": "#E1E5ED"
        },
        "yaxis7": {
         "anchor": "x7",
         "domain": [
          0.535,
          0.7325
         ],
         "gridcolor": "#E1E5ED",
         "showgrid": false,
         "tickfont": {
          "color": "#4D5663"
         },
         "title": {
          "font": {
           "color": "#4D5663"
          },
          "text": ""
         },
         "zerolinecolor": "#E1E5ED"
        },
        "yaxis8": {
         "anchor": "x8",
         "domain": [
          0.535,
          0.7325
         ],
         "gridcolor": "#E1E5ED",
         "showgrid": false,
         "tickfont": {
          "color": "#4D5663"
         },
         "title": {
          "font": {
           "color": "#4D5663"
          },
          "text": ""
         },
         "zerolinecolor": "#E1E5ED"
        },
        "yaxis9": {
         "anchor": "x9",
         "domain": [
          0.2675,
          0.465
         ],
         "gridcolor": "#E1E5ED",
         "showgrid": false,
         "tickfont": {
          "color": "#4D5663"
         },
         "title": {
          "font": {
           "color": "#4D5663"
          },
          "text": ""
         },
         "zerolinecolor": "#E1E5ED"
        }
       }
      },
      "text/html": [
       "<div>                            <div id=\"0251bfa7-0891-4822-9d0c-b278d9aeb9f2\" class=\"plotly-graph-div\" style=\"height:525px; width:100%;\"></div>            <script type=\"text/javascript\">                require([\"plotly\"], function(Plotly) {                    window.PLOTLYENV=window.PLOTLYENV || {};\n",
       "                    window.PLOTLYENV.BASE_URL='https://plot.ly';                                    if (document.getElementById(\"0251bfa7-0891-4822-9d0c-b278d9aeb9f2\")) {                    Plotly.newPlot(                        \"0251bfa7-0891-4822-9d0c-b278d9aeb9f2\",                        [{\"histfunc\": \"count\", \"histnorm\": \"\", \"marker\": {\"color\": \"rgba(255, 153, 51, 1.0)\", \"line\": {\"color\": \"#4D5663\", \"width\": 1.3}}, \"name\": \"A\", \"nbinsx\": 10, \"opacity\": 0.8, \"orientation\": \"v\", \"type\": \"histogram\", \"x\": [-0.020189904066568676, 0.1605430195388812, 0.2183093910227895, -2.4481729834834183, -1.3420320191794017, -0.11221568571796266, 0.5438037913168252, -0.6738957753062436, 1.2812552096620458, -1.9536234368933418, 0.6253512625110269, -0.367816742191912, -0.768336789815034, -0.4129987988772313, 0.19697310981348015, -0.27701278168076676, -2.1850709253021408, -0.5250012837190554, -0.2960852772923362, 2.1017025013406174, -1.0911147300173158, 0.03328166238849761, 0.8748423978764613, -0.7007281434378153, -0.7032378773912719, 0.8163765079870988, 0.6030432620160926, 0.9510948268094824, 0.27023316558141663, -0.7311343794012733, -0.8666389092607147, 1.6069767733420819, -0.48121297176306743, 0.8828189161472906, 1.032297574576932, -1.5001633282861504, 0.5649349776911442, -0.051387101531794106, -0.2781026509732436, -0.8923371781052455, 1.1915575077827307, -1.2536370325127713, -0.2805725925410075, 1.070862086463324, -0.5607966024437397, 0.44671495095770924, 0.9055046646215376, 0.9966668848767872, -0.6389673657208839, -0.19119612298566752, -1.867018118228768, 1.7299122438438277, -1.5392952098290518, 1.9085227576174537, -0.7365200192739271, 0.291020559910531, -0.6876208386672505, -0.4396880008989103, 0.8766948555928455, 0.48993246404209895, 0.04486282746655476, 0.3311347774803122, 1.3444595160554034, 1.2292855329948622, -0.37737713594871525, -0.20849767131121968, 0.8803939015253044, 0.6916060145498991, -0.6001880277835497, -1.0400549304427917, 0.003272206458725557, -1.3528129854600308, -0.3469507174506524, -0.9140855889241825, 0.9577028104654609, -0.20396839758209903, -0.5635726556127097, -0.6292571060303892, -1.4412942860438325, -0.023173287497486254, 0.2867170728131295, 1.4891400934905492, 1.683467368370149, 0.0032825188849990358, -1.724488989643146, 0.3619017524142584, -1.086482992483747, 1.3030784312470234, 2.086086574606949, -0.9148799666797345, -2.53659794781672, 0.14790147153220412, 1.5081605357439327, 0.03172942631163809, -1.3844203538077873, 2.7317365325469214, 1.8435597585089694, -0.9235347978823618, -2.2293208131348097, 0.8302728483937458], \"xaxis\": \"x\", \"yaxis\": \"y\"}, {\"line\": {\"color\": \"rgba(128, 128, 128, 1.0)\", \"dash\": \"solid\", \"shape\": \"linear\", \"width\": 1.3}, \"marker\": {\"size\": 2, \"symbol\": \"circle\"}, \"mode\": \"markers\", \"name\": \"A\", \"text\": \"\", \"type\": \"scatter\", \"x\": [-0.4380037600693329, 1.3856258480513495, -1.6439581318945904, 1.780163099731763, -0.06886238487724357, -0.3419320878039712, 1.7176474787692995, -3.0128342192986843, 1.268848134771191, 0.2448222463181939, 0.6832274431968387, 0.5900880475260439, -0.28351085192768744, 0.03951006673344334, 0.33378442318795754, 0.0036633902122219066, -1.0335621009028737, -1.4346287159598332, -0.7637090963596298, -0.49509070170442804, 0.7017553526944327, 1.0578719391875344, 0.7596212001824827, 0.8464267198538894, 0.5115456059271346, 1.4785023222198197, -2.1651187773032246, 1.0007144847757021, 0.7384916218488192, 0.26590612111690903, 1.956294281895234, -0.8617578488568759, 0.011053299902504497, 1.5429553670798497, 1.7290962461445358, -0.08249248371447555, -0.5315109256761953, -0.5644574743776344, 0.7402337629534262, -0.6086185725746197, 0.2187789432258602, -0.125717596041093, 0.20048527432005395, 2.731679171077915, -1.8603447004357492, 0.9554304810338209, -1.4103828466835837, 1.065950515655746, -1.236848826065617, -0.7318542012955099, 2.2934039074168857, -0.7557077880124786, 2.0115055050237043, 0.37154483900426716, -1.9242514925498644, 0.7925365130656604, -0.2819909724010163, -0.40942736078084324, -0.7623793634102329, 1.1645877433591125, -0.38777448037124174, -0.1723366430999955, 0.016858458282385105, 0.04213951346102748, -0.2200209199138018, 0.4556172925040396, 0.9847325399374394, 0.3486345501482719, 0.9407477147125772, -0.13776682864629283, 0.25163129965039865, 1.1259847998476251, -1.2270319722269811, -0.8076192569794358, -0.1342328858251307, 0.19426191413022975, -0.9440956952124823, -0.5819788729383728, -0.48095783847540297, -0.8869083142131824, -0.14477563692269194, 1.6866780586582282, 1.5258822957160807, -1.0275474178043047, -1.0323270449559678, 0.9102697897984027, -0.1566664582921049, 0.7704706110055723, -0.37923470972809126, 0.15897524427418847, -0.4839263654265887, -0.39319145215301765, 0.4437255355807462, -0.4350402940246013, 0.7316571164610378, -1.8887992487543999, 0.6035468169807476, 0.16115878831117503, 1.375156129392616, 0.5982663947397071], \"xaxis\": \"x2\", \"y\": [-0.020189904066568676, 0.1605430195388812, 0.2183093910227895, -2.4481729834834183, -1.3420320191794017, -0.11221568571796266, 0.5438037913168252, -0.6738957753062436, 1.2812552096620458, -1.9536234368933418, 0.6253512625110269, -0.367816742191912, -0.768336789815034, -0.4129987988772313, 0.19697310981348015, -0.27701278168076676, -2.1850709253021408, -0.5250012837190554, -0.2960852772923362, 2.1017025013406174, -1.0911147300173158, 0.03328166238849761, 0.8748423978764613, -0.7007281434378153, -0.7032378773912719, 0.8163765079870988, 0.6030432620160926, 0.9510948268094824, 0.27023316558141663, -0.7311343794012733, -0.8666389092607147, 1.6069767733420819, -0.48121297176306743, 0.8828189161472906, 1.032297574576932, -1.5001633282861504, 0.5649349776911442, -0.051387101531794106, -0.2781026509732436, -0.8923371781052455, 1.1915575077827307, -1.2536370325127713, -0.2805725925410075, 1.070862086463324, -0.5607966024437397, 0.44671495095770924, 0.9055046646215376, 0.9966668848767872, -0.6389673657208839, -0.19119612298566752, -1.867018118228768, 1.7299122438438277, -1.5392952098290518, 1.9085227576174537, -0.7365200192739271, 0.291020559910531, -0.6876208386672505, -0.4396880008989103, 0.8766948555928455, 0.48993246404209895, 0.04486282746655476, 0.3311347774803122, 1.3444595160554034, 1.2292855329948622, -0.37737713594871525, -0.20849767131121968, 0.8803939015253044, 0.6916060145498991, -0.6001880277835497, -1.0400549304427917, 0.003272206458725557, -1.3528129854600308, -0.3469507174506524, -0.9140855889241825, 0.9577028104654609, -0.20396839758209903, -0.5635726556127097, -0.6292571060303892, -1.4412942860438325, -0.023173287497486254, 0.2867170728131295, 1.4891400934905492, 1.683467368370149, 0.0032825188849990358, -1.724488989643146, 0.3619017524142584, -1.086482992483747, 1.3030784312470234, 2.086086574606949, -0.9148799666797345, -2.53659794781672, 0.14790147153220412, 1.5081605357439327, 0.03172942631163809, -1.3844203538077873, 2.7317365325469214, 1.8435597585089694, -0.9235347978823618, -2.2293208131348097, 0.8302728483937458], \"yaxis\": \"y2\"}, {\"line\": {\"color\": \"rgba(128, 128, 128, 1.0)\", \"dash\": \"solid\", \"shape\": \"linear\", \"width\": 1.3}, \"marker\": {\"size\": 2, \"symbol\": \"circle\"}, \"mode\": \"markers\", \"name\": \"A\", \"text\": \"\", \"type\": \"scatter\", \"x\": [-0.9331308355733341, 0.12539125190782266, -0.5826274882840796, 1.538666334357524, -1.7274960200280642, -0.6246340895816981, 0.8757756779822631, 1.1446178716120907, -1.8674807150864499, 0.4929854879925438, 1.6087237941600827, 0.00403581169119472, 0.3387429698083554, -1.091562519111494, 0.049621223832586596, 0.413631229048461, -0.906872396994403, -0.23988192131216016, -1.9614917247524626, 0.5823904755813313, -1.1193801692557945, 0.8318308552816366, -0.7558098068051601, 0.7099805947369157, 0.2622129159914279, 0.45234041521296053, -0.45333781624007824, -1.5591624560808224, 0.14955589754009757, 0.042532647130016386, -0.29515420408850174, 0.7468841380204412, -0.30075637307075787, 1.8468666456361396, 0.349329776303073, -1.3659029962894353, 0.24196349094017464, 0.7093642694862414, 0.42390013120014924, 0.16952567778832683, -0.48690258667357683, -0.8724138565251532, 1.0367451639380085, 1.0162731899375543, 1.2817227511333238, 1.0963533662760434, 0.37554547886557976, -0.14471360360842764, -1.2452445131401817, -1.1029478425649724, -1.157542051838458, -0.67239539908866, -1.326749037336286, 0.376759246361514, 0.6539699710346577, 0.8580451963648623, 0.6729653968696636, 2.6911551665544797, -0.671525051147614, -0.11673890146869877, -1.593489446902274, -1.3256767506688802, 0.173202476859852, -1.1389200757237263, -2.185007623439091, -3.139204515064847, 0.120464777745759, 1.1210250513099758, 0.01336528748146471, 1.355912962800932, 0.3593865499783559, -1.0609039600902184, -1.5404425382900173, -0.3850781813027051, 0.5007428784942515, 0.8786526898703361, 0.43269599626147, 0.2228666774544576, -0.6433973192029896, 1.1092657015373828, 1.0792382022513454, -0.9822820063408606, -0.44261469859124053, -0.17746979075039673, 0.7350095886868749, -0.10673807686590155, -1.1455465997132093, -1.04971699304803, -0.23660704909094354, 1.664825431283724, 0.52314519345455, -0.7713133338765619, 0.4020249405971316, 0.370730560452333, 0.39309217498023896, 0.8976125204425404, -0.022809273831166026, -0.44563449993903204, 1.4332355098767757, 0.33501316651965235], \"xaxis\": \"x3\", \"y\": [-0.020189904066568676, 0.1605430195388812, 0.2183093910227895, -2.4481729834834183, -1.3420320191794017, -0.11221568571796266, 0.5438037913168252, -0.6738957753062436, 1.2812552096620458, -1.9536234368933418, 0.6253512625110269, -0.367816742191912, -0.768336789815034, -0.4129987988772313, 0.19697310981348015, -0.27701278168076676, -2.1850709253021408, -0.5250012837190554, -0.2960852772923362, 2.1017025013406174, -1.0911147300173158, 0.03328166238849761, 0.8748423978764613, -0.7007281434378153, -0.7032378773912719, 0.8163765079870988, 0.6030432620160926, 0.9510948268094824, 0.27023316558141663, -0.7311343794012733, -0.8666389092607147, 1.6069767733420819, -0.48121297176306743, 0.8828189161472906, 1.032297574576932, -1.5001633282861504, 0.5649349776911442, -0.051387101531794106, -0.2781026509732436, -0.8923371781052455, 1.1915575077827307, -1.2536370325127713, -0.2805725925410075, 1.070862086463324, -0.5607966024437397, 0.44671495095770924, 0.9055046646215376, 0.9966668848767872, -0.6389673657208839, -0.19119612298566752, -1.867018118228768, 1.7299122438438277, -1.5392952098290518, 1.9085227576174537, -0.7365200192739271, 0.291020559910531, -0.6876208386672505, -0.4396880008989103, 0.8766948555928455, 0.48993246404209895, 0.04486282746655476, 0.3311347774803122, 1.3444595160554034, 1.2292855329948622, -0.37737713594871525, -0.20849767131121968, 0.8803939015253044, 0.6916060145498991, -0.6001880277835497, -1.0400549304427917, 0.003272206458725557, -1.3528129854600308, -0.3469507174506524, -0.9140855889241825, 0.9577028104654609, -0.20396839758209903, -0.5635726556127097, -0.6292571060303892, -1.4412942860438325, -0.023173287497486254, 0.2867170728131295, 1.4891400934905492, 1.683467368370149, 0.0032825188849990358, -1.724488989643146, 0.3619017524142584, -1.086482992483747, 1.3030784312470234, 2.086086574606949, -0.9148799666797345, -2.53659794781672, 0.14790147153220412, 1.5081605357439327, 0.03172942631163809, -1.3844203538077873, 2.7317365325469214, 1.8435597585089694, -0.9235347978823618, -2.2293208131348097, 0.8302728483937458], \"yaxis\": \"y3\"}, {\"line\": {\"color\": \"rgba(128, 128, 128, 1.0)\", \"dash\": \"solid\", \"shape\": \"linear\", \"width\": 1.3}, \"marker\": {\"size\": 2, \"symbol\": \"circle\"}, \"mode\": \"markers\", \"name\": \"A\", \"text\": \"\", \"type\": \"scatter\", \"x\": [-0.5972618598477876, 0.49913129985884647, 1.7730264589727827, 1.1032823872819204, -0.8151579178878929, 0.7544427114688668, 1.0774286321416484, -0.051946512921370425, 0.6166519502349622, 1.4118594304742158, 0.13717225426810745, 0.6050015374397305, -0.3856010246759087, -0.5891087047560496, -0.03820969691035504, -1.0139398407192033, -1.8002177795266743, 2.4331651321022374, 2.619589756643213, 0.1679663590479456, 1.021448468810051, 0.9512341173952743, 0.16222026213196905, 0.5354111619240958, 0.5181742993661161, -0.871494439001104, -0.09685894088541698, 1.0541791334435062, -0.1975401478765995, -0.7492561923357114, -1.069393525413521, 0.5047777483460927, 0.9137379834785593, 0.4186634324449865, -1.0287345824885585, 0.48790568201222684, -0.4050553157701971, 0.11141541052830012, -1.7255301254782913, -0.08350333594487494, 0.45249482106131833, -0.09343094523639385, -1.1097099840336093, 0.3572648089204684, 0.21617504521772882, -1.8432127866249164, -1.0017756232366533, -3.0394611961570424, -2.0765768625295604, -0.08793900930099857, -1.183950224972636, -0.5717968444413271, 0.4138392187337821, -0.054182122952612474, 0.010036201028902115, -0.11117296334648173, 0.03829259173105282, 0.5677693356912435, -0.09862976094514372, 0.8366927598732063, -1.1388446424392644, -1.726824651763009, -2.1408436066424428, -0.41730496546954354, 1.9682058113107093, 0.14770333504684413, 0.9518760707874068, 0.6640022570758064, 0.250994155569197, -0.6535481050924123, 0.2050650353763908, 1.1264110703819419, 0.8332230610418235, -0.6552689024075415, -0.10761767621075648, -1.1593078130627543, -2.560148376587137, -0.7501456943804221, -0.655428643820223, -0.8165852861077829, -0.12019692016527625, 0.5620944262447766, 0.8002584560979304, -0.7503343293526445, -0.022872732491072807, -0.8133206402807482, 0.5901216522003285, 0.17342835503505383, -1.220213981996596, -0.17031710380254936, 2.06408937773803, -0.48942538351366077, 0.8770885868617431, 1.8772108464491117, -0.1416863365318827, 1.1442123784007612, 0.6543647925446888, -0.31106413751265755, 0.14154219683602615, -0.8936821553152134], \"xaxis\": \"x4\", \"y\": [-0.020189904066568676, 0.1605430195388812, 0.2183093910227895, -2.4481729834834183, -1.3420320191794017, -0.11221568571796266, 0.5438037913168252, -0.6738957753062436, 1.2812552096620458, -1.9536234368933418, 0.6253512625110269, -0.367816742191912, -0.768336789815034, -0.4129987988772313, 0.19697310981348015, -0.27701278168076676, -2.1850709253021408, -0.5250012837190554, -0.2960852772923362, 2.1017025013406174, -1.0911147300173158, 0.03328166238849761, 0.8748423978764613, -0.7007281434378153, -0.7032378773912719, 0.8163765079870988, 0.6030432620160926, 0.9510948268094824, 0.27023316558141663, -0.7311343794012733, -0.8666389092607147, 1.6069767733420819, -0.48121297176306743, 0.8828189161472906, 1.032297574576932, -1.5001633282861504, 0.5649349776911442, -0.051387101531794106, -0.2781026509732436, -0.8923371781052455, 1.1915575077827307, -1.2536370325127713, -0.2805725925410075, 1.070862086463324, -0.5607966024437397, 0.44671495095770924, 0.9055046646215376, 0.9966668848767872, -0.6389673657208839, -0.19119612298566752, -1.867018118228768, 1.7299122438438277, -1.5392952098290518, 1.9085227576174537, -0.7365200192739271, 0.291020559910531, -0.6876208386672505, -0.4396880008989103, 0.8766948555928455, 0.48993246404209895, 0.04486282746655476, 0.3311347774803122, 1.3444595160554034, 1.2292855329948622, -0.37737713594871525, -0.20849767131121968, 0.8803939015253044, 0.6916060145498991, -0.6001880277835497, -1.0400549304427917, 0.003272206458725557, -1.3528129854600308, -0.3469507174506524, -0.9140855889241825, 0.9577028104654609, -0.20396839758209903, -0.5635726556127097, -0.6292571060303892, -1.4412942860438325, -0.023173287497486254, 0.2867170728131295, 1.4891400934905492, 1.683467368370149, 0.0032825188849990358, -1.724488989643146, 0.3619017524142584, -1.086482992483747, 1.3030784312470234, 2.086086574606949, -0.9148799666797345, -2.53659794781672, 0.14790147153220412, 1.5081605357439327, 0.03172942631163809, -1.3844203538077873, 2.7317365325469214, 1.8435597585089694, -0.9235347978823618, -2.2293208131348097, 0.8302728483937458], \"yaxis\": \"y4\"}, {\"line\": {\"color\": \"rgba(128, 128, 128, 1.0)\", \"dash\": \"solid\", \"shape\": \"linear\", \"width\": 1.3}, \"marker\": {\"size\": 2, \"symbol\": \"circle\"}, \"mode\": \"markers\", \"name\": \"B\", \"text\": \"\", \"type\": \"scatter\", \"x\": [-0.020189904066568676, 0.1605430195388812, 0.2183093910227895, -2.4481729834834183, -1.3420320191794017, -0.11221568571796266, 0.5438037913168252, -0.6738957753062436, 1.2812552096620458, -1.9536234368933418, 0.6253512625110269, -0.367816742191912, -0.768336789815034, -0.4129987988772313, 0.19697310981348015, -0.27701278168076676, -2.1850709253021408, -0.5250012837190554, -0.2960852772923362, 2.1017025013406174, -1.0911147300173158, 0.03328166238849761, 0.8748423978764613, -0.7007281434378153, -0.7032378773912719, 0.8163765079870988, 0.6030432620160926, 0.9510948268094824, 0.27023316558141663, -0.7311343794012733, -0.8666389092607147, 1.6069767733420819, -0.48121297176306743, 0.8828189161472906, 1.032297574576932, -1.5001633282861504, 0.5649349776911442, -0.051387101531794106, -0.2781026509732436, -0.8923371781052455, 1.1915575077827307, -1.2536370325127713, -0.2805725925410075, 1.070862086463324, -0.5607966024437397, 0.44671495095770924, 0.9055046646215376, 0.9966668848767872, -0.6389673657208839, -0.19119612298566752, -1.867018118228768, 1.7299122438438277, -1.5392952098290518, 1.9085227576174537, -0.7365200192739271, 0.291020559910531, -0.6876208386672505, -0.4396880008989103, 0.8766948555928455, 0.48993246404209895, 0.04486282746655476, 0.3311347774803122, 1.3444595160554034, 1.2292855329948622, -0.37737713594871525, -0.20849767131121968, 0.8803939015253044, 0.6916060145498991, -0.6001880277835497, -1.0400549304427917, 0.003272206458725557, -1.3528129854600308, -0.3469507174506524, -0.9140855889241825, 0.9577028104654609, -0.20396839758209903, -0.5635726556127097, -0.6292571060303892, -1.4412942860438325, -0.023173287497486254, 0.2867170728131295, 1.4891400934905492, 1.683467368370149, 0.0032825188849990358, -1.724488989643146, 0.3619017524142584, -1.086482992483747, 1.3030784312470234, 2.086086574606949, -0.9148799666797345, -2.53659794781672, 0.14790147153220412, 1.5081605357439327, 0.03172942631163809, -1.3844203538077873, 2.7317365325469214, 1.8435597585089694, -0.9235347978823618, -2.2293208131348097, 0.8302728483937458], \"xaxis\": \"x5\", \"y\": [-0.4380037600693329, 1.3856258480513495, -1.6439581318945904, 1.780163099731763, -0.06886238487724357, -0.3419320878039712, 1.7176474787692995, -3.0128342192986843, 1.268848134771191, 0.2448222463181939, 0.6832274431968387, 0.5900880475260439, -0.28351085192768744, 0.03951006673344334, 0.33378442318795754, 0.0036633902122219066, -1.0335621009028737, -1.4346287159598332, -0.7637090963596298, -0.49509070170442804, 0.7017553526944327, 1.0578719391875344, 0.7596212001824827, 0.8464267198538894, 0.5115456059271346, 1.4785023222198197, -2.1651187773032246, 1.0007144847757021, 0.7384916218488192, 0.26590612111690903, 1.956294281895234, -0.8617578488568759, 0.011053299902504497, 1.5429553670798497, 1.7290962461445358, -0.08249248371447555, -0.5315109256761953, -0.5644574743776344, 0.7402337629534262, -0.6086185725746197, 0.2187789432258602, -0.125717596041093, 0.20048527432005395, 2.731679171077915, -1.8603447004357492, 0.9554304810338209, -1.4103828466835837, 1.065950515655746, -1.236848826065617, -0.7318542012955099, 2.2934039074168857, -0.7557077880124786, 2.0115055050237043, 0.37154483900426716, -1.9242514925498644, 0.7925365130656604, -0.2819909724010163, -0.40942736078084324, -0.7623793634102329, 1.1645877433591125, -0.38777448037124174, -0.1723366430999955, 0.016858458282385105, 0.04213951346102748, -0.2200209199138018, 0.4556172925040396, 0.9847325399374394, 0.3486345501482719, 0.9407477147125772, -0.13776682864629283, 0.25163129965039865, 1.1259847998476251, -1.2270319722269811, -0.8076192569794358, -0.1342328858251307, 0.19426191413022975, -0.9440956952124823, -0.5819788729383728, -0.48095783847540297, -0.8869083142131824, -0.14477563692269194, 1.6866780586582282, 1.5258822957160807, -1.0275474178043047, -1.0323270449559678, 0.9102697897984027, -0.1566664582921049, 0.7704706110055723, -0.37923470972809126, 0.15897524427418847, -0.4839263654265887, -0.39319145215301765, 0.4437255355807462, -0.4350402940246013, 0.7316571164610378, -1.8887992487543999, 0.6035468169807476, 0.16115878831117503, 1.375156129392616, 0.5982663947397071], \"yaxis\": \"y5\"}, {\"histfunc\": \"count\", \"histnorm\": \"\", \"marker\": {\"color\": \"rgba(55, 128, 191, 1.0)\", \"line\": {\"color\": \"#4D5663\", \"width\": 1.3}}, \"name\": \"B\", \"nbinsx\": 10, \"opacity\": 0.8, \"orientation\": \"v\", \"type\": \"histogram\", \"x\": [-0.4380037600693329, 1.3856258480513495, -1.6439581318945904, 1.780163099731763, -0.06886238487724357, -0.3419320878039712, 1.7176474787692995, -3.0128342192986843, 1.268848134771191, 0.2448222463181939, 0.6832274431968387, 0.5900880475260439, -0.28351085192768744, 0.03951006673344334, 0.33378442318795754, 0.0036633902122219066, -1.0335621009028737, -1.4346287159598332, -0.7637090963596298, -0.49509070170442804, 0.7017553526944327, 1.0578719391875344, 0.7596212001824827, 0.8464267198538894, 0.5115456059271346, 1.4785023222198197, -2.1651187773032246, 1.0007144847757021, 0.7384916218488192, 0.26590612111690903, 1.956294281895234, -0.8617578488568759, 0.011053299902504497, 1.5429553670798497, 1.7290962461445358, -0.08249248371447555, -0.5315109256761953, -0.5644574743776344, 0.7402337629534262, -0.6086185725746197, 0.2187789432258602, -0.125717596041093, 0.20048527432005395, 2.731679171077915, -1.8603447004357492, 0.9554304810338209, -1.4103828466835837, 1.065950515655746, -1.236848826065617, -0.7318542012955099, 2.2934039074168857, -0.7557077880124786, 2.0115055050237043, 0.37154483900426716, -1.9242514925498644, 0.7925365130656604, -0.2819909724010163, -0.40942736078084324, -0.7623793634102329, 1.1645877433591125, -0.38777448037124174, -0.1723366430999955, 0.016858458282385105, 0.04213951346102748, -0.2200209199138018, 0.4556172925040396, 0.9847325399374394, 0.3486345501482719, 0.9407477147125772, -0.13776682864629283, 0.25163129965039865, 1.1259847998476251, -1.2270319722269811, -0.8076192569794358, -0.1342328858251307, 0.19426191413022975, -0.9440956952124823, -0.5819788729383728, -0.48095783847540297, -0.8869083142131824, -0.14477563692269194, 1.6866780586582282, 1.5258822957160807, -1.0275474178043047, -1.0323270449559678, 0.9102697897984027, -0.1566664582921049, 0.7704706110055723, -0.37923470972809126, 0.15897524427418847, -0.4839263654265887, -0.39319145215301765, 0.4437255355807462, -0.4350402940246013, 0.7316571164610378, -1.8887992487543999, 0.6035468169807476, 0.16115878831117503, 1.375156129392616, 0.5982663947397071], \"xaxis\": \"x6\", \"yaxis\": \"y6\"}, {\"line\": {\"color\": \"rgba(128, 128, 128, 1.0)\", \"dash\": \"solid\", \"shape\": \"linear\", \"width\": 1.3}, \"marker\": {\"size\": 2, \"symbol\": \"circle\"}, \"mode\": \"markers\", \"name\": \"B\", \"text\": \"\", \"type\": \"scatter\", \"x\": [-0.9331308355733341, 0.12539125190782266, -0.5826274882840796, 1.538666334357524, -1.7274960200280642, -0.6246340895816981, 0.8757756779822631, 1.1446178716120907, -1.8674807150864499, 0.4929854879925438, 1.6087237941600827, 0.00403581169119472, 0.3387429698083554, -1.091562519111494, 0.049621223832586596, 0.413631229048461, -0.906872396994403, -0.23988192131216016, -1.9614917247524626, 0.5823904755813313, -1.1193801692557945, 0.8318308552816366, -0.7558098068051601, 0.7099805947369157, 0.2622129159914279, 0.45234041521296053, -0.45333781624007824, -1.5591624560808224, 0.14955589754009757, 0.042532647130016386, -0.29515420408850174, 0.7468841380204412, -0.30075637307075787, 1.8468666456361396, 0.349329776303073, -1.3659029962894353, 0.24196349094017464, 0.7093642694862414, 0.42390013120014924, 0.16952567778832683, -0.48690258667357683, -0.8724138565251532, 1.0367451639380085, 1.0162731899375543, 1.2817227511333238, 1.0963533662760434, 0.37554547886557976, -0.14471360360842764, -1.2452445131401817, -1.1029478425649724, -1.157542051838458, -0.67239539908866, -1.326749037336286, 0.376759246361514, 0.6539699710346577, 0.8580451963648623, 0.6729653968696636, 2.6911551665544797, -0.671525051147614, -0.11673890146869877, -1.593489446902274, -1.3256767506688802, 0.173202476859852, -1.1389200757237263, -2.185007623439091, -3.139204515064847, 0.120464777745759, 1.1210250513099758, 0.01336528748146471, 1.355912962800932, 0.3593865499783559, -1.0609039600902184, -1.5404425382900173, -0.3850781813027051, 0.5007428784942515, 0.8786526898703361, 0.43269599626147, 0.2228666774544576, -0.6433973192029896, 1.1092657015373828, 1.0792382022513454, -0.9822820063408606, -0.44261469859124053, -0.17746979075039673, 0.7350095886868749, -0.10673807686590155, -1.1455465997132093, -1.04971699304803, -0.23660704909094354, 1.664825431283724, 0.52314519345455, -0.7713133338765619, 0.4020249405971316, 0.370730560452333, 0.39309217498023896, 0.8976125204425404, -0.022809273831166026, -0.44563449993903204, 1.4332355098767757, 0.33501316651965235], \"xaxis\": \"x7\", \"y\": [-0.4380037600693329, 1.3856258480513495, -1.6439581318945904, 1.780163099731763, -0.06886238487724357, -0.3419320878039712, 1.7176474787692995, -3.0128342192986843, 1.268848134771191, 0.2448222463181939, 0.6832274431968387, 0.5900880475260439, -0.28351085192768744, 0.03951006673344334, 0.33378442318795754, 0.0036633902122219066, -1.0335621009028737, -1.4346287159598332, -0.7637090963596298, -0.49509070170442804, 0.7017553526944327, 1.0578719391875344, 0.7596212001824827, 0.8464267198538894, 0.5115456059271346, 1.4785023222198197, -2.1651187773032246, 1.0007144847757021, 0.7384916218488192, 0.26590612111690903, 1.956294281895234, -0.8617578488568759, 0.011053299902504497, 1.5429553670798497, 1.7290962461445358, -0.08249248371447555, -0.5315109256761953, -0.5644574743776344, 0.7402337629534262, -0.6086185725746197, 0.2187789432258602, -0.125717596041093, 0.20048527432005395, 2.731679171077915, -1.8603447004357492, 0.9554304810338209, -1.4103828466835837, 1.065950515655746, -1.236848826065617, -0.7318542012955099, 2.2934039074168857, -0.7557077880124786, 2.0115055050237043, 0.37154483900426716, -1.9242514925498644, 0.7925365130656604, -0.2819909724010163, -0.40942736078084324, -0.7623793634102329, 1.1645877433591125, -0.38777448037124174, -0.1723366430999955, 0.016858458282385105, 0.04213951346102748, -0.2200209199138018, 0.4556172925040396, 0.9847325399374394, 0.3486345501482719, 0.9407477147125772, -0.13776682864629283, 0.25163129965039865, 1.1259847998476251, -1.2270319722269811, -0.8076192569794358, -0.1342328858251307, 0.19426191413022975, -0.9440956952124823, -0.5819788729383728, -0.48095783847540297, -0.8869083142131824, -0.14477563692269194, 1.6866780586582282, 1.5258822957160807, -1.0275474178043047, -1.0323270449559678, 0.9102697897984027, -0.1566664582921049, 0.7704706110055723, -0.37923470972809126, 0.15897524427418847, -0.4839263654265887, -0.39319145215301765, 0.4437255355807462, -0.4350402940246013, 0.7316571164610378, -1.8887992487543999, 0.6035468169807476, 0.16115878831117503, 1.375156129392616, 0.5982663947397071], \"yaxis\": \"y7\"}, {\"line\": {\"color\": \"rgba(128, 128, 128, 1.0)\", \"dash\": \"solid\", \"shape\": \"linear\", \"width\": 1.3}, \"marker\": {\"size\": 2, \"symbol\": \"circle\"}, \"mode\": \"markers\", \"name\": \"B\", \"text\": \"\", \"type\": \"scatter\", \"x\": [-0.5972618598477876, 0.49913129985884647, 1.7730264589727827, 1.1032823872819204, -0.8151579178878929, 0.7544427114688668, 1.0774286321416484, -0.051946512921370425, 0.6166519502349622, 1.4118594304742158, 0.13717225426810745, 0.6050015374397305, -0.3856010246759087, -0.5891087047560496, -0.03820969691035504, -1.0139398407192033, -1.8002177795266743, 2.4331651321022374, 2.619589756643213, 0.1679663590479456, 1.021448468810051, 0.9512341173952743, 0.16222026213196905, 0.5354111619240958, 0.5181742993661161, -0.871494439001104, -0.09685894088541698, 1.0541791334435062, -0.1975401478765995, -0.7492561923357114, -1.069393525413521, 0.5047777483460927, 0.9137379834785593, 0.4186634324449865, -1.0287345824885585, 0.48790568201222684, -0.4050553157701971, 0.11141541052830012, -1.7255301254782913, -0.08350333594487494, 0.45249482106131833, -0.09343094523639385, -1.1097099840336093, 0.3572648089204684, 0.21617504521772882, -1.8432127866249164, -1.0017756232366533, -3.0394611961570424, -2.0765768625295604, -0.08793900930099857, -1.183950224972636, -0.5717968444413271, 0.4138392187337821, -0.054182122952612474, 0.010036201028902115, -0.11117296334648173, 0.03829259173105282, 0.5677693356912435, -0.09862976094514372, 0.8366927598732063, -1.1388446424392644, -1.726824651763009, -2.1408436066424428, -0.41730496546954354, 1.9682058113107093, 0.14770333504684413, 0.9518760707874068, 0.6640022570758064, 0.250994155569197, -0.6535481050924123, 0.2050650353763908, 1.1264110703819419, 0.8332230610418235, -0.6552689024075415, -0.10761767621075648, -1.1593078130627543, -2.560148376587137, -0.7501456943804221, -0.655428643820223, -0.8165852861077829, -0.12019692016527625, 0.5620944262447766, 0.8002584560979304, -0.7503343293526445, -0.022872732491072807, -0.8133206402807482, 0.5901216522003285, 0.17342835503505383, -1.220213981996596, -0.17031710380254936, 2.06408937773803, -0.48942538351366077, 0.8770885868617431, 1.8772108464491117, -0.1416863365318827, 1.1442123784007612, 0.6543647925446888, -0.31106413751265755, 0.14154219683602615, -0.8936821553152134], \"xaxis\": \"x8\", \"y\": [-0.4380037600693329, 1.3856258480513495, -1.6439581318945904, 1.780163099731763, -0.06886238487724357, -0.3419320878039712, 1.7176474787692995, -3.0128342192986843, 1.268848134771191, 0.2448222463181939, 0.6832274431968387, 0.5900880475260439, -0.28351085192768744, 0.03951006673344334, 0.33378442318795754, 0.0036633902122219066, -1.0335621009028737, -1.4346287159598332, -0.7637090963596298, -0.49509070170442804, 0.7017553526944327, 1.0578719391875344, 0.7596212001824827, 0.8464267198538894, 0.5115456059271346, 1.4785023222198197, -2.1651187773032246, 1.0007144847757021, 0.7384916218488192, 0.26590612111690903, 1.956294281895234, -0.8617578488568759, 0.011053299902504497, 1.5429553670798497, 1.7290962461445358, -0.08249248371447555, -0.5315109256761953, -0.5644574743776344, 0.7402337629534262, -0.6086185725746197, 0.2187789432258602, -0.125717596041093, 0.20048527432005395, 2.731679171077915, -1.8603447004357492, 0.9554304810338209, -1.4103828466835837, 1.065950515655746, -1.236848826065617, -0.7318542012955099, 2.2934039074168857, -0.7557077880124786, 2.0115055050237043, 0.37154483900426716, -1.9242514925498644, 0.7925365130656604, -0.2819909724010163, -0.40942736078084324, -0.7623793634102329, 1.1645877433591125, -0.38777448037124174, -0.1723366430999955, 0.016858458282385105, 0.04213951346102748, -0.2200209199138018, 0.4556172925040396, 0.9847325399374394, 0.3486345501482719, 0.9407477147125772, -0.13776682864629283, 0.25163129965039865, 1.1259847998476251, -1.2270319722269811, -0.8076192569794358, -0.1342328858251307, 0.19426191413022975, -0.9440956952124823, -0.5819788729383728, -0.48095783847540297, -0.8869083142131824, -0.14477563692269194, 1.6866780586582282, 1.5258822957160807, -1.0275474178043047, -1.0323270449559678, 0.9102697897984027, -0.1566664582921049, 0.7704706110055723, -0.37923470972809126, 0.15897524427418847, -0.4839263654265887, -0.39319145215301765, 0.4437255355807462, -0.4350402940246013, 0.7316571164610378, -1.8887992487543999, 0.6035468169807476, 0.16115878831117503, 1.375156129392616, 0.5982663947397071], \"yaxis\": \"y8\"}, {\"line\": {\"color\": \"rgba(128, 128, 128, 1.0)\", \"dash\": \"solid\", \"shape\": \"linear\", \"width\": 1.3}, \"marker\": {\"size\": 2, \"symbol\": \"circle\"}, \"mode\": \"markers\", \"name\": \"C\", \"text\": \"\", \"type\": \"scatter\", \"x\": [-0.020189904066568676, 0.1605430195388812, 0.2183093910227895, -2.4481729834834183, -1.3420320191794017, -0.11221568571796266, 0.5438037913168252, -0.6738957753062436, 1.2812552096620458, -1.9536234368933418, 0.6253512625110269, -0.367816742191912, -0.768336789815034, -0.4129987988772313, 0.19697310981348015, -0.27701278168076676, -2.1850709253021408, -0.5250012837190554, -0.2960852772923362, 2.1017025013406174, -1.0911147300173158, 0.03328166238849761, 0.8748423978764613, -0.7007281434378153, -0.7032378773912719, 0.8163765079870988, 0.6030432620160926, 0.9510948268094824, 0.27023316558141663, -0.7311343794012733, -0.8666389092607147, 1.6069767733420819, -0.48121297176306743, 0.8828189161472906, 1.032297574576932, -1.5001633282861504, 0.5649349776911442, -0.051387101531794106, -0.2781026509732436, -0.8923371781052455, 1.1915575077827307, -1.2536370325127713, -0.2805725925410075, 1.070862086463324, -0.5607966024437397, 0.44671495095770924, 0.9055046646215376, 0.9966668848767872, -0.6389673657208839, -0.19119612298566752, -1.867018118228768, 1.7299122438438277, -1.5392952098290518, 1.9085227576174537, -0.7365200192739271, 0.291020559910531, -0.6876208386672505, -0.4396880008989103, 0.8766948555928455, 0.48993246404209895, 0.04486282746655476, 0.3311347774803122, 1.3444595160554034, 1.2292855329948622, -0.37737713594871525, -0.20849767131121968, 0.8803939015253044, 0.6916060145498991, -0.6001880277835497, -1.0400549304427917, 0.003272206458725557, -1.3528129854600308, -0.3469507174506524, -0.9140855889241825, 0.9577028104654609, -0.20396839758209903, -0.5635726556127097, -0.6292571060303892, -1.4412942860438325, -0.023173287497486254, 0.2867170728131295, 1.4891400934905492, 1.683467368370149, 0.0032825188849990358, -1.724488989643146, 0.3619017524142584, -1.086482992483747, 1.3030784312470234, 2.086086574606949, -0.9148799666797345, -2.53659794781672, 0.14790147153220412, 1.5081605357439327, 0.03172942631163809, -1.3844203538077873, 2.7317365325469214, 1.8435597585089694, -0.9235347978823618, -2.2293208131348097, 0.8302728483937458], \"xaxis\": \"x9\", \"y\": [-0.9331308355733341, 0.12539125190782266, -0.5826274882840796, 1.538666334357524, -1.7274960200280642, -0.6246340895816981, 0.8757756779822631, 1.1446178716120907, -1.8674807150864499, 0.4929854879925438, 1.6087237941600827, 0.00403581169119472, 0.3387429698083554, -1.091562519111494, 0.049621223832586596, 0.413631229048461, -0.906872396994403, -0.23988192131216016, -1.9614917247524626, 0.5823904755813313, -1.1193801692557945, 0.8318308552816366, -0.7558098068051601, 0.7099805947369157, 0.2622129159914279, 0.45234041521296053, -0.45333781624007824, -1.5591624560808224, 0.14955589754009757, 0.042532647130016386, -0.29515420408850174, 0.7468841380204412, -0.30075637307075787, 1.8468666456361396, 0.349329776303073, -1.3659029962894353, 0.24196349094017464, 0.7093642694862414, 0.42390013120014924, 0.16952567778832683, -0.48690258667357683, -0.8724138565251532, 1.0367451639380085, 1.0162731899375543, 1.2817227511333238, 1.0963533662760434, 0.37554547886557976, -0.14471360360842764, -1.2452445131401817, -1.1029478425649724, -1.157542051838458, -0.67239539908866, -1.326749037336286, 0.376759246361514, 0.6539699710346577, 0.8580451963648623, 0.6729653968696636, 2.6911551665544797, -0.671525051147614, -0.11673890146869877, -1.593489446902274, -1.3256767506688802, 0.173202476859852, -1.1389200757237263, -2.185007623439091, -3.139204515064847, 0.120464777745759, 1.1210250513099758, 0.01336528748146471, 1.355912962800932, 0.3593865499783559, -1.0609039600902184, -1.5404425382900173, -0.3850781813027051, 0.5007428784942515, 0.8786526898703361, 0.43269599626147, 0.2228666774544576, -0.6433973192029896, 1.1092657015373828, 1.0792382022513454, -0.9822820063408606, -0.44261469859124053, -0.17746979075039673, 0.7350095886868749, -0.10673807686590155, -1.1455465997132093, -1.04971699304803, -0.23660704909094354, 1.664825431283724, 0.52314519345455, -0.7713133338765619, 0.4020249405971316, 0.370730560452333, 0.39309217498023896, 0.8976125204425404, -0.022809273831166026, -0.44563449993903204, 1.4332355098767757, 0.33501316651965235], \"yaxis\": \"y9\"}, {\"line\": {\"color\": \"rgba(128, 128, 128, 1.0)\", \"dash\": \"solid\", \"shape\": \"linear\", \"width\": 1.3}, \"marker\": {\"size\": 2, \"symbol\": \"circle\"}, \"mode\": \"markers\", \"name\": \"C\", \"text\": \"\", \"type\": \"scatter\", \"x\": [-0.4380037600693329, 1.3856258480513495, -1.6439581318945904, 1.780163099731763, -0.06886238487724357, -0.3419320878039712, 1.7176474787692995, -3.0128342192986843, 1.268848134771191, 0.2448222463181939, 0.6832274431968387, 0.5900880475260439, -0.28351085192768744, 0.03951006673344334, 0.33378442318795754, 0.0036633902122219066, -1.0335621009028737, -1.4346287159598332, -0.7637090963596298, -0.49509070170442804, 0.7017553526944327, 1.0578719391875344, 0.7596212001824827, 0.8464267198538894, 0.5115456059271346, 1.4785023222198197, -2.1651187773032246, 1.0007144847757021, 0.7384916218488192, 0.26590612111690903, 1.956294281895234, -0.8617578488568759, 0.011053299902504497, 1.5429553670798497, 1.7290962461445358, -0.08249248371447555, -0.5315109256761953, -0.5644574743776344, 0.7402337629534262, -0.6086185725746197, 0.2187789432258602, -0.125717596041093, 0.20048527432005395, 2.731679171077915, -1.8603447004357492, 0.9554304810338209, -1.4103828466835837, 1.065950515655746, -1.236848826065617, -0.7318542012955099, 2.2934039074168857, -0.7557077880124786, 2.0115055050237043, 0.37154483900426716, -1.9242514925498644, 0.7925365130656604, -0.2819909724010163, -0.40942736078084324, -0.7623793634102329, 1.1645877433591125, -0.38777448037124174, -0.1723366430999955, 0.016858458282385105, 0.04213951346102748, -0.2200209199138018, 0.4556172925040396, 0.9847325399374394, 0.3486345501482719, 0.9407477147125772, -0.13776682864629283, 0.25163129965039865, 1.1259847998476251, -1.2270319722269811, -0.8076192569794358, -0.1342328858251307, 0.19426191413022975, -0.9440956952124823, -0.5819788729383728, -0.48095783847540297, -0.8869083142131824, -0.14477563692269194, 1.6866780586582282, 1.5258822957160807, -1.0275474178043047, -1.0323270449559678, 0.9102697897984027, -0.1566664582921049, 0.7704706110055723, -0.37923470972809126, 0.15897524427418847, -0.4839263654265887, -0.39319145215301765, 0.4437255355807462, -0.4350402940246013, 0.7316571164610378, -1.8887992487543999, 0.6035468169807476, 0.16115878831117503, 1.375156129392616, 0.5982663947397071], \"xaxis\": \"x10\", \"y\": [-0.9331308355733341, 0.12539125190782266, -0.5826274882840796, 1.538666334357524, -1.7274960200280642, -0.6246340895816981, 0.8757756779822631, 1.1446178716120907, -1.8674807150864499, 0.4929854879925438, 1.6087237941600827, 0.00403581169119472, 0.3387429698083554, -1.091562519111494, 0.049621223832586596, 0.413631229048461, -0.906872396994403, -0.23988192131216016, -1.9614917247524626, 0.5823904755813313, -1.1193801692557945, 0.8318308552816366, -0.7558098068051601, 0.7099805947369157, 0.2622129159914279, 0.45234041521296053, -0.45333781624007824, -1.5591624560808224, 0.14955589754009757, 0.042532647130016386, -0.29515420408850174, 0.7468841380204412, -0.30075637307075787, 1.8468666456361396, 0.349329776303073, -1.3659029962894353, 0.24196349094017464, 0.7093642694862414, 0.42390013120014924, 0.16952567778832683, -0.48690258667357683, -0.8724138565251532, 1.0367451639380085, 1.0162731899375543, 1.2817227511333238, 1.0963533662760434, 0.37554547886557976, -0.14471360360842764, -1.2452445131401817, -1.1029478425649724, -1.157542051838458, -0.67239539908866, -1.326749037336286, 0.376759246361514, 0.6539699710346577, 0.8580451963648623, 0.6729653968696636, 2.6911551665544797, -0.671525051147614, -0.11673890146869877, -1.593489446902274, -1.3256767506688802, 0.173202476859852, -1.1389200757237263, -2.185007623439091, -3.139204515064847, 0.120464777745759, 1.1210250513099758, 0.01336528748146471, 1.355912962800932, 0.3593865499783559, -1.0609039600902184, -1.5404425382900173, -0.3850781813027051, 0.5007428784942515, 0.8786526898703361, 0.43269599626147, 0.2228666774544576, -0.6433973192029896, 1.1092657015373828, 1.0792382022513454, -0.9822820063408606, -0.44261469859124053, -0.17746979075039673, 0.7350095886868749, -0.10673807686590155, -1.1455465997132093, -1.04971699304803, -0.23660704909094354, 1.664825431283724, 0.52314519345455, -0.7713133338765619, 0.4020249405971316, 0.370730560452333, 0.39309217498023896, 0.8976125204425404, -0.022809273831166026, -0.44563449993903204, 1.4332355098767757, 0.33501316651965235], \"yaxis\": \"y10\"}, {\"histfunc\": \"count\", \"histnorm\": \"\", \"marker\": {\"color\": \"rgba(50, 171, 96, 1.0)\", \"line\": {\"color\": \"#4D5663\", \"width\": 1.3}}, \"name\": \"C\", \"nbinsx\": 10, \"opacity\": 0.8, \"orientation\": \"v\", \"type\": \"histogram\", \"x\": [-0.9331308355733341, 0.12539125190782266, -0.5826274882840796, 1.538666334357524, -1.7274960200280642, -0.6246340895816981, 0.8757756779822631, 1.1446178716120907, -1.8674807150864499, 0.4929854879925438, 1.6087237941600827, 0.00403581169119472, 0.3387429698083554, -1.091562519111494, 0.049621223832586596, 0.413631229048461, -0.906872396994403, -0.23988192131216016, -1.9614917247524626, 0.5823904755813313, -1.1193801692557945, 0.8318308552816366, -0.7558098068051601, 0.7099805947369157, 0.2622129159914279, 0.45234041521296053, -0.45333781624007824, -1.5591624560808224, 0.14955589754009757, 0.042532647130016386, -0.29515420408850174, 0.7468841380204412, -0.30075637307075787, 1.8468666456361396, 0.349329776303073, -1.3659029962894353, 0.24196349094017464, 0.7093642694862414, 0.42390013120014924, 0.16952567778832683, -0.48690258667357683, -0.8724138565251532, 1.0367451639380085, 1.0162731899375543, 1.2817227511333238, 1.0963533662760434, 0.37554547886557976, -0.14471360360842764, -1.2452445131401817, -1.1029478425649724, -1.157542051838458, -0.67239539908866, -1.326749037336286, 0.376759246361514, 0.6539699710346577, 0.8580451963648623, 0.6729653968696636, 2.6911551665544797, -0.671525051147614, -0.11673890146869877, -1.593489446902274, -1.3256767506688802, 0.173202476859852, -1.1389200757237263, -2.185007623439091, -3.139204515064847, 0.120464777745759, 1.1210250513099758, 0.01336528748146471, 1.355912962800932, 0.3593865499783559, -1.0609039600902184, -1.5404425382900173, -0.3850781813027051, 0.5007428784942515, 0.8786526898703361, 0.43269599626147, 0.2228666774544576, -0.6433973192029896, 1.1092657015373828, 1.0792382022513454, -0.9822820063408606, -0.44261469859124053, -0.17746979075039673, 0.7350095886868749, -0.10673807686590155, -1.1455465997132093, -1.04971699304803, -0.23660704909094354, 1.664825431283724, 0.52314519345455, -0.7713133338765619, 0.4020249405971316, 0.370730560452333, 0.39309217498023896, 0.8976125204425404, -0.022809273831166026, -0.44563449993903204, 1.4332355098767757, 0.33501316651965235], \"xaxis\": \"x11\", \"yaxis\": \"y11\"}, {\"line\": {\"color\": \"rgba(128, 128, 128, 1.0)\", \"dash\": \"solid\", \"shape\": \"linear\", \"width\": 1.3}, \"marker\": {\"size\": 2, \"symbol\": \"circle\"}, \"mode\": \"markers\", \"name\": \"C\", \"text\": \"\", \"type\": \"scatter\", \"x\": [-0.5972618598477876, 0.49913129985884647, 1.7730264589727827, 1.1032823872819204, -0.8151579178878929, 0.7544427114688668, 1.0774286321416484, -0.051946512921370425, 0.6166519502349622, 1.4118594304742158, 0.13717225426810745, 0.6050015374397305, -0.3856010246759087, -0.5891087047560496, -0.03820969691035504, -1.0139398407192033, -1.8002177795266743, 2.4331651321022374, 2.619589756643213, 0.1679663590479456, 1.021448468810051, 0.9512341173952743, 0.16222026213196905, 0.5354111619240958, 0.5181742993661161, -0.871494439001104, -0.09685894088541698, 1.0541791334435062, -0.1975401478765995, -0.7492561923357114, -1.069393525413521, 0.5047777483460927, 0.9137379834785593, 0.4186634324449865, -1.0287345824885585, 0.48790568201222684, -0.4050553157701971, 0.11141541052830012, -1.7255301254782913, -0.08350333594487494, 0.45249482106131833, -0.09343094523639385, -1.1097099840336093, 0.3572648089204684, 0.21617504521772882, -1.8432127866249164, -1.0017756232366533, -3.0394611961570424, -2.0765768625295604, -0.08793900930099857, -1.183950224972636, -0.5717968444413271, 0.4138392187337821, -0.054182122952612474, 0.010036201028902115, -0.11117296334648173, 0.03829259173105282, 0.5677693356912435, -0.09862976094514372, 0.8366927598732063, -1.1388446424392644, -1.726824651763009, -2.1408436066424428, -0.41730496546954354, 1.9682058113107093, 0.14770333504684413, 0.9518760707874068, 0.6640022570758064, 0.250994155569197, -0.6535481050924123, 0.2050650353763908, 1.1264110703819419, 0.8332230610418235, -0.6552689024075415, -0.10761767621075648, -1.1593078130627543, -2.560148376587137, -0.7501456943804221, -0.655428643820223, -0.8165852861077829, -0.12019692016527625, 0.5620944262447766, 0.8002584560979304, -0.7503343293526445, -0.022872732491072807, -0.8133206402807482, 0.5901216522003285, 0.17342835503505383, -1.220213981996596, -0.17031710380254936, 2.06408937773803, -0.48942538351366077, 0.8770885868617431, 1.8772108464491117, -0.1416863365318827, 1.1442123784007612, 0.6543647925446888, -0.31106413751265755, 0.14154219683602615, -0.8936821553152134], \"xaxis\": \"x12\", \"y\": [-0.9331308355733341, 0.12539125190782266, -0.5826274882840796, 1.538666334357524, -1.7274960200280642, -0.6246340895816981, 0.8757756779822631, 1.1446178716120907, -1.8674807150864499, 0.4929854879925438, 1.6087237941600827, 0.00403581169119472, 0.3387429698083554, -1.091562519111494, 0.049621223832586596, 0.413631229048461, -0.906872396994403, -0.23988192131216016, -1.9614917247524626, 0.5823904755813313, -1.1193801692557945, 0.8318308552816366, -0.7558098068051601, 0.7099805947369157, 0.2622129159914279, 0.45234041521296053, -0.45333781624007824, -1.5591624560808224, 0.14955589754009757, 0.042532647130016386, -0.29515420408850174, 0.7468841380204412, -0.30075637307075787, 1.8468666456361396, 0.349329776303073, -1.3659029962894353, 0.24196349094017464, 0.7093642694862414, 0.42390013120014924, 0.16952567778832683, -0.48690258667357683, -0.8724138565251532, 1.0367451639380085, 1.0162731899375543, 1.2817227511333238, 1.0963533662760434, 0.37554547886557976, -0.14471360360842764, -1.2452445131401817, -1.1029478425649724, -1.157542051838458, -0.67239539908866, -1.326749037336286, 0.376759246361514, 0.6539699710346577, 0.8580451963648623, 0.6729653968696636, 2.6911551665544797, -0.671525051147614, -0.11673890146869877, -1.593489446902274, -1.3256767506688802, 0.173202476859852, -1.1389200757237263, -2.185007623439091, -3.139204515064847, 0.120464777745759, 1.1210250513099758, 0.01336528748146471, 1.355912962800932, 0.3593865499783559, -1.0609039600902184, -1.5404425382900173, -0.3850781813027051, 0.5007428784942515, 0.8786526898703361, 0.43269599626147, 0.2228666774544576, -0.6433973192029896, 1.1092657015373828, 1.0792382022513454, -0.9822820063408606, -0.44261469859124053, -0.17746979075039673, 0.7350095886868749, -0.10673807686590155, -1.1455465997132093, -1.04971699304803, -0.23660704909094354, 1.664825431283724, 0.52314519345455, -0.7713133338765619, 0.4020249405971316, 0.370730560452333, 0.39309217498023896, 0.8976125204425404, -0.022809273831166026, -0.44563449993903204, 1.4332355098767757, 0.33501316651965235], \"yaxis\": \"y12\"}, {\"line\": {\"color\": \"rgba(128, 128, 128, 1.0)\", \"dash\": \"solid\", \"shape\": \"linear\", \"width\": 1.3}, \"marker\": {\"size\": 2, \"symbol\": \"circle\"}, \"mode\": \"markers\", \"name\": \"D\", \"text\": \"\", \"type\": \"scatter\", \"x\": [-0.020189904066568676, 0.1605430195388812, 0.2183093910227895, -2.4481729834834183, -1.3420320191794017, -0.11221568571796266, 0.5438037913168252, -0.6738957753062436, 1.2812552096620458, -1.9536234368933418, 0.6253512625110269, -0.367816742191912, -0.768336789815034, -0.4129987988772313, 0.19697310981348015, -0.27701278168076676, -2.1850709253021408, -0.5250012837190554, -0.2960852772923362, 2.1017025013406174, -1.0911147300173158, 0.03328166238849761, 0.8748423978764613, -0.7007281434378153, -0.7032378773912719, 0.8163765079870988, 0.6030432620160926, 0.9510948268094824, 0.27023316558141663, -0.7311343794012733, -0.8666389092607147, 1.6069767733420819, -0.48121297176306743, 0.8828189161472906, 1.032297574576932, -1.5001633282861504, 0.5649349776911442, -0.051387101531794106, -0.2781026509732436, -0.8923371781052455, 1.1915575077827307, -1.2536370325127713, -0.2805725925410075, 1.070862086463324, -0.5607966024437397, 0.44671495095770924, 0.9055046646215376, 0.9966668848767872, -0.6389673657208839, -0.19119612298566752, -1.867018118228768, 1.7299122438438277, -1.5392952098290518, 1.9085227576174537, -0.7365200192739271, 0.291020559910531, -0.6876208386672505, -0.4396880008989103, 0.8766948555928455, 0.48993246404209895, 0.04486282746655476, 0.3311347774803122, 1.3444595160554034, 1.2292855329948622, -0.37737713594871525, -0.20849767131121968, 0.8803939015253044, 0.6916060145498991, -0.6001880277835497, -1.0400549304427917, 0.003272206458725557, -1.3528129854600308, -0.3469507174506524, -0.9140855889241825, 0.9577028104654609, -0.20396839758209903, -0.5635726556127097, -0.6292571060303892, -1.4412942860438325, -0.023173287497486254, 0.2867170728131295, 1.4891400934905492, 1.683467368370149, 0.0032825188849990358, -1.724488989643146, 0.3619017524142584, -1.086482992483747, 1.3030784312470234, 2.086086574606949, -0.9148799666797345, -2.53659794781672, 0.14790147153220412, 1.5081605357439327, 0.03172942631163809, -1.3844203538077873, 2.7317365325469214, 1.8435597585089694, -0.9235347978823618, -2.2293208131348097, 0.8302728483937458], \"xaxis\": \"x13\", \"y\": [-0.5972618598477876, 0.49913129985884647, 1.7730264589727827, 1.1032823872819204, -0.8151579178878929, 0.7544427114688668, 1.0774286321416484, -0.051946512921370425, 0.6166519502349622, 1.4118594304742158, 0.13717225426810745, 0.6050015374397305, -0.3856010246759087, -0.5891087047560496, -0.03820969691035504, -1.0139398407192033, -1.8002177795266743, 2.4331651321022374, 2.619589756643213, 0.1679663590479456, 1.021448468810051, 0.9512341173952743, 0.16222026213196905, 0.5354111619240958, 0.5181742993661161, -0.871494439001104, -0.09685894088541698, 1.0541791334435062, -0.1975401478765995, -0.7492561923357114, -1.069393525413521, 0.5047777483460927, 0.9137379834785593, 0.4186634324449865, -1.0287345824885585, 0.48790568201222684, -0.4050553157701971, 0.11141541052830012, -1.7255301254782913, -0.08350333594487494, 0.45249482106131833, -0.09343094523639385, -1.1097099840336093, 0.3572648089204684, 0.21617504521772882, -1.8432127866249164, -1.0017756232366533, -3.0394611961570424, -2.0765768625295604, -0.08793900930099857, -1.183950224972636, -0.5717968444413271, 0.4138392187337821, -0.054182122952612474, 0.010036201028902115, -0.11117296334648173, 0.03829259173105282, 0.5677693356912435, -0.09862976094514372, 0.8366927598732063, -1.1388446424392644, -1.726824651763009, -2.1408436066424428, -0.41730496546954354, 1.9682058113107093, 0.14770333504684413, 0.9518760707874068, 0.6640022570758064, 0.250994155569197, -0.6535481050924123, 0.2050650353763908, 1.1264110703819419, 0.8332230610418235, -0.6552689024075415, -0.10761767621075648, -1.1593078130627543, -2.560148376587137, -0.7501456943804221, -0.655428643820223, -0.8165852861077829, -0.12019692016527625, 0.5620944262447766, 0.8002584560979304, -0.7503343293526445, -0.022872732491072807, -0.8133206402807482, 0.5901216522003285, 0.17342835503505383, -1.220213981996596, -0.17031710380254936, 2.06408937773803, -0.48942538351366077, 0.8770885868617431, 1.8772108464491117, -0.1416863365318827, 1.1442123784007612, 0.6543647925446888, -0.31106413751265755, 0.14154219683602615, -0.8936821553152134], \"yaxis\": \"y13\"}, {\"line\": {\"color\": \"rgba(128, 128, 128, 1.0)\", \"dash\": \"solid\", \"shape\": \"linear\", \"width\": 1.3}, \"marker\": {\"size\": 2, \"symbol\": \"circle\"}, \"mode\": \"markers\", \"name\": \"D\", \"text\": \"\", \"type\": \"scatter\", \"x\": [-0.4380037600693329, 1.3856258480513495, -1.6439581318945904, 1.780163099731763, -0.06886238487724357, -0.3419320878039712, 1.7176474787692995, -3.0128342192986843, 1.268848134771191, 0.2448222463181939, 0.6832274431968387, 0.5900880475260439, -0.28351085192768744, 0.03951006673344334, 0.33378442318795754, 0.0036633902122219066, -1.0335621009028737, -1.4346287159598332, -0.7637090963596298, -0.49509070170442804, 0.7017553526944327, 1.0578719391875344, 0.7596212001824827, 0.8464267198538894, 0.5115456059271346, 1.4785023222198197, -2.1651187773032246, 1.0007144847757021, 0.7384916218488192, 0.26590612111690903, 1.956294281895234, -0.8617578488568759, 0.011053299902504497, 1.5429553670798497, 1.7290962461445358, -0.08249248371447555, -0.5315109256761953, -0.5644574743776344, 0.7402337629534262, -0.6086185725746197, 0.2187789432258602, -0.125717596041093, 0.20048527432005395, 2.731679171077915, -1.8603447004357492, 0.9554304810338209, -1.4103828466835837, 1.065950515655746, -1.236848826065617, -0.7318542012955099, 2.2934039074168857, -0.7557077880124786, 2.0115055050237043, 0.37154483900426716, -1.9242514925498644, 0.7925365130656604, -0.2819909724010163, -0.40942736078084324, -0.7623793634102329, 1.1645877433591125, -0.38777448037124174, -0.1723366430999955, 0.016858458282385105, 0.04213951346102748, -0.2200209199138018, 0.4556172925040396, 0.9847325399374394, 0.3486345501482719, 0.9407477147125772, -0.13776682864629283, 0.25163129965039865, 1.1259847998476251, -1.2270319722269811, -0.8076192569794358, -0.1342328858251307, 0.19426191413022975, -0.9440956952124823, -0.5819788729383728, -0.48095783847540297, -0.8869083142131824, -0.14477563692269194, 1.6866780586582282, 1.5258822957160807, -1.0275474178043047, -1.0323270449559678, 0.9102697897984027, -0.1566664582921049, 0.7704706110055723, -0.37923470972809126, 0.15897524427418847, -0.4839263654265887, -0.39319145215301765, 0.4437255355807462, -0.4350402940246013, 0.7316571164610378, -1.8887992487543999, 0.6035468169807476, 0.16115878831117503, 1.375156129392616, 0.5982663947397071], \"xaxis\": \"x14\", \"y\": [-0.5972618598477876, 0.49913129985884647, 1.7730264589727827, 1.1032823872819204, -0.8151579178878929, 0.7544427114688668, 1.0774286321416484, -0.051946512921370425, 0.6166519502349622, 1.4118594304742158, 0.13717225426810745, 0.6050015374397305, -0.3856010246759087, -0.5891087047560496, -0.03820969691035504, -1.0139398407192033, -1.8002177795266743, 2.4331651321022374, 2.619589756643213, 0.1679663590479456, 1.021448468810051, 0.9512341173952743, 0.16222026213196905, 0.5354111619240958, 0.5181742993661161, -0.871494439001104, -0.09685894088541698, 1.0541791334435062, -0.1975401478765995, -0.7492561923357114, -1.069393525413521, 0.5047777483460927, 0.9137379834785593, 0.4186634324449865, -1.0287345824885585, 0.48790568201222684, -0.4050553157701971, 0.11141541052830012, -1.7255301254782913, -0.08350333594487494, 0.45249482106131833, -0.09343094523639385, -1.1097099840336093, 0.3572648089204684, 0.21617504521772882, -1.8432127866249164, -1.0017756232366533, -3.0394611961570424, -2.0765768625295604, -0.08793900930099857, -1.183950224972636, -0.5717968444413271, 0.4138392187337821, -0.054182122952612474, 0.010036201028902115, -0.11117296334648173, 0.03829259173105282, 0.5677693356912435, -0.09862976094514372, 0.8366927598732063, -1.1388446424392644, -1.726824651763009, -2.1408436066424428, -0.41730496546954354, 1.9682058113107093, 0.14770333504684413, 0.9518760707874068, 0.6640022570758064, 0.250994155569197, -0.6535481050924123, 0.2050650353763908, 1.1264110703819419, 0.8332230610418235, -0.6552689024075415, -0.10761767621075648, -1.1593078130627543, -2.560148376587137, -0.7501456943804221, -0.655428643820223, -0.8165852861077829, -0.12019692016527625, 0.5620944262447766, 0.8002584560979304, -0.7503343293526445, -0.022872732491072807, -0.8133206402807482, 0.5901216522003285, 0.17342835503505383, -1.220213981996596, -0.17031710380254936, 2.06408937773803, -0.48942538351366077, 0.8770885868617431, 1.8772108464491117, -0.1416863365318827, 1.1442123784007612, 0.6543647925446888, -0.31106413751265755, 0.14154219683602615, -0.8936821553152134], \"yaxis\": \"y14\"}, {\"line\": {\"color\": \"rgba(128, 128, 128, 1.0)\", \"dash\": \"solid\", \"shape\": \"linear\", \"width\": 1.3}, \"marker\": {\"size\": 2, \"symbol\": \"circle\"}, \"mode\": \"markers\", \"name\": \"D\", \"text\": \"\", \"type\": \"scatter\", \"x\": [-0.9331308355733341, 0.12539125190782266, -0.5826274882840796, 1.538666334357524, -1.7274960200280642, -0.6246340895816981, 0.8757756779822631, 1.1446178716120907, -1.8674807150864499, 0.4929854879925438, 1.6087237941600827, 0.00403581169119472, 0.3387429698083554, -1.091562519111494, 0.049621223832586596, 0.413631229048461, -0.906872396994403, -0.23988192131216016, -1.9614917247524626, 0.5823904755813313, -1.1193801692557945, 0.8318308552816366, -0.7558098068051601, 0.7099805947369157, 0.2622129159914279, 0.45234041521296053, -0.45333781624007824, -1.5591624560808224, 0.14955589754009757, 0.042532647130016386, -0.29515420408850174, 0.7468841380204412, -0.30075637307075787, 1.8468666456361396, 0.349329776303073, -1.3659029962894353, 0.24196349094017464, 0.7093642694862414, 0.42390013120014924, 0.16952567778832683, -0.48690258667357683, -0.8724138565251532, 1.0367451639380085, 1.0162731899375543, 1.2817227511333238, 1.0963533662760434, 0.37554547886557976, -0.14471360360842764, -1.2452445131401817, -1.1029478425649724, -1.157542051838458, -0.67239539908866, -1.326749037336286, 0.376759246361514, 0.6539699710346577, 0.8580451963648623, 0.6729653968696636, 2.6911551665544797, -0.671525051147614, -0.11673890146869877, -1.593489446902274, -1.3256767506688802, 0.173202476859852, -1.1389200757237263, -2.185007623439091, -3.139204515064847, 0.120464777745759, 1.1210250513099758, 0.01336528748146471, 1.355912962800932, 0.3593865499783559, -1.0609039600902184, -1.5404425382900173, -0.3850781813027051, 0.5007428784942515, 0.8786526898703361, 0.43269599626147, 0.2228666774544576, -0.6433973192029896, 1.1092657015373828, 1.0792382022513454, -0.9822820063408606, -0.44261469859124053, -0.17746979075039673, 0.7350095886868749, -0.10673807686590155, -1.1455465997132093, -1.04971699304803, -0.23660704909094354, 1.664825431283724, 0.52314519345455, -0.7713133338765619, 0.4020249405971316, 0.370730560452333, 0.39309217498023896, 0.8976125204425404, -0.022809273831166026, -0.44563449993903204, 1.4332355098767757, 0.33501316651965235], \"xaxis\": \"x15\", \"y\": [-0.5972618598477876, 0.49913129985884647, 1.7730264589727827, 1.1032823872819204, -0.8151579178878929, 0.7544427114688668, 1.0774286321416484, -0.051946512921370425, 0.6166519502349622, 1.4118594304742158, 0.13717225426810745, 0.6050015374397305, -0.3856010246759087, -0.5891087047560496, -0.03820969691035504, -1.0139398407192033, -1.8002177795266743, 2.4331651321022374, 2.619589756643213, 0.1679663590479456, 1.021448468810051, 0.9512341173952743, 0.16222026213196905, 0.5354111619240958, 0.5181742993661161, -0.871494439001104, -0.09685894088541698, 1.0541791334435062, -0.1975401478765995, -0.7492561923357114, -1.069393525413521, 0.5047777483460927, 0.9137379834785593, 0.4186634324449865, -1.0287345824885585, 0.48790568201222684, -0.4050553157701971, 0.11141541052830012, -1.7255301254782913, -0.08350333594487494, 0.45249482106131833, -0.09343094523639385, -1.1097099840336093, 0.3572648089204684, 0.21617504521772882, -1.8432127866249164, -1.0017756232366533, -3.0394611961570424, -2.0765768625295604, -0.08793900930099857, -1.183950224972636, -0.5717968444413271, 0.4138392187337821, -0.054182122952612474, 0.010036201028902115, -0.11117296334648173, 0.03829259173105282, 0.5677693356912435, -0.09862976094514372, 0.8366927598732063, -1.1388446424392644, -1.726824651763009, -2.1408436066424428, -0.41730496546954354, 1.9682058113107093, 0.14770333504684413, 0.9518760707874068, 0.6640022570758064, 0.250994155569197, -0.6535481050924123, 0.2050650353763908, 1.1264110703819419, 0.8332230610418235, -0.6552689024075415, -0.10761767621075648, -1.1593078130627543, -2.560148376587137, -0.7501456943804221, -0.655428643820223, -0.8165852861077829, -0.12019692016527625, 0.5620944262447766, 0.8002584560979304, -0.7503343293526445, -0.022872732491072807, -0.8133206402807482, 0.5901216522003285, 0.17342835503505383, -1.220213981996596, -0.17031710380254936, 2.06408937773803, -0.48942538351366077, 0.8770885868617431, 1.8772108464491117, -0.1416863365318827, 1.1442123784007612, 0.6543647925446888, -0.31106413751265755, 0.14154219683602615, -0.8936821553152134], \"yaxis\": \"y15\"}, {\"histfunc\": \"count\", \"histnorm\": \"\", \"marker\": {\"color\": \"rgba(128, 0, 128, 1.0)\", \"line\": {\"color\": \"#4D5663\", \"width\": 1.3}}, \"name\": \"D\", \"nbinsx\": 10, \"opacity\": 0.8, \"orientation\": \"v\", \"type\": \"histogram\", \"x\": [-0.5972618598477876, 0.49913129985884647, 1.7730264589727827, 1.1032823872819204, -0.8151579178878929, 0.7544427114688668, 1.0774286321416484, -0.051946512921370425, 0.6166519502349622, 1.4118594304742158, 0.13717225426810745, 0.6050015374397305, -0.3856010246759087, -0.5891087047560496, -0.03820969691035504, -1.0139398407192033, -1.8002177795266743, 2.4331651321022374, 2.619589756643213, 0.1679663590479456, 1.021448468810051, 0.9512341173952743, 0.16222026213196905, 0.5354111619240958, 0.5181742993661161, -0.871494439001104, -0.09685894088541698, 1.0541791334435062, -0.1975401478765995, -0.7492561923357114, -1.069393525413521, 0.5047777483460927, 0.9137379834785593, 0.4186634324449865, -1.0287345824885585, 0.48790568201222684, -0.4050553157701971, 0.11141541052830012, -1.7255301254782913, -0.08350333594487494, 0.45249482106131833, -0.09343094523639385, -1.1097099840336093, 0.3572648089204684, 0.21617504521772882, -1.8432127866249164, -1.0017756232366533, -3.0394611961570424, -2.0765768625295604, -0.08793900930099857, -1.183950224972636, -0.5717968444413271, 0.4138392187337821, -0.054182122952612474, 0.010036201028902115, -0.11117296334648173, 0.03829259173105282, 0.5677693356912435, -0.09862976094514372, 0.8366927598732063, -1.1388446424392644, -1.726824651763009, -2.1408436066424428, -0.41730496546954354, 1.9682058113107093, 0.14770333504684413, 0.9518760707874068, 0.6640022570758064, 0.250994155569197, -0.6535481050924123, 0.2050650353763908, 1.1264110703819419, 0.8332230610418235, -0.6552689024075415, -0.10761767621075648, -1.1593078130627543, -2.560148376587137, -0.7501456943804221, -0.655428643820223, -0.8165852861077829, -0.12019692016527625, 0.5620944262447766, 0.8002584560979304, -0.7503343293526445, -0.022872732491072807, -0.8133206402807482, 0.5901216522003285, 0.17342835503505383, -1.220213981996596, -0.17031710380254936, 2.06408937773803, -0.48942538351366077, 0.8770885868617431, 1.8772108464491117, -0.1416863365318827, 1.1442123784007612, 0.6543647925446888, -0.31106413751265755, 0.14154219683602615, -0.8936821553152134], \"xaxis\": \"x16\", \"yaxis\": \"y16\"}],                        {\"bargap\": 0.02, \"legend\": {\"bgcolor\": \"#F5F6F9\", \"font\": {\"color\": \"#4D5663\"}}, \"paper_bgcolor\": \"#F5F6F9\", \"plot_bgcolor\": \"#F5F6F9\", \"showlegend\": false, \"template\": {\"data\": {\"bar\": [{\"error_x\": {\"color\": \"#2a3f5f\"}, \"error_y\": {\"color\": \"#2a3f5f\"}, \"marker\": {\"line\": {\"color\": \"#E5ECF6\", \"width\": 0.5}}, \"type\": \"bar\"}], \"barpolar\": [{\"marker\": {\"line\": {\"color\": \"#E5ECF6\", \"width\": 0.5}}, \"type\": \"barpolar\"}], \"carpet\": [{\"aaxis\": {\"endlinecolor\": \"#2a3f5f\", \"gridcolor\": \"white\", \"linecolor\": \"white\", \"minorgridcolor\": \"white\", \"startlinecolor\": \"#2a3f5f\"}, \"baxis\": {\"endlinecolor\": \"#2a3f5f\", \"gridcolor\": \"white\", \"linecolor\": \"white\", \"minorgridcolor\": \"white\", \"startlinecolor\": \"#2a3f5f\"}, \"type\": \"carpet\"}], \"choropleth\": [{\"colorbar\": {\"outlinewidth\": 0, \"ticks\": \"\"}, \"type\": \"choropleth\"}], \"contour\": [{\"colorbar\": {\"outlinewidth\": 0, \"ticks\": \"\"}, \"colorscale\": [[0.0, \"#0d0887\"], [0.1111111111111111, \"#46039f\"], [0.2222222222222222, \"#7201a8\"], [0.3333333333333333, \"#9c179e\"], [0.4444444444444444, \"#bd3786\"], [0.5555555555555556, \"#d8576b\"], [0.6666666666666666, \"#ed7953\"], [0.7777777777777778, \"#fb9f3a\"], [0.8888888888888888, \"#fdca26\"], [1.0, \"#f0f921\"]], \"type\": \"contour\"}], \"contourcarpet\": [{\"colorbar\": {\"outlinewidth\": 0, \"ticks\": \"\"}, \"type\": \"contourcarpet\"}], \"heatmap\": [{\"colorbar\": {\"outlinewidth\": 0, \"ticks\": \"\"}, \"colorscale\": [[0.0, \"#0d0887\"], [0.1111111111111111, \"#46039f\"], [0.2222222222222222, \"#7201a8\"], [0.3333333333333333, \"#9c179e\"], [0.4444444444444444, \"#bd3786\"], [0.5555555555555556, \"#d8576b\"], [0.6666666666666666, \"#ed7953\"], [0.7777777777777778, \"#fb9f3a\"], [0.8888888888888888, \"#fdca26\"], [1.0, \"#f0f921\"]], \"type\": \"heatmap\"}], \"heatmapgl\": [{\"colorbar\": {\"outlinewidth\": 0, \"ticks\": \"\"}, \"colorscale\": [[0.0, \"#0d0887\"], [0.1111111111111111, \"#46039f\"], [0.2222222222222222, \"#7201a8\"], [0.3333333333333333, \"#9c179e\"], [0.4444444444444444, \"#bd3786\"], [0.5555555555555556, \"#d8576b\"], [0.6666666666666666, \"#ed7953\"], [0.7777777777777778, \"#fb9f3a\"], [0.8888888888888888, \"#fdca26\"], [1.0, \"#f0f921\"]], \"type\": \"heatmapgl\"}], \"histogram\": [{\"marker\": {\"colorbar\": {\"outlinewidth\": 0, \"ticks\": \"\"}}, \"type\": \"histogram\"}], \"histogram2d\": [{\"colorbar\": {\"outlinewidth\": 0, \"ticks\": \"\"}, \"colorscale\": [[0.0, \"#0d0887\"], [0.1111111111111111, \"#46039f\"], [0.2222222222222222, \"#7201a8\"], [0.3333333333333333, \"#9c179e\"], [0.4444444444444444, \"#bd3786\"], [0.5555555555555556, \"#d8576b\"], [0.6666666666666666, \"#ed7953\"], [0.7777777777777778, \"#fb9f3a\"], [0.8888888888888888, \"#fdca26\"], [1.0, \"#f0f921\"]], \"type\": \"histogram2d\"}], \"histogram2dcontour\": [{\"colorbar\": {\"outlinewidth\": 0, \"ticks\": \"\"}, \"colorscale\": [[0.0, \"#0d0887\"], [0.1111111111111111, \"#46039f\"], [0.2222222222222222, \"#7201a8\"], [0.3333333333333333, \"#9c179e\"], [0.4444444444444444, \"#bd3786\"], [0.5555555555555556, \"#d8576b\"], [0.6666666666666666, \"#ed7953\"], [0.7777777777777778, \"#fb9f3a\"], [0.8888888888888888, \"#fdca26\"], [1.0, \"#f0f921\"]], \"type\": \"histogram2dcontour\"}], \"mesh3d\": [{\"colorbar\": {\"outlinewidth\": 0, \"ticks\": \"\"}, \"type\": \"mesh3d\"}], \"parcoords\": [{\"line\": {\"colorbar\": {\"outlinewidth\": 0, \"ticks\": \"\"}}, \"type\": \"parcoords\"}], \"pie\": [{\"automargin\": true, \"type\": \"pie\"}], \"scatter\": [{\"marker\": {\"colorbar\": {\"outlinewidth\": 0, \"ticks\": \"\"}}, \"type\": \"scatter\"}], \"scatter3d\": [{\"line\": {\"colorbar\": {\"outlinewidth\": 0, \"ticks\": \"\"}}, \"marker\": {\"colorbar\": {\"outlinewidth\": 0, \"ticks\": \"\"}}, \"type\": \"scatter3d\"}], \"scattercarpet\": [{\"marker\": {\"colorbar\": {\"outlinewidth\": 0, \"ticks\": \"\"}}, \"type\": \"scattercarpet\"}], \"scattergeo\": [{\"marker\": {\"colorbar\": {\"outlinewidth\": 0, \"ticks\": \"\"}}, \"type\": \"scattergeo\"}], \"scattergl\": [{\"marker\": {\"colorbar\": {\"outlinewidth\": 0, \"ticks\": \"\"}}, \"type\": \"scattergl\"}], \"scattermapbox\": [{\"marker\": {\"colorbar\": {\"outlinewidth\": 0, \"ticks\": \"\"}}, \"type\": \"scattermapbox\"}], \"scatterpolar\": [{\"marker\": {\"colorbar\": {\"outlinewidth\": 0, \"ticks\": \"\"}}, \"type\": \"scatterpolar\"}], \"scatterpolargl\": [{\"marker\": {\"colorbar\": {\"outlinewidth\": 0, \"ticks\": \"\"}}, \"type\": \"scatterpolargl\"}], \"scatterternary\": [{\"marker\": {\"colorbar\": {\"outlinewidth\": 0, \"ticks\": \"\"}}, \"type\": \"scatterternary\"}], \"surface\": [{\"colorbar\": {\"outlinewidth\": 0, \"ticks\": \"\"}, \"colorscale\": [[0.0, \"#0d0887\"], [0.1111111111111111, \"#46039f\"], [0.2222222222222222, \"#7201a8\"], [0.3333333333333333, \"#9c179e\"], [0.4444444444444444, \"#bd3786\"], [0.5555555555555556, \"#d8576b\"], [0.6666666666666666, \"#ed7953\"], [0.7777777777777778, \"#fb9f3a\"], [0.8888888888888888, \"#fdca26\"], [1.0, \"#f0f921\"]], \"type\": \"surface\"}], \"table\": [{\"cells\": {\"fill\": {\"color\": \"#EBF0F8\"}, \"line\": {\"color\": \"white\"}}, \"header\": {\"fill\": {\"color\": \"#C8D4E3\"}, \"line\": {\"color\": \"white\"}}, \"type\": \"table\"}]}, \"layout\": {\"annotationdefaults\": {\"arrowcolor\": \"#2a3f5f\", \"arrowhead\": 0, \"arrowwidth\": 1}, \"autotypenumbers\": \"strict\", \"coloraxis\": {\"colorbar\": {\"outlinewidth\": 0, \"ticks\": \"\"}}, \"colorscale\": {\"diverging\": [[0, \"#8e0152\"], [0.1, \"#c51b7d\"], [0.2, \"#de77ae\"], [0.3, \"#f1b6da\"], [0.4, \"#fde0ef\"], [0.5, \"#f7f7f7\"], [0.6, \"#e6f5d0\"], [0.7, \"#b8e186\"], [0.8, \"#7fbc41\"], [0.9, \"#4d9221\"], [1, \"#276419\"]], \"sequential\": [[0.0, \"#0d0887\"], [0.1111111111111111, \"#46039f\"], [0.2222222222222222, \"#7201a8\"], [0.3333333333333333, \"#9c179e\"], [0.4444444444444444, \"#bd3786\"], [0.5555555555555556, \"#d8576b\"], [0.6666666666666666, \"#ed7953\"], [0.7777777777777778, \"#fb9f3a\"], [0.8888888888888888, \"#fdca26\"], [1.0, \"#f0f921\"]], \"sequentialminus\": [[0.0, \"#0d0887\"], [0.1111111111111111, \"#46039f\"], [0.2222222222222222, \"#7201a8\"], [0.3333333333333333, \"#9c179e\"], [0.4444444444444444, \"#bd3786\"], [0.5555555555555556, \"#d8576b\"], [0.6666666666666666, \"#ed7953\"], [0.7777777777777778, \"#fb9f3a\"], [0.8888888888888888, \"#fdca26\"], [1.0, \"#f0f921\"]]}, \"colorway\": [\"#636efa\", \"#EF553B\", \"#00cc96\", \"#ab63fa\", \"#FFA15A\", \"#19d3f3\", \"#FF6692\", \"#B6E880\", \"#FF97FF\", \"#FECB52\"], \"font\": {\"color\": \"#2a3f5f\"}, \"geo\": {\"bgcolor\": \"white\", \"lakecolor\": \"white\", \"landcolor\": \"#E5ECF6\", \"showlakes\": true, \"showland\": true, \"subunitcolor\": \"white\"}, \"hoverlabel\": {\"align\": \"left\"}, \"hovermode\": \"closest\", \"mapbox\": {\"style\": \"light\"}, \"paper_bgcolor\": \"white\", \"plot_bgcolor\": \"#E5ECF6\", \"polar\": {\"angularaxis\": {\"gridcolor\": \"white\", \"linecolor\": \"white\", \"ticks\": \"\"}, \"bgcolor\": \"#E5ECF6\", \"radialaxis\": {\"gridcolor\": \"white\", \"linecolor\": \"white\", \"ticks\": \"\"}}, \"scene\": {\"xaxis\": {\"backgroundcolor\": \"#E5ECF6\", \"gridcolor\": \"white\", \"gridwidth\": 2, \"linecolor\": \"white\", \"showbackground\": true, \"ticks\": \"\", \"zerolinecolor\": \"white\"}, \"yaxis\": {\"backgroundcolor\": \"#E5ECF6\", \"gridcolor\": \"white\", \"gridwidth\": 2, \"linecolor\": \"white\", \"showbackground\": true, \"ticks\": \"\", \"zerolinecolor\": \"white\"}, \"zaxis\": {\"backgroundcolor\": \"#E5ECF6\", \"gridcolor\": \"white\", \"gridwidth\": 2, \"linecolor\": \"white\", \"showbackground\": true, \"ticks\": \"\", \"zerolinecolor\": \"white\"}}, \"shapedefaults\": {\"line\": {\"color\": \"#2a3f5f\"}}, \"ternary\": {\"aaxis\": {\"gridcolor\": \"white\", \"linecolor\": \"white\", \"ticks\": \"\"}, \"baxis\": {\"gridcolor\": \"white\", \"linecolor\": \"white\", \"ticks\": \"\"}, \"bgcolor\": \"#E5ECF6\", \"caxis\": {\"gridcolor\": \"white\", \"linecolor\": \"white\", \"ticks\": \"\"}}, \"title\": {\"x\": 0.05}, \"xaxis\": {\"automargin\": true, \"gridcolor\": \"white\", \"linecolor\": \"white\", \"ticks\": \"\", \"title\": {\"standoff\": 15}, \"zerolinecolor\": \"white\", \"zerolinewidth\": 2}, \"yaxis\": {\"automargin\": true, \"gridcolor\": \"white\", \"linecolor\": \"white\", \"ticks\": \"\", \"title\": {\"standoff\": 15}, \"zerolinecolor\": \"white\", \"zerolinewidth\": 2}}}, \"title\": {\"font\": {\"color\": \"#4D5663\"}}, \"xaxis\": {\"anchor\": \"y\", \"domain\": [0.0, 0.2125], \"gridcolor\": \"#E1E5ED\", \"showgrid\": false, \"tickfont\": {\"color\": \"#4D5663\"}, \"title\": {\"font\": {\"color\": \"#4D5663\"}, \"text\": \"\"}, \"zerolinecolor\": \"#E1E5ED\"}, \"xaxis10\": {\"anchor\": \"y10\", \"domain\": [0.2625, 0.475], \"gridcolor\": \"#E1E5ED\", \"showgrid\": false, \"tickfont\": {\"color\": \"#4D5663\"}, \"title\": {\"font\": {\"color\": \"#4D5663\"}, \"text\": \"\"}, \"zerolinecolor\": \"#E1E5ED\"}, \"xaxis11\": {\"anchor\": \"y11\", \"domain\": [0.525, 0.7375], \"gridcolor\": \"#E1E5ED\", \"showgrid\": false, \"tickfont\": {\"color\": \"#4D5663\"}, \"title\": {\"font\": {\"color\": \"#4D5663\"}, \"text\": \"\"}, \"zerolinecolor\": \"#E1E5ED\"}, \"xaxis12\": {\"anchor\": \"y12\", \"domain\": [0.7875, 1.0], \"gridcolor\": \"#E1E5ED\", \"showgrid\": false, \"tickfont\": {\"color\": \"#4D5663\"}, \"title\": {\"font\": {\"color\": \"#4D5663\"}, \"text\": \"\"}, \"zerolinecolor\": \"#E1E5ED\"}, \"xaxis13\": {\"anchor\": \"y13\", \"domain\": [0.0, 0.2125], \"gridcolor\": \"#E1E5ED\", \"showgrid\": false, \"tickfont\": {\"color\": \"#4D5663\"}, \"title\": {\"font\": {\"color\": \"#4D5663\"}, \"text\": \"\"}, \"zerolinecolor\": \"#E1E5ED\"}, \"xaxis14\": {\"anchor\": \"y14\", \"domain\": [0.2625, 0.475], \"gridcolor\": \"#E1E5ED\", \"showgrid\": false, \"tickfont\": {\"color\": \"#4D5663\"}, \"title\": {\"font\": {\"color\": \"#4D5663\"}, \"text\": \"\"}, \"zerolinecolor\": \"#E1E5ED\"}, \"xaxis15\": {\"anchor\": \"y15\", \"domain\": [0.525, 0.7375], \"gridcolor\": \"#E1E5ED\", \"showgrid\": false, \"tickfont\": {\"color\": \"#4D5663\"}, \"title\": {\"font\": {\"color\": \"#4D5663\"}, \"text\": \"\"}, \"zerolinecolor\": \"#E1E5ED\"}, \"xaxis16\": {\"anchor\": \"y16\", \"domain\": [0.7875, 1.0], \"gridcolor\": \"#E1E5ED\", \"showgrid\": false, \"tickfont\": {\"color\": \"#4D5663\"}, \"title\": {\"font\": {\"color\": \"#4D5663\"}, \"text\": \"\"}, \"zerolinecolor\": \"#E1E5ED\"}, \"xaxis2\": {\"anchor\": \"y2\", \"domain\": [0.2625, 0.475], \"gridcolor\": \"#E1E5ED\", \"showgrid\": false, \"tickfont\": {\"color\": \"#4D5663\"}, \"title\": {\"font\": {\"color\": \"#4D5663\"}, \"text\": \"\"}, \"zerolinecolor\": \"#E1E5ED\"}, \"xaxis3\": {\"anchor\": \"y3\", \"domain\": [0.525, 0.7375], \"gridcolor\": \"#E1E5ED\", \"showgrid\": false, \"tickfont\": {\"color\": \"#4D5663\"}, \"title\": {\"font\": {\"color\": \"#4D5663\"}, \"text\": \"\"}, \"zerolinecolor\": \"#E1E5ED\"}, \"xaxis4\": {\"anchor\": \"y4\", \"domain\": [0.7875, 1.0], \"gridcolor\": \"#E1E5ED\", \"showgrid\": false, \"tickfont\": {\"color\": \"#4D5663\"}, \"title\": {\"font\": {\"color\": \"#4D5663\"}, \"text\": \"\"}, \"zerolinecolor\": \"#E1E5ED\"}, \"xaxis5\": {\"anchor\": \"y5\", \"domain\": [0.0, 0.2125], \"gridcolor\": \"#E1E5ED\", \"showgrid\": false, \"tickfont\": {\"color\": \"#4D5663\"}, \"title\": {\"font\": {\"color\": \"#4D5663\"}, \"text\": \"\"}, \"zerolinecolor\": \"#E1E5ED\"}, \"xaxis6\": {\"anchor\": \"y6\", \"domain\": [0.2625, 0.475], \"gridcolor\": \"#E1E5ED\", \"showgrid\": false, \"tickfont\": {\"color\": \"#4D5663\"}, \"title\": {\"font\": {\"color\": \"#4D5663\"}, \"text\": \"\"}, \"zerolinecolor\": \"#E1E5ED\"}, \"xaxis7\": {\"anchor\": \"y7\", \"domain\": [0.525, 0.7375], \"gridcolor\": \"#E1E5ED\", \"showgrid\": false, \"tickfont\": {\"color\": \"#4D5663\"}, \"title\": {\"font\": {\"color\": \"#4D5663\"}, \"text\": \"\"}, \"zerolinecolor\": \"#E1E5ED\"}, \"xaxis8\": {\"anchor\": \"y8\", \"domain\": [0.7875, 1.0], \"gridcolor\": \"#E1E5ED\", \"showgrid\": false, \"tickfont\": {\"color\": \"#4D5663\"}, \"title\": {\"font\": {\"color\": \"#4D5663\"}, \"text\": \"\"}, \"zerolinecolor\": \"#E1E5ED\"}, \"xaxis9\": {\"anchor\": \"y9\", \"domain\": [0.0, 0.2125], \"gridcolor\": \"#E1E5ED\", \"showgrid\": false, \"tickfont\": {\"color\": \"#4D5663\"}, \"title\": {\"font\": {\"color\": \"#4D5663\"}, \"text\": \"\"}, \"zerolinecolor\": \"#E1E5ED\"}, \"yaxis\": {\"anchor\": \"x\", \"domain\": [0.8025, 1.0], \"gridcolor\": \"#E1E5ED\", \"showgrid\": false, \"tickfont\": {\"color\": \"#4D5663\"}, \"title\": {\"font\": {\"color\": \"#4D5663\"}, \"text\": \"\"}, \"zerolinecolor\": \"#E1E5ED\"}, \"yaxis10\": {\"anchor\": \"x10\", \"domain\": [0.2675, 0.465], \"gridcolor\": \"#E1E5ED\", \"showgrid\": false, \"tickfont\": {\"color\": \"#4D5663\"}, \"title\": {\"font\": {\"color\": \"#4D5663\"}, \"text\": \"\"}, \"zerolinecolor\": \"#E1E5ED\"}, \"yaxis11\": {\"anchor\": \"x11\", \"domain\": [0.2675, 0.465], \"gridcolor\": \"#E1E5ED\", \"showgrid\": false, \"tickfont\": {\"color\": \"#4D5663\"}, \"title\": {\"font\": {\"color\": \"#4D5663\"}, \"text\": \"\"}, \"zerolinecolor\": \"#E1E5ED\"}, \"yaxis12\": {\"anchor\": \"x12\", \"domain\": [0.2675, 0.465], \"gridcolor\": \"#E1E5ED\", \"showgrid\": false, \"tickfont\": {\"color\": \"#4D5663\"}, \"title\": {\"font\": {\"color\": \"#4D5663\"}, \"text\": \"\"}, \"zerolinecolor\": \"#E1E5ED\"}, \"yaxis13\": {\"anchor\": \"x13\", \"domain\": [0.0, 0.1975], \"gridcolor\": \"#E1E5ED\", \"showgrid\": false, \"tickfont\": {\"color\": \"#4D5663\"}, \"title\": {\"font\": {\"color\": \"#4D5663\"}, \"text\": \"\"}, \"zerolinecolor\": \"#E1E5ED\"}, \"yaxis14\": {\"anchor\": \"x14\", \"domain\": [0.0, 0.1975], \"gridcolor\": \"#E1E5ED\", \"showgrid\": false, \"tickfont\": {\"color\": \"#4D5663\"}, \"title\": {\"font\": {\"color\": \"#4D5663\"}, \"text\": \"\"}, \"zerolinecolor\": \"#E1E5ED\"}, \"yaxis15\": {\"anchor\": \"x15\", \"domain\": [0.0, 0.1975], \"gridcolor\": \"#E1E5ED\", \"showgrid\": false, \"tickfont\": {\"color\": \"#4D5663\"}, \"title\": {\"font\": {\"color\": \"#4D5663\"}, \"text\": \"\"}, \"zerolinecolor\": \"#E1E5ED\"}, \"yaxis16\": {\"anchor\": \"x16\", \"domain\": [0.0, 0.1975], \"gridcolor\": \"#E1E5ED\", \"showgrid\": false, \"tickfont\": {\"color\": \"#4D5663\"}, \"title\": {\"font\": {\"color\": \"#4D5663\"}, \"text\": \"\"}, \"zerolinecolor\": \"#E1E5ED\"}, \"yaxis2\": {\"anchor\": \"x2\", \"domain\": [0.8025, 1.0], \"gridcolor\": \"#E1E5ED\", \"showgrid\": false, \"tickfont\": {\"color\": \"#4D5663\"}, \"title\": {\"font\": {\"color\": \"#4D5663\"}, \"text\": \"\"}, \"zerolinecolor\": \"#E1E5ED\"}, \"yaxis3\": {\"anchor\": \"x3\", \"domain\": [0.8025, 1.0], \"gridcolor\": \"#E1E5ED\", \"showgrid\": false, \"tickfont\": {\"color\": \"#4D5663\"}, \"title\": {\"font\": {\"color\": \"#4D5663\"}, \"text\": \"\"}, \"zerolinecolor\": \"#E1E5ED\"}, \"yaxis4\": {\"anchor\": \"x4\", \"domain\": [0.8025, 1.0], \"gridcolor\": \"#E1E5ED\", \"showgrid\": false, \"tickfont\": {\"color\": \"#4D5663\"}, \"title\": {\"font\": {\"color\": \"#4D5663\"}, \"text\": \"\"}, \"zerolinecolor\": \"#E1E5ED\"}, \"yaxis5\": {\"anchor\": \"x5\", \"domain\": [0.535, 0.7325], \"gridcolor\": \"#E1E5ED\", \"showgrid\": false, \"tickfont\": {\"color\": \"#4D5663\"}, \"title\": {\"font\": {\"color\": \"#4D5663\"}, \"text\": \"\"}, \"zerolinecolor\": \"#E1E5ED\"}, \"yaxis6\": {\"anchor\": \"x6\", \"domain\": [0.535, 0.7325], \"gridcolor\": \"#E1E5ED\", \"showgrid\": false, \"tickfont\": {\"color\": \"#4D5663\"}, \"title\": {\"font\": {\"color\": \"#4D5663\"}, \"text\": \"\"}, \"zerolinecolor\": \"#E1E5ED\"}, \"yaxis7\": {\"anchor\": \"x7\", \"domain\": [0.535, 0.7325], \"gridcolor\": \"#E1E5ED\", \"showgrid\": false, \"tickfont\": {\"color\": \"#4D5663\"}, \"title\": {\"font\": {\"color\": \"#4D5663\"}, \"text\": \"\"}, \"zerolinecolor\": \"#E1E5ED\"}, \"yaxis8\": {\"anchor\": \"x8\", \"domain\": [0.535, 0.7325], \"gridcolor\": \"#E1E5ED\", \"showgrid\": false, \"tickfont\": {\"color\": \"#4D5663\"}, \"title\": {\"font\": {\"color\": \"#4D5663\"}, \"text\": \"\"}, \"zerolinecolor\": \"#E1E5ED\"}, \"yaxis9\": {\"anchor\": \"x9\", \"domain\": [0.2675, 0.465], \"gridcolor\": \"#E1E5ED\", \"showgrid\": false, \"tickfont\": {\"color\": \"#4D5663\"}, \"title\": {\"font\": {\"color\": \"#4D5663\"}, \"text\": \"\"}, \"zerolinecolor\": \"#E1E5ED\"}},                        {\"showLink\": true, \"linkText\": \"Export to plot.ly\", \"plotlyServerURL\": \"https://plot.ly\", \"responsive\": true}                    ).then(function(){\n",
       "                            \n",
       "var gd = document.getElementById('0251bfa7-0891-4822-9d0c-b278d9aeb9f2');\n",
       "var x = new MutationObserver(function (mutations, observer) {{\n",
       "        var display = window.getComputedStyle(gd).display;\n",
       "        if (!display || display === 'none') {{\n",
       "            console.log([gd, 'removed!']);\n",
       "            Plotly.purge(gd);\n",
       "            observer.disconnect();\n",
       "        }}\n",
       "}});\n",
       "\n",
       "// Listen for the removal of the full notebook cells\n",
       "var notebookContainer = gd.closest('#notebook-container');\n",
       "if (notebookContainer) {{\n",
       "    x.observe(notebookContainer, {childList: true});\n",
       "}}\n",
       "\n",
       "// Listen for the clearing of the current output cell\n",
       "var outputEl = gd.closest('.output');\n",
       "if (outputEl) {{\n",
       "    x.observe(outputEl, {childList: true});\n",
       "}}\n",
       "\n",
       "                        })                };                });            </script>        </div>"
      ]
     },
     "metadata": {},
     "output_type": "display_data"
    }
   ],
   "source": [
    "df.scatter_matrix()"
   ]
  },
  {
   "cell_type": "code",
   "execution_count": null,
   "metadata": {},
   "outputs": [],
   "source": []
  },
  {
   "cell_type": "code",
   "execution_count": null,
   "metadata": {},
   "outputs": [],
   "source": []
  },
  {
   "cell_type": "code",
   "execution_count": null,
   "metadata": {},
   "outputs": [],
   "source": []
  },
  {
   "cell_type": "code",
   "execution_count": null,
   "metadata": {},
   "outputs": [],
   "source": []
  },
  {
   "cell_type": "code",
   "execution_count": null,
   "metadata": {},
   "outputs": [],
   "source": []
  },
  {
   "cell_type": "code",
   "execution_count": null,
   "metadata": {},
   "outputs": [],
   "source": []
  },
  {
   "cell_type": "markdown",
   "metadata": {},
   "source": []
  }
 ],
 "metadata": {
  "kernelspec": {
   "display_name": "Python 3",
   "language": "python",
   "name": "python3"
  },
  "language_info": {
   "codemirror_mode": {
    "name": "ipython",
    "version": 3
   },
   "file_extension": ".py",
   "mimetype": "text/x-python",
   "name": "python",
   "nbconvert_exporter": "python",
   "pygments_lexer": "ipython3",
   "version": "3.8.5"
  }
 },
 "nbformat": 4,
 "nbformat_minor": 4
}
